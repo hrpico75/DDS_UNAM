{
  "cells": [
    {
      "cell_type": "markdown",
      "id": "32fdae23-9de9-4eb9-8617-5666493d70e6",
      "metadata": {},
      "source": [
        "# Introducción a Python"
      ]
    },
    {
      "cell_type": "code",
      "execution_count": null,
      "id": "c8eee63a-c6b9-4741-8a79-5dbdd32503cf",
      "metadata": {},
      "outputs": [],
      "source": [
        "#Carlos Daniel Carrasco Pereda\n",
        "#6181537331\n",
        "#carrascopereda@gmail.com"
      ]
    },
    {
      "cell_type": "markdown",
      "id": "c078b993-4601-4e7a-8557-a2fe7c5751b9",
      "metadata": {},
      "source": [
        "Esto es un texto simple"
      ]
    },
    {
      "cell_type": "code",
      "execution_count": null,
      "id": "1aa9ee6f-2e94-470d-84d5-fbc9750979f3",
      "metadata": {},
      "outputs": [],
      "source": [
        "print(\"Hello World\")"
      ]
    },
    {
      "cell_type": "markdown",
      "id": "1966d7f0-fbdf-4eed-8e60-6e5845ae0c14",
      "metadata": {},
      "source": [
        "[Imagen adjunta removida para reducir tamaño del archivo]"
      ]
    },
    {
      "cell_type": "markdown",
      "id": "2dac8dc1-9d3f-433f-ad76-d5d311cfc7cb",
      "metadata": {},
      "source": [
        "### ¿Qué es un programa?\n",
        "Un programa es una colección de instrucciones específicas diseñadas para resolver una clase de problemas. Los pasos lógicos necesarios para resolver el problema se conocen como **algoritmo**. "
      ]
    },
    {
      "cell_type": "markdown",
      "id": "2ee354a9-3cb9-4ae1-b690-f487fe7616ba",
      "metadata": {},
      "source": [
        "### ¿Qué lenguaje de programación conocen?\n",
        "\n",
        "* **Python**\n",
        "* Java\n",
        "* R\n",
        "* SQL\n",
        "* C\n",
        "* C++\n",
        "* Matlab\n",
        "* Julia\n",
        "* Visual Basic Advanced (VBA)\n",
        "* php\n",
        "* SPSS\n",
        "* HTML\n",
        "* Scala\n",
        "* Ruby\n",
        "* Javascript\n",
        "* SAS\n",
        "* Fortran\n",
        "* Scala\n",
        "* E-views\n",
        "* Stata\n",
        "* entre otros. "
      ]
    },
    {
      "cell_type": "markdown",
      "id": "b494c454-7180-437e-9212-d4e555096f03",
      "metadata": {},
      "source": [
        "### ¿Por qué Python?\n",
        "Python es un lenguaje de programación interpretado multiparadigma (permite que sea un lenguaje orientado a objetivos, funcional, imperativo, entre otros) con apliaciones en: \n",
        "* Finanzas\n",
        "* Ciencia de Datos\n",
        "* Desarrollo Web\n",
        "* Robótica\n",
        "* Investigación Científica\n",
        "* Machine Learning\n",
        "* etc. "
      ]
    },
    {
      "cell_type": "markdown",
      "id": "b3f1a1f2-876b-403a-aea1-f0fe83cc2191",
      "metadata": {},
      "source": [
        "Python es un lenguaje que se adapta tanto para iniciar a progrmar, como para aplicaciones en el mundo real. Aunque existen diferentes tipos de lenguaje de progrmación que cumplen con lo dicho previamente, mostraremos algunas razones del porqué está creciendo tán rápido y se está poscionando como uno de los lenguajes prefereidos en la actuaalidad superando a muchos otros. "
      ]
    },
    {
      "cell_type": "markdown",
      "id": "f45538d3-cbd6-4615-9d64-9a403ee671c3",
      "metadata": {},
      "source": [
        "#### Investigación Científica. "
      ]
    },
    {
      "cell_type": "markdown",
      "id": "0ad359d2-480f-42c4-b255-c042c2b271f1",
      "metadata": {},
      "source": [
        "[Imagen adjunta removida para reducir tamaño del archivo]"
      ]
    },
    {
      "cell_type": "markdown",
      "id": "36b9cf4a-e572-4318-8acf-ae2084d39b51",
      "metadata": {},
      "source": [
        "# Finanzas"
      ]
    },
    {
      "cell_type": "markdown",
      "id": "6d1322f1-2539-4189-83ea-3f37b079b01f",
      "metadata": {},
      "source": [
        "[Imagen adjunta removida para reducir tamaño del archivo]"
      ]
    },
    {
      "cell_type": "markdown",
      "id": "cd7113d2-b79b-4f60-a874-ae30ee234c4f",
      "metadata": {},
      "source": [
        "# Machine Learning"
      ]
    },
    {
      "cell_type": "markdown",
      "id": "02677c0d-7bd6-460d-8ab4-24aeb44944e7",
      "metadata": {},
      "source": [
        "[Imagen adjunta removida para reducir tamaño del archivo]"
      ]
    },
    {
      "cell_type": "markdown",
      "id": "fb3fcaec-bea8-4865-9910-03ed6533478a",
      "metadata": {},
      "source": [
        "# Data Science"
      ]
    },
    {
      "cell_type": "markdown",
      "id": "10a3baea-f2f6-4976-9071-7c2d2e1e0160",
      "metadata": {},
      "source": [
        "[Imagen adjunta removida para reducir tamaño del archivo]"
      ]
    },
    {
      "cell_type": "markdown",
      "id": "1aed8538-ab96-4a08-b075-c3898ab347e8",
      "metadata": {},
      "source": [
        "# Análisis de Sentimiento"
      ]
    },
    {
      "cell_type": "markdown",
      "id": "0fd85612-0a98-4a2d-aa99-8c64c9567f81",
      "metadata": {},
      "source": [
        "[Imagen adjunta removida para reducir tamaño del archivo]"
      ]
    },
    {
      "cell_type": "markdown",
      "id": "6b8fc5aa-6ad5-46df-b532-ecd80936f255",
      "metadata": {},
      "source": [
        "### Es una e las comunidades más grandes de Programación\n",
        "Por ejemplo, en StackOverlfow, (web de preguntas y respuestas), Python tiene la comunidad más grande de seguidores. Chat GPT y otros Transformers fueron entrenados en Python, Comunidades como Meetup( sitio de web organiza convivencias) tiene grupos de Python. "
      ]
    },
    {
      "cell_type": "markdown",
      "id": "523365e8-217f-4b5f-ab1d-213ad206ba24",
      "metadata": {},
      "source": [
        "# Oportunidades de Carrera\n",
        "De acuerdo a varios estudios, Python es uno de los lenguajes más solicitados con sueldos más competitivos. Con el auge de tecnologías como big data, ai, se ha incrementado el interés en este tipo de skills, especialemnte en desarrolladores y cientificos de datos, dada la faciliada que permite Python para construir soluciones de Machine Learning. "
      ]
    },
    {
      "cell_type": "code",
      "execution_count": null,
      "id": "35958175-e02b-4b84-bd5d-4e3d852afa05",
      "metadata": {},
      "outputs": [],
      "source": []
    },
    {
      "cell_type": "code",
      "execution_count": null,
      "id": "1c3b2c7e-5add-497c-b0c5-70077c3acb04",
      "metadata": {},
      "outputs": [],
      "source": []
    },
    {
      "cell_type": "code",
      "execution_count": null,
      "id": "4e461092-f526-4a1d-80ce-e4ffe92066d7",
      "metadata": {},
      "outputs": [],
      "source": []
    },
    {
      "cell_type": "code",
      "execution_count": null,
      "id": "24758041-79f8-41b4-a0a2-0e9984f4b67c",
      "metadata": {},
      "outputs": [],
      "source": []
    },
    {
      "cell_type": "code",
      "execution_count": null,
      "id": "4a352abb-e25b-414c-9617-df2ac960725d",
      "metadata": {},
      "outputs": [],
      "source": []
    }
  ],
  "metadata": {
    "kernelspec": {
      "display_name": "Python 3 (ipykernel)",
      "language": "python",
      "name": "python3"
    },
    "language_info": {
      "codemirror_mode": {
        "name": "ipython",
        "version": 3
      },
      "file_extension": ".py",
      "mimetype": "text/x-python",
      "name": "python",
      "nbconvert_exporter": "python",
      "pygments_lexer": "ipython3",
      "version": "3.11.8"
    }
  },
  "nbformat": 4,
  "nbformat_minor": 5
}