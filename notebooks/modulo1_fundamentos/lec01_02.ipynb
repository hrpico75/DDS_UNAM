{
  "cells": [
    {
      "cell_type": "markdown",
      "id": "32fdae23-9de9-4eb9-8617-5666493d70e6",
      "metadata": {},
      "source": [
        "# Introducción a Python"
      ]
    },
    {
      "cell_type": "code",
      "execution_count": null,
      "id": "c8eee63a-c6b9-4741-8a79-5dbdd32503cf",
      "metadata": {},
      "outputs": [],
      "source": [
        "#Carlos Daniel Carrasco Pereda\n",
        "#6181537331\n",
        "#carrascopereda@gmail.com"
      ]
    },
    {
      "cell_type": "markdown",
      "id": "c078b993-4601-4e7a-8557-a2fe7c5751b9",
      "metadata": {},
      "source": [
        "Esto es un texto simple"
      ]
    },
    {
      "cell_type": "code",
      "execution_count": null,
      "id": "1aa9ee6f-2e94-470d-84d5-fbc9750979f3",
      "metadata": {},
      "outputs": [],
      "source": [
        "print(\"Hello World\")"
      ]
    },
    {
      "cell_type": "markdown",
      "id": "1966d7f0-fbdf-4eed-8e60-6e5845ae0c14",
      "metadata": {},
      "source": [
        "[Imagen adjunta removida para reducir tamaño del archivo]"
      ]
    },
    {
      "cell_type": "markdown",
      "id": "2dac8dc1-9d3f-433f-ad76-d5d311cfc7cb",
      "metadata": {},
      "source": [
        "### ¿Qué es un programa?\n",
        "Un programa es una colección de instrucciones específicas diseñadas para resolver una clase de problemas. Los pasos lógicos necesarios para resolver el problema se conocen como **algoritmo**. "
      ]
    },
    {
      "cell_type": "markdown",
      "id": "2ee354a9-3cb9-4ae1-b690-f487fe7616ba",
      "metadata": {},
      "source": [
        "### ¿Qué lenguaje de programación conocen?\n",
        "\n",
        "* **Python**\n",
        "* Java\n",
        "* R\n",
        "* SQL\n",
        "* C\n",
        "* C++\n",
        "* Matlab\n",
        "* Julia\n",
        "* Visual Basic Advanced (VBA)\n",
        "* php\n",
        "* SPSS\n",
        "* HTML\n",
        "* Scala\n",
        "* Ruby\n",
        "* Javascript\n",
        "* SAS\n",
        "* Fortran\n",
        "* Scala\n",
        "* E-views\n",
        "* Stata\n",
        "* entre otros. "
      ]
    },
    {
      "cell_type": "markdown",
      "id": "b494c454-7180-437e-9212-d4e555096f03",
      "metadata": {},
      "source": [
        "### ¿Por qué Python?\n",
        "Python es un lenguaje de programación interpretado multiparadigma (permite que sea un lenguaje orientado a objetivos, funcional, imperativo, entre otros) con apliaciones en: \n",
        "* Finanzas\n",
        "* Ciencia de Datos\n",
        "* Desarrollo Web\n",
        "* Robótica\n",
        "* Investigación Científica\n",
        "* Machine Learning\n",
        "* etc. "
      ]
    },
    {
      "cell_type": "markdown",
      "id": "b3f1a1f2-876b-403a-aea1-f0fe83cc2191",
      "metadata": {},
      "source": [
        "Python es un lenguaje que se adapta tanto para iniciar a progrmar, como para aplicaciones en el mundo real. Aunque existen diferentes tipos de lenguaje de progrmación que cumplen con lo dicho previamente, mostraremos algunas razones del porqué está creciendo tán rápido y se está poscionando como uno de los lenguajes prefereidos en la actuaalidad superando a muchos otros. "
      ]
    },
    {
      "cell_type": "markdown",
      "id": "f45538d3-cbd6-4615-9d64-9a403ee671c3",
      "metadata": {},
      "source": [
        "#### Investigación Científica. "
      ]
    },
    {
      "cell_type": "markdown",
      "id": "0ad359d2-480f-42c4-b255-c042c2b271f1",
      "metadata": {},
      "source": [
        "[Imagen adjunta removida para reducir tamaño del archivo]"
      ]
    },
    {
      "cell_type": "markdown",
      "id": "36b9cf4a-e572-4318-8acf-ae2084d39b51",
      "metadata": {},
      "source": [
        "# Finanzas"
      ]
    },
    {
      "cell_type": "markdown",
      "id": "6d1322f1-2539-4189-83ea-3f37b079b01f",
      "metadata": {},
      "source": [
        "[Imagen adjunta removida para reducir tamaño del archivo]"
      ]
    },
    {
      "cell_type": "markdown",
      "id": "cd7113d2-b79b-4f60-a874-ae30ee234c4f",
      "metadata": {},
      "source": [
        "# Machine Learning"
      ]
    },
    {
      "cell_type": "markdown",
      "id": "02677c0d-7bd6-460d-8ab4-24aeb44944e7",
      "metadata": {},
      "source": [
        "[Imagen adjunta removida para reducir tamaño del archivo]"
      ]
    },
    {
      "cell_type": "markdown",
      "id": "fb3fcaec-bea8-4865-9910-03ed6533478a",
      "metadata": {},
      "source": [
        "# Data Science"
      ]
    },
    {
      "cell_type": "markdown",
      "id": "10a3baea-f2f6-4976-9071-7c2d2e1e0160",
      "metadata": {},
      "source": [
        "[Imagen adjunta removida para reducir tamaño del archivo]"
      ]
    },
    {
      "cell_type": "markdown",
      "id": "1aed8538-ab96-4a08-b075-c3898ab347e8",
      "metadata": {},
      "source": [
        "# Análisis de Sentimiento"
      ]
    },
    {
      "cell_type": "markdown",
      "id": "0fd85612-0a98-4a2d-aa99-8c64c9567f81",
      "metadata": {},
      "source": [
        "[Imagen adjunta removida para reducir tamaño del archivo]"
      ]
    },
    {
      "cell_type": "markdown",
      "id": "6b8fc5aa-6ad5-46df-b532-ecd80936f255",
      "metadata": {},
      "source": [
        "### Es una de las comunidades más grandes de Programación\n",
        "Por ejemplo, en StackOverlfow, (web de preguntas y respuestas), Python tiene la comunidad más grande de seguidores. Chat GPT y otros Transformers fueron entrenados en Python, Comunidades como Meetup( sitio de web organiza convivencias) tiene grupos de Python. "
      ]
    },
    {
      "cell_type": "markdown",
      "id": "523365e8-217f-4b5f-ab1d-213ad206ba24",
      "metadata": {},
      "source": [
        "# Oportunidades de Carrera\n",
        "De acuerdo a varios estudios, Python es uno de los lenguajes más solicitados con sueldos más competitivos. Con el auge de tecnologías como big data, ai, se ha incrementado el interés en este tipo de skills, especialemnte en desarrolladores y cientificos de datos, dada la faciliada que permite Python para construir soluciones de Machine Learning. "
      ]
    },
    {
      "cell_type": "markdown",
      "id": "573a2f3a-a9d7-4d13-9c96-5cbb621a7a8a",
      "metadata": {},
      "source": [
        "# Caracteristicas de Python\n",
        "1. Simple y constantemente actualiza\n",
        "2. Portatil y Ligero\n",
        "3. Open Source (Gratis)\n",
        "4. Soporte para otras Tecnologías\n",
        "5. Gran cantidad de librerías\n",
        "6. Lenguajes orientado a objeto de gran nivel\n",
        "\n",
        "Muchas características de Python pueden también encontrarlas en este link:\n",
        "\n",
        "https://www.irjet.net/archives/V4/i12/IRJET-V4I1266.pdf\n"
      ]
    },
    {
      "cell_type": "markdown",
      "id": "7edbcd33-88d5-44ad-8df6-e2d9357c6344",
      "metadata": {},
      "source": [
        "# Un primer programa en Python\n",
        "\n",
        "```python\n",
        "\n",
        "print(\"Hola, Mundo!\")\n",
        "\n",
        "```"
      ]
    },
    {
      "cell_type": "code",
      "execution_count": null,
      "id": "1c3b2c7e-5add-497c-b0c5-70077c3acb04",
      "metadata": {},
      "outputs": [],
      "source": [
        "#Esto es un comentario\n",
        "print(\"Hola, Mundo!\")"
      ]
    },
    {
      "cell_type": "code",
      "execution_count": null,
      "id": "4e461092-f526-4a1d-80ce-e4ffe92066d7",
      "metadata": {},
      "outputs": [],
      "source": [
        "\"Hola,Mundo\" #Esto no lo está escribiendo el \"Output\"\n",
        "print(\"Hola,Mundo!\") #Esto es el Output\n",
        "\"Hola, Mundo\" #Esto sí porque es la última"
      ]
    },
    {
      "cell_type": "markdown",
      "id": "949d86dc-1392-4a97-af4f-a6846560ef57",
      "metadata": {},
      "source": [
        "# Jupyter Notebook"
      ]
    },
    {
      "cell_type": "markdown",
      "id": "0a905993-ced6-4abf-be15-7c2d103fccc9",
      "metadata": {},
      "source": [
        "[Imagen adjunta removida para reducir tamaño del archivo]"
      ]
    },
    {
      "cell_type": "markdown",
      "id": "440121d7-3e97-4f73-b9ea-7d1324eaa05c",
      "metadata": {},
      "source": [
        "> *Jupyter Notebook es una aplicación web **open-source*, la cual permite crear y compartir documentos que contienen código, ecuaciones, visualizaciones y texto. Sus usos incluyen: limpieza, transformación de datos, simulaciones numéricas, modelos estadísticos, visualizaciones, machine learning y más"
      ]
    },
    {
      "cell_type": "markdown",
      "id": "156dad79-2ee9-415c-b199-1718d19f0b32",
      "metadata": {},
      "source": [
        "La mayor parte del módulo/diplomado estaremos trabjando con **Jupyter Notebooks**"
      ]
    },
    {
      "cell_type": "markdown",
      "id": "ddfaf544-3d53-48c4-b39b-b6090aef6b26",
      "metadata": {},
      "source": [
        "1. Un **Jupyter Notebook* cuenta con celdas en dode podemos escribir texto y/o código\n",
        "\n",
        "`# (una celda con texto)`\n",
        "\n",
        "Hola, Mundo. \n",
        "\n",
        "Esto es una ecuación: $\\int_{-\\infty}^{\\infty}e^{-x^2}dx$"
      ]
    },
    {
      "cell_type": "code",
      "execution_count": null,
      "id": "a1c82ca6-268e-4858-8b4a-0776f9507159",
      "metadata": {},
      "outputs": [],
      "source": [
        "#Una celda con código\n",
        "print(\"Hola, Mundo\")"
      ]
    },
    {
      "cell_type": "markdown",
      "id": "503fa400-243d-4774-8a22-9b9099853e86",
      "metadata": {},
      "source": [
        "# Objetos\n",
        "* Cada elemento en Python tiene objeto/tipo\n",
        "* Cada objeto tiene funcionalidades conocidas como métodos"
      ]
    },
    {
      "cell_type": "markdown",
      "id": "df68187e-11ff-4944-bcf1-7f468980eef7",
      "metadata": {},
      "source": [
        "### Strings `str`"
      ]
    },
    {
      "cell_type": "code",
      "execution_count": null,
      "id": "db6f4d12-7623-4b56-aebb-e0757fb0f9c9",
      "metadata": {},
      "outputs": [],
      "source": [
        "type(\"Esto es un String\")"
      ]
    },
    {
      "cell_type": "code",
      "execution_count": null,
      "id": "af97b202-ff80-4621-86c9-66ec24e6e88c",
      "metadata": {},
      "outputs": [],
      "source": [
        "print(\"Hola, Python\")"
      ]
    },
    {
      "cell_type": "markdown",
      "id": "98202a81-f578-403f-bb90-e5da516abae0",
      "metadata": {},
      "source": [
        "Podemos crear un string con varias lineas escribiendo `\\n` dentro del string"
      ]
    },
    {
      "cell_type": "code",
      "execution_count": null,
      "id": "f243b619-cbb6-45ea-a34c-ef24eda8f55d",
      "metadata": {},
      "outputs": [],
      "source": [
        "print(\"Un\\nstring\\nmultilinea\")"
      ]
    },
    {
      "cell_type": "markdown",
      "id": "79abf09f-c539-49e9-ab02-9927bdbd3e3d",
      "metadata": {},
      "source": [
        "#### Enteros: 1,2,3, etc\n",
        "#### Float: 1.618, 3.14, 1.5, etc\n",
        "#### Strings: \"abcd\", \"hola\"\n",
        "#### Boolean: True or False"
      ]
    },
    {
      "cell_type": "code",
      "execution_count": null,
      "id": "9178a869-739e-4a2b-a0c3-c9267caf57f2",
      "metadata": {},
      "outputs": [],
      "source": [
        "#Booleanos\n",
        "False"
      ]
    },
    {
      "cell_type": "code",
      "execution_count": null,
      "id": "ffa11fd8-52bd-4669-8c32-dc5648757f15",
      "metadata": {},
      "outputs": [],
      "source": [
        "True"
      ]
    },
    {
      "cell_type": "code",
      "execution_count": null,
      "id": "3d6745fd-cef5-4eb2-afc2-2feed7ce4462",
      "metadata": {},
      "outputs": [],
      "source": [
        "type(False) #el tipo de dato que estoy tratando"
      ]
    },
    {
      "cell_type": "code",
      "execution_count": null,
      "id": "78de2b51-1ed0-4fc0-a6fa-ea5d6a566af3",
      "metadata": {},
      "outputs": [],
      "source": [
        "type(4.13)"
      ]
    },
    {
      "cell_type": "code",
      "execution_count": null,
      "id": "59802778-37b4-4753-9c4c-76d415e635ad",
      "metadata": {},
      "outputs": [],
      "source": [
        "type(Tru)"
      ]
    },
    {
      "cell_type": "code",
      "execution_count": null,
      "id": "2ffee637-aaf6-4ce1-b5ac-e0f7bc78e6f0",
      "metadata": {},
      "outputs": [],
      "source": [
        "a=4.13"
      ]
    },
    {
      "cell_type": "code",
      "execution_count": null,
      "id": "fbc9ab90-fff5-4a5f-87c9-7e96c67a12d5",
      "metadata": {},
      "outputs": [],
      "source": [
        "a"
      ]
    },
    {
      "cell_type": "code",
      "execution_count": null,
      "id": "5cf0e2be-2d00-4beb-a0d5-6a133a83cc38",
      "metadata": {},
      "outputs": [],
      "source": [
        "a"
      ]
    },
    {
      "cell_type": "code",
      "execution_count": null,
      "id": "7249b1f1-0d1d-4cc2-852e-b12282af9db7",
      "metadata": {},
      "outputs": [],
      "source": [
        "a"
      ]
    },
    {
      "cell_type": "code",
      "execution_count": null,
      "id": "4c56d77f-4b2d-473f-9101-5603ab606643",
      "metadata": {
        "scrolled": true
      },
      "outputs": [],
      "source": [
        "#while True: \n",
        "    #print(\"Carlos\")"
      ]
    },
    {
      "cell_type": "code",
      "execution_count": null,
      "id": "2bd28766-4a47-4acb-9095-f287d87932bf",
      "metadata": {},
      "outputs": [],
      "source": [
        "type(True)"
      ]
    },
    {
      "cell_type": "code",
      "execution_count": null,
      "id": "25174899-5321-46d8-832c-653a0d1295b8",
      "metadata": {},
      "outputs": [],
      "source": [
        "type(5)"
      ]
    },
    {
      "cell_type": "code",
      "execution_count": null,
      "id": "e01f7c74-ee8f-42ca-ae8e-85f8b87fe013",
      "metadata": {},
      "outputs": [],
      "source": [
        "type(\"5\")"
      ]
    },
    {
      "cell_type": "code",
      "execution_count": null,
      "id": "7ec51971-c7fb-46eb-b77e-dec54061c0fe",
      "metadata": {},
      "outputs": [],
      "source": [
        "None"
      ]
    },
    {
      "cell_type": "code",
      "execution_count": null,
      "id": "cc3ef21a-1302-475a-9ea5-8c707250e061",
      "metadata": {},
      "outputs": [],
      "source": [
        "5>8"
      ]
    },
    {
      "cell_type": "code",
      "execution_count": null,
      "id": "a1fb3b29-9bd3-4143-b846-074ffff7b32e",
      "metadata": {},
      "outputs": [],
      "source": [
        "4<=4"
      ]
    },
    {
      "cell_type": "code",
      "execution_count": null,
      "id": "6c77b6b5-5cf2-47e7-9fa9-bb1ab095e0d4",
      "metadata": {},
      "outputs": [],
      "source": [
        "type(1.85)"
      ]
    },
    {
      "cell_type": "code",
      "execution_count": null,
      "id": "6115e4b5-2d85-4352-a73a-62eb1f843492",
      "metadata": {},
      "outputs": [],
      "source": [
        "4!=4 #para comparar si son diferentes"
      ]
    },
    {
      "cell_type": "code",
      "execution_count": null,
      "id": "bea3ed49-711a-4465-b154-33d744ca46df",
      "metadata": {},
      "outputs": [],
      "source": [
        "4!=5"
      ]
    },
    {
      "cell_type": "markdown",
      "id": "5ba4e79e-9e47-4e7e-86c1-1f00987b22bc",
      "metadata": {},
      "source": [
        "# Operadores"
      ]
    },
    {
      "cell_type": "code",
      "execution_count": null,
      "id": "4ab592c6-80b3-4c5d-b312-5c1d61961f6a",
      "metadata": {},
      "outputs": [],
      "source": [
        "5+5"
      ]
    },
    {
      "cell_type": "code",
      "execution_count": null,
      "id": "0c301de0-b69a-4b15-8b01-a72fac320a75",
      "metadata": {},
      "outputs": [],
      "source": [
        "7.5+2.5"
      ]
    },
    {
      "cell_type": "code",
      "execution_count": null,
      "id": "a1814db4-87e2-44de-8bd8-a25efdfce6a9",
      "metadata": {},
      "outputs": [],
      "source": [
        "#concatener strings usando el operador +\n",
        "\"café\" + \"azucar\""
      ]
    },
    {
      "cell_type": "code",
      "execution_count": null,
      "id": "2b916eca-e797-4423-aa26-bd8be39bcc18",
      "metadata": {},
      "outputs": [],
      "source": [
        "(3+5)*5"
      ]
    },
    {
      "cell_type": "code",
      "execution_count": null,
      "id": "193bab46-14b7-4e51-91dc-2fa87b270e4c",
      "metadata": {},
      "outputs": [],
      "source": [
        "3+5*5"
      ]
    },
    {
      "cell_type": "markdown",
      "id": "5ee1e813-e40b-40c9-ab24-6ccf344c0ee0",
      "metadata": {},
      "source": [
        "[Imagen adjunta removida para reducir tamaño del archivo]"
      ]
    },
    {
      "cell_type": "code",
      "execution_count": null,
      "id": "df0b4791-477d-44de-bb34-6a5c28a927e6",
      "metadata": {},
      "outputs": [],
      "source": [
        "\"repite \"*6"
      ]
    },
    {
      "cell_type": "code",
      "execution_count": null,
      "id": "b4778b9e-2a50-42ab-bb57-ab560618f476",
      "metadata": {},
      "outputs": [],
      "source": [
        "\"repite\"*6"
      ]
    },
    {
      "cell_type": "code",
      "execution_count": null,
      "id": "f5cba6e5-b19b-4e73-90e8-bdd198b99a62",
      "metadata": {},
      "outputs": [],
      "source": [
        "3/4"
      ]
    },
    {
      "cell_type": "code",
      "execution_count": null,
      "id": "24e08ddd-3f23-4b7c-8121-fe532b7492b6",
      "metadata": {},
      "outputs": [],
      "source": [
        "10//3 #elimina decimales"
      ]
    },
    {
      "cell_type": "code",
      "execution_count": null,
      "id": "84c5d993-76ff-4691-8b3d-3b0b2f4fb910",
      "metadata": {},
      "outputs": [],
      "source": [
        "4/5"
      ]
    },
    {
      "cell_type": "code",
      "execution_count": null,
      "id": "441c395e-6e54-43e4-bc96-054972b2d920",
      "metadata": {},
      "outputs": [],
      "source": [
        "4//5"
      ]
    },
    {
      "cell_type": "code",
      "execution_count": null,
      "id": "778fa1b0-c69b-45fb-bb98-e5da42e6a429",
      "metadata": {},
      "outputs": [],
      "source": [
        "#módulo o residuo\n",
        "4%2"
      ]
    },
    {
      "cell_type": "code",
      "execution_count": null,
      "id": "bc231030-09cb-46bb-9ffc-a0cbd3a96765",
      "metadata": {},
      "outputs": [],
      "source": [
        "34%4"
      ]
    },
    {
      "cell_type": "code",
      "execution_count": null,
      "id": "2fbcd51d-06a1-4cd0-8c5e-ea579b749bcb",
      "metadata": {},
      "outputs": [],
      "source": [
        "\"agua\" == \"Agua\""
      ]
    },
    {
      "cell_type": "code",
      "execution_count": null,
      "id": "06249128-91a8-4768-a966-a1de86f8da39",
      "metadata": {},
      "outputs": [],
      "source": [
        "\"agua\" == \"agua\""
      ]
    },
    {
      "cell_type": "code",
      "execution_count": null,
      "id": "c56a2a2b-da56-4ffe-ac30-90d94c2ad6b8",
      "metadata": {},
      "outputs": [],
      "source": [
        "edad=20"
      ]
    },
    {
      "cell_type": "code",
      "execution_count": null,
      "id": "091b524a-532f-4c8e-8814-32df946ac4bc",
      "metadata": {},
      "outputs": [],
      "source": [
        "edad"
      ]
    },
    {
      "cell_type": "code",
      "execution_count": null,
      "id": "24ccb70f-1455-4bf2-bf18-3d25e6b87049",
      "metadata": {},
      "outputs": [],
      "source": [
        "edad*2"
      ]
    },
    {
      "cell_type": "code",
      "execution_count": null,
      "id": "aebf2b1a-4aab-4b9c-ab30-9729ec79a41f",
      "metadata": {},
      "outputs": [],
      "source": [
        "nombre=\"Carlos\"\n",
        "apellido=\"Carrasco\""
      ]
    },
    {
      "cell_type": "code",
      "execution_count": null,
      "id": "89ede423-2c1a-4927-a04b-641f96b9566e",
      "metadata": {},
      "outputs": [],
      "source": [
        "nombre + apellido"
      ]
    },
    {
      "cell_type": "code",
      "execution_count": null,
      "id": "e94c1158-7c94-474f-92cf-a2f032ad7fae",
      "metadata": {},
      "outputs": [],
      "source": [
        "nombre + \" \" + apellido"
      ]
    },
    {
      "cell_type": "code",
      "execution_count": null,
      "id": "da3042dd-4ebd-42b4-a2fb-70119a876b7c",
      "metadata": {},
      "outputs": [],
      "source": [
        "type(str)"
      ]
    },
    {
      "cell_type": "code",
      "execution_count": null,
      "id": "1dce407a-f255-4234-8bc1-1ca523f2c786",
      "metadata": {},
      "outputs": [],
      "source": [
        "edad"
      ]
    },
    {
      "cell_type": "code",
      "execution_count": null,
      "id": "3dd8f2ca-03ea-4bf0-bf29-cc37d23a861d",
      "metadata": {},
      "outputs": [],
      "source": [
        "edad+4"
      ]
    },
    {
      "cell_type": "code",
      "execution_count": null,
      "id": "ad6a495a-3717-42c5-8593-8b629b8b30df",
      "metadata": {},
      "outputs": [],
      "source": [
        "type(edad)"
      ]
    },
    {
      "cell_type": "code",
      "execution_count": null,
      "id": "2d5d3dbc-92e0-48e1-908a-2173438dc9f0",
      "metadata": {},
      "outputs": [],
      "source": [
        "3 + \"a\" \n",
        "#error"
      ]
    },
    {
      "cell_type": "code",
      "execution_count": null,
      "id": "a0431650-f8f7-4bba-839c-f87cbafe46c7",
      "metadata": {},
      "outputs": [],
      "source": [
        "\"3 \" + \"a\""
      ]
    },
    {
      "cell_type": "code",
      "execution_count": null,
      "id": "1b268400-b3e6-4fac-bada-4d105ea3d617",
      "metadata": {},
      "outputs": [],
      "source": [
        "a=2\n",
        "b=8\n",
        "c=a+b\n",
        "print(f\"El resultado de sumar {a} y {b} es igual a {c}\")"
      ]
    },
    {
      "cell_type": "markdown",
      "id": "c1723250-e029-4dec-b966-b06b53547f0f",
      "metadata": {},
      "source": [
        "# Funciones Nativas"
      ]
    },
    {
      "cell_type": "code",
      "execution_count": null,
      "id": "254093f4-b267-424c-b5d1-500662f77d9e",
      "metadata": {},
      "outputs": [],
      "source": [
        "len(\"cuantos caractares hay en esta frase?\")"
      ]
    },
    {
      "cell_type": "code",
      "execution_count": null,
      "id": "b163a75b-a361-4053-86b1-875b17cbd1fe",
      "metadata": {},
      "outputs": [],
      "source": [
        "#Convertir a un String\n",
        "str(25)"
      ]
    },
    {
      "cell_type": "code",
      "execution_count": null,
      "id": "69d9e85c-4fcd-4291-a3dd-3bc3c19075a7",
      "metadata": {},
      "outputs": [],
      "source": [
        "int(\"23\") #Convertir a un Entero"
      ]
    },
    {
      "cell_type": "code",
      "execution_count": null,
      "id": "44fe472e-5b89-48a4-a30a-4c093659292a",
      "metadata": {},
      "outputs": [],
      "source": [
        "float(\"1.618\") #para convertir a float"
      ]
    },
    {
      "cell_type": "code",
      "execution_count": null,
      "id": "37b7cdc0-a180-489b-ae00-87cffc89547f",
      "metadata": {},
      "outputs": [],
      "source": [
        "type(edad)"
      ]
    },
    {
      "cell_type": "code",
      "execution_count": null,
      "id": "82a28a79-62f3-4ca3-aadf-ccc5470ba44c",
      "metadata": {},
      "outputs": [],
      "source": [
        "type(5)"
      ]
    },
    {
      "cell_type": "code",
      "execution_count": null,
      "id": "678971ed-a9f9-4fe2-ad60-7f192e150b9d",
      "metadata": {},
      "outputs": [],
      "source": [
        "edad"
      ]
    },
    {
      "cell_type": "code",
      "execution_count": null,
      "id": "5339907f-1614-4a1d-b120-409d3546a95a",
      "metadata": {},
      "outputs": [],
      "source": [
        "type(edad) == type(5)"
      ]
    },
    {
      "cell_type": "code",
      "execution_count": null,
      "id": "3affce59-34f8-47c5-8482-178dc13a0e3c",
      "metadata": {},
      "outputs": [],
      "source": [
        "int == int"
      ]
    },
    {
      "cell_type": "code",
      "execution_count": null,
      "id": "19644515-64f1-49e4-8747-a28e7f4ba8bc",
      "metadata": {},
      "outputs": [],
      "source": [
        "type(edad) == type(1.618)"
      ]
    },
    {
      "cell_type": "code",
      "execution_count": null,
      "id": "9644205e-b779-48c3-b691-c7a1fffff213",
      "metadata": {},
      "outputs": [],
      "source": [
        "type(\"1.34\") == type(1.34)"
      ]
    },
    {
      "cell_type": "code",
      "execution_count": null,
      "id": "dae6f8fc-6549-4bca-86cc-5527d2e9219a",
      "metadata": {},
      "outputs": [],
      "source": [
        "type(\"1.34\")"
      ]
    },
    {
      "cell_type": "code",
      "execution_count": null,
      "id": "635d973a-5eec-407e-b792-904525c3381e",
      "metadata": {},
      "outputs": [],
      "source": [
        "type(1.34)"
      ]
    },
    {
      "cell_type": "code",
      "execution_count": null,
      "id": "8d3d8174-6a43-4309-9a0d-fce36ffc6aee",
      "metadata": {},
      "outputs": [],
      "source": [
        "int(1.999)"
      ]
    },
    {
      "cell_type": "code",
      "execution_count": null,
      "id": "4961674e-4e9a-481f-816c-ef7a344bf48b",
      "metadata": {},
      "outputs": [],
      "source": [
        "int(2.1)"
      ]
    },
    {
      "cell_type": "code",
      "execution_count": null,
      "id": "4fb09628-fb05-4f2c-bf63-ef0eb560e36c",
      "metadata": {},
      "outputs": [],
      "source": [
        "abs(5)"
      ]
    },
    {
      "cell_type": "code",
      "execution_count": null,
      "id": "c40d3172-dccb-485f-96ea-cd5b514371cb",
      "metadata": {},
      "outputs": [],
      "source": [
        "abs(-5)"
      ]
    },
    {
      "cell_type": "code",
      "execution_count": null,
      "id": "74d6b856-9ddc-4313-876f-9e005ecd6081",
      "metadata": {},
      "outputs": [],
      "source": [
        "int(3.1416)"
      ]
    },
    {
      "cell_type": "markdown",
      "id": "ba729014-5473-498d-8a3a-a28a4d696d94",
      "metadata": {},
      "source": [
        "## Funciones ad-hoc"
      ]
    },
    {
      "cell_type": "code",
      "execution_count": null,
      "id": "547feb14-5c53-4164-8c51-f57154c1aa0b",
      "metadata": {},
      "outputs": [],
      "source": [
        "#Podemos incorporar la lógica específica que necesitamos para resolver un problema. \n",
        "#Ejemplo: \n",
        "#1.-Funcion que nos calcula la velocidad (v), donde v=d/t, con d distancia y t tiempo\n",
        "#2.-Función que tome como argumento la temperatura expresada en Fahrenheit y nos devuelva\n",
        "#la temperatura en Celsius. "
      ]
    },
    {
      "cell_type": "code",
      "execution_count": null,
      "id": "ed91b7d3-2f4f-4bcb-8c4f-8b99e1c3e580",
      "metadata": {},
      "outputs": [],
      "source": [
        "#Esc-M : A Markdown\n",
        "#Esc-Y : A código"
      ]
    },
    {
      "cell_type": "code",
      "execution_count": null,
      "id": "969dffaa-aa7e-4f96-9c46-021aa78a9aad",
      "metadata": {},
      "outputs": [],
      "source": [
        "#Forma general de una función en Python. \n",
        "def nombre_del_la_funcion(parametros): \n",
        "    #lógica de la función\n",
        "    return resultado\n",
        "#aquí yo ya estoy afuera de la funión. "
      ]
    },
    {
      "cell_type": "code",
      "execution_count": null,
      "id": "33cbace0-01aa-49ec-9c49-5f7d62fecf52",
      "metadata": {},
      "outputs": [],
      "source": [
        "def velocidad(d,t):\n",
        "    v=d/t\n",
        "    return v"
      ]
    },
    {
      "cell_type": "code",
      "execution_count": null,
      "id": "177530ba-645b-4f50-8c00-99bb66e38ff9",
      "metadata": {},
      "outputs": [],
      "source": [
        "velocidad(100,2)"
      ]
    },
    {
      "cell_type": "code",
      "execution_count": null,
      "id": "45b43c22-cf68-40b6-9f50-ada031da512c",
      "metadata": {},
      "outputs": [],
      "source": [
        "velocidad(d=100,t=2)"
      ]
    },
    {
      "cell_type": "code",
      "execution_count": null,
      "id": "c96f599c-fd11-4aba-bf19-01bc63f1e8c9",
      "metadata": {},
      "outputs": [],
      "source": [
        "velocidad(t=2,d=100)"
      ]
    },
    {
      "cell_type": "code",
      "execution_count": null,
      "id": "75da3c06-dfe6-4e63-b731-2b1782ccce8a",
      "metadata": {},
      "outputs": [],
      "source": [
        "def velocidad(d,t):\n",
        "v=d/t\n",
        "return v"
      ]
    },
    {
      "cell_type": "code",
      "execution_count": null,
      "id": "09eac882-ee0b-43df-aa95-13fb82e2eb33",
      "metadata": {},
      "outputs": [],
      "source": [
        "# Función que tome como argumento la temperatura en F y nos devuelva la temperatura en Celsius: \n",
        "\n",
        "# temp F ---> temp C: (F-32)/1.8\n",
        "\n",
        "def celsius(temp_f):\n",
        "    temp_c=(temp_f-32)/1.8\n",
        "    return temp_c"
      ]
    },
    {
      "cell_type": "code",
      "execution_count": null,
      "id": "3dccc9e1-5126-473c-9e30-da2018e0616b",
      "metadata": {},
      "outputs": [],
      "source": [
        "celsius(32)"
      ]
    },
    {
      "cell_type": "code",
      "execution_count": null,
      "id": "e2dc4f4e-c534-461c-89b4-0dc93fd1463a",
      "metadata": {},
      "outputs": [],
      "source": [
        "celsius(100)"
      ]
    },
    {
      "cell_type": "code",
      "execution_count": null,
      "id": "a5d39f60-90e5-4bda-a427-ce47c8fb42d2",
      "metadata": {},
      "outputs": [],
      "source": [
        "#Podemos indicar el valor por default del argumento de una función en caso de de que este no se especifique: \n",
        "\n",
        "def velocidad_2(d=0,t=1):\n",
        "    v=d/t\n",
        "    return v"
      ]
    },
    {
      "cell_type": "code",
      "execution_count": null,
      "id": "f9aa5460-5b78-4f58-9f8e-5888889f1d88",
      "metadata": {},
      "outputs": [],
      "source": [
        "#mandan llamar a la función\n",
        "velocidad_2(100,2)"
      ]
    },
    {
      "cell_type": "code",
      "execution_count": null,
      "id": "b814a6c1-a6f6-4a7f-bc2f-d76b5d288105",
      "metadata": {},
      "outputs": [],
      "source": [
        "velocidad_2()"
      ]
    },
    {
      "cell_type": "markdown",
      "id": "732742b9-295b-4230-9031-614f815f4d79",
      "metadata": {},
      "source": [
        "## Métodos para Strings"
      ]
    },
    {
      "cell_type": "code",
      "execution_count": null,
      "id": "a6f56c7e-83c1-4430-912a-3bd992f95dd1",
      "metadata": {},
      "outputs": [],
      "source": [
        "# Un método es una función que pertenece a un objeto específico. \n",
        "# Está directamente asociado a un objeto\n",
        "# Un String es un objeto INMUTABLE (no puede cambiar), i.e, siempre que invoquemos a un \n",
        "#método sobre un String. El Objeto no cambia, \n",
        "\n",
        "#Cada Operación produce un objeto nuevo"
      ]
    },
    {
      "cell_type": "code",
      "execution_count": null,
      "id": "909d3599-2c91-494f-954a-78d6fee7ab23",
      "metadata": {},
      "outputs": [],
      "source": [
        "puesto=\"data scientist\""
      ]
    },
    {
      "cell_type": "code",
      "execution_count": null,
      "id": "9b9fd7ac-f4f3-46ae-9b52-c018149a1c19",
      "metadata": {},
      "outputs": [],
      "source": [
        "puesto.upper() #convierte a mayúsculas"
      ]
    },
    {
      "cell_type": "code",
      "execution_count": null,
      "id": "15771661-f756-4dfa-92d3-4ef47dd83858",
      "metadata": {},
      "outputs": [],
      "source": [
        "puesto"
      ]
    },
    {
      "cell_type": "code",
      "execution_count": null,
      "id": "4824efc0-22bf-4ec1-ab2b-a2c273a8e300",
      "metadata": {},
      "outputs": [],
      "source": [
        "puesto.title()"
      ]
    },
    {
      "cell_type": "code",
      "execution_count": null,
      "id": "66b836a7-636d-47e4-a4e7-a7faaef34085",
      "metadata": {},
      "outputs": [],
      "source": [
        "puesto.capitalize()"
      ]
    },
    {
      "cell_type": "code",
      "execution_count": null,
      "id": "68cb1699-db41-4092-b196-0f8e806d3abc",
      "metadata": {},
      "outputs": [],
      "source": [
        "puesto=\"dATA sCIENTIST\"\n",
        "puesto"
      ]
    },
    {
      "cell_type": "code",
      "execution_count": null,
      "id": "e43fe58c-8307-4a42-8e07-3c9f5a83a317",
      "metadata": {},
      "outputs": [],
      "source": [
        "puesto.swapcase()"
      ]
    },
    {
      "cell_type": "code",
      "execution_count": null,
      "id": "bcccebe2-a9db-4854-a096-61d8a3182a11",
      "metadata": {},
      "outputs": [],
      "source": [
        "puesto=\"data scientist\"\n",
        "puesto"
      ]
    },
    {
      "cell_type": "code",
      "execution_count": null,
      "id": "fb1908f2-5bd3-45df-a6a0-6dafd47029ea",
      "metadata": {},
      "outputs": [],
      "source": [
        "puesto.upper()"
      ]
    },
    {
      "cell_type": "code",
      "execution_count": null,
      "id": "7b40c3dd-4908-489d-b378-263d7196d383",
      "metadata": {},
      "outputs": [],
      "source": [
        "puesto.lower()"
      ]
    },
    {
      "cell_type": "code",
      "execution_count": null,
      "id": "6ae659d5-6c10-407d-9732-3e657937b8fc",
      "metadata": {},
      "outputs": [],
      "source": [
        "puesto.upper() == puesto.lower()"
      ]
    },
    {
      "cell_type": "code",
      "execution_count": null,
      "id": "44d78672-8f8f-42df-8bda-02356a5cc80c",
      "metadata": {},
      "outputs": [],
      "source": [
        "puesto.title()"
      ]
    },
    {
      "cell_type": "code",
      "execution_count": null,
      "id": "06b3e017-c39c-474c-a606-9a2549ce2376",
      "metadata": {},
      "outputs": [],
      "source": [
        "puesto.swapcase()"
      ]
    },
    {
      "cell_type": "code",
      "execution_count": null,
      "id": "39d0c777-ea77-4cd9-bed8-ec7ccf18f15c",
      "metadata": {},
      "outputs": [],
      "source": [
        "#Recordar que podemos acceder a la documentación de una función usando Shift + tab"
      ]
    },
    {
      "cell_type": "code",
      "execution_count": null,
      "id": "142131ea-5576-4448-969e-3a3a2c4312ee",
      "metadata": {},
      "outputs": [],
      "source": [
        "# métodos: \n",
        "    #swapcase(): cambia mayusc por minusc y viceversa\n",
        "    #title(). afecta la primer letra de cada palabra\n",
        "    #capitalize() : afecta la primera de del String"
      ]
    },
    {
      "cell_type": "code",
      "execution_count": null,
      "id": "c6f3852c-9bf6-4ec2-bbfa-4d88e03120d0",
      "metadata": {},
      "outputs": [],
      "source": [
        "#lstrip(): nos quita los espacios en blanco por la izquierda"
      ]
    },
    {
      "cell_type": "code",
      "execution_count": null,
      "id": "91679c1a-2b38-48e1-b5a6-82817c9cd6e1",
      "metadata": {},
      "outputs": [],
      "source": [
        "\"   agua   \".lstrip()"
      ]
    },
    {
      "cell_type": "code",
      "execution_count": null,
      "id": "1b4ae757-0b65-4714-8598-30ac7ed4c5fe",
      "metadata": {},
      "outputs": [],
      "source": [
        "\"   agua   \".rstrip() #nos quita espacios por la derecha"
      ]
    },
    {
      "cell_type": "code",
      "execution_count": null,
      "id": "f8a4e1b4-005c-4264-9f4a-7bcfbcbeda67",
      "metadata": {},
      "outputs": [],
      "source": [
        "\"   agua   \".strip() #nos quita espacios en blanco por izq y der"
      ]
    },
    {
      "cell_type": "code",
      "execution_count": null,
      "id": "fb103f26-c0b9-4061-8d21-8e5e08f61ffc",
      "metadata": {},
      "outputs": [],
      "source": [
        "#Un método admite argumentos. Por ejemplo, el método replace()\n",
        "puesto=\"Data Scientist\"\n",
        "puesto"
      ]
    },
    {
      "cell_type": "code",
      "execution_count": null,
      "id": "77a02721-b7bc-4c98-ab3c-fa162a8af95f",
      "metadata": {},
      "outputs": [],
      "source": [
        "puesto.replace(\"Scientist\",\"Analyst\") #el primer argumento es \"old\", el segundo es \"new\" (el valor nuevo que queremos)"
      ]
    },
    {
      "cell_type": "code",
      "execution_count": null,
      "id": "b4f1d5b8-c13b-4586-90b3-5741f1b31b1b",
      "metadata": {},
      "outputs": [],
      "source": [
        "puesto=\"   Data Scientist \""
      ]
    },
    {
      "cell_type": "code",
      "execution_count": null,
      "id": "8498dfba-5729-4ed8-8ca1-edd56a353627",
      "metadata": {},
      "outputs": [],
      "source": [
        "#queremos: \n",
        "#1.-quitar espacios\n",
        "#2.-reemplazar \"Scientist\" por \"Analyst\""
      ]
    },
    {
      "cell_type": "code",
      "execution_count": null,
      "id": "cc5c4825-44b7-463e-9daa-c14304295e62",
      "metadata": {},
      "outputs": [],
      "source": [
        "puesto.strip().replace(\"Scientist\",\"Analyst\") #méthod chaining o encadenamiento de métodos. "
      ]
    },
    {
      "cell_type": "code",
      "execution_count": null,
      "id": "08f3f887-a6a5-48a8-8645-2bbab393bd0d",
      "metadata": {},
      "outputs": [],
      "source": [
        "#lo anterior se justifica porque en puesto.strip() me devuelve un string y por tanto puedo aplicarle el \n",
        "#replace() y todos los métodos aplicables sobre un str. "
      ]
    },
    {
      "cell_type": "code",
      "execution_count": null,
      "id": "888614b3-3418-4302-ae17-b88dc91e4395",
      "metadata": {},
      "outputs": [],
      "source": [
        "puesto"
      ]
    },
    {
      "cell_type": "code",
      "execution_count": null,
      "id": "215ff55c-570a-4053-ac71-afe442b4259a",
      "metadata": {},
      "outputs": [],
      "source": [
        "puesto.strip().replace(\"Scien\",\"Analyst\") #méthod chaining o encadenamiento de métodos. "
      ]
    },
    {
      "cell_type": "code",
      "execution_count": null,
      "id": "b954bac9-5719-4dff-af1c-d8357dbaa154",
      "metadata": {},
      "outputs": [],
      "source": [
        "\"Data\" in puesto #\"in\" se pregunta si \"Data\" en \"Data Scientist\". La respuesta es verdadero"
      ]
    },
    {
      "cell_type": "code",
      "execution_count": null,
      "id": "5bd5fc1c-4f67-4f54-a980-5e9184e57139",
      "metadata": {},
      "outputs": [],
      "source": [
        "\"data\" in puesto"
      ]
    },
    {
      "cell_type": "code",
      "execution_count": null,
      "id": "d1f316a7-052e-4d25-8b9d-9d53991cbc22",
      "metadata": {},
      "outputs": [],
      "source": [
        "puesto"
      ]
    },
    {
      "cell_type": "code",
      "execution_count": null,
      "id": "4164ae3e-78fb-467d-ba0f-832245c30ff9",
      "metadata": {},
      "outputs": [],
      "source": [
        "puesto=puesto.strip()\n",
        "puesto"
      ]
    },
    {
      "cell_type": "code",
      "execution_count": null,
      "id": "b69d6ab8-ffcf-49fa-818c-2aff302bda49",
      "metadata": {},
      "outputs": [],
      "source": [
        "#iterable\n",
        "\"carlos\"[1]"
      ]
    },
    {
      "cell_type": "code",
      "execution_count": null,
      "id": "439dac8e-26b3-4439-8c60-65dd673d64f1",
      "metadata": {},
      "outputs": [],
      "source": [
        "\"carlos\"[2]"
      ]
    },
    {
      "cell_type": "code",
      "execution_count": null,
      "id": "9739469a-21d7-448f-bd9e-b9f18c5458a2",
      "metadata": {},
      "outputs": [],
      "source": [
        "nombre1=\"carlos\""
      ]
    },
    {
      "cell_type": "code",
      "execution_count": null,
      "id": "b285b351-24a2-4bf5-b4ba-2cd7ab973123",
      "metadata": {},
      "outputs": [],
      "source": [
        "nombre1[0]"
      ]
    },
    {
      "cell_type": "code",
      "execution_count": null,
      "id": "17e6805e-d122-41c9-bfa7-54fd2f72cd92",
      "metadata": {},
      "outputs": [],
      "source": [
        "nombre1[0]=\"a\" #es inmutable"
      ]
    },
    {
      "cell_type": "code",
      "execution_count": null,
      "id": "bb35ed0e-c013-41af-a01d-2261cca0bfd4",
      "metadata": {},
      "outputs": [],
      "source": []
    },
    {
      "cell_type": "code",
      "execution_count": null,
      "id": "c8c49958-f86d-4acb-8766-cd64963dd197",
      "metadata": {},
      "outputs": [],
      "source": [
        "def replace(a):\n",
        "    return (a)\n",
        "    "
      ]
    },
    {
      "cell_type": "code",
      "execution_count": null,
      "id": "725314bb-6180-49d0-8499-175fefa67eda",
      "metadata": {},
      "outputs": [],
      "source": [
        "replace(\"a\")"
      ]
    },
    {
      "cell_type": "code",
      "execution_count": null,
      "id": "bfe763c4-c452-4084-900c-dca0dcff484a",
      "metadata": {},
      "outputs": [],
      "source": [
        "\"a\".replace(\"a\",\"b\")"
      ]
    },
    {
      "cell_type": "markdown",
      "id": "518e6a59-097b-47af-9dfb-c012c972254b",
      "metadata": {},
      "source": [
        "# Lista"
      ]
    },
    {
      "cell_type": "code",
      "execution_count": null,
      "id": "4f54e96d-41e6-46f1-b222-6486c3a7eca5",
      "metadata": {},
      "outputs": [],
      "source": [
        "#Una lista es una estructura de datos MUTABLE que contiene una colección ordenada de elementos/objetos. \n",
        "#las listas se construyen con squared brackets, corchetes []\n",
        "# Guarda elementos en un orden específico. También se conocen como arreglos en otros lenguajes. \n",
        "# Las listas deben, idealmente, ser de un sólo tipo de datos. "
      ]
    },
    {
      "cell_type": "code",
      "execution_count": null,
      "id": "d0b7c3ed-dde4-432e-9a00-583e9d637a66",
      "metadata": {},
      "outputs": [],
      "source": [
        "# Lista vacía: \n",
        "[]"
      ]
    },
    {
      "cell_type": "code",
      "execution_count": null,
      "id": "1a03411b-b6d1-44f1-b808-356f26aef271",
      "metadata": {},
      "outputs": [],
      "source": [
        "bol=[True, True, False, False]"
      ]
    },
    {
      "cell_type": "code",
      "execution_count": null,
      "id": "dbd1006c-b158-4b5b-9c5f-faefd99df47a",
      "metadata": {},
      "outputs": [],
      "source": [
        "bol"
      ]
    },
    {
      "cell_type": "code",
      "execution_count": null,
      "id": "f6648794-0d5f-4b5a-a4ce-08707ad4d1e2",
      "metadata": {},
      "outputs": [],
      "source": [
        "type(True)"
      ]
    },
    {
      "cell_type": "code",
      "execution_count": null,
      "id": "881fd91d-393c-4e71-9f0d-b8b6ea942b47",
      "metadata": {},
      "outputs": [],
      "source": [
        "type(bol)"
      ]
    },
    {
      "cell_type": "code",
      "execution_count": null,
      "id": "96a16d4f-8a76-4fe9-a76d-34c8be9e83f2",
      "metadata": {},
      "outputs": [],
      "source": [
        "enteros=[1,3,5,7]\n",
        "enteros"
      ]
    },
    {
      "cell_type": "code",
      "execution_count": null,
      "id": "39563eea-909d-4db5-9a19-dc3b754bf8d3",
      "metadata": {},
      "outputs": [],
      "source": [
        "mix=[1,1.1,3,7] #aquí estoy poniendo flotanetes, enteros\n",
        "mix"
      ]
    },
    {
      "cell_type": "code",
      "execution_count": null,
      "id": "786008e5-6979-4b4c-b003-4e6da7863481",
      "metadata": {},
      "outputs": [],
      "source": [
        "type(mix)"
      ]
    },
    {
      "cell_type": "code",
      "execution_count": null,
      "id": "e485a84b-9b30-499a-bd54-eef5e54de1a4",
      "metadata": {},
      "outputs": [],
      "source": [
        "type(mix[1])"
      ]
    },
    {
      "cell_type": "code",
      "execution_count": null,
      "id": "dd257186-d219-40f0-ae80-cee51c07ac06",
      "metadata": {},
      "outputs": [],
      "source": [
        "type(mix[0])"
      ]
    },
    {
      "cell_type": "code",
      "execution_count": null,
      "id": "c2c16158-951f-4672-98de-6fbe76bd07e9",
      "metadata": {},
      "outputs": [],
      "source": [
        "personas=[\"Luis\",\"Karla\",\"Ricardo\"]\n",
        "personas"
      ]
    },
    {
      "cell_type": "code",
      "execution_count": null,
      "id": "55b008c2-dcc3-4a9b-aa00-6feb25e3e3a1",
      "metadata": {},
      "outputs": [],
      "source": [
        "[\"Luis\",\"Karla\",\"Ricardo\",1]"
      ]
    },
    {
      "cell_type": "code",
      "execution_count": null,
      "id": "bcaadbb7-5ff6-468c-a6d5-1e9404da1aed",
      "metadata": {},
      "outputs": [],
      "source": [
        "type(personas)"
      ]
    },
    {
      "cell_type": "code",
      "execution_count": null,
      "id": "d147e00a-beef-4716-9dcf-df7e5fa92bae",
      "metadata": {},
      "outputs": [],
      "source": [
        "#Supongamos que queremos agregar un elemento a la lista de personas --> usamos el método append()\n",
        "\n",
        "personas.append(\"Lucía\")\n",
        "personas"
      ]
    },
    {
      "cell_type": "code",
      "execution_count": null,
      "id": "e8ac9e0f-0ee9-4f80-aff7-09b8872ea028",
      "metadata": {},
      "outputs": [],
      "source": [
        "#no se necesitó: \n",
        "#personas=personas.append(\"Lucía\") No se define el objeto porque la función ya alteró la original. "
      ]
    },
    {
      "cell_type": "code",
      "execution_count": null,
      "id": "72fdd98d-f90d-4abd-982d-ccfd303b87ae",
      "metadata": {},
      "outputs": [],
      "source": [
        "personas"
      ]
    },
    {
      "cell_type": "code",
      "execution_count": null,
      "id": "1a0d3110-d7d2-4f08-af2a-0dc5116f20c4",
      "metadata": {},
      "outputs": [],
      "source": [
        "#supongamos que queremos el último elemento y lo quita de la lista\n",
        "personas.pop()"
      ]
    },
    {
      "cell_type": "code",
      "execution_count": null,
      "id": "0cc65029-f716-4b63-acb1-6bb4a0565cef",
      "metadata": {},
      "outputs": [],
      "source": [
        "personas"
      ]
    },
    {
      "cell_type": "code",
      "execution_count": null,
      "id": "7a1ac44f-48f5-485a-bc50-3d0abeb588f1",
      "metadata": {},
      "outputs": [],
      "source": [
        "#remove(): para quitar un elemento específico: \n",
        "personas.remove(\"Luis\")\n",
        "personas"
      ]
    },
    {
      "cell_type": "code",
      "execution_count": null,
      "id": "ef600908-d9dd-4e37-946e-77fc9e1c1222",
      "metadata": {},
      "outputs": [],
      "source": [
        "personas.remove(\"Karla\")\n",
        "personas"
      ]
    },
    {
      "cell_type": "code",
      "execution_count": null,
      "id": "89901864-e0b4-4fa0-a7d2-9906f3595fd7",
      "metadata": {},
      "outputs": [],
      "source": [
        "personas=[\"Luis\",\"Karla\",\"Ricardo\"]\n",
        "personas #0,  #1,  #2"
      ]
    },
    {
      "cell_type": "code",
      "execution_count": null,
      "id": "f04010d4-d52f-422e-af0c-03c5ec21e862",
      "metadata": {},
      "outputs": [],
      "source": [
        "personas.remove(personas[1]) #aquí elimina la segunda posición que es Karla\n",
        "personas"
      ]
    },
    {
      "cell_type": "code",
      "execution_count": null,
      "id": "5937d240-fb60-4547-9bda-29e4f32ee510",
      "metadata": {},
      "outputs": [],
      "source": [
        "personas[1]"
      ]
    },
    {
      "cell_type": "code",
      "execution_count": null,
      "id": "b6819e17-211a-42c3-81fa-f8eb2257deea",
      "metadata": {},
      "outputs": [],
      "source": [
        "personas[1]=\"Alex\"\n",
        "personas"
      ]
    },
    {
      "cell_type": "code",
      "execution_count": null,
      "id": "34cce951-86e4-4ebc-bdf6-57177f348dcb",
      "metadata": {},
      "outputs": [],
      "source": [
        "#recordar: las listas son mutables y las usamos cuando queremos guardar objetos en cierto orden"
      ]
    }
  ],
  "metadata": {
    "kernelspec": {
      "display_name": "Python 3 (ipykernel)",
      "language": "python",
      "name": "python3"
    },
    "language_info": {
      "codemirror_mode": {
        "name": "ipython",
        "version": 3
      },
      "file_extension": ".py",
      "mimetype": "text/x-python",
      "name": "python",
      "nbconvert_exporter": "python",
      "pygments_lexer": "ipython3",
      "version": "3.11.8"
    }
  },
  "nbformat": 4,
  "nbformat_minor": 5
}