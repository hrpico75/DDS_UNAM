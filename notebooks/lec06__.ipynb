{
  "cells": [
    {
      "cell_type": "code",
      "execution_count": null,
      "id": "d42ba29f-4d66-48ed-95ca-0a094df7a1c6",
      "metadata": {},
      "outputs": [],
      "source": [
        "import pandas as pd, numpy as np"
      ]
    },
    {
      "cell_type": "code",
      "execution_count": null,
      "id": "119557ca-e7c5-4725-91a3-5a42e78f8309",
      "metadata": {},
      "outputs": [],
      "source": [
        "#Importar dataset nba\n",
        "nba=pd.read_csv('ct_nba.csv')\n",
        "nba.head()"
      ]
    },
    {
      "cell_type": "code",
      "execution_count": null,
      "id": "1628e16a-5154-4ff3-8633-c17b93914aa0",
      "metadata": {},
      "outputs": [],
      "source": [
        "#Eliminar cualquier columna que tenga todos los valores nulos\n",
        "nba['nulos']=np.nan\n",
        "nba['nulos_2']=np.nan\n",
        "nba.head(10)"
      ]
    },
    {
      "cell_type": "code",
      "execution_count": null,
      "id": "602949ec-f460-4226-a4ab-33691d5eea3b",
      "metadata": {},
      "outputs": [],
      "source": [
        "#Eliminar columnas que tengan los valore snulos:\n",
        "nba.dropna(how='all',axis=1)\n",
        "#axis=1 hace que opere sobre las columnas"
      ]
    },
    {
      "cell_type": "code",
      "execution_count": null,
      "id": "04867ec2-f30b-4567-87ed-fb4ffff74785",
      "metadata": {},
      "outputs": [],
      "source": [
        "nba.head()"
      ]
    },
    {
      "cell_type": "code",
      "execution_count": null,
      "id": "df243ad0-0a55-4e84-b6fa-c3a4d7d33c71",
      "metadata": {},
      "outputs": [],
      "source": [
        "nba.dropna(how='all',axis=1,inplace=True)\n",
        "nba.head(3)"
      ]
    },
    {
      "cell_type": "code",
      "execution_count": null,
      "id": "37559d31-b5f9-4228-b45a-c5d23a8a51f4",
      "metadata": {},
      "outputs": [],
      "source": [
        "#si quiero afectar columnas específicas --> usar parámetro subset:\n",
        "nba.dropna(subset=['Position','College']) #elimino filas que tengan al menos un NULO en esas variables. "
      ]
    },
    {
      "cell_type": "markdown",
      "id": "36b1b657-c5d1-485b-aadb-b71ac25ce993",
      "metadata": {},
      "source": [
        "#### Manejo de valores nulos: sustitución --> metodo `fillna()`"
      ]
    },
    {
      "cell_type": "code",
      "execution_count": null,
      "id": "1e4a0e65-1d74-4eb8-bd1e-1925ef9f644e",
      "metadata": {},
      "outputs": [],
      "source": [
        "nba.fillna(0)"
      ]
    },
    {
      "cell_type": "code",
      "execution_count": null,
      "id": "2482ac8a-8c2d-484a-a86b-079843d36624",
      "metadata": {},
      "outputs": [],
      "source": [
        "nba['Position'].fillna(0)"
      ]
    },
    {
      "cell_type": "code",
      "execution_count": null,
      "id": "f308e83a-d87f-4a56-9c8f-0da80b8189eb",
      "metadata": {},
      "outputs": [],
      "source": [
        "#podemos usar un string para llenar un nulo\n",
        "nba['College'].fillna('desconocido')"
      ]
    },
    {
      "cell_type": "code",
      "execution_count": null,
      "id": "711aa3f0-14e5-4464-8812-084eaeefebfb",
      "metadata": {},
      "outputs": [],
      "source": [
        "nba.info()"
      ]
    },
    {
      "cell_type": "code",
      "execution_count": null,
      "id": "dbd13566-96ac-4862-86ed-6bb2f627dd1c",
      "metadata": {},
      "outputs": [],
      "source": [
        "#Pueden también llenar usando una función\n",
        "nba['Age'].fillna(nba['Age'].median())"
      ]
    },
    {
      "cell_type": "markdown",
      "id": "05787cba-04cc-4f61-97f8-07005714b57a",
      "metadata": {},
      "source": [
        "# Método astype()"
      ]
    },
    {
      "cell_type": "code",
      "execution_count": null,
      "id": "049ca335-eb49-41bf-8e23-96f1c432e4b1",
      "metadata": {},
      "outputs": [],
      "source": [
        "nba=pd.read_csv('ct_nba.csv').dropna(how='all')\n",
        "nba.head()\n",
        "nba.info()     "
      ]
    },
    {
      "cell_type": "code",
      "execution_count": null,
      "id": "3639cdd8-2ee0-466c-b598-f0a5f4146dff",
      "metadata": {},
      "outputs": [],
      "source": [
        "nba['Position']=nba['Position'].fillna(0)\n"
      ]
    },
    {
      "cell_type": "code",
      "execution_count": null,
      "id": "6f2ea2eb-c41d-4864-89f5-614112cdd7f0",
      "metadata": {},
      "outputs": [],
      "source": [
        "nba['College'].fillna('desconocido',inplace=True)"
      ]
    },
    {
      "cell_type": "code",
      "execution_count": null,
      "id": "6ec578db-704f-48de-97ba-92ff038f35e5",
      "metadata": {},
      "outputs": [],
      "source": [
        "pd.__version__"
      ]
    },
    {
      "cell_type": "code",
      "execution_count": null,
      "id": "421e8407-fa58-4e2c-98d5-f99b78095ef9",
      "metadata": {},
      "outputs": [],
      "source": [
        "nba.dtypes"
      ]
    },
    {
      "cell_type": "code",
      "execution_count": null,
      "id": "9d5e897b-531f-48e3-b642-7f0838384867",
      "metadata": {},
      "outputs": [],
      "source": [
        "#convertia entero\n",
        "nba['Age']=nba['Age'].astype('int')\n",
        "nba.head()"
      ]
    },
    {
      "cell_type": "code",
      "execution_count": null,
      "id": "c9076767-9de2-4b58-9b1f-84e01ef1d719",
      "metadata": {},
      "outputs": [],
      "source": [
        "nba['Position'].nunique()"
      ]
    },
    {
      "cell_type": "code",
      "execution_count": null,
      "id": "ee27542e-fc6f-4742-bec8-38243711efe0",
      "metadata": {},
      "outputs": [],
      "source": [
        "nba['Position'].unique()"
      ]
    },
    {
      "cell_type": "code",
      "execution_count": null,
      "id": "a9b0698e-ae65-4764-8113-b69d3ea33ad6",
      "metadata": {},
      "outputs": [],
      "source": [
        "nba['Position']=nba['Position'].astype('category')\n",
        "#Es ideal (category) para cols que tienen un úmero pequeño de valores distintos"
      ]
    },
    {
      "cell_type": "code",
      "execution_count": null,
      "id": "11edd4a0-f0d2-40bc-a583-3ff48af053a5",
      "metadata": {},
      "outputs": [],
      "source": [
        "nba.info()"
      ]
    },
    {
      "cell_type": "markdown",
      "id": "1f047be0-0caa-4298-b28b-1a6604ba2888",
      "metadata": {},
      "source": [
        "### Método `sort_values()`"
      ]
    },
    {
      "cell_type": "markdown",
      "id": "8ae03bcd-4455-4ca4-acc8-8e7185eb461d",
      "metadata": {},
      "source": [
        "### Sintaxis: `df.sort_values('campo(s)')` "
      ]
    },
    {
      "cell_type": "code",
      "execution_count": null,
      "id": "a870464d-6263-4c43-9406-2d1f879fb0d2",
      "metadata": {},
      "outputs": [],
      "source": [
        "#Al incluir el nombre de una columna como primer parametro, el df se ordena\n",
        "#por esa columna\n",
        "nba.sort_values('Name')"
      ]
    },
    {
      "cell_type": "code",
      "execution_count": null,
      "id": "e3748ffc-5899-457d-bf1a-88b080f09d03",
      "metadata": {},
      "outputs": [],
      "source": [
        "nba.sort_values('Age',ascending=False)"
      ]
    },
    {
      "cell_type": "code",
      "execution_count": null,
      "id": "3e9f3b90-8d01-49f1-a6b3-3e3947dc4f0b",
      "metadata": {
        "scrolled": true
      },
      "outputs": [],
      "source": [
        "nba"
      ]
    },
    {
      "cell_type": "code",
      "execution_count": null,
      "id": "4c27874d-c077-4a47-b2c6-fcd013054254",
      "metadata": {},
      "outputs": [],
      "source": [
        "nba.sort_values('Age',ascending=False,inplace=True) #si queremos que el ordenamiento sea permanente\n",
        "nba.tail()"
      ]
    },
    {
      "cell_type": "code",
      "execution_count": null,
      "id": "ad0738a2-9748-4740-9c6d-7801cf5ac5bf",
      "metadata": {},
      "outputs": [],
      "source": [
        "nba.head()"
      ]
    },
    {
      "cell_type": "code",
      "execution_count": null,
      "id": "0de4e6c3-7fb4-4096-bd85-746619997641",
      "metadata": {},
      "outputs": [],
      "source": [
        "nba.sort_index(inplace=True)"
      ]
    },
    {
      "cell_type": "code",
      "execution_count": null,
      "id": "56524727-f4d5-4085-a162-aa303075847c",
      "metadata": {},
      "outputs": [],
      "source": [
        "nba"
      ]
    },
    {
      "cell_type": "code",
      "execution_count": null,
      "id": "2da99b87-f0b3-46fe-a244-dbce0fda7eaf",
      "metadata": {},
      "outputs": [],
      "source": [
        "nba['Salary']=nba['Salary'].astype('int64')"
      ]
    },
    {
      "cell_type": "code",
      "execution_count": null,
      "id": "960c3391-cd29-4d5b-9c0e-963d97cdd523",
      "metadata": {},
      "outputs": [],
      "source": [
        "nba.head()"
      ]
    },
    {
      "cell_type": "code",
      "execution_count": null,
      "id": "7e6d5a48-dc7a-443c-9ce2-a646f4d37c5c",
      "metadata": {},
      "outputs": [],
      "source": [
        "nba.sort_values('Salary',ascending=False,na_position='first')"
      ]
    },
    {
      "cell_type": "code",
      "execution_count": null,
      "id": "c1869bbd-d185-4a6d-9580-472dfd2c7411",
      "metadata": {},
      "outputs": [],
      "source": [
        "nba.info()"
      ]
    },
    {
      "cell_type": "code",
      "execution_count": null,
      "id": "847eadb5-169a-4203-9d41-027844380fca",
      "metadata": {},
      "outputs": [],
      "source": [
        "nba.sort_values('College',ascending=True,na_position='last').tail()"
      ]
    },
    {
      "cell_type": "markdown",
      "id": "5470406b-edea-4be8-8dc7-ea36ad26786b",
      "metadata": {},
      "source": [
        "### Ordenar por más de una variable"
      ]
    },
    {
      "cell_type": "code",
      "execution_count": null,
      "id": "ebfb4413-2993-4d9e-8a63-c1ed06a5fb3d",
      "metadata": {},
      "outputs": [],
      "source": [
        "nba.sort_values(['Team','Name'])"
      ]
    },
    {
      "cell_type": "code",
      "execution_count": null,
      "id": "07104b17-f58d-4eb1-aa2a-fc953daf66c4",
      "metadata": {},
      "outputs": [],
      "source": [
        "nba.sort_values(['Team','Name'],ascending=[True,False]) #ascendente por equio y descendente por nombre"
      ]
    },
    {
      "cell_type": "code",
      "execution_count": null,
      "id": "1f5a01b8-346c-4f8a-8f41-d3ec8d3a4dcc",
      "metadata": {},
      "outputs": [],
      "source": [
        "nba.sort_values(['Salary','Name'],ascending=[False,True],na_position='first',inplace=True) #descendente por salario y ascendente por nombre\n",
        "nba"
      ]
    },
    {
      "cell_type": "code",
      "execution_count": null,
      "id": "95a8242f-6f79-40e1-b53f-aab1e84e69c0",
      "metadata": {},
      "outputs": [],
      "source": [
        "nba.drop_duplicates(subset='Name',keep='first')"
      ]
    },
    {
      "cell_type": "code",
      "execution_count": null,
      "id": "de97074e-b51d-4f65-a135-611051323536",
      "metadata": {},
      "outputs": [],
      "source": [
        "#importar dataset nba "
      ]
    },
    {
      "cell_type": "code",
      "execution_count": null,
      "id": "8280cda5-e09b-43fa-b252-763afdb04d75",
      "metadata": {},
      "outputs": [],
      "source": [
        "nba=pd.read_csv('ct_nba.csv')\n",
        "nba.head()"
      ]
    },
    {
      "cell_type": "code",
      "execution_count": null,
      "id": "68855783-0aea-49ce-87c6-cc16dfefe49c",
      "metadata": {},
      "outputs": [],
      "source": [
        "nba.sort_values('Position',na_positidon='first') #ordena los nan al principio"
      ]
    },
    {
      "cell_type": "markdown",
      "id": "3428ee40-2902-40e0-bbd0-17d192b5fd26",
      "metadata": {},
      "source": [
        "## `metodo sort_index()`"
      ]
    },
    {
      "cell_type": "code",
      "execution_count": null,
      "id": "8b934be8-403e-4e89-8716-fa60b58e869d",
      "metadata": {},
      "outputs": [],
      "source": [
        "#util para regresar la tabla a su forma original en cuanto a su ordenamiento\n",
        "nba.sort_index()"
      ]
    },
    {
      "cell_type": "code",
      "execution_count": null,
      "id": "81f00de6-7cae-41a4-b748-7d615618612d",
      "metadata": {},
      "outputs": [],
      "source": [
        "nba.sort_index(ascending=False)"
      ]
    },
    {
      "cell_type": "code",
      "execution_count": null,
      "id": "249367ce-875d-4596-bf6a-22fe226c071e",
      "metadata": {},
      "outputs": [],
      "source": [
        "#queremos ordenar descendente por columnas ---> axis=1\n",
        "nba.sort_index(ascending=False, axis=1)"
      ]
    },
    {
      "cell_type": "code",
      "execution_count": null,
      "id": "7e3bfb79-04b8-451f-bab9-800b151b2b6b",
      "metadata": {},
      "outputs": [],
      "source": [
        "#queremos ordenar ascendente por columnas\n",
        "nba.sort_index(axis=1)"
      ]
    },
    {
      "cell_type": "code",
      "execution_count": null,
      "id": "a636c8cc-e9a1-4d5e-a1be-52f77f4b4600",
      "metadata": {},
      "outputs": [],
      "source": [
        "emp=pd.read_csv('empleados_2.csv')\n",
        "emp.head()"
      ]
    },
    {
      "cell_type": "code",
      "execution_count": null,
      "id": "6c48b9b7-2500-44ba-bce0-16dec6b5f41a",
      "metadata": {},
      "outputs": [],
      "source": [
        "emp.tail()"
      ]
    },
    {
      "cell_type": "code",
      "execution_count": null,
      "id": "56bf8aca-af5a-4911-8f5e-33ee733d0de5",
      "metadata": {},
      "outputs": [],
      "source": [
        "emp.info()"
      ]
    },
    {
      "cell_type": "markdown",
      "id": "624bb3a1-46b3-4afb-a5ac-60019a1e796c",
      "metadata": {},
      "source": [
        "#### Construyendo un DF desde un diccionario"
      ]
    },
    {
      "cell_type": "code",
      "execution_count": null,
      "id": "22ee172c-fc4d-413d-9dea-9e43d6feb258",
      "metadata": {},
      "outputs": [],
      "source": [
        "dict = {\n",
        "    'nombre':['Areli','Beto'],\n",
        "    'es_directivo':['True','False'],\n",
        "    'genero':['F','M'],\n",
        "    'fh_ant':['2015-02-21','2017-03-15'],\n",
        "    'pct bono':[6.1,10],\n",
        "    'area':['reclutamiento','staff'],\n",
        "    'salario':[180000,78000],\n",
        "}"
      ]
    },
    {
      "cell_type": "code",
      "execution_count": null,
      "id": "e7022381-dc68-40bd-ac1b-79f453769a8d",
      "metadata": {},
      "outputs": [],
      "source": [
        "dict"
      ]
    },
    {
      "cell_type": "code",
      "execution_count": null,
      "id": "3eaa922b-f060-4736-ab34-5327d8f568cd",
      "metadata": {},
      "outputs": [],
      "source": [
        "aux=pd.DataFrame(dict)\n",
        "aux.head()"
      ]
    },
    {
      "cell_type": "code",
      "execution_count": null,
      "id": "f5c34b97-7b3b-45ac-aab1-d0364484fcfb",
      "metadata": {
        "scrolled": true
      },
      "outputs": [],
      "source": [
        "emp=pd.concat([emp,aux],ignore_index=True)\n",
        "emp.tail()"
      ]
    },
    {
      "cell_type": "code",
      "execution_count": null,
      "id": "97a01544-0d15-4988-b240-690f6e253e6f",
      "metadata": {
        "scrolled": true
      },
      "outputs": [],
      "source": [
        "emp"
      ]
    },
    {
      "cell_type": "code",
      "execution_count": null,
      "id": "f34d5ccf-38ae-4640-bcf2-82025bd71720",
      "metadata": {},
      "outputs": [],
      "source": [
        "emp.dtypes"
      ]
    },
    {
      "cell_type": "code",
      "execution_count": null,
      "id": "23e21f26-e893-4609-b52c-97630c80fa5b",
      "metadata": {
        "scrolled": true
      },
      "outputs": [],
      "source": [
        "dir(emp)"
      ]
    },
    {
      "cell_type": "code",
      "execution_count": null,
      "id": "9f274546-4bf6-4537-ba51-7fa7aaeec9f0",
      "metadata": {},
      "outputs": [],
      "source": [
        "#convertir fh_ant, es_directivo a tipo fecha y booleano, respectivamente\n",
        "emp['fh_ant']=pd.to_datetime(emp['fh_ant'])\n",
        "emp['es_directivo']=emp['es_directivo'].astype('bool')\n",
        "emp.dtypes"
      ]
    },
    {
      "cell_type": "markdown",
      "id": "251de614-4374-4d8e-915c-6bdf8458fa7e",
      "metadata": {},
      "source": [
        "### Filtrar un DF según ciertos criterios. "
      ]
    },
    {
      "cell_type": "code",
      "execution_count": null,
      "id": "71b19c1a-7409-49dc-92e2-c6e22c09d764",
      "metadata": {},
      "outputs": [],
      "source": [
        "emp.head()"
      ]
    },
    {
      "cell_type": "code",
      "execution_count": null,
      "id": "58e6d198-d09d-405c-a982-e53d1b0db530",
      "metadata": {},
      "outputs": [],
      "source": [
        "emp.dtypes"
      ]
    },
    {
      "cell_type": "code",
      "execution_count": null,
      "id": "707f121c-4c00-4767-be86-562c1187f131",
      "metadata": {},
      "outputs": [],
      "source": [
        "#queremos por ejemplo, filtrar por genero\n",
        "#primero, contando nulos en esa columna"
      ]
    },
    {
      "cell_type": "code",
      "execution_count": null,
      "id": "8fe08306-a539-433b-97d5-077441e151fb",
      "metadata": {},
      "outputs": [],
      "source": [
        "emp['genero'].isnull().sum()"
      ]
    },
    {
      "cell_type": "code",
      "execution_count": null,
      "id": "81697d00-87b3-4666-9127-297fc68d07b4",
      "metadata": {},
      "outputs": [],
      "source": [
        "#otra opción\n",
        "emp['genero'].value_counts(dropna=False)"
      ]
    },
    {
      "cell_type": "code",
      "execution_count": null,
      "id": "ff3b3a29-e7ad-4901-91e0-f2e0414d6635",
      "metadata": {},
      "outputs": [],
      "source": [
        "emp['genero']"
      ]
    },
    {
      "cell_type": "code",
      "execution_count": null,
      "id": "5bbf30a0-4367-4ac9-8b98-ef90a3956372",
      "metadata": {},
      "outputs": [],
      "source": [
        "emp['genero']=='M'"
      ]
    },
    {
      "cell_type": "code",
      "execution_count": null,
      "id": "57cb51e5-43b0-4c7c-9093-00f694bb27ca",
      "metadata": {},
      "outputs": [],
      "source": [
        "is_masc=emp['genero']=='M'\n",
        "is_masc"
      ]
    },
    {
      "cell_type": "code",
      "execution_count": null,
      "id": "4624689a-304c-4355-b369-9889ab7175e0",
      "metadata": {},
      "outputs": [],
      "source": [
        "emp[emp['genero']=='M']"
      ]
    },
    {
      "cell_type": "markdown",
      "id": "ffe02d66-4dc2-4244-97b6-538564340359",
      "metadata": {},
      "source": [
        "#### ¿Cómo podemos corregir la info de genero en este caso?\n",
        "* Usaremos apply, pero ligeramente diferente y una función que definiremos"
      ]
    },
    {
      "cell_type": "code",
      "execution_count": null,
      "id": "ce0022b6-9574-4dff-8b0a-ff210b72f61c",
      "metadata": {},
      "outputs": [],
      "source": [
        "nombres_h = ['Eduardo','Luis','Alejandro','Jose','Daniel','Jerónimo','Francisco','Octavio','Edgardo','Sean',\n",
        "             'Mariano','Javier','Josue','Ignacio','Esteban', 'Will','Pablo', 'Bernardo', 'Eugenio','Miguel', \n",
        "             'Alessandro','William', 'René', 'Emilio', 'Darío', 'Juan', 'Victor', 'Camilo','Beto']"
      ]
    },
    {
      "cell_type": "code",
      "execution_count": null,
      "id": "70cd0541-3e74-4be4-a03e-b42105de59c7",
      "metadata": {},
      "outputs": [],
      "source": [
        "type(nombres_h)"
      ]
    },
    {
      "cell_type": "code",
      "execution_count": null,
      "id": "4a552a75-c2d3-49ee-919e-6bfde6e1d0fb",
      "metadata": {},
      "outputs": [],
      "source": [
        "emp.head(10)"
      ]
    },
    {
      "cell_type": "code",
      "execution_count": null,
      "id": "8b8adfaf-58d1-4cfb-8626-5cbc887f201d",
      "metadata": {},
      "outputs": [],
      "source": [
        "#quiero\n",
        "#si el genero es nulo, dejarlo nulo\n",
        "#si el nombre es masculino, quiero genero ='M'\n",
        "#si el nombre es fememnio, quiero genero = 'F'\n",
        "\n",
        "def func_genero(row): \n",
        "    if pd.isnull(row['genero']):\n",
        "        return row['genero']\n",
        "    elif row['nombre'] in nombres_h:\n",
        "        return 'M'\n",
        "    else:\n",
        "        return 'F'"
      ]
    },
    {
      "cell_type": "code",
      "execution_count": null,
      "id": "fd67213f-b365-4268-9a3a-5d5ab5bfbaf3",
      "metadata": {},
      "outputs": [],
      "source": [
        "emp['genero']=emp.apply(func_genero,axis=1)\n",
        "emp.head()"
      ]
    },
    {
      "cell_type": "code",
      "execution_count": null,
      "id": "b47b851f-813e-4294-b7e5-64e30c3edb02",
      "metadata": {},
      "outputs": [],
      "source": [
        "import os\n",
        "os.getcwd()"
      ]
    },
    {
      "cell_type": "code",
      "execution_count": null,
      "id": "712f417c-d0a5-44a5-961f-27fb0c8da13f",
      "metadata": {},
      "outputs": [],
      "source": [
        "#exportar nuestro archivo: function to_csv()\n",
        "emp.to_csv(\"/Users/carloscarrasco/Library/Mobile Documents/com~apple~CloudDocs/Desktop/Pronósticos/Alexis/M1/Mio/hola.csv\")"
      ]
    },
    {
      "cell_type": "code",
      "execution_count": null,
      "id": "a1d6515b-a3af-4519-84be-529e79f6aa52",
      "metadata": {},
      "outputs": [],
      "source": [
        "emp.to_csv('nuevo_empleados.csv')"
      ]
    },
    {
      "cell_type": "code",
      "execution_count": null,
      "id": "e5fda95e-c7cd-4666-8ad2-1b100cbcc6d1",
      "metadata": {},
      "outputs": [],
      "source": [
        "emp.to_excel('nuevo_empleados.xlsx')"
      ]
    },
    {
      "cell_type": "markdown",
      "id": "7db4403d-342a-495f-b74c-5f40cfddff7b",
      "metadata": {},
      "source": [
        "# Ejercicios"
      ]
    },
    {
      "cell_type": "markdown",
      "id": "a2d21d36-f06c-4e92-b466-63631d9b3c25",
      "metadata": {},
      "source": [
        "* Usaremos el dataset `empleadosu.csv`"
      ]
    }
  ],
  "metadata": {
    "kernelspec": {
      "display_name": "Python 3 (ipykernel)",
      "language": "python",
      "name": "python3"
    },
    "language_info": {
      "codemirror_mode": {
        "name": "ipython",
        "version": 3
      },
      "file_extension": ".py",
      "mimetype": "text/x-python",
      "name": "python",
      "nbconvert_exporter": "python",
      "pygments_lexer": "ipython3",
      "version": "3.11.8"
    }
  },
  "nbformat": 4,
  "nbformat_minor": 5
}