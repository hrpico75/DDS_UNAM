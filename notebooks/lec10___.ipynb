{
  "cells": [
    {
      "cell_type": "code",
      "execution_count": null,
      "id": "d04683f2-7a14-4de3-858a-1360284827ed",
      "metadata": {},
      "outputs": [],
      "source": [
        "import pandas as pd, numpy as np"
      ]
    },
    {
      "cell_type": "code",
      "execution_count": null,
      "id": "7da2708a-7e9c-40e7-8ec6-46fdb4721b43",
      "metadata": {},
      "outputs": [],
      "source": [
        "df=pd.read_csv('empleados_3.csv',parse_dates=['fh_ant'])\n",
        "df"
      ]
    },
    {
      "cell_type": "code",
      "execution_count": null,
      "id": "7eba5ec3-dc3c-437c-95f2-010f14075bb5",
      "metadata": {},
      "outputs": [],
      "source": [
        "df2=df\n",
        "df2.head()"
      ]
    },
    {
      "cell_type": "code",
      "execution_count": null,
      "id": "ce6d5eb4-53a7-4aa9-af01-437e91f9e761",
      "metadata": {},
      "outputs": [],
      "source": [
        "id(df)"
      ]
    },
    {
      "cell_type": "code",
      "execution_count": null,
      "id": "93782570-44af-4764-b5cf-e8a2e2681c6d",
      "metadata": {},
      "outputs": [],
      "source": [
        "id(df2)"
      ]
    },
    {
      "cell_type": "code",
      "execution_count": null,
      "id": "33af4f7a-6ef4-4ecc-8f24-637c3747952c",
      "metadata": {},
      "outputs": [],
      "source": [
        "df['pct bono']=df['pct bono']+1"
      ]
    },
    {
      "cell_type": "code",
      "execution_count": null,
      "id": "0cbc8044-28f8-4d2a-a0f3-f1f65c177793",
      "metadata": {},
      "outputs": [],
      "source": [
        "df"
      ]
    },
    {
      "cell_type": "code",
      "execution_count": null,
      "id": "f1d809bb-68b2-47a4-85b0-9efe16d0c43e",
      "metadata": {},
      "outputs": [],
      "source": [
        "df2"
      ]
    },
    {
      "cell_type": "code",
      "execution_count": null,
      "id": "7d8c7eee-4871-4291-9433-003d20f358c7",
      "metadata": {},
      "outputs": [],
      "source": [
        "df3=df.copy()"
      ]
    },
    {
      "cell_type": "code",
      "execution_count": null,
      "id": "f0297940-dd14-4027-9ac8-7b3e9a94aff3",
      "metadata": {},
      "outputs": [],
      "source": [
        "id(df3)"
      ]
    },
    {
      "cell_type": "code",
      "execution_count": null,
      "id": "c5f163bb-288e-4cb6-877c-aef919ce6b4f",
      "metadata": {},
      "outputs": [],
      "source": [
        "id(df)"
      ]
    },
    {
      "cell_type": "code",
      "execution_count": null,
      "id": "7e25ada8-a375-48e6-bc25-a66d7dc3e98a",
      "metadata": {},
      "outputs": [],
      "source": [
        "x=1\n",
        "id(x)"
      ]
    },
    {
      "cell_type": "code",
      "execution_count": null,
      "id": "ea318595-ad14-4f93-a7ac-e58f8fa105cb",
      "metadata": {},
      "outputs": [],
      "source": [
        "y=x\n",
        "id(y)"
      ]
    },
    {
      "cell_type": "code",
      "execution_count": null,
      "id": "d2f1b25b-8fd9-4b8c-89a7-a4be9739a2dd",
      "metadata": {},
      "outputs": [],
      "source": [
        "x=x+1\n",
        "x"
      ]
    },
    {
      "cell_type": "code",
      "execution_count": null,
      "id": "78bb9cff-f1c7-40d3-8794-300360287e79",
      "metadata": {},
      "outputs": [],
      "source": [
        "id(x)"
      ]
    },
    {
      "cell_type": "code",
      "execution_count": null,
      "id": "d7ddcbb2-ac41-45e0-a78d-7613b296ab06",
      "metadata": {},
      "outputs": [],
      "source": [
        "y #no valió igual, aquí no apuntaron al mismo"
      ]
    },
    {
      "cell_type": "markdown",
      "id": "dcdb0514-6622-4354-a4eb-769f77058d4d",
      "metadata": {},
      "source": [
        "### Borrar columnas de DF"
      ]
    },
    {
      "cell_type": "code",
      "execution_count": null,
      "id": "33bbe76a-2128-4912-9b62-1af247c73746",
      "metadata": {
        "scrolled": true
      },
      "outputs": [],
      "source": [
        "df.pop('nombre') \n",
        "df"
      ]
    },
    {
      "cell_type": "code",
      "execution_count": null,
      "id": "4a5eb947-69e2-4cd0-bfcc-ece3018a9871",
      "metadata": {
        "scrolled": true
      },
      "outputs": [],
      "source": [
        "df2"
      ]
    },
    {
      "cell_type": "code",
      "execution_count": null,
      "id": "810b90d6-5f15-4cc8-ab18-b03684f95a61",
      "metadata": {
        "scrolled": true
      },
      "outputs": [],
      "source": [
        "df3"
      ]
    },
    {
      "cell_type": "code",
      "execution_count": null,
      "id": "be2ccc54-789a-48d8-b0c8-4e48fc5d2894",
      "metadata": {},
      "outputs": [],
      "source": [
        "del df['genero']"
      ]
    },
    {
      "cell_type": "code",
      "execution_count": null,
      "id": "356fd69a-4dc5-49e1-bdcf-8d9ddcbaae4b",
      "metadata": {},
      "outputs": [],
      "source": [
        "df"
      ]
    },
    {
      "cell_type": "code",
      "execution_count": null,
      "id": "9297a088-3e04-41a0-a242-d42ab9ede370",
      "metadata": {},
      "outputs": [],
      "source": [
        "df2"
      ]
    },
    {
      "cell_type": "code",
      "execution_count": null,
      "id": "5ccd5e5e-efb2-435c-9bd9-233d467ea55e",
      "metadata": {},
      "outputs": [],
      "source": [
        "df3"
      ]
    },
    {
      "cell_type": "markdown",
      "id": "f537c695-9db8-4712-b7f4-ac049ed1ade0",
      "metadata": {},
      "source": [
        "# Método drop para filas y columnas"
      ]
    },
    {
      "cell_type": "markdown",
      "id": "9ce406c0-a857-4e16-ad1f-80e6f8680622",
      "metadata": {},
      "source": [
        "# Métod query()"
      ]
    },
    {
      "cell_type": "markdown",
      "id": "5fe87b91-c27f-422f-9257-00e4cbd6858e",
      "metadata": {},
      "source": [
        "El método `query()` en pandas es una herramienta flexible para filtrar filas de DataFrame utilizando una sintaxis concisa y legible. Permite seleccionar un subconjunto de filas de un DataFrame basado en una expresión de consulta.\n",
        "\n",
        "### ¿Para qué se utiliza `query()`?\n",
        "- **Selección de Filas Basada en Condición**: El método `query()` se utiliza para filtrar filas de DataFrame basadas en una condición especificada como una cadena de texto.\n",
        "- **Sintaxis Legible y Concisa**: Proporciona una sintaxis más legible y concisa en comparación con el índice booleano tradicional.\n",
        "\n",
        "### Sintaxis\n",
        "La sintaxis básica del método `query()` es:\n",
        "```python\n",
        "DataFrame.query(expr, inplace=False, **kwargs)\n"
      ]
    },
    {
      "cell_type": "markdown",
      "id": "c1eb51ef-d94f-4d49-8f8a-bae60c9a0dd9",
      "metadata": {},
      "source": [
        "# Groupby Objects\n",
        "1. Se crean grupo sbasados en valores comnes de ciertas columnas\n",
        "2. Ideal para agrupar columnas que tienen valores repetidos"
      ]
    },
    {
      "cell_type": "markdown",
      "id": "a7f1f9d1-18ca-4f70-9b89-5a596555f35f",
      "metadata": {},
      "source": [
        "# Métodos para el Grouby"
      ]
    },
    {
      "cell_type": "markdown",
      "id": "d72e873b-ae1f-4f61-a100-9d708e8e86cf",
      "metadata": {},
      "source": [
        "# Método get_group() \n",
        "Opera sobre un Grouby object"
      ]
    },
    {
      "cell_type": "markdown",
      "id": "0e46bd8e-3393-414b-a6d1-44de6a78058a",
      "metadata": {},
      "source": [
        "# Método .agg()"
      ]
    }
  ],
  "metadata": {
    "kernelspec": {
      "display_name": "Python 3 (ipykernel)",
      "language": "python",
      "name": "python3"
    },
    "language_info": {
      "codemirror_mode": {
        "name": "ipython",
        "version": 3
      },
      "file_extension": ".py",
      "mimetype": "text/x-python",
      "name": "python",
      "nbconvert_exporter": "python",
      "pygments_lexer": "ipython3",
      "version": "3.11.8"
    }
  },
  "nbformat": 4,
  "nbformat_minor": 5
}