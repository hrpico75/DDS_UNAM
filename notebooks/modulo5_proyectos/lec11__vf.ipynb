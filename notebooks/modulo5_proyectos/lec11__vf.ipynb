{
  "cells": [
    {
      "cell_type": "markdown",
      "id": "098b6e93",
      "metadata": {},
      "source": [
        "# Numpy: Arreglos Matriciales"
      ]
    },
    {
      "cell_type": "code",
      "execution_count": null,
      "id": "68278695-63f4-4310-8070-7fda8a38e659",
      "metadata": {},
      "outputs": [],
      "source": [
        "import numpy as np"
      ]
    },
    {
      "cell_type": "code",
      "execution_count": null,
      "id": "43624ed9-5c79-4d07-aedc-4ce88acf71ad",
      "metadata": {},
      "outputs": [],
      "source": [
        "from platform import python_version\n",
        "\n",
        "print(python_version())"
      ]
    },
    {
      "cell_type": "code",
      "execution_count": null,
      "id": "93ac04cd-893d-4f08-a690-c4d00d200cf7",
      "metadata": {},
      "outputs": [],
      "source": [
        "import sys\n",
        "sys.executable"
      ]
    },
    {
      "cell_type": "markdown",
      "id": "0849eaf3",
      "metadata": {},
      "source": [
        "Más información: \n",
        "https://numpy.org/doc/stable/reference/?v=20230207185142"
      ]
    },
    {
      "cell_type": "markdown",
      "id": "82c909ee",
      "metadata": {},
      "source": [
        "El principal objetivo de la librería Numpy son arreglos homogéneos multidimensionales. Es decir, es una tabla de elementos, todos con el mismo tipo e indexador por *tuple* de enteros positivos. \n",
        "\n",
        "La dimensiones en numpy se llaman **ejes**(axes); el número de ejes se llama **rango**(rank)\n",
        "\n",
        "La clase de arreglos en Numpy se conocen como **ndarrays** o más comúnmente, **arrays**. Un `numpy.array` no es un `array.array` de la librería estándar de Python (homogéneos, pero unidemensionales y con menor funcionalidad que numpy). "
      ]
    },
    {
      "cell_type": "code",
      "execution_count": null,
      "id": "1c8a42ca-a292-4197-abd8-6b46d9613902",
      "metadata": {},
      "outputs": [],
      "source": [
        "arr1=np.array([[1,2,3],[4,5,6]])\n",
        "arr1"
      ]
    },
    {
      "cell_type": "code",
      "execution_count": null,
      "id": "b4fb9231-01cc-437d-87e4-0b63491d72d7",
      "metadata": {},
      "outputs": [],
      "source": [
        "dir(arr1)"
      ]
    },
    {
      "cell_type": "code",
      "execution_count": null,
      "id": "d3c7a1b5-b6ea-47dc-af3b-8bc385bf182b",
      "metadata": {},
      "outputs": [],
      "source": [
        "arr1[(1,2)]"
      ]
    },
    {
      "cell_type": "code",
      "execution_count": null,
      "id": "99bf6c6e-9823-4488-9e94-bbd8be7af7c3",
      "metadata": {},
      "outputs": [],
      "source": [
        "arr1.ndim"
      ]
    },
    {
      "cell_type": "code",
      "execution_count": null,
      "id": "f7d3da44-4a19-475b-86c4-d4f1c79d0535",
      "metadata": {},
      "outputs": [],
      "source": [
        "arr1.shape"
      ]
    },
    {
      "cell_type": "code",
      "execution_count": null,
      "id": "a203d70a-943e-47ea-95f1-5ee66a59c503",
      "metadata": {},
      "outputs": [],
      "source": [
        "arr1=np.array(\n",
        "\n",
        "    [\n",
        "        [1,2,3],\n",
        "        [4,5,6]\n",
        "\n",
        "    ]\n",
        "\n",
        ")\n",
        "arr1"
      ]
    },
    {
      "cell_type": "code",
      "execution_count": null,
      "id": "476253a5-0293-4dda-b790-b9c7b4b6e29e",
      "metadata": {},
      "outputs": [],
      "source": [
        "#¿Cómo se le puede agregar más dimensiones?\n",
        "\n",
        "arr1=np.array(\n",
        "   [ \n",
        "    [\n",
        "        [1,2,3],\n",
        "        [4,5,6]\n",
        "\n",
        "    ]\n",
        "   ]\n",
        "\n",
        ")\n",
        "arr1"
      ]
    },
    {
      "cell_type": "code",
      "execution_count": null,
      "id": "1b1451ac-f4d7-4f7c-a3a2-00ada375a1ca",
      "metadata": {},
      "outputs": [],
      "source": [
        "arr1.ndim"
      ]
    },
    {
      "cell_type": "code",
      "execution_count": null,
      "id": "3681c434-76e7-4fef-b298-9593a5f31549",
      "metadata": {},
      "outputs": [],
      "source": [
        "arr1.shape"
      ]
    },
    {
      "cell_type": "code",
      "execution_count": null,
      "id": "4e71b17d-cee1-47a9-b268-cb8f3dd0a272",
      "metadata": {},
      "outputs": [],
      "source": [
        "arr1[(0,1,2)]"
      ]
    },
    {
      "cell_type": "code",
      "execution_count": null,
      "id": "7d8feab8-f621-4d94-969d-762ea5eedc63",
      "metadata": {},
      "outputs": [],
      "source": [
        "arr1=np.array(\n",
        "[\n",
        "   [ \n",
        "    [\n",
        "        [1,2,3],\n",
        "        [4,5,6]\n",
        "\n",
        "    ]\n",
        "   ]\n",
        "]\n",
        ")\n",
        "arr1"
      ]
    },
    {
      "cell_type": "code",
      "execution_count": null,
      "id": "7fd3c9b4-971f-4950-a492-00c6715280a9",
      "metadata": {},
      "outputs": [],
      "source": [
        "arr1.ndim"
      ]
    },
    {
      "cell_type": "code",
      "execution_count": null,
      "id": "e0d04b57-a795-47da-a75b-f4ff839b1992",
      "metadata": {},
      "outputs": [],
      "source": [
        "arr1.shape"
      ]
    },
    {
      "cell_type": "code",
      "execution_count": null,
      "id": "94ae374b-9bb6-436a-b613-070088ce7b12",
      "metadata": {},
      "outputs": [],
      "source": [
        "arr1=np.array(\n",
        "[\n",
        "   [ \n",
        "    [\n",
        "        [1,2,3],\n",
        "        [4,5,6]\n",
        "\n",
        "    ],\n",
        "\n",
        "    [\n",
        "        [1,2,3],\n",
        "        [4,5,6]\n",
        "\n",
        "    ]\n",
        "   ]\n",
        "]\n",
        ")\n",
        "arr1"
      ]
    },
    {
      "cell_type": "code",
      "execution_count": null,
      "id": "250459a6-b79f-4d3f-b575-f04b359edd9d",
      "metadata": {},
      "outputs": [],
      "source": [
        "arr1.ndim"
      ]
    },
    {
      "cell_type": "code",
      "execution_count": null,
      "id": "d915fab4-842f-4271-b0e5-f7d591a2806c",
      "metadata": {},
      "outputs": [],
      "source": [
        "arr1.shape"
      ]
    },
    {
      "cell_type": "code",
      "execution_count": null,
      "id": "c8575e6e-0f79-4f5b-a0fe-a0788bb33087",
      "metadata": {},
      "outputs": [],
      "source": [
        "arr1=np.array(\n",
        "[\n",
        "   [ \n",
        "    [\n",
        "        [1,2,3],\n",
        "        [4,5,6]\n",
        "\n",
        "    ],\n",
        "\n",
        "    [\n",
        "        [1,2,3],\n",
        "        [4,5]\n",
        "\n",
        "    ]\n",
        "   ]\n",
        "]\n",
        ")\n",
        "arr1"
      ]
    },
    {
      "cell_type": "code",
      "execution_count": null,
      "id": "be6d2aed-5a76-422d-a80c-fe23bc0f4838",
      "metadata": {},
      "outputs": [],
      "source": [
        "arr1=np.array(\n",
        "[\n",
        "   [ \n",
        "    [\n",
        "        [1,2,3]\n",
        "    ],\n",
        "\n",
        "    [\n",
        "        [1,2,3],\n",
        "        [4,5,6]\n",
        "\n",
        "    ]\n",
        "   ]\n",
        "]\n",
        ")\n",
        "arr1"
      ]
    },
    {
      "cell_type": "markdown",
      "id": "5b75e5e6",
      "metadata": {},
      "source": [
        "Una de las principales ventajas de usar `numpy` es el poder de usar vectorización de funciones aplicadas a un `numpy.array`. Esto implica poder aplicar una función a cada `numpy.array` **sin necesidad de expresar un for loop**, lo cual hace trabajar con este tipo de funciones de manera más eficiente. "
      ]
    },
    {
      "cell_type": "code",
      "execution_count": null,
      "id": "b01a251d-0715-4439-a855-c1de40dfaedd",
      "metadata": {},
      "outputs": [],
      "source": [
        "#Ejemplo\n",
        "#sumar los cuadrados del 1 a 10_000_000"
      ]
    },
    {
      "cell_type": "code",
      "execution_count": null,
      "id": "3b64d133-6fdd-48b4-aaef-1a7f224edbe1",
      "metadata": {},
      "outputs": [],
      "source": [
        "%%time\n",
        "sum([i**2 for i in range(10_000_000)])"
      ]
    },
    {
      "cell_type": "code",
      "execution_count": null,
      "id": "37ee69bd-8289-4ffa-90a0-d75ea4cf5e7b",
      "metadata": {},
      "outputs": [],
      "source": [
        "%%time\n",
        "(np.arange(10_000_000)**2).sum() #97% más rápido.  15ms versus 457ms"
      ]
    },
    {
      "cell_type": "markdown",
      "id": "daf5d548",
      "metadata": {},
      "source": [
        "### Propiedades Principales de `ndarray`. "
      ]
    },
    {
      "cell_type": "code",
      "execution_count": null,
      "id": "dd328e6b-bbc0-4d3e-a09c-6a7a3fd4ca11",
      "metadata": {},
      "outputs": [],
      "source": [
        "arr1.ndim"
      ]
    },
    {
      "cell_type": "code",
      "execution_count": null,
      "id": "cbf514f7-f255-4156-a8a0-03e37206ab5c",
      "metadata": {},
      "outputs": [],
      "source": [
        "arr1.shape"
      ]
    },
    {
      "cell_type": "code",
      "execution_count": null,
      "id": "2ec0d16d-313d-4b07-8357-c902f0493440",
      "metadata": {},
      "outputs": [],
      "source": [
        "arr1.dtype"
      ]
    },
    {
      "cell_type": "markdown",
      "id": "9c4e67b5",
      "metadata": {},
      "source": [
        "### Creación de Ndarrays"
      ]
    },
    {
      "cell_type": "markdown",
      "id": "3bbfeb66",
      "metadata": {},
      "source": [
        "## `np.array`"
      ]
    },
    {
      "cell_type": "markdown",
      "id": "6dd727c7",
      "metadata": {},
      "source": [
        "Un `ndarray` se crea mediante `array` cuyo primer parámetro es la lista (o tuple) de elementos en el arreglo. Por convención, se importará la librería de numpy con `np`."
      ]
    },
    {
      "cell_type": "code",
      "execution_count": null,
      "id": "b37e020c-5b05-44ea-9aef-546f1268be1f",
      "metadata": {},
      "outputs": [],
      "source": [
        "arr=np.array([[2,8],[8,1]])\n",
        "arr"
      ]
    },
    {
      "cell_type": "code",
      "execution_count": null,
      "id": "2ae1add9-4053-42ca-8246-8136d30a9b7c",
      "metadata": {},
      "outputs": [],
      "source": [
        "arr.shape"
      ]
    },
    {
      "cell_type": "code",
      "execution_count": null,
      "id": "22e8927b-1896-4f24-ab7c-f99b08ecca86",
      "metadata": {},
      "outputs": [],
      "source": [
        "arr.ndim"
      ]
    },
    {
      "cell_type": "markdown",
      "id": "4e1f1957",
      "metadata": {},
      "source": [
        "## Operaciones y Propiedades de Numpy Arrays"
      ]
    },
    {
      "cell_type": "code",
      "execution_count": null,
      "id": "dfab8edd-c03d-4a57-815c-869930316c51",
      "metadata": {},
      "outputs": [],
      "source": [
        "arr"
      ]
    },
    {
      "cell_type": "code",
      "execution_count": null,
      "id": "d91dceec-1406-4e7c-af4b-798aa704cba4",
      "metadata": {},
      "outputs": [],
      "source": [
        "arr+1"
      ]
    },
    {
      "cell_type": "code",
      "execution_count": null,
      "id": "dbd0a777-76f9-46ea-af1e-dafee3e4c35d",
      "metadata": {},
      "outputs": [],
      "source": [
        "arr**2"
      ]
    },
    {
      "cell_type": "code",
      "execution_count": null,
      "id": "29f36f26-1228-4389-99f5-236bfbc048c9",
      "metadata": {},
      "outputs": [],
      "source": [
        "arr*4"
      ]
    },
    {
      "cell_type": "code",
      "execution_count": null,
      "id": "d87bf36a-9a1f-490b-8c73-b5db93149d13",
      "metadata": {},
      "outputs": [],
      "source": [
        "arr<=4"
      ]
    },
    {
      "cell_type": "markdown",
      "id": "4f372b32",
      "metadata": {},
      "source": [
        "#### `np.arange` , `np.linspace`. \n",
        "Podemos crear rangos de números $[a,b)$ usando la función `arange` (análogo de `range` en python) "
      ]
    },
    {
      "cell_type": "markdown",
      "id": "a95d6de4",
      "metadata": {},
      "source": [
        "Usamos la función `linspace` cuando deseamos un arreglo de $n$ elementos entre $a$  y $b$ inclusivo; $a<b$"
      ]
    },
    {
      "cell_type": "code",
      "execution_count": null,
      "id": "c5bb47e9-f75c-4fbd-9ff9-2c0d41d04a3a",
      "metadata": {},
      "outputs": [],
      "source": [
        "np.arange(2,11,2) "
      ]
    },
    {
      "cell_type": "code",
      "execution_count": null,
      "id": "4e0bde3b-f7e9-4a3f-81fc-35eeadc18f3b",
      "metadata": {},
      "outputs": [],
      "source": [
        "np.linspace(1,10,20)"
      ]
    },
    {
      "cell_type": "code",
      "execution_count": null,
      "id": "68dc63be-738e-48af-9842-c0c2fedb396a",
      "metadata": {},
      "outputs": [],
      "source": [
        "#lo que hace arriba es ir de 1 al 10 en 20 observaciones incluyéndolas\n",
        "1+(1*(9/19))"
      ]
    },
    {
      "cell_type": "code",
      "execution_count": null,
      "id": "be6644a0-d80a-4967-8f40-b5b1a6aa7da1",
      "metadata": {},
      "outputs": [],
      "source": [
        "#a diferencia de un range, np.range nos permite tomar psaso fracdionados\n",
        "np.arange(1,11,0.5)"
      ]
    },
    {
      "cell_type": "code",
      "execution_count": null,
      "id": "aa2c5a21-585a-4be2-84fa-6656d020ce1a",
      "metadata": {},
      "outputs": [],
      "source": [
        "for x in range(1,11,0.5):\n",
        "    print(x)"
      ]
    },
    {
      "cell_type": "markdown",
      "id": "a881f112",
      "metadata": {},
      "source": [
        "## Ejercicio\n",
        "Crea un numpy array con 100elementos $\\{x_i\\}_{i=0}^{99}$\n",
        "$$\n",
        "    x_i = i (i + 100) \\ \\forall \\ i \\in \\{0, \\ldots, 99\\}\n",
        "$$\n",
        "\n",
        "e.g., $x_{99} = 19701$; $x_{10} = 1100$ "
      ]
    },
    {
      "cell_type": "code",
      "execution_count": null,
      "id": "ccc26915-0727-477b-9e16-f8d980c8912e",
      "metadata": {},
      "outputs": [],
      "source": [
        "(np.arange(100)+100)*np.arange(100)"
      ]
    },
    {
      "cell_type": "markdown",
      "id": "feba8208",
      "metadata": {},
      "source": [
        "# Índices "
      ]
    },
    {
      "cell_type": "markdown",
      "id": "109af14d",
      "metadata": {},
      "source": [
        "Podemos seleccionar múltiples filas usando dobles corchetes"
      ]
    },
    {
      "cell_type": "code",
      "execution_count": null,
      "id": "5667672c-4f11-4d77-90d4-0df093615445",
      "metadata": {},
      "outputs": [],
      "source": [
        "arr=np.arange(25)\n",
        "arr"
      ]
    },
    {
      "cell_type": "code",
      "execution_count": null,
      "id": "61805057-26ed-42f0-a099-286da6b8571a",
      "metadata": {},
      "outputs": [],
      "source": [
        "arr.shape"
      ]
    },
    {
      "cell_type": "code",
      "execution_count": null,
      "id": "6b0eaf73-7c0a-4d6b-8dfc-c3dbfc82a9c2",
      "metadata": {},
      "outputs": [],
      "source": [
        "arr.ndim"
      ]
    },
    {
      "cell_type": "code",
      "execution_count": null,
      "id": "7a1a818f-d26b-4db0-b204-df6a0f234885",
      "metadata": {},
      "outputs": [],
      "source": [
        "arr=np.arange(25).reshape(5,5)\n",
        "arr"
      ]
    },
    {
      "cell_type": "code",
      "execution_count": null,
      "id": "210e685e-4cbf-4764-b748-893f70ab1383",
      "metadata": {},
      "outputs": [],
      "source": [
        "arr.shape"
      ]
    },
    {
      "cell_type": "code",
      "execution_count": null,
      "id": "ff23c44e-9e49-4dc4-9952-c0ad74b66084",
      "metadata": {},
      "outputs": [],
      "source": [
        "arr.ndim"
      ]
    },
    {
      "cell_type": "code",
      "execution_count": null,
      "id": "8e345a8a-fd74-4591-a1f7-9734a8de91dd",
      "metadata": {
        "scrolled": true
      },
      "outputs": [],
      "source": [
        "arr=np.arange(25).reshape(5,5,1,1,1,1,1,1,1,1,1,1,1,1,1,1)\n",
        "arr"
      ]
    },
    {
      "cell_type": "code",
      "execution_count": null,
      "id": "41c89603-25e7-4950-bfc5-8516a69fd83f",
      "metadata": {},
      "outputs": [],
      "source": [
        "arr=np.arange(25).reshape(5,5)\n",
        "arr"
      ]
    },
    {
      "cell_type": "code",
      "execution_count": null,
      "id": "0ca5fb0c-50de-4d15-b775-6478187cc317",
      "metadata": {},
      "outputs": [],
      "source": [
        "arr[0,:]"
      ]
    },
    {
      "cell_type": "code",
      "execution_count": null,
      "id": "094d5df6-deaa-4c87-b6be-b78502f05020",
      "metadata": {},
      "outputs": [],
      "source": [
        "arr[1,:]"
      ]
    },
    {
      "cell_type": "code",
      "execution_count": null,
      "id": "29c17c68-888d-4afd-adf0-3700459cf8e8",
      "metadata": {},
      "outputs": [],
      "source": [
        "arr[:,-1] #última columna"
      ]
    },
    {
      "cell_type": "code",
      "execution_count": null,
      "id": "8aae06d4-5e64-4fc1-be5d-9f6b1d806223",
      "metadata": {},
      "outputs": [],
      "source": [
        "arr[-1,-3:1:-1]\n",
        "#última fila\n",
        "#que vaya de la posicion -3 a la posiion 1 (sin tocarla)\n",
        "#-1 final en reversa"
      ]
    },
    {
      "cell_type": "markdown",
      "id": "e26eb58a",
      "metadata": {},
      "source": [
        "# Broadcasting"
      ]
    },
    {
      "cell_type": "markdown",
      "id": "55691718",
      "metadata": {},
      "source": [
        "**Broadcasting** (difusión) es la manera en que numpy manipula *arrays* con diferentes dimensiones durante operaciones aritméticas. Para $A$ y $B$, dos dimensiones son compatibles cuando: \n",
        "1. Son iguales\n",
        "2. Una dimensión es igual a 1"
      ]
    },
    {
      "cell_type": "code",
      "execution_count": null,
      "id": "075ac4f3-4a7b-4eb6-9a51-bbf425b83a94",
      "metadata": {},
      "outputs": [],
      "source": [
        "A=np.arange(25).reshape(5,5)\n",
        "B=np.arange(5).reshape(1,5)"
      ]
    },
    {
      "cell_type": "code",
      "execution_count": null,
      "id": "d4bfb2fb-9cb4-49d6-bed8-df32bf7f8498",
      "metadata": {},
      "outputs": [],
      "source": [
        "A+B"
      ]
    },
    {
      "cell_type": "code",
      "execution_count": null,
      "id": "e8976183-9f83-42f3-ad33-dc6a5d247741",
      "metadata": {},
      "outputs": [],
      "source": [
        "A*B"
      ]
    },
    {
      "cell_type": "code",
      "execution_count": null,
      "id": "3801452f-d800-4c5e-99cd-0969429509da",
      "metadata": {},
      "outputs": [],
      "source": [
        "A=np.arange(6).reshape(2,3)\n",
        "B=np.arange(6).reshape(3,2)"
      ]
    },
    {
      "cell_type": "code",
      "execution_count": null,
      "id": "0cf5f48b-d20b-4e6a-ac71-23fdbaed0818",
      "metadata": {},
      "outputs": [],
      "source": [
        "A"
      ]
    },
    {
      "cell_type": "code",
      "execution_count": null,
      "id": "8f199517-37f8-4e01-ad49-7767c39ab01d",
      "metadata": {},
      "outputs": [],
      "source": [
        "B"
      ]
    },
    {
      "cell_type": "code",
      "execution_count": null,
      "id": "f931cb36-074c-439c-9501-04972c378e39",
      "metadata": {},
      "outputs": [],
      "source": [
        "A@B"
      ]
    },
    {
      "cell_type": "markdown",
      "id": "a714157a",
      "metadata": {},
      "source": [
        "####  `np.zeros`"
      ]
    },
    {
      "cell_type": "code",
      "execution_count": null,
      "id": "cb39524f-c8a6-45cb-be9b-3aad968524a9",
      "metadata": {},
      "outputs": [],
      "source": [
        "np.zeros(shape=10)"
      ]
    },
    {
      "cell_type": "markdown",
      "id": "0b9f12be",
      "metadata": {},
      "source": [
        "####  `np.ones`"
      ]
    },
    {
      "cell_type": "code",
      "execution_count": null,
      "id": "180416eb-c9c3-4121-9e10-08e4eeeaefb6",
      "metadata": {},
      "outputs": [],
      "source": [
        "np.ones(shape=10)"
      ]
    },
    {
      "cell_type": "markdown",
      "id": "682ec87e",
      "metadata": {},
      "source": [
        "####  `np.triu` , `np.tril`"
      ]
    },
    {
      "cell_type": "code",
      "execution_count": null,
      "id": "06228b9c-e4d7-4ca6-9456-3c73d49de9be",
      "metadata": {},
      "outputs": [],
      "source": [
        "np.triu([1,2,3,4,6],k=0)"
      ]
    },
    {
      "cell_type": "markdown",
      "id": "3cdba3b7",
      "metadata": {},
      "source": [
        "####  `np.identity`"
      ]
    },
    {
      "cell_type": "code",
      "execution_count": null,
      "id": "fc0a6c99-4474-4f58-9b81-f52c8f85e007",
      "metadata": {},
      "outputs": [],
      "source": [
        "np.identity(5)"
      ]
    },
    {
      "cell_type": "markdown",
      "id": "00bae0a6",
      "metadata": {},
      "source": [
        "# Ejercicio\n",
        "Crea un numpy array en $\\mathbb{R}^{10\\times 10}$ tal que\n",
        "\n",
        "$$\n",
        "x_{i,j} = \n",
        "\\begin{cases}\n",
        "    2i & \\forall \\ i = j \\\\\n",
        "    0 & \\forall \\ i \\neq j\n",
        "\\end{cases}\n",
        "$$\n",
        "\n",
        "Considera $i, j \\in \\{1, \\ldots, 10\\}$"
      ]
    },
    {
      "cell_type": "code",
      "execution_count": null,
      "id": "d7044833-f471-4a09-b4ac-5a3787c7f5f7",
      "metadata": {},
      "outputs": [],
      "source": [
        "np.identity(10)*np.arange(2,22,2)"
      ]
    },
    {
      "cell_type": "markdown",
      "id": "5bad92d6",
      "metadata": {},
      "source": [
        "### Dimensiones de numpy arrays\n",
        "Los `ndarrays` son $n$ dimensionales, lo que significa que podemos crear un arreglo $n$-dimensional siguiendo la misma lógica"
      ]
    },
    {
      "cell_type": "markdown",
      "id": "6d7628b0",
      "metadata": {},
      "source": [
        "# Métodos de un Numpy array"
      ]
    },
    {
      "cell_type": "code",
      "execution_count": null,
      "id": "a3c69889-d8fe-4f93-8d40-269b439927b8",
      "metadata": {},
      "outputs": [],
      "source": [
        "a2=np.random.randint(-100,100,10)\n",
        "a2"
      ]
    },
    {
      "cell_type": "code",
      "execution_count": null,
      "id": "634291e7-767e-46f9-ad0d-9b117be85e09",
      "metadata": {},
      "outputs": [],
      "source": [
        "dir(a2)"
      ]
    },
    {
      "cell_type": "code",
      "execution_count": null,
      "id": "d494dc8b-4e22-45d0-9235-0d97408c16bb",
      "metadata": {},
      "outputs": [],
      "source": [
        "a2.sum()"
      ]
    },
    {
      "cell_type": "markdown",
      "id": "b96be461",
      "metadata": {},
      "source": [
        "# Otros métodos de Numpy"
      ]
    },
    {
      "cell_type": "markdown",
      "id": "20ae2b24",
      "metadata": {},
      "source": [
        "Numpy nos permite aplicar una función en un eje particular usando\n",
        "\n",
        "`np.apply_along_axis(func1d,axis,arr,*args,**kwargs)`;\n",
        "\n",
        "donde `func1d` es una $f:\\mathbb{R}^n \\to \\mathbb{R}^m$;\n",
        "\n",
        "`axis`es el eje a ejecutar: 0 se usa para cada fila de una columna (sobre las columnas) y 1 (se usa para cada columna \n",
        "de una fila (sobre las filas)\n",
        "\n",
        "`arr` es el numpy array a manipular\n"
      ]
    },
    {
      "cell_type": "markdown",
      "id": "02de4078",
      "metadata": {},
      "source": [
        "## Nota \n",
        "Al usar la función `np.apply_along_axis`, numpy aplica implícitamente un *for loop* en python sobre el eje que decidamos. Usar `np.apply_along_axis` no es la manera más efciente al realizaar este tipo de operaciones. Siempre que exista una operación equivalente de python en numpy, es recomendable usar la función de numpy. "
      ]
    },
    {
      "cell_type": "markdown",
      "id": "b9c4638c",
      "metadata": {},
      "source": [
        "Por ejemplo, el equivalente de `sorted` en python es `np.sort` en numpy"
      ]
    },
    {
      "cell_type": "markdown",
      "id": "9ec4fb6d",
      "metadata": {},
      "source": [
        "# Ejercicios \n",
        "1. Escribe la función `suma_producto` que tome un numpy array con dos dimensiones de shape `(n, n)`, el índice de una fila, el índice de una columna, y calcule la suma de multiplicar cada elemento de la columna seleccionada por cada elemento de la fila seleccionada.\n",
        "\n",
        "Por ejemplo, te tener una matriz\n",
        "```\n",
        "a1 = np.array([[2, 3, 3],\n",
        "               [4, 3, 3],\n",
        "               [5, 3, 1]])\n",
        "```\n",
        "\n",
        "Calcular ```suma_producto(a1, 0, 2)``` consideraría la primera fila (`[2, 3, 3]`), la última columna (`[3, 3, 1]`)  y realizaría la siguiente operación:\n",
        "```\n",
        "2 * 3 + 3 * 3 + 3 * 1 = 18\n",
        "```\n",
        "\n",
        "```python\n",
        ">>> a2 = np.array([[2, 3],\n",
        "                   [3, 4]])\n",
        ">>> suma_producto(a2, 0, 0)\n",
        "13\n",
        "\n",
        "a3 = np.array([[2, 3, 3, 4],\n",
        "               [3, 3, 5, 3],\n",
        "               [1, 2, 2, 3],\n",
        "               [5, 5, 5, 5]])\n",
        ">>> suma_producto(a3, 2, 1)\n",
        "28\n",
        "\n",
        "```"
      ]
    },
    {
      "cell_type": "code",
      "execution_count": null,
      "id": "6fbede3e-9d61-453f-b2f4-4c85aab91900",
      "metadata": {},
      "outputs": [],
      "source": [
        "def suma_producto(arr, fila, col):\n",
        "\n",
        "    fila_vec=arr[fila,:]\n",
        "\n",
        "    col_vec=arr[:,col]\n",
        "\n",
        "    return int(np.dot(fila_vec,col_vec))\n",
        "    "
      ]
    },
    {
      "cell_type": "code",
      "execution_count": null,
      "id": "4dc3a5df-8821-4a58-9125-5662a22a42d5",
      "metadata": {},
      "outputs": [],
      "source": [
        "a1 = np.array([[2, 3, 3],\n",
        "               [4, 3, 3],\n",
        "               [5, 3, 1]])"
      ]
    },
    {
      "cell_type": "code",
      "execution_count": null,
      "id": "757f08e0-d07b-4b21-9c32-e85fd9aa089d",
      "metadata": {},
      "outputs": [],
      "source": [
        "suma_producto(a1,0,2)"
      ]
    },
    {
      "cell_type": "markdown",
      "id": "97c93ddb",
      "metadata": {},
      "source": [
        "2. escribe la función (`suma_pos`) que tome un numpy array y regrese la suma de todos los elementos positivos del array\n",
        "\n",
        "```python\n",
        ">>> a1 = np.array([[ 0,  4,  1],\n",
        "                   [-3, -3,  1],\n",
        "                   [-3,  2, -3]])\n",
        ">>> suma_pos(a1)\n",
        "8\n",
        "```"
      ]
    },
    {
      "cell_type": "markdown",
      "id": "a09f5ff1",
      "metadata": {},
      "source": [
        "3. Escribe la función `cercano` que tome un numpy array unidimensional, un número base y encuentre el (los) número(s) que más se aproxime (en valor aboluto) al número base\n",
        "\n",
        "```python\n",
        "a1 = np.arrray([-25,  27,   8, -12,  20,   8,  29, -28,   9, -12, -23, -26,  20,-22, -29])\n",
        ">>> cercano(a1, 10)\n",
        "array([9])\n",
        ">>> cercano(a1, -3)\n",
        "array([-12, -12])\n",
        "```"
      ]
    },
    {
      "cell_type": "markdown",
      "id": "31660754",
      "metadata": {},
      "source": [
        "4. Define la función `pascal` que cree el triangulo de pascal a $n\\geq 2$ terminos en arreglo de lista de listas. \n",
        "\n",
        "```python\n",
        ">>> pascal(3)\n",
        "[[1],\n",
        " [1, 1],\n",
        " [1, 2, 1]]\n",
        ">>> pascal(12)\n",
        "[[1],\n",
        " [1, 1],\n",
        " [1, 2, 1],\n",
        " [1, 3, 3, 1],\n",
        " [1, 4, 6, 4, 1],\n",
        " [1, 5, 10, 10, 5, 1],\n",
        " [1, 6, 15, 20, 15, 6, 1],\n",
        " [1, 7, 21, 35, 35, 21, 7, 1],\n",
        " [1, 8, 28, 56, 70, 56, 28, 8, 1],\n",
        " [1, 9, 36, 84, 126, 126, 84, 36, 9, 1],\n",
        " [1, 10, 45, 120, 210, 252, 210, 120, 45, 10, 1],\n",
        " [1, 11, 55, 165, 330, 462, 462, 330, 165, 55, 11, 1]]\n",
        "```"
      ]
    },
    {
      "cell_type": "markdown",
      "id": "c52c50d4",
      "metadata": {},
      "source": [
        "5. Escribe un programa `filter_sum(arr, f)` que cree un _filtro_ de suma para un numpy array de dos dimensiones con `arr.shape[0] == arr.shape[1]`. Un filtro de tamaño `f` captura los elementos de `arr` con una _ventana_ de tamaño `(f, f)` y suma los valores para arrojar un nuevo resultado dentro de una matriz final.\n",
        "\n",
        "Por ejemplo, dado el array\n",
        "```\n",
        "[[ 6,  7, 19, 19,  7],\n",
        "[ 3,  8, 19,  8,  5],\n",
        "[19,  9,  2, 11, 15],\n",
        "[ 5, 15,  6, 17, 17],\n",
        "[17,  2,  1, 17, 12]]\n",
        "```\n",
        "\n",
        "Las _ventanas_ de la matriz, con `f=3`, serían\n",
        "```\n",
        "[[ 6  7 19]\n",
        " [ 3  8 19]\n",
        " [19  9  2]]\n",
        "\n",
        "[[ 7 19 19]\n",
        " [ 8 19  8]\n",
        " [ 9  2 11]]\n",
        " \n",
        " ...\n",
        " \n",
        " [[ 2 11 15]\n",
        " [ 6 17 17]\n",
        " [ 1 17 12]]\n",
        "```\n",
        "\n",
        "Con valores `92, 105, ..., 98`\n",
        "\n",
        "y la matriz resultante sería\n",
        "\n",
        "```\n",
        "[[ 92., 102., 105.],\n",
        "[ 86.,  95., 100.],\n",
        "[ 76.,  80.,  98.]])\n",
        "```"
      ]
    },
    {
      "cell_type": "markdown",
      "id": "420820c7-f593-4b54-9af7-6cc52dfc814a",
      "metadata": {},
      "source": [
        "[Imagen adjunta removida para reducir tamaño del archivo]"
      ]
    },
    {
      "cell_type": "code",
      "execution_count": null,
      "id": "77873173-4e3f-429b-b9b5-0359550762b9",
      "metadata": {},
      "outputs": [],
      "source": []
    },
    {
      "cell_type": "code",
      "execution_count": null,
      "id": "d5b653ea-9459-4f3f-aea3-e7979d6667fe",
      "metadata": {},
      "outputs": [],
      "source": []
    },
    {
      "cell_type": "code",
      "execution_count": null,
      "id": "73d25f3b-76f2-46f0-a137-6b0cf268aa6d",
      "metadata": {},
      "outputs": [],
      "source": []
    },
    {
      "cell_type": "code",
      "execution_count": null,
      "id": "15e127c1-5dd8-4fdf-ac28-8d1a49cf06da",
      "metadata": {},
      "outputs": [],
      "source": []
    },
    {
      "cell_type": "code",
      "execution_count": null,
      "id": "33cfb9ff-e2ab-4e47-bf03-9aa3c3bdfe07",
      "metadata": {},
      "outputs": [],
      "source": []
    },
    {
      "cell_type": "code",
      "execution_count": null,
      "id": "eccaaab6-5696-4278-b0fa-f6291d6d7e06",
      "metadata": {},
      "outputs": [],
      "source": []
    },
    {
      "cell_type": "code",
      "execution_count": null,
      "id": "aa8554fa-0376-4611-afb6-d86e58a399ed",
      "metadata": {},
      "outputs": [],
      "source": []
    },
    {
      "cell_type": "code",
      "execution_count": null,
      "id": "19a7fd2e-0844-4eaf-a8ba-3cde6daa6f30",
      "metadata": {},
      "outputs": [],
      "source": []
    },
    {
      "cell_type": "code",
      "execution_count": null,
      "id": "d68d8895-e95c-49f7-afc6-dcb36b77a77c",
      "metadata": {},
      "outputs": [],
      "source": []
    },
    {
      "cell_type": "code",
      "execution_count": null,
      "id": "9a5961cb-7375-449b-bb73-72cd92a268a1",
      "metadata": {},
      "outputs": [],
      "source": []
    },
    {
      "cell_type": "code",
      "execution_count": null,
      "id": "6add9f88-b76c-4c25-8250-35d08868867a",
      "metadata": {},
      "outputs": [],
      "source": []
    },
    {
      "cell_type": "code",
      "execution_count": null,
      "id": "a16bf3aa-5d12-42de-81f7-852e8ec5aa2b",
      "metadata": {},
      "outputs": [],
      "source": []
    },
    {
      "cell_type": "code",
      "execution_count": null,
      "id": "aa549fd6-3e46-4e80-b728-021cff8c7755",
      "metadata": {},
      "outputs": [],
      "source": []
    },
    {
      "cell_type": "code",
      "execution_count": null,
      "id": "56e3091c-aa78-46ca-82c5-fd4b663602d5",
      "metadata": {},
      "outputs": [],
      "source": []
    }
  ],
  "metadata": {
    "kernelspec": {
      "display_name": "Python 3 (ipykernel)",
      "language": "python",
      "name": "python3"
    },
    "language_info": {
      "codemirror_mode": {
        "name": "ipython",
        "version": 3
      },
      "file_extension": ".py",
      "mimetype": "text/x-python",
      "name": "python",
      "nbconvert_exporter": "python",
      "pygments_lexer": "ipython3",
      "version": "3.11.8"
    }
  },
  "nbformat": 4,
  "nbformat_minor": 5
}