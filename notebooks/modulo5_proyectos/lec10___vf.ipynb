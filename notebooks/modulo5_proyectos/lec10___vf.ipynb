{
  "cells": [
    {
      "cell_type": "code",
      "execution_count": null,
      "id": "d04683f2-7a14-4de3-858a-1360284827ed",
      "metadata": {},
      "outputs": [],
      "source": [
        "import pandas as pd, numpy as np"
      ]
    },
    {
      "cell_type": "code",
      "execution_count": null,
      "id": "7da2708a-7e9c-40e7-8ec6-46fdb4721b43",
      "metadata": {},
      "outputs": [],
      "source": [
        "df=pd.read_csv('empleados_3.csv',parse_dates=['fh_ant'])\n",
        "df"
      ]
    },
    {
      "cell_type": "code",
      "execution_count": null,
      "id": "7eba5ec3-dc3c-437c-95f2-010f14075bb5",
      "metadata": {},
      "outputs": [],
      "source": [
        "df2=df\n",
        "df2.head()"
      ]
    },
    {
      "cell_type": "code",
      "execution_count": null,
      "id": "ce6d5eb4-53a7-4aa9-af01-437e91f9e761",
      "metadata": {},
      "outputs": [],
      "source": [
        "id(df)"
      ]
    },
    {
      "cell_type": "code",
      "execution_count": null,
      "id": "93782570-44af-4764-b5cf-e8a2e2681c6d",
      "metadata": {},
      "outputs": [],
      "source": [
        "id(df2)"
      ]
    },
    {
      "cell_type": "code",
      "execution_count": null,
      "id": "33af4f7a-6ef4-4ecc-8f24-637c3747952c",
      "metadata": {},
      "outputs": [],
      "source": [
        "df['pct bono']=df['pct bono']+1"
      ]
    },
    {
      "cell_type": "code",
      "execution_count": null,
      "id": "0cbc8044-28f8-4d2a-a0f3-f1f65c177793",
      "metadata": {},
      "outputs": [],
      "source": [
        "df"
      ]
    },
    {
      "cell_type": "code",
      "execution_count": null,
      "id": "f1d809bb-68b2-47a4-85b0-9efe16d0c43e",
      "metadata": {},
      "outputs": [],
      "source": [
        "df2"
      ]
    },
    {
      "cell_type": "code",
      "execution_count": null,
      "id": "7d8c7eee-4871-4291-9433-003d20f358c7",
      "metadata": {},
      "outputs": [],
      "source": [
        "df3=df.copy()"
      ]
    },
    {
      "cell_type": "code",
      "execution_count": null,
      "id": "f0297940-dd14-4027-9ac8-7b3e9a94aff3",
      "metadata": {},
      "outputs": [],
      "source": [
        "id(df3)"
      ]
    },
    {
      "cell_type": "code",
      "execution_count": null,
      "id": "c5f163bb-288e-4cb6-877c-aef919ce6b4f",
      "metadata": {},
      "outputs": [],
      "source": [
        "id(df)"
      ]
    },
    {
      "cell_type": "code",
      "execution_count": null,
      "id": "7e25ada8-a375-48e6-bc25-a66d7dc3e98a",
      "metadata": {},
      "outputs": [],
      "source": [
        "x=1\n",
        "id(x)"
      ]
    },
    {
      "cell_type": "code",
      "execution_count": null,
      "id": "ea318595-ad14-4f93-a7ac-e58f8fa105cb",
      "metadata": {},
      "outputs": [],
      "source": [
        "y=x\n",
        "id(y)"
      ]
    },
    {
      "cell_type": "code",
      "execution_count": null,
      "id": "d2f1b25b-8fd9-4b8c-89a7-a4be9739a2dd",
      "metadata": {},
      "outputs": [],
      "source": [
        "x=x+1\n",
        "x"
      ]
    },
    {
      "cell_type": "code",
      "execution_count": null,
      "id": "78bb9cff-f1c7-40d3-8794-300360287e79",
      "metadata": {},
      "outputs": [],
      "source": [
        "id(x)"
      ]
    },
    {
      "cell_type": "code",
      "execution_count": null,
      "id": "d7ddcbb2-ac41-45e0-a78d-7613b296ab06",
      "metadata": {},
      "outputs": [],
      "source": [
        "y #no valió igual, aquí no apuntaron al mismo"
      ]
    },
    {
      "cell_type": "markdown",
      "id": "dcdb0514-6622-4354-a4eb-769f77058d4d",
      "metadata": {},
      "source": [
        "### Borrar columnas de DF"
      ]
    },
    {
      "cell_type": "code",
      "execution_count": null,
      "id": "33bbe76a-2128-4912-9b62-1af247c73746",
      "metadata": {
        "scrolled": true
      },
      "outputs": [],
      "source": [
        "df.pop('nombre') \n",
        "df"
      ]
    },
    {
      "cell_type": "code",
      "execution_count": null,
      "id": "4a5eb947-69e2-4cd0-bfcc-ece3018a9871",
      "metadata": {
        "scrolled": true
      },
      "outputs": [],
      "source": [
        "df2"
      ]
    },
    {
      "cell_type": "code",
      "execution_count": null,
      "id": "810b90d6-5f15-4cc8-ab18-b03684f95a61",
      "metadata": {
        "scrolled": true
      },
      "outputs": [],
      "source": [
        "df3"
      ]
    },
    {
      "cell_type": "code",
      "execution_count": null,
      "id": "be2ccc54-789a-48d8-b0c8-4e48fc5d2894",
      "metadata": {},
      "outputs": [],
      "source": [
        "del df['genero']"
      ]
    },
    {
      "cell_type": "code",
      "execution_count": null,
      "id": "356fd69a-4dc5-49e1-bdcf-8d9ddcbaae4b",
      "metadata": {},
      "outputs": [],
      "source": [
        "df"
      ]
    },
    {
      "cell_type": "code",
      "execution_count": null,
      "id": "9297a088-3e04-41a0-a242-d42ab9ede370",
      "metadata": {},
      "outputs": [],
      "source": [
        "df2"
      ]
    },
    {
      "cell_type": "code",
      "execution_count": null,
      "id": "5ccd5e5e-efb2-435c-9bd9-233d467ea55e",
      "metadata": {},
      "outputs": [],
      "source": [
        "df3"
      ]
    },
    {
      "cell_type": "markdown",
      "id": "f537c695-9db8-4712-b7f4-ac049ed1ade0",
      "metadata": {},
      "source": [
        "# Método drop para filas y columnas"
      ]
    },
    {
      "cell_type": "code",
      "execution_count": null,
      "id": "e07d8d99-4e66-4cfe-9d95-0f08c57436b4",
      "metadata": {},
      "outputs": [],
      "source": [
        "df=pd.read_csv('empleados_3.csv',parse_dates=['fh_ant'])\n",
        "df2=df\n",
        "df2.head()"
      ]
    },
    {
      "cell_type": "code",
      "execution_count": null,
      "id": "398dfdb9-f68a-4c0a-9151-b10c8b3d2a3f",
      "metadata": {
        "scrolled": true
      },
      "outputs": [],
      "source": [
        "df2.drop(1) #quita el renglón con índice igual a 1"
      ]
    },
    {
      "cell_type": "code",
      "execution_count": null,
      "id": "e6c9c273-ba90-43d6-ad9c-9be191c38540",
      "metadata": {},
      "outputs": [],
      "source": [
        "is_Alejandro = df2['nombre'] == 'Alejandro'"
      ]
    },
    {
      "cell_type": "code",
      "execution_count": null,
      "id": "e47e3e23-51c7-4b00-bfee-3069e43356e1",
      "metadata": {
        "scrolled": true
      },
      "outputs": [],
      "source": [
        "df3=df2.drop([i for i in is_Alejandro.index if is_Alejandro[i]])\n",
        "df3"
      ]
    },
    {
      "cell_type": "code",
      "execution_count": null,
      "id": "403c51af-9106-4d8e-b6eb-aaa75e566fdf",
      "metadata": {},
      "outputs": [],
      "source": [
        "df2.info()"
      ]
    },
    {
      "cell_type": "code",
      "execution_count": null,
      "id": "b364fbde-a093-43fb-86b2-07f739016b27",
      "metadata": {
        "scrolled": true
      },
      "outputs": [],
      "source": [
        "#quiero quitar columnas 'genero'\n",
        "df2.drop('genero',axis=1)"
      ]
    },
    {
      "cell_type": "code",
      "execution_count": null,
      "id": "a7b0e53a-9df9-4c39-a4aa-9dc24f67a6fc",
      "metadata": {},
      "outputs": [],
      "source": [
        "df2.drop('genero',axis='columns')"
      ]
    },
    {
      "cell_type": "code",
      "execution_count": null,
      "id": "81df0600-a2d1-414a-a364-1acb67dd4e11",
      "metadata": {},
      "outputs": [],
      "source": [
        "df2.drop(['genero','salario'],axis='columns')"
      ]
    },
    {
      "cell_type": "markdown",
      "id": "9ce406c0-a857-4e16-ad1f-80e6f8680622",
      "metadata": {},
      "source": [
        "# Métod query()"
      ]
    },
    {
      "cell_type": "markdown",
      "id": "5fe87b91-c27f-422f-9257-00e4cbd6858e",
      "metadata": {},
      "source": [
        "El método `query()` en pandas es una herramienta flexible para filtrar filas de DataFrame utilizando una sintaxis concisa y legible. Permite seleccionar un subconjunto de filas de un DataFrame basado en una expresión de consulta.\n",
        "\n",
        "### ¿Para qué se utiliza `query()`?\n",
        "- **Selección de Filas Basada en Condición**: El método `query()` se utiliza para filtrar filas de DataFrame basadas en una condición especificada como una cadena de texto.\n",
        "- **Sintaxis Legible y Concisa**: Proporciona una sintaxis más legible y concisa en comparación con el índice booleano tradicional.\n",
        "\n",
        "### Sintaxis\n",
        "La sintaxis básica del método `query()` es:\n",
        "```python\n",
        "DataFrame.query(expr, inplace=False, **kwargs)\n"
      ]
    },
    {
      "cell_type": "code",
      "execution_count": null,
      "id": "df50f8f2-886e-4bb2-ae47-338c4120dad6",
      "metadata": {},
      "outputs": [],
      "source": [
        "#En el método query se recomienda NO TENER ESPACIOS en los nombres de las columnas\n"
      ]
    },
    {
      "cell_type": "code",
      "execution_count": null,
      "id": "9572c033-a52b-4b38-998d-2b366fe54d1f",
      "metadata": {},
      "outputs": [],
      "source": [
        "df=pd.read_csv('empleados_3.csv',parse_dates=['fh_ant'])\n",
        "df.head()"
      ]
    },
    {
      "cell_type": "code",
      "execution_count": null,
      "id": "a8881bcd-66e7-47c5-82d9-74c52e752d08",
      "metadata": {},
      "outputs": [],
      "source": [
        "df.columns"
      ]
    },
    {
      "cell_type": "code",
      "execution_count": null,
      "id": "7311ab60-6a99-418f-9382-5a5244e41c34",
      "metadata": {},
      "outputs": [],
      "source": [
        "df.columns=[column_name.replace(\" \",\"_\") for column_name in df.columns]"
      ]
    },
    {
      "cell_type": "code",
      "execution_count": null,
      "id": "7dd3d762-f120-4dd4-b60f-697a90e034f9",
      "metadata": {},
      "outputs": [],
      "source": [
        "df.columns"
      ]
    },
    {
      "cell_type": "code",
      "execution_count": null,
      "id": "f7e045ac-0373-4ba9-886b-4d2c6403441e",
      "metadata": {},
      "outputs": [],
      "source": [
        "\"pct bono\".replace(\" \",\"_\")"
      ]
    },
    {
      "cell_type": "code",
      "execution_count": null,
      "id": "0b9cbb9d-58e4-4f5a-b2c9-240d6bb3aadf",
      "metadata": {},
      "outputs": [],
      "source": [
        "#Seleccionar registros cuyo nombre sea Ana\n",
        "df.query(\"nombre == 'Ana'\")"
      ]
    },
    {
      "cell_type": "code",
      "execution_count": null,
      "id": "b9669091-d293-4b9f-afac-dfae6f28c710",
      "metadata": {},
      "outputs": [],
      "source": [
        "df.query(\"nombre == 'Ana' & salario>200000\") #nombre ana y salario mayor a 200k"
      ]
    },
    {
      "cell_type": "code",
      "execution_count": null,
      "id": "5c02b317-72c1-450a-80ac-a78bc873edb9",
      "metadata": {
        "scrolled": true
      },
      "outputs": [],
      "source": [
        "df.query(\"nombre == 'Ana' | area=='compras'\")  nombre ana y area compras"
      ]
    },
    {
      "cell_type": "code",
      "execution_count": null,
      "id": "0dd43dda-3cfd-41e8-9929-be1574a4db27",
      "metadata": {},
      "outputs": [],
      "source": [
        "df.salario.describe()"
      ]
    },
    {
      "cell_type": "code",
      "execution_count": null,
      "id": "d1ebe165-bda1-4640-9235-c8c2f75004ec",
      "metadata": {},
      "outputs": [],
      "source": [
        "df.query(\"nombre == 'Alejandro'\").head(3)"
      ]
    },
    {
      "cell_type": "code",
      "execution_count": null,
      "id": "a304e99f-b213-48bd-84bd-e409518db28e",
      "metadata": {},
      "outputs": [],
      "source": [
        "df.salario.mean()"
      ]
    },
    {
      "cell_type": "code",
      "execution_count": null,
      "id": "9c276d9a-0a00-4697-9074-ab6300868899",
      "metadata": {},
      "outputs": [],
      "source": [
        "df3.salario.mean()"
      ]
    },
    {
      "cell_type": "code",
      "execution_count": null,
      "id": "527a5776-d8ca-4d47-8138-0f1dc81f79ad",
      "metadata": {},
      "outputs": [],
      "source": [
        "df.query(\"nombre == 'Alejandro' & salario > @df.salario.mean()\").head(3)"
      ]
    },
    {
      "cell_type": "code",
      "execution_count": null,
      "id": "13acf970-bf7e-4643-b71c-135ce576f4a6",
      "metadata": {},
      "outputs": [],
      "source": [
        "a=[1,2,3]"
      ]
    },
    {
      "cell_type": "code",
      "execution_count": null,
      "id": "f7eb7666-8fa5-400a-9679-38566906c2ab",
      "metadata": {},
      "outputs": [],
      "source": [
        "sum(a)"
      ]
    },
    {
      "cell_type": "code",
      "execution_count": null,
      "id": "c7bb03b7-9747-430e-8d11-6f053fb18d87",
      "metadata": {},
      "outputs": [],
      "source": [
        "df.query(\"nombre == 'Alejandro' & salario > @df3.salario.mean()\").head(3)"
      ]
    },
    {
      "cell_type": "code",
      "execution_count": null,
      "id": "5c0a304d-bbc0-4df8-b13d-2cfda1bfa9a2",
      "metadata": {},
      "outputs": [],
      "source": [
        "sp=df.salario.mean()\n",
        "sp"
      ]
    },
    {
      "cell_type": "code",
      "execution_count": null,
      "id": "de4b06f0-e7c6-4f90-a98c-0f4a2c353f86",
      "metadata": {},
      "outputs": [],
      "source": [
        "#fstring: string interpolation\n",
        "df.query(f\"nombre == 'Alejandro' & salario>{sp}\").head(3)"
      ]
    },
    {
      "cell_type": "code",
      "execution_count": null,
      "id": "7ffb52d6-82bf-43e9-be9e-55cfa881e7d8",
      "metadata": {},
      "outputs": [],
      "source": [
        "df.query(f\"nombre == 'Alejandro' & salario>{sum(a)}\").head(3)"
      ]
    },
    {
      "cell_type": "code",
      "execution_count": null,
      "id": "b941b035-eccc-48e0-b8e2-0b5168d078de",
      "metadata": {},
      "outputs": [],
      "source": [
        "nombre=\"Luis\"\n",
        "print(f\"Hola, me llamo {nombre}\")"
      ]
    },
    {
      "cell_type": "code",
      "execution_count": null,
      "id": "89eb7a8e-86bf-4b76-988a-b6f11317c66a",
      "metadata": {
        "scrolled": true
      },
      "outputs": [],
      "source": [
        "umbral=990_000\n",
        "df.query(f\"nombre == 'Alejandro' & salario > {umbral}\")"
      ]
    },
    {
      "cell_type": "markdown",
      "id": "c1eb51ef-d94f-4d49-8f8a-bae60c9a0dd9",
      "metadata": {},
      "source": [
        "# Groupby Objects\n",
        "1. Se crean grupo basados en valores comunes de ciertas columnas\n",
        "2. Ideal para agrupar columnas que tienen valores repetidos"
      ]
    },
    {
      "cell_type": "code",
      "execution_count": null,
      "id": "fd4a3761-af78-42b3-9326-9cda0c6d1bb9",
      "metadata": {},
      "outputs": [],
      "source": [
        "df.info()"
      ]
    },
    {
      "cell_type": "code",
      "execution_count": null,
      "id": "1154b15e-2fc8-4dc2-bd80-e6ff54184e29",
      "metadata": {},
      "outputs": [],
      "source": [
        "df.head()"
      ]
    },
    {
      "cell_type": "code",
      "execution_count": null,
      "id": "a402e34a-ef71-4a30-937f-a7ef6e2bfb84",
      "metadata": {},
      "outputs": [],
      "source": [
        "areas=df.groupby('area') #este es un groupby object\n",
        "#El argumento es un string o una lista de strings\n",
        "areas"
      ]
    },
    {
      "cell_type": "code",
      "execution_count": null,
      "id": "6a7d243e-ce4a-47c7-b7e9-7c6b76d98b60",
      "metadata": {},
      "outputs": [],
      "source": [
        "type(areas)"
      ]
    },
    {
      "cell_type": "code",
      "execution_count": null,
      "id": "e508fe60-c534-41ab-91a7-b4fd5bf527fb",
      "metadata": {},
      "outputs": [],
      "source": [
        "len(areas)"
      ]
    },
    {
      "cell_type": "code",
      "execution_count": null,
      "id": "cef6fdbf-7adf-4b28-9d4f-2d306029b18c",
      "metadata": {
        "scrolled": true
      },
      "outputs": [],
      "source": [
        "areas.size()"
      ]
    },
    {
      "cell_type": "code",
      "execution_count": null,
      "id": "2d2b541a-1431-407a-837b-82ecc6e5d50a",
      "metadata": {},
      "outputs": [],
      "source": [
        "areas.size().sum()"
      ]
    },
    {
      "cell_type": "code",
      "execution_count": null,
      "id": "021bbaf7-9b03-4c5d-84c3-f1996ece4747",
      "metadata": {},
      "outputs": [],
      "source": [
        "df['area'].value_counts().size"
      ]
    },
    {
      "cell_type": "code",
      "execution_count": null,
      "id": "39a537f1-e1e7-4e4d-9313-7c1e866c25ae",
      "metadata": {},
      "outputs": [],
      "source": [
        "df['area'].unique()"
      ]
    },
    {
      "cell_type": "code",
      "execution_count": null,
      "id": "ae8aa0df-367b-456f-a711-3f9f62761304",
      "metadata": {},
      "outputs": [],
      "source": [
        "areas=df.groupby('area') #este es un groupby object\n",
        "#El argumento es un string o una lista de strings\n",
        "areas"
      ]
    },
    {
      "cell_type": "markdown",
      "id": "a7f1f9d1-18ca-4f70-9b89-5a596555f35f",
      "metadata": {},
      "source": [
        "# Métodos para el Grouby"
      ]
    },
    {
      "cell_type": "code",
      "execution_count": null,
      "id": "04712b95-4756-4f5d-9bee-5c42ab208f80",
      "metadata": {
        "scrolled": true
      },
      "outputs": [],
      "source": [
        "areas.first() #primer renglón de cada registro"
      ]
    },
    {
      "cell_type": "code",
      "execution_count": null,
      "id": "5e2595e5-19a9-4716-a3a2-d3a14c13e96d",
      "metadata": {
        "scrolled": true
      },
      "outputs": [],
      "source": [
        "areas.last() #ultimo renglón de cada registro"
      ]
    },
    {
      "cell_type": "code",
      "execution_count": null,
      "id": "1f6cabdb-9a11-4606-9c93-3756c73c38be",
      "metadata": {
        "scrolled": true
      },
      "outputs": [],
      "source": [
        "areas.groups #un atributo del objetio groupby\n",
        "#devuelve un diccionario, donde la llave key representa cada unico valor de área y los valores\n",
        "#la lista con los indices donde está en el datafrma eoriginal"
      ]
    },
    {
      "cell_type": "code",
      "execution_count": null,
      "id": "c9302efd-7765-43e9-a35f-80875b2f7a41",
      "metadata": {
        "scrolled": true
      },
      "outputs": [],
      "source": [
        "df.iloc[[11, 37, 38, 81, 107, 121, 139, 152, 175, 186, 265, 292, 307, 378, 394, 409, 511, 543, 583]]"
      ]
    },
    {
      "cell_type": "code",
      "execution_count": null,
      "id": "80624a03-54e4-4dfe-a06a-b5413432e4d0",
      "metadata": {
        "scrolled": true
      },
      "outputs": [],
      "source": [
        "areas.mean(numeric_only=True)"
      ]
    },
    {
      "cell_type": "code",
      "execution_count": null,
      "id": "4280d230-fc8a-4fba-9a95-f065cbb3079e",
      "metadata": {
        "scrolled": true
      },
      "outputs": [],
      "source": [
        "areas.sum(numeric_only=True)"
      ]
    },
    {
      "cell_type": "code",
      "execution_count": null,
      "id": "601fd6f5-61fb-497c-b3e0-76b2e06c5b2d",
      "metadata": {
        "scrolled": true
      },
      "outputs": [],
      "source": [
        "df.groupby(['area','genero']).sum(numeric_only=True)"
      ]
    },
    {
      "cell_type": "code",
      "execution_count": null,
      "id": "050a4412-970d-4070-9f56-eed0eff74e4a",
      "metadata": {
        "scrolled": true
      },
      "outputs": [],
      "source": [
        "areas[['salario','pct_bono']].max()"
      ]
    },
    {
      "cell_type": "code",
      "execution_count": null,
      "id": "7a369599-d4ad-43ea-94ad-e5d47b707485",
      "metadata": {
        "scrolled": true
      },
      "outputs": [],
      "source": [
        "areas[['salario','pct_bono']].mean()"
      ]
    },
    {
      "cell_type": "markdown",
      "id": "d72e873b-ae1f-4f61-a100-9d708e8e86cf",
      "metadata": {},
      "source": [
        "# Método get_group() \n",
        "Opera sobre un Grouby object"
      ]
    },
    {
      "cell_type": "code",
      "execution_count": null,
      "id": "cccb6897-58b2-48e7-913a-474eedd6d552",
      "metadata": {},
      "outputs": [],
      "source": [
        "areas.get_group('data') #'data' es una de las 25 areas del df"
      ]
    },
    {
      "cell_type": "code",
      "execution_count": null,
      "id": "2993290f-cf4e-418f-80d4-bd97594a4033",
      "metadata": {},
      "outputs": [],
      "source": [
        "areas.get_group('data')['salario'].sum()"
      ]
    },
    {
      "cell_type": "code",
      "execution_count": null,
      "id": "f2425463-bd4d-4aea-b41d-ff53349b29ff",
      "metadata": {},
      "outputs": [],
      "source": [
        "areas.get_group('data')['salario'].mean()"
      ]
    },
    {
      "cell_type": "code",
      "execution_count": null,
      "id": "d9dc0daa-0028-4552-957b-0a3add57e9b8",
      "metadata": {
        "scrolled": true
      },
      "outputs": [],
      "source": [
        "areas[['salario']].sum()"
      ]
    },
    {
      "cell_type": "code",
      "execution_count": null,
      "id": "67961806-9aea-4b99-9688-5556dadfc378",
      "metadata": {},
      "outputs": [],
      "source": [
        "areas[['salario']].sum().loc['data']"
      ]
    },
    {
      "cell_type": "code",
      "execution_count": null,
      "id": "edce7b6f-ed5b-4f5c-b384-401f7c76d569",
      "metadata": {
        "scrolled": true
      },
      "outputs": [],
      "source": [
        "areas[['salario']].sum().reset_index()"
      ]
    },
    {
      "cell_type": "code",
      "execution_count": null,
      "id": "10bedaca-76a7-4fce-b26c-2867319985ed",
      "metadata": {},
      "outputs": [],
      "source": [
        "areas[['salario']].sum().reset_index().query(\"area=='data'\")"
      ]
    },
    {
      "cell_type": "markdown",
      "id": "0e46bd8e-3393-414b-a6d1-44de6a78058a",
      "metadata": {},
      "source": [
        "# Método .agg()"
      ]
    },
    {
      "cell_type": "code",
      "execution_count": null,
      "id": "d4db78ce-0fb6-4a13-b063-a7434bfdb58e",
      "metadata": {},
      "outputs": [],
      "source": [
        "#opera sobre un groupby object\n",
        "df.head()"
      ]
    },
    {
      "cell_type": "code",
      "execution_count": null,
      "id": "474319c9-3f82-4309-9bd2-5e5fd8e34d2d",
      "metadata": {
        "scrolled": true
      },
      "outputs": [],
      "source": [
        "#quiero la suma de los salrios y el promedio del bono\n",
        "areas.agg({'salario':'sum','pct_bono':'mean'})"
      ]
    },
    {
      "cell_type": "code",
      "execution_count": null,
      "id": "642c18b9-869b-43dd-9a4b-03f4322b3678",
      "metadata": {
        "scrolled": true
      },
      "outputs": [],
      "source": [
        "areas.agg({'salario':['sum','mean'],'pct_bono':['mean','max']})"
      ]
    },
    {
      "cell_type": "code",
      "execution_count": null,
      "id": "2f78e32a-b22c-4f90-8c87-ad393743c676",
      "metadata": {
        "scrolled": true
      },
      "outputs": [],
      "source": [
        "#sí pueden utilizar funciones personalizadas\n",
        "\n",
        "areas.agg({'salario':['sum','mean',lambda x:x.max()-x.min()],'pct_bono':['mean','max']})"
      ]
    },
    {
      "cell_type": "code",
      "execution_count": null,
      "id": "e06b62b4-360c-4e0c-bfda-101559fc4bf5",
      "metadata": {},
      "outputs": [],
      "source": [
        "areas.agg({'salario':['sum','mean',lambda x:x.max()-x.min()],'pct_bono':['mean','max']}).columns"
      ]
    },
    {
      "cell_type": "code",
      "execution_count": null,
      "id": "4bee553d-847f-4e7b-98c1-559169a902bf",
      "metadata": {
        "scrolled": true
      },
      "outputs": [],
      "source": [
        "areas.agg({'salario':['sum','mean',lambda x:x.max()-x.min()],'pct_bono':['mean','max']}).sort_values(( 'salario', '<lambda_0>'))"
      ]
    },
    {
      "cell_type": "code",
      "execution_count": null,
      "id": "50026516-8774-4208-a1db-af2736bfcc5c",
      "metadata": {},
      "outputs": [],
      "source": [
        "areas.agg({'salario':['sum','mean',lambda x:x.max()-x.min()],'pct_bono':['mean','max']}).sort_values(( 'salario', '<lambda_0>')).loc['Finanzas',('salario','sum')]\n",
        "\n",
        "    "
      ]
    },
    {
      "cell_type": "code",
      "execution_count": null,
      "id": "5345a90d-9b55-419f-834e-f5b5a4975a25",
      "metadata": {},
      "outputs": [],
      "source": [
        "areas"
      ]
    },
    {
      "cell_type": "code",
      "execution_count": null,
      "id": "6bd5de78-84ef-4913-906f-33b18637f6c2",
      "metadata": {},
      "outputs": [],
      "source": [
        "#Puede is quieren iterar sobre un Groupby object\n",
        "for a, dataf in areas:\n",
        "    print(type(a))\n",
        "    print(a)\n",
        "    print(type(dataf))\n",
        "    print(dataf)\n",
        "    print(a,dataf)"
      ]
    },
    {
      "cell_type": "code",
      "execution_count": null,
      "id": "6672bc07-01f1-425b-bee3-5fd0d5bfe7e4",
      "metadata": {},
      "outputs": [],
      "source": [
        "#Cómo obtener el salario más alto por cada grupo\n",
        "df_aux=pd.DataFrame(columns=df.columns)\n",
        "df_aux"
      ]
    },
    {
      "cell_type": "code",
      "execution_count": null,
      "id": "01026502-87bc-4307-b3dc-deb7996ce452",
      "metadata": {
        "scrolled": true
      },
      "outputs": [],
      "source": [
        "for a, dataf in areas:\n",
        "    salario_mas_alto=dataf.nlargest(1,'salario')\n",
        "    df_aux=pd.concat([df_aux,salario_mas_alto])\n",
        "\n",
        "df_aux"
      ]
    },
    {
      "cell_type": "code",
      "execution_count": null,
      "id": "7df66dc6-8635-415d-a8f1-96dcd78eef4f",
      "metadata": {},
      "outputs": [],
      "source": []
    },
    {
      "cell_type": "code",
      "execution_count": null,
      "id": "4ce5a0b5-a368-4ec5-b86f-5d5fa77a0641",
      "metadata": {},
      "outputs": [],
      "source": []
    },
    {
      "cell_type": "code",
      "execution_count": null,
      "id": "28776cdc-dd61-49d0-9f1e-ec9627d668ed",
      "metadata": {},
      "outputs": [],
      "source": []
    }
  ],
  "metadata": {
    "kernelspec": {
      "display_name": "Python 3 (ipykernel)",
      "language": "python",
      "name": "python3"
    },
    "language_info": {
      "codemirror_mode": {
        "name": "ipython",
        "version": 3
      },
      "file_extension": ".py",
      "mimetype": "text/x-python",
      "name": "python",
      "nbconvert_exporter": "python",
      "pygments_lexer": "ipython3",
      "version": "3.11.8"
    }
  },
  "nbformat": 4,
  "nbformat_minor": 5
}