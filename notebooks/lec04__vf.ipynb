{
  "cells": [
    {
      "cell_type": "markdown",
      "id": "cf2d1bca-153a-499d-ab79-b0c06530fd8e",
      "metadata": {},
      "source": [
        "# Importar datos con `read_csv()`y otros métodos"
      ]
    },
    {
      "cell_type": "markdown",
      "id": "c11086ce-3a2c-4f57-9fb1-85e32a9feb6b",
      "metadata": {},
      "source": [
        "# Usaremos el dataset de iris"
      ]
    },
    {
      "cell_type": "markdown",
      "id": "8af8289b-0fa7-4819-b89d-9ef5fdae4967",
      "metadata": {},
      "source": [
        "<img src=\"iris_1.png\" width=\"300\">"
      ]
    },
    {
      "cell_type": "code",
      "execution_count": null,
      "id": "cb8fe957-771d-4154-a343-960a79ae1b80",
      "metadata": {},
      "outputs": [],
      "source": [
        "import os"
      ]
    },
    {
      "cell_type": "code",
      "execution_count": null,
      "id": "9fbad2cc-3e65-42e2-bd58-25c5cd9fa4e3",
      "metadata": {},
      "outputs": [],
      "source": [
        "os.getcwd()"
      ]
    },
    {
      "cell_type": "code",
      "execution_count": null,
      "id": "151437b6-5034-4fe8-8b68-0e2419eed1a0",
      "metadata": {
        "scrolled": true
      },
      "outputs": [],
      "source": [
        "pip install yfinance"
      ]
    },
    {
      "cell_type": "code",
      "execution_count": null,
      "id": "a71ae9d5-c313-42de-808f-86babce93a78",
      "metadata": {},
      "outputs": [],
      "source": [
        "import pandas as pd"
      ]
    },
    {
      "cell_type": "code",
      "execution_count": null,
      "id": "e6f9da0e-0c94-4c70-bc6a-ce9cc991a9a6",
      "metadata": {},
      "outputs": [],
      "source": [
        "import yfinance as yf"
      ]
    },
    {
      "cell_type": "code",
      "execution_count": null,
      "id": "dfd23f79-39df-4dc9-9ca7-dcf9477dd68c",
      "metadata": {},
      "outputs": [],
      "source": [
        "from sklearn import datasets"
      ]
    },
    {
      "cell_type": "code",
      "execution_count": null,
      "id": "f1065c9e-1650-4f58-99d9-ac3f846f9065",
      "metadata": {
        "scrolled": true
      },
      "outputs": [],
      "source": [
        "iris=datasets.load_iris()\n",
        "iris"
      ]
    },
    {
      "cell_type": "code",
      "execution_count": null,
      "id": "d2b5f4ca-5853-4828-a6f5-3d5aea53f73e",
      "metadata": {},
      "outputs": [],
      "source": [
        "type(iris)"
      ]
    },
    {
      "cell_type": "code",
      "execution_count": null,
      "id": "17fa0d18-205f-4602-af22-782316429660",
      "metadata": {},
      "outputs": [],
      "source": [
        "#Ustedes pueden hacer un DataFrame a partir de un Diccionario\n",
        "d={'data':[[1,2,3]],'feature_name':['Columna 1', 'Columna 2', 'Columna 3']}\n",
        "d"
      ]
    },
    {
      "cell_type": "code",
      "execution_count": null,
      "id": "0155299c-9e1f-4cc3-98ac-d5eb8dd12bd6",
      "metadata": {},
      "outputs": [],
      "source": [
        "pd.DataFrame(d['data'],columns=d['feature_name'])"
      ]
    },
    {
      "cell_type": "code",
      "execution_count": null,
      "id": "f782199d-c5be-4048-9ad3-a663f38ada8e",
      "metadata": {},
      "outputs": [],
      "source": [
        "pd.DataFrame(iris.data,columns=iris.feature_names)"
      ]
    },
    {
      "cell_type": "code",
      "execution_count": null,
      "id": "7522becf-3a7e-4c56-94ab-3413579ba22e",
      "metadata": {},
      "outputs": [],
      "source": [
        "pd.DataFrame(iris['data'],columns=iris['feature_names'])"
      ]
    },
    {
      "cell_type": "code",
      "execution_count": null,
      "id": "5fe0ba3b-ac4e-4c21-92bc-2e62e47e19b1",
      "metadata": {},
      "outputs": [],
      "source": [
        "df=pd.DataFrame(iris.data,columns=iris.feature_names)\n",
        "df"
      ]
    },
    {
      "cell_type": "code",
      "execution_count": null,
      "id": "22035571-0298-4e33-bf0a-7bf0a32a39d4",
      "metadata": {},
      "outputs": [],
      "source": [
        "#Otro metodo cargar directo de su compu csv\n",
        "#iris=pd.read_csv(\"iris.csv\")"
      ]
    },
    {
      "cell_type": "code",
      "execution_count": null,
      "id": "d7e33a95-7e53-4ac1-b67d-d448e226fe8b",
      "metadata": {},
      "outputs": [],
      "source": [
        "iris=pd.read_csv('iris.csv')\n",
        "iris"
      ]
    },
    {
      "cell_type": "markdown",
      "id": "2d874c7d-6814-42b5-92cd-d73c294b74c3",
      "metadata": {},
      "source": [
        "Si quieren pueden importar sólo una columna como una serie\n",
        "`squeeze()` fuerza a que el Df sera una Serie"
      ]
    },
    {
      "cell_type": "code",
      "execution_count": null,
      "id": "81488dc0-c2b0-4369-886e-82d2cd74495d",
      "metadata": {
        "scrolled": true
      },
      "outputs": [],
      "source": [
        "iris=pd.read_csv('iris.csv',usecols=['species']).squeeze()\n",
        "iris"
      ]
    },
    {
      "cell_type": "code",
      "execution_count": null,
      "id": "1d9e14ff-7b8a-4f23-93ea-6db99f6f796c",
      "metadata": {},
      "outputs": [],
      "source": [
        "iris=pd.read_csv('iris.csv',encoding=\"latin1\")\n",
        "iris"
      ]
    },
    {
      "cell_type": "code",
      "execution_count": null,
      "id": "ed776a72-7ede-4fbe-9035-ea20939d2a54",
      "metadata": {},
      "outputs": [],
      "source": [
        "iris=pd.read_csv('/Users/carloscarrasco/Library/Mobile Documents/com~apple~CloudDocs/Desktop/Pronósticos/Alexis/M1/Mio/iris.csv')\n",
        "iris"
      ]
    },
    {
      "cell_type": "code",
      "execution_count": null,
      "id": "c29dbcb3-9eea-438a-9760-45bf8a3ea68e",
      "metadata": {},
      "outputs": [],
      "source": [
        "type(iris)"
      ]
    },
    {
      "cell_type": "code",
      "execution_count": null,
      "id": "75cee59b-a4e8-4843-a49c-c75420bcbc1c",
      "metadata": {
        "scrolled": true
      },
      "outputs": [],
      "source": [
        "dir(iris)"
      ]
    },
    {
      "cell_type": "code",
      "execution_count": null,
      "id": "4fa2afb2-6f13-4841-928d-494e5241f18e",
      "metadata": {},
      "outputs": [],
      "source": [
        "iris.head()"
      ]
    },
    {
      "cell_type": "code",
      "execution_count": null,
      "id": "0e8196b5-f100-4b7c-a4ae-167e28eb406e",
      "metadata": {},
      "outputs": [],
      "source": [
        "iris.tail()"
      ]
    },
    {
      "cell_type": "code",
      "execution_count": null,
      "id": "429dcb84-1857-4690-b6d0-5f168f512b01",
      "metadata": {},
      "outputs": [],
      "source": [
        "iris.species #seleccionar columnas"
      ]
    },
    {
      "cell_type": "code",
      "execution_count": null,
      "id": "4e906e34-de0b-4c01-8b40-328484f48bad",
      "metadata": {
        "scrolled": true
      },
      "outputs": [],
      "source": [
        "sorted(iris.species)"
      ]
    },
    {
      "cell_type": "code",
      "execution_count": null,
      "id": "2508ccc4-e3b0-450b-8a62-234474a39d71",
      "metadata": {
        "scrolled": true
      },
      "outputs": [],
      "source": [
        "list(iris.species)"
      ]
    },
    {
      "cell_type": "code",
      "execution_count": null,
      "id": "449a4443-76ed-4e34-9310-8faa78508f9a",
      "metadata": {},
      "outputs": [],
      "source": [
        "#Descargar datos de precios de la acción de NVDA sobre un periodo determinado (usando API internet). \n",
        "nvda_s=yf.download('NVDA',start='2018-01-01',end='2025-08-27')\n",
        "nvda_s.head()"
      ]
    },
    {
      "cell_type": "code",
      "execution_count": null,
      "id": "c7a35fb0-6ddd-4b4b-b3d5-1c906289aea3",
      "metadata": {},
      "outputs": [],
      "source": [
        "nvda_s"
      ]
    },
    {
      "cell_type": "code",
      "execution_count": null,
      "id": "add35497-b4f0-4249-9e9f-102c87543001",
      "metadata": {},
      "outputs": [],
      "source": [
        "nvda_s.index"
      ]
    },
    {
      "cell_type": "code",
      "execution_count": null,
      "id": "7c047cbe-bb18-4ec1-a8d9-ea99cbaaa416",
      "metadata": {},
      "outputs": [],
      "source": [
        "nvda_s.columns"
      ]
    },
    {
      "cell_type": "code",
      "execution_count": null,
      "id": "a35e9bff-aad5-4934-b10f-e1fecd0c44ae",
      "metadata": {},
      "outputs": [],
      "source": [
        "type(nvda_s)"
      ]
    },
    {
      "cell_type": "code",
      "execution_count": null,
      "id": "258f4469-0edb-4465-ace2-bebbf5457040",
      "metadata": {},
      "outputs": [],
      "source": [
        "nvda_s.to_clipboard()"
      ]
    },
    {
      "cell_type": "code",
      "execution_count": null,
      "id": "f448e3cd-68eb-4f7c-9fef-4e4e2982b0d5",
      "metadata": {},
      "outputs": [],
      "source": [
        "nvda_s.plot()"
      ]
    },
    {
      "cell_type": "code",
      "execution_count": null,
      "id": "750e454c-f4ea-42ef-b6ab-ac96c6497f1c",
      "metadata": {},
      "outputs": [],
      "source": [
        "nvda_s.loc[:,(\"Close\",'NVDA')]"
      ]
    },
    {
      "cell_type": "code",
      "execution_count": null,
      "id": "8b154069-4a8c-49ad-9c5d-3ffc51ac3e01",
      "metadata": {},
      "outputs": [],
      "source": [
        "type(nvda_s.loc[:,(\"Close\",'NVDA')])"
      ]
    },
    {
      "cell_type": "code",
      "execution_count": null,
      "id": "e0dd5847-947f-4364-9346-c7126209a99f",
      "metadata": {},
      "outputs": [],
      "source": [
        "nvda_s.loc[:,(\"Close\",'NVDA')].plot()"
      ]
    },
    {
      "cell_type": "code",
      "execution_count": null,
      "id": "bd443e9e-3b9a-46c9-b64a-e9763d3a0ab0",
      "metadata": {},
      "outputs": [],
      "source": [
        "tech=['AAPL','NVDA','TSLA','AMZN','GOOGL','META','MSFT']"
      ]
    },
    {
      "cell_type": "code",
      "execution_count": null,
      "id": "7b1e8231-1cc9-4ffa-8762-37276040c65a",
      "metadata": {},
      "outputs": [],
      "source": [
        "tech1=yf.download(tech,start='2025-01-01',end='2025-08-27')[\"Close\"]"
      ]
    },
    {
      "cell_type": "code",
      "execution_count": null,
      "id": "78980896-e89b-40c5-8570-94f5e3b53c0d",
      "metadata": {},
      "outputs": [],
      "source": [
        "tech1"
      ]
    },
    {
      "cell_type": "code",
      "execution_count": null,
      "id": "6c0bb086-8b16-4fec-9d56-56ab3b6cb713",
      "metadata": {},
      "outputs": [],
      "source": [
        "tech1.columns"
      ]
    },
    {
      "cell_type": "code",
      "execution_count": null,
      "id": "ce816d87-09ce-4e57-b6f8-54fb43adb1dd",
      "metadata": {},
      "outputs": [],
      "source": [
        "tech1.index"
      ]
    },
    {
      "cell_type": "code",
      "execution_count": null,
      "id": "f070e711-0708-46cf-a39b-65b73cf6be8d",
      "metadata": {},
      "outputs": [],
      "source": [
        "tech1.plot()"
      ]
    },
    {
      "cell_type": "code",
      "execution_count": null,
      "id": "5d5a2fb5-d34f-4b7f-88c1-02e2e29ae84c",
      "metadata": {},
      "outputs": [],
      "source": [
        "tech1['TSLA']"
      ]
    },
    {
      "cell_type": "code",
      "execution_count": null,
      "id": "673ed5be-e4d3-4fc2-90e6-0f03ea441f98",
      "metadata": {},
      "outputs": [],
      "source": [
        "tech1.loc[:,'TSLA']"
      ]
    },
    {
      "cell_type": "code",
      "execution_count": null,
      "id": "dabddc24-83ac-48bb-ac44-70c8c4ad9ea2",
      "metadata": {},
      "outputs": [],
      "source": [
        "tech1.iloc[0]"
      ]
    },
    {
      "cell_type": "code",
      "execution_count": null,
      "id": "8d188938-63f9-4c1f-a2dd-b9e422d4e855",
      "metadata": {},
      "outputs": [],
      "source": [
        "rend_acumulado=tech1/tech1.iloc[0]-1\n",
        "rend_acumulado"
      ]
    },
    {
      "cell_type": "code",
      "execution_count": null,
      "id": "2525e692-2ac7-49ae-83b6-1e51884c60c4",
      "metadata": {},
      "outputs": [],
      "source": [
        "rend_acumulado.plot()"
      ]
    },
    {
      "cell_type": "code",
      "execution_count": null,
      "id": "1f3b37ad-8992-469a-8aef-268390ee2d7e",
      "metadata": {},
      "outputs": [],
      "source": [
        "rend_acumulado['AAPL'] #serie"
      ]
    },
    {
      "cell_type": "code",
      "execution_count": null,
      "id": "ed82dfcc-26e4-49fc-bd6c-92f924993f90",
      "metadata": {
        "scrolled": true
      },
      "outputs": [],
      "source": [
        "rend_acumulado['AAPL'].values #arreglo."
      ]
    },
    {
      "cell_type": "code",
      "execution_count": null,
      "id": "07514410-5388-462c-bf3d-3faa76926788",
      "metadata": {},
      "outputs": [],
      "source": [
        "apple=tech1['AAPL']"
      ]
    },
    {
      "cell_type": "code",
      "execution_count": null,
      "id": "c80bffeb-a7a9-4223-9142-f0efa9e9fe92",
      "metadata": {},
      "outputs": [],
      "source": [
        "apple"
      ]
    },
    {
      "cell_type": "code",
      "execution_count": null,
      "id": "d0d6197f-295f-45ea-a32f-41da1be41fab",
      "metadata": {},
      "outputs": [],
      "source": [
        "type(apple)"
      ]
    },
    {
      "cell_type": "markdown",
      "id": "2320714e-f896-4e45-9a5a-7e762dce715e",
      "metadata": {},
      "source": [
        "## Tenemos funciones como min(), max(), mean()"
      ]
    },
    {
      "cell_type": "code",
      "execution_count": null,
      "id": "1bdee430-1caf-4cfa-a7b0-39cfc11adcc5",
      "metadata": {},
      "outputs": [],
      "source": [
        "max(apple)"
      ]
    },
    {
      "cell_type": "code",
      "execution_count": null,
      "id": "d5470529-4f5f-44b7-9aea-6a5cf469f602",
      "metadata": {},
      "outputs": [],
      "source": [
        "rend_acumulado.describe()"
      ]
    },
    {
      "cell_type": "code",
      "execution_count": null,
      "id": "149be7be-bc73-42fb-9e16-f338693eaea4",
      "metadata": {},
      "outputs": [],
      "source": [
        "#Continuar la base de iris\n",
        "iris"
      ]
    },
    {
      "cell_type": "code",
      "execution_count": null,
      "id": "ea788edf-cd7c-4143-a9f1-9a4e7b27d0ac",
      "metadata": {},
      "outputs": [],
      "source": [
        "max(iris[\"species\"]) #porque está por orden alfabético (virginia), versicolar y setosa. "
      ]
    },
    {
      "cell_type": "code",
      "execution_count": null,
      "id": "9dbd225d-f221-4d11-b392-370b99537d81",
      "metadata": {},
      "outputs": [],
      "source": [
        "min(iris[\"species\"]) "
      ]
    },
    {
      "cell_type": "code",
      "execution_count": null,
      "id": "5bf9160d-a3aa-48ae-ab25-1f90afd131ba",
      "metadata": {},
      "outputs": [],
      "source": [
        "#Atributos\n",
        "apple.dtype"
      ]
    },
    {
      "cell_type": "code",
      "execution_count": null,
      "id": "3676de80-3c75-453c-823a-547266c0e07e",
      "metadata": {},
      "outputs": [],
      "source": [
        "apple.ndim"
      ]
    },
    {
      "cell_type": "code",
      "execution_count": null,
      "id": "88690cd1-9a7f-4d06-a50d-83bd23283020",
      "metadata": {},
      "outputs": [],
      "source": [
        "apple.shape"
      ]
    },
    {
      "cell_type": "code",
      "execution_count": null,
      "id": "ae076b7f-a00d-4d14-9e84-dab96b7976fe",
      "metadata": {},
      "outputs": [],
      "source": [
        "apple.size"
      ]
    },
    {
      "cell_type": "markdown",
      "id": "f61655ad-c91e-43ce-b480-0f72e9a6f3b6",
      "metadata": {},
      "source": [
        "## Método `sort_values()`"
      ]
    },
    {
      "cell_type": "code",
      "execution_count": null,
      "id": "d4443a3a-0a5e-45b1-9d0e-599893ae2725",
      "metadata": {},
      "outputs": [],
      "source": [
        "apple.sort_values() #ordena de forma ascendente #n los precios, apple su precio más alto lo tuvo en febrero."
      ]
    },
    {
      "cell_type": "code",
      "execution_count": null,
      "id": "453e3419-63b9-4fcb-8036-9214af90c2e4",
      "metadata": {},
      "outputs": [],
      "source": [
        "apple.sort_values().head() #method chaining"
      ]
    },
    {
      "cell_type": "code",
      "execution_count": null,
      "id": "22099a80-08f9-4ff3-8644-2a5310817e95",
      "metadata": {},
      "outputs": [],
      "source": [
        "apple.sort_values(ascending=False)"
      ]
    },
    {
      "cell_type": "code",
      "execution_count": null,
      "id": "5bb8551c-68de-4d0e-8f81-89d3084f550c",
      "metadata": {},
      "outputs": [],
      "source": [
        "apple"
      ]
    },
    {
      "cell_type": "code",
      "execution_count": null,
      "id": "b3e0c3cb-256b-47cd-aec4-3ebfa6f4c946",
      "metadata": {},
      "outputs": [],
      "source": [
        "apple1=apple"
      ]
    },
    {
      "cell_type": "code",
      "execution_count": null,
      "id": "5eb2c3fe-75db-4c00-9dff-c596802dd542",
      "metadata": {},
      "outputs": [],
      "source": [
        "apple2=apple"
      ]
    },
    {
      "cell_type": "code",
      "execution_count": null,
      "id": "e70b66fb-7f7a-45ad-babf-241ed82c91d6",
      "metadata": {},
      "outputs": [],
      "source": [
        "apple1"
      ]
    },
    {
      "cell_type": "code",
      "execution_count": null,
      "id": "37532de8-e413-4a94-84d6-d7006579ad80",
      "metadata": {},
      "outputs": [],
      "source": [
        "apple2"
      ]
    },
    {
      "cell_type": "code",
      "execution_count": null,
      "id": "bd45c525-0aa9-4cee-a86a-54d2b1f19cb8",
      "metadata": {},
      "outputs": [],
      "source": [
        "apple1=apple1+1\n",
        "apple1"
      ]
    },
    {
      "cell_type": "code",
      "execution_count": null,
      "id": "4821e341-dafc-47ef-89ce-cf978873c66c",
      "metadata": {},
      "outputs": [],
      "source": [
        "apple2"
      ]
    },
    {
      "cell_type": "code",
      "execution_count": null,
      "id": "88ed3853-1ab0-48a1-974d-4bc9619b33d5",
      "metadata": {},
      "outputs": [],
      "source": [
        "apple2=apple2+1 #sí les está haciendo una copia\n",
        "apple2"
      ]
    },
    {
      "cell_type": "code",
      "execution_count": null,
      "id": "b5a6b678-b151-4c23-8d43-bdb9be0bfdf3",
      "metadata": {},
      "outputs": [],
      "source": [
        "id(apple2)"
      ]
    },
    {
      "cell_type": "code",
      "execution_count": null,
      "id": "10f42dfc-faef-4a67-a55d-abe287cf8762",
      "metadata": {},
      "outputs": [],
      "source": [
        "id(apple1)"
      ]
    },
    {
      "cell_type": "code",
      "execution_count": null,
      "id": "063ea127-e96d-411d-9ade-947eedf45e95",
      "metadata": {},
      "outputs": [],
      "source": [
        "id(apple)"
      ]
    },
    {
      "cell_type": "code",
      "execution_count": null,
      "id": "6b6a676d-961f-4e3b-974d-bd128bfcd1b1",
      "metadata": {},
      "outputs": [],
      "source": [
        "apple3=apple.copy()\n",
        "apple3"
      ]
    },
    {
      "cell_type": "code",
      "execution_count": null,
      "id": "baa06ff5-f592-4cae-9a3a-bc4615db4519",
      "metadata": {},
      "outputs": [],
      "source": [
        "id(apple)"
      ]
    },
    {
      "cell_type": "code",
      "execution_count": null,
      "id": "632d4dfd-93c9-4931-9959-0a830e500644",
      "metadata": {},
      "outputs": [],
      "source": [
        "id(apple3)"
      ]
    },
    {
      "cell_type": "markdown",
      "id": "481f7c4d-4e76-4b99-ae57-079038a7d36e",
      "metadata": {},
      "source": [
        "Con el método `sort_values()` **NO MODIFICAMOS** nuestra serie original. Para hacerlo cambios el parámetros \n",
        "---> `inplace=True`"
      ]
    },
    {
      "cell_type": "code",
      "execution_count": null,
      "id": "2c010d41-5603-4f00-8b4c-3684785329a2",
      "metadata": {},
      "outputs": [],
      "source": [
        "apple3.sort_values(ascending=False,inplace=True)"
      ]
    },
    {
      "cell_type": "code",
      "execution_count": null,
      "id": "236b23d0-701f-40dd-b670-c8e836613a93",
      "metadata": {},
      "outputs": [],
      "source": [
        "apple3"
      ]
    },
    {
      "cell_type": "markdown",
      "id": "85761511-fe5d-4934-9455-3811712ea2c3",
      "metadata": {},
      "source": [
        "### Método `value_counts`"
      ]
    },
    {
      "cell_type": "code",
      "execution_count": null,
      "id": "31583127-b3b1-43df-9c08-dc14108ba42a",
      "metadata": {},
      "outputs": [],
      "source": [
        "iris['species'].value_counts()"
      ]
    },
    {
      "cell_type": "code",
      "execution_count": null,
      "id": "f5d84aaf-9f9e-4ac6-8623-6a3747f07529",
      "metadata": {},
      "outputs": [],
      "source": [
        "iris['species'].value_counts()/150*100"
      ]
    },
    {
      "cell_type": "code",
      "execution_count": null,
      "id": "ced05994-75ba-4bba-969e-d85a4a7bafe2",
      "metadata": {},
      "outputs": [],
      "source": [
        "iris['species'].value_counts(normalize=True)"
      ]
    },
    {
      "cell_type": "code",
      "execution_count": null,
      "id": "fc069403-5126-42a5-ab26-2d3dd1cff981",
      "metadata": {},
      "outputs": [],
      "source": [
        "\"setosa\" in iris['species'].values"
      ]
    },
    {
      "cell_type": "markdown",
      "id": "bb05361f-04ed-4ede-9716-1f78d2d82f5b",
      "metadata": {},
      "source": [
        "# Acceder a valores de un Pandas Series"
      ]
    },
    {
      "cell_type": "code",
      "execution_count": null,
      "id": "0da85daf-188a-4e39-8387-a3c4f589fada",
      "metadata": {},
      "outputs": [],
      "source": [
        "iris['species'][[2,8,10]]"
      ]
    },
    {
      "cell_type": "markdown",
      "id": "73b4c8c9-64f2-4f83-aa25-40d6c955507e",
      "metadata": {},
      "source": [
        "# Métodos `idxmax()` e `idxmin()` y `count()`"
      ]
    },
    {
      "cell_type": "code",
      "execution_count": null,
      "id": "044e6e35-3414-4029-8493-00da441e16c6",
      "metadata": {},
      "outputs": [],
      "source": [
        "apple.idxmax() #me da el índice donde ocurre el máximo"
      ]
    },
    {
      "cell_type": "code",
      "execution_count": null,
      "id": "87e1b967-b446-4bc0-b6c3-375de9751679",
      "metadata": {},
      "outputs": [],
      "source": [
        "apple.idxmin() #me da el índice donde ocure el mínimo"
      ]
    },
    {
      "cell_type": "code",
      "execution_count": null,
      "id": "227d3261-5c31-499e-9756-28be55677496",
      "metadata": {},
      "outputs": [],
      "source": [
        "apple.count() #cuenta los valores NO NULOS"
      ]
    },
    {
      "cell_type": "code",
      "execution_count": null,
      "id": "f5e29a4d-8e7c-4515-b03a-62274448cd82",
      "metadata": {},
      "outputs": [],
      "source": [
        "import numpy as np"
      ]
    },
    {
      "cell_type": "code",
      "execution_count": null,
      "id": "0d04658a-9ad8-403e-98ca-069af76c5261",
      "metadata": {},
      "outputs": [],
      "source": [
        "lista=[1,np.nan,3,4]\n",
        "lista"
      ]
    },
    {
      "cell_type": "code",
      "execution_count": null,
      "id": "d06400bc-c7b7-44d0-ade6-ca0f91cce922",
      "metadata": {},
      "outputs": [],
      "source": [
        "s1=pd.Series(lista)\n",
        "s1"
      ]
    },
    {
      "cell_type": "code",
      "execution_count": null,
      "id": "cfd143f8-8a50-48ff-9865-b799cb50378a",
      "metadata": {},
      "outputs": [],
      "source": [
        "s1.count() #cuenta los NO NULOS"
      ]
    },
    {
      "cell_type": "code",
      "execution_count": null,
      "id": "d02d81be-8975-487b-82fd-4abe38402d9e",
      "metadata": {},
      "outputs": [],
      "source": [
        "s1.size #Sí cuenta todos (incluuyendo nulos)"
      ]
    },
    {
      "cell_type": "code",
      "execution_count": null,
      "id": "5071ecf8-d23b-4796-b64f-5171122b6d15",
      "metadata": {},
      "outputs": [],
      "source": [
        "s1.value_counts(dropna=False)"
      ]
    },
    {
      "cell_type": "code",
      "execution_count": null,
      "id": "248b047b-1049-4441-b03f-30d78e9cf4b5",
      "metadata": {},
      "outputs": [],
      "source": [
        "s1.value_counts()"
      ]
    },
    {
      "cell_type": "markdown",
      "id": "c5ddbfb5-9351-43ef-8c97-28ee177afe76",
      "metadata": {},
      "source": [
        "# Ejemplo: Machine Learning y Pandas"
      ]
    },
    {
      "cell_type": "code",
      "execution_count": null,
      "id": "747666db-6440-4582-924d-f7d275fab4a6",
      "metadata": {},
      "outputs": [],
      "source": [
        "iris=pd.read_csv(\"iris.csv\")\n",
        "iris.head()"
      ]
    },
    {
      "cell_type": "code",
      "execution_count": null,
      "id": "1539b54e-dfcb-4493-aa79-8ae6dfbed0e6",
      "metadata": {
        "scrolled": true
      },
      "outputs": [],
      "source": [
        "pd.read_csv(\"iris.csv\")[\"species\"]"
      ]
    },
    {
      "cell_type": "code",
      "execution_count": null,
      "id": "0d127f27-7a3d-45d3-b63c-0c2813522011",
      "metadata": {},
      "outputs": [],
      "source": [
        "import sklearn #librería de machine learning más importante"
      ]
    },
    {
      "cell_type": "code",
      "execution_count": null,
      "id": "0d68c658-b4c7-4490-bcfa-64ee89d0d3fd",
      "metadata": {},
      "outputs": [],
      "source": [
        "from sklearn import preprocessing"
      ]
    },
    {
      "cell_type": "code",
      "execution_count": null,
      "id": "9cec4d85-faa3-49db-bc29-739e6d909a3d",
      "metadata": {},
      "outputs": [],
      "source": [
        "label_encoder=preprocessing.LabelEncoder()"
      ]
    },
    {
      "cell_type": "code",
      "execution_count": null,
      "id": "0cf4805e-984a-45f5-98e5-e440d9243f29",
      "metadata": {},
      "outputs": [],
      "source": [
        "df=iris"
      ]
    },
    {
      "cell_type": "code",
      "execution_count": null,
      "id": "ea7e5155-380e-4fe3-b034-60a91035db6f",
      "metadata": {},
      "outputs": [],
      "source": [
        "df['target']=label_encoder.fit_transform(df['species'])"
      ]
    },
    {
      "cell_type": "code",
      "execution_count": null,
      "id": "b4de82c0-76f7-4476-80ab-9746fd92fe15",
      "metadata": {},
      "outputs": [],
      "source": [
        "df.head()"
      ]
    },
    {
      "cell_type": "code",
      "execution_count": null,
      "id": "7a3dc82f-f92e-404a-a371-eb45f5be6aaf",
      "metadata": {},
      "outputs": [],
      "source": [
        "label_encoder.classes_"
      ]
    },
    {
      "cell_type": "code",
      "execution_count": null,
      "id": "012094f2-d761-4ed5-8437-214181f70c57",
      "metadata": {},
      "outputs": [],
      "source": [
        "df.drop('species',inplace=True,axis=1)\n",
        "df.head()"
      ]
    },
    {
      "cell_type": "code",
      "execution_count": null,
      "id": "0113d451-e10f-4a09-8243-f9ba4eee381d",
      "metadata": {},
      "outputs": [],
      "source": [
        "df[[\"sepal_length\",\"sepal_width\",\"petal_length\",\"petal_width\"]].head()"
      ]
    },
    {
      "cell_type": "code",
      "execution_count": null,
      "id": "a681b803-d976-4e89-a633-3a2223c38a53",
      "metadata": {},
      "outputs": [],
      "source": [
        "df['target'].head()"
      ]
    },
    {
      "cell_type": "code",
      "execution_count": null,
      "id": "6178af14-1bc4-4071-87ed-43873d605b8c",
      "metadata": {},
      "outputs": [],
      "source": [
        "from sklearn.model_selection import train_test_split\n",
        "X_train, X_test, Y_train, Y_test = train_test_split(df[['sepal_length','sepal_width','petal_length','petal_width']],\n",
        "                                                    df['target'],random_state=0)"
      ]
    },
    {
      "cell_type": "code",
      "execution_count": null,
      "id": "87b690f0-9324-48ab-bb71-2c8eb8bf5e1b",
      "metadata": {},
      "outputs": [],
      "source": [
        "len(df)"
      ]
    },
    {
      "cell_type": "code",
      "execution_count": null,
      "id": "985c10f2-ae57-49a7-95f0-ff7abeafcdfb",
      "metadata": {},
      "outputs": [],
      "source": [
        "150*.75"
      ]
    },
    {
      "cell_type": "code",
      "execution_count": null,
      "id": "db414998-c153-476c-90eb-a66e4e75f547",
      "metadata": {},
      "outputs": [],
      "source": [
        "X_train"
      ]
    },
    {
      "cell_type": "code",
      "execution_count": null,
      "id": "9f22a86b-13f3-431b-97a5-0a15cddc9cca",
      "metadata": {},
      "outputs": [],
      "source": [
        "len(X_test)"
      ]
    },
    {
      "cell_type": "code",
      "execution_count": null,
      "id": "1f32927a-e56c-4a7a-83d7-9d23806248ba",
      "metadata": {},
      "outputs": [],
      "source": [
        "len(Y_train)"
      ]
    },
    {
      "cell_type": "code",
      "execution_count": null,
      "id": "e25026fc-2540-4e2a-a402-a9e2d868f692",
      "metadata": {},
      "outputs": [],
      "source": [
        "len(Y_test)"
      ]
    },
    {
      "cell_type": "code",
      "execution_count": null,
      "id": "d3c5db38-ffa4-4850-a839-12a9e4434338",
      "metadata": {},
      "outputs": [],
      "source": [
        "from sklearn.tree import DecisionTreeClassifier"
      ]
    },
    {
      "cell_type": "code",
      "execution_count": null,
      "id": "647ad1d4-aae2-49d9-b3fa-ade778f67d57",
      "metadata": {},
      "outputs": [],
      "source": [
        "clf=DecisionTreeClassifier(max_depth=2,random_state=0)"
      ]
    },
    {
      "cell_type": "code",
      "execution_count": null,
      "id": "29732935-f3cc-4ba3-9057-a3b74cde1d40",
      "metadata": {},
      "outputs": [],
      "source": [
        "clf.fit(X_train,Y_train)"
      ]
    },
    {
      "cell_type": "code",
      "execution_count": null,
      "id": "7f2bd901-bbb9-48c0-9318-9b5791751244",
      "metadata": {},
      "outputs": [],
      "source": [
        "from sklearn import tree"
      ]
    },
    {
      "cell_type": "code",
      "execution_count": null,
      "id": "fa17b956-a871-42b4-afb9-8b1c923b8161",
      "metadata": {},
      "outputs": [],
      "source": [
        "import matplotlib.pyplot as plt"
      ]
    },
    {
      "cell_type": "code",
      "execution_count": null,
      "id": "e18b6e82-63e0-4c61-99c6-bf76437cf417",
      "metadata": {
        "scrolled": true
      },
      "outputs": [],
      "source": [
        "X_test"
      ]
    },
    {
      "cell_type": "code",
      "execution_count": null,
      "id": "deb76588-90ea-4851-9068-5f325b4d5aa7",
      "metadata": {},
      "outputs": [],
      "source": [
        "X_test[-1:]"
      ]
    },
    {
      "cell_type": "code",
      "execution_count": null,
      "id": "91c1b9fa-6fa3-49c1-8a07-2f28f854d364",
      "metadata": {},
      "outputs": [],
      "source": [
        "Y_test[-1:]"
      ]
    },
    {
      "cell_type": "code",
      "execution_count": null,
      "id": "6ff391f8-8a56-4cec-8a3e-f0554edd5b86",
      "metadata": {},
      "outputs": [],
      "source": [
        "original=pd.read_csv(\"iris.csv\")\n",
        "original"
      ]
    },
    {
      "cell_type": "code",
      "execution_count": null,
      "id": "b8e2bf33-5f5c-4f75-bbd2-cca42c5d8f85",
      "metadata": {},
      "outputs": [],
      "source": [
        "original.iloc[83]"
      ]
    },
    {
      "cell_type": "code",
      "execution_count": null,
      "id": "0eb1ede8-5fdf-4bbd-a7e9-4813a3c83c0b",
      "metadata": {},
      "outputs": [],
      "source": [
        "X_test[-3:]"
      ]
    },
    {
      "cell_type": "code",
      "execution_count": null,
      "id": "b909f2be-d5bc-4321-87a8-7d0e13d31069",
      "metadata": {},
      "outputs": [],
      "source": [
        "original.iloc[59]"
      ]
    },
    {
      "cell_type": "code",
      "execution_count": null,
      "id": "1202673f-92e5-4551-9cdb-0fd1be88978c",
      "metadata": {},
      "outputs": [],
      "source": [
        "Y_test[-3:]"
      ]
    },
    {
      "cell_type": "code",
      "execution_count": null,
      "id": "9000da40-79c9-4a90-b508-bf0413c99e9d",
      "metadata": {},
      "outputs": [],
      "source": [
        "original.iloc[18]"
      ]
    },
    {
      "cell_type": "code",
      "execution_count": null,
      "id": "87778792-d324-4c80-b972-a5bfbff6dc8d",
      "metadata": {},
      "outputs": [],
      "source": [
        "fn=['sepal length (cm)', 'sepal width (cm)', 'petal length (cm)', 'petal width (cm)']\n",
        "cn=['setosa','versicolor','virginica']\n",
        "fig,axes=plt.subplots(nrows=1,ncols=1,figsize=(4,4),dpi=300)\n",
        "_=tree.plot_tree(clf,\n",
        "                 feature_names=fn,\n",
        "                 class_names=cn,\n",
        "                 filled=True)"
      ]
    },
    {
      "cell_type": "markdown",
      "id": "1e2cd05b-22be-4742-8f34-5f2ae6fa8771",
      "metadata": {},
      "source": [
        "# Extrayendo mediante las Etiquetas del índice"
      ]
    },
    {
      "cell_type": "markdown",
      "id": "554e5b01-c56a-4648-93b8-6def95fd9020",
      "metadata": {},
      "source": [
        "Usaremos el siguiente archivo `iris_id.csv`"
      ]
    },
    {
      "cell_type": "code",
      "execution_count": null,
      "id": "d3fda325-6a03-4b59-9626-2c549656419d",
      "metadata": {},
      "outputs": [],
      "source": [
        "iris_id=pd.read_csv('iris_id.csv',usecols=['id','species'],index_col='id').squeeze()\n",
        "iris_id.head()"
      ]
    },
    {
      "cell_type": "code",
      "execution_count": null,
      "id": "e5c3c589-44a3-4be5-a0da-374ffe7b346b",
      "metadata": {},
      "outputs": [],
      "source": [
        "iris_id.head()"
      ]
    },
    {
      "cell_type": "code",
      "execution_count": null,
      "id": "afa48473-13ca-41a4-b929-65b0056a74b3",
      "metadata": {},
      "outputs": [],
      "source": [
        "#quiero extraer el elemento que tiene el valor del índice igual A15\n",
        "iris_id['A15']"
      ]
    },
    {
      "cell_type": "code",
      "execution_count": null,
      "id": "6f768b6f-ac15-46ee-8fe0-e882bc891c59",
      "metadata": {},
      "outputs": [],
      "source": [
        "iris_id('A15') #si le ponen paréntesis te marca error"
      ]
    },
    {
      "cell_type": "code",
      "execution_count": null,
      "id": "e040bb1b-74a0-4206-9786-c8c071a90dea",
      "metadata": {
        "scrolled": true
      },
      "outputs": [],
      "source": [
        "#también podemos usar la sintaxis\n",
        "iris_id['A1':'A20']\n",
        "#cuando usamos la etiquetas del índice, el límite superior sí está incluido"
      ]
    },
    {
      "cell_type": "code",
      "execution_count": null,
      "id": "570cb14e-225b-490e-9a7f-e120bd2fcfcb",
      "metadata": {},
      "outputs": [],
      "source": [
        "iris_id['A1':'A20'].head()"
      ]
    },
    {
      "cell_type": "code",
      "execution_count": null,
      "id": "8a26b80b-82db-4a7b-8850-4c2ea175e2df",
      "metadata": {},
      "outputs": [],
      "source": [
        "iris_id['A1':'A20':2].head() #serie[ini:fin:step]"
      ]
    },
    {
      "cell_type": "code",
      "execution_count": null,
      "id": "12925ffb-04ae-41ed-a8e3-1b8dcfb99b01",
      "metadata": {},
      "outputs": [],
      "source": [
        "iris_id.get(0)"
      ]
    },
    {
      "cell_type": "code",
      "execution_count": null,
      "id": "ed46d021-4ad0-4cfd-9b8a-1e66f5946b9a",
      "metadata": {},
      "outputs": [],
      "source": [
        "iris_id.iloc[0]"
      ]
    },
    {
      "cell_type": "code",
      "execution_count": null,
      "id": "fd4413c2-3986-4761-bb3f-0eec47d34f36",
      "metadata": {},
      "outputs": [],
      "source": [
        "iris_id.get('A20')"
      ]
    },
    {
      "cell_type": "code",
      "execution_count": null,
      "id": "27414c2f-d32e-44ab-b1c6-884d787436a1",
      "metadata": {},
      "outputs": [],
      "source": [
        "iris_id.get(\"A20\") #no afecta la doble comilla"
      ]
    },
    {
      "cell_type": "code",
      "execution_count": null,
      "id": "515f5155-6b9c-4f5e-aeb8-63da0d7afc3d",
      "metadata": {},
      "outputs": [],
      "source": [
        "iris_id['A20']"
      ]
    },
    {
      "cell_type": "code",
      "execution_count": null,
      "id": "06890dc4-c8b3-496f-8bae-8d7d4cf1eaa3",
      "metadata": {},
      "outputs": [],
      "source": [
        "iris_id[['A3','A8','A20']]"
      ]
    },
    {
      "cell_type": "code",
      "execution_count": null,
      "id": "c874b797-ee7a-4c27-8f71-afe1eed69de0",
      "metadata": {},
      "outputs": [],
      "source": [
        "iris_id.get(['A3','A8','A20'])"
      ]
    },
    {
      "cell_type": "code",
      "execution_count": null,
      "id": "15a89b74-d6af-4154-8ef1-ac0e715338c7",
      "metadata": {},
      "outputs": [],
      "source": [
        "#en el get, si alguna llave/índice no lo encuentra get() no regresa nada, \n",
        "#para ello podemos cambiar la condición default dentro del método"
      ]
    },
    {
      "cell_type": "code",
      "execution_count": null,
      "id": "2f779115-8efa-4394-af38-76b9f92a4087",
      "metadata": {},
      "outputs": [],
      "source": [
        "iris_id.get('A200')"
      ]
    },
    {
      "cell_type": "code",
      "execution_count": null,
      "id": "e1562de1-606b-4230-baf0-6e0f67a46261",
      "metadata": {},
      "outputs": [],
      "source": [
        "iris_id.tail()"
      ]
    },
    {
      "cell_type": "code",
      "execution_count": null,
      "id": "48a7df51-f050-4b76-9033-5b67a47575a1",
      "metadata": {},
      "outputs": [],
      "source": [
        "iris_id['A200']"
      ]
    },
    {
      "cell_type": "code",
      "execution_count": null,
      "id": "8c9127b6-f35e-40fe-a2e4-182966a7e35e",
      "metadata": {
        "scrolled": true
      },
      "outputs": [],
      "source": [
        "iris_id[['A3','A8','A200']]"
      ]
    },
    {
      "cell_type": "code",
      "execution_count": null,
      "id": "0202424b-1480-4a8c-9c61-4487c4c2b86c",
      "metadata": {},
      "outputs": [],
      "source": [
        "iris_id.get(['A2','A7','A200'],default='este id no existe') #error porque el A200 no existe"
      ]
    },
    {
      "cell_type": "code",
      "execution_count": null,
      "id": "8b7c9729-ad41-4913-8426-fd435255bbbd",
      "metadata": {},
      "outputs": [],
      "source": [
        "#manualmente\n",
        "ids=['A2','A7','A200']\n",
        "for k in ids: \n",
        "    if k in iris_id:\n",
        "        print(f\"{k}:{iris_id[k]}\")\n",
        "    else: \n",
        "        print(f\"{k}: este id no existe\")"
      ]
    },
    {
      "cell_type": "code",
      "execution_count": null,
      "id": "7856635b-dbde-457d-8096-99a26df5b548",
      "metadata": {},
      "outputs": [],
      "source": [
        "iris_id[-1:]"
      ]
    },
    {
      "cell_type": "code",
      "execution_count": null,
      "id": "0a349d57-5ea8-47fe-85da-101122ed20fd",
      "metadata": {},
      "outputs": [],
      "source": [
        "iris_id.info()"
      ]
    },
    {
      "cell_type": "markdown",
      "id": "5ac24d61-1656-4734-8b19-596735b78f50",
      "metadata": {},
      "source": [
        "# Función `range()`"
      ]
    },
    {
      "cell_type": "markdown",
      "id": "0d8a33e4-ce26-4c18-8718-6dbcb97213f8",
      "metadata": {},
      "source": [
        "La función `range()` en Python se utiliza para generar una secuencia de números. Es comunmente usada en bucles `for` para iterar sobre una secuencia de números. `range()` puede tomar uno, dos o tres argumentos: \n",
        "\n",
        "- **Inicio**: El valor inicial de la secuencia (inclusive). Si se omite, por defecto es 0.\n",
        "- **Fin**: El valor final de la secuencia (exclusivo). Este argumento es necesario.\n",
        "- **Paso**: La diferencia entre cada número en la secuencia. Si se omite por defecto es 1.\n",
        "\n",
        "La funión `range()` devuelve una secuencia inmutable de números entre los valores de **inicio** y **fin**\n",
        "\n",
        "#### Ejemplos de `range()` \n",
        "\n",
        "- `range(5)`genera números del 0 al 4\n",
        "- `range(1,5)` genera números del 1 al 4\n",
        "- `range(1,10,2)` genera los números 1,3,5,7,9\n",
        "\n",
        "#### Uso de `range()` en Bucles `for` \n",
        "- Un `for` loop se utiliza para iterar sobre una secuencia (como una lista, tupla o string), u otros objetos iterables\n",
        "- Sintaxis:\n",
        "\n",
        "```python\n",
        "\n",
        "for elemento in secuencia: \n",
        "    #haz algo con ese elemnto\n",
        "\n",
        "\n",
        "```"
      ]
    },
    {
      "cell_type": "code",
      "execution_count": null,
      "id": "feb2ae23-669d-4eb0-8c12-8589f7bf1e7b",
      "metadata": {},
      "outputs": [],
      "source": [
        "range(1,5)"
      ]
    },
    {
      "cell_type": "code",
      "execution_count": null,
      "id": "b3e75ffa-f80d-405d-935e-63f6518d3ed9",
      "metadata": {},
      "outputs": [],
      "source": [
        "#Iterando del 0 a 4\n",
        "for i in range(5):\n",
        "    print(i)"
      ]
    },
    {
      "cell_type": "code",
      "execution_count": null,
      "id": "2f8a45d4-f9f0-4729-b79f-3599a50df7ba",
      "metadata": {},
      "outputs": [],
      "source": [
        "#Iterando del 1 a 4\n",
        "for i in range(1,5):\n",
        "    print(i)"
      ]
    },
    {
      "cell_type": "code",
      "execution_count": null,
      "id": "667e88c3-80d0-4190-aa71-86688b7480f6",
      "metadata": {},
      "outputs": [],
      "source": [
        "range(5)"
      ]
    },
    {
      "cell_type": "code",
      "execution_count": null,
      "id": "7f79bfa0-5d94-448b-80e1-64f173e2d525",
      "metadata": {},
      "outputs": [],
      "source": [
        "list(range(5))"
      ]
    },
    {
      "cell_type": "code",
      "execution_count": null,
      "id": "fd59238d-c938-48bf-9cac-51f8ec18d861",
      "metadata": {},
      "outputs": [],
      "source": [
        "#Itera del 1 al 9, de 2 en 2\n",
        "for e in range(1,10,2):\n",
        "    print(e)"
      ]
    },
    {
      "cell_type": "code",
      "execution_count": null,
      "id": "fc470a27-1e52-4554-8e6c-8ed69962d0dd",
      "metadata": {},
      "outputs": [],
      "source": [
        "for e in range(-1,-10,-1):\n",
        "    print(e)"
      ]
    },
    {
      "cell_type": "code",
      "execution_count": null,
      "id": "198a0406-f660-424a-a373-43760f20204e",
      "metadata": {},
      "outputs": [],
      "source": [
        "#retomar base apple. "
      ]
    },
    {
      "cell_type": "markdown",
      "id": "a1c409f0-c4cd-47c5-a91e-f7b7765f60b5",
      "metadata": {},
      "source": [
        "Modificar nuestra serie de 'apple' para que tenga el índice númérico estándar usando \n",
        "la función `range()` "
      ]
    },
    {
      "cell_type": "code",
      "execution_count": null,
      "id": "cb9de099-1430-4219-a5fd-0be076904e6b",
      "metadata": {},
      "outputs": [],
      "source": [
        "apple_c=yf.download('AAPL',start='2025-01-01',end='2025-08-28')['Close']"
      ]
    },
    {
      "cell_type": "code",
      "execution_count": null,
      "id": "70c23a09-ecdb-4997-bd07-dc9fd79db1ae",
      "metadata": {
        "scrolled": true
      },
      "outputs": [],
      "source": [
        "apple_c"
      ]
    },
    {
      "cell_type": "code",
      "execution_count": null,
      "id": "96bd7eef-e6f0-4d42-9507-6a6753afcbcc",
      "metadata": {},
      "outputs": [],
      "source": [
        "apple=apple_c['AAPL']\n",
        "apple"
      ]
    },
    {
      "cell_type": "code",
      "execution_count": null,
      "id": "303bac11-c132-42b2-aaf1-71df1e02fc34",
      "metadata": {},
      "outputs": [],
      "source": [
        "type(apple)"
      ]
    },
    {
      "cell_type": "code",
      "execution_count": null,
      "id": "452a62ef-ba2b-4bd9-b256-fa6591c02a01",
      "metadata": {},
      "outputs": [],
      "source": [
        "apple.values"
      ]
    },
    {
      "cell_type": "code",
      "execution_count": null,
      "id": "4f4aeb3f-53c8-4dce-b15d-9ba20ec2cfba",
      "metadata": {},
      "outputs": [],
      "source": [
        "type(apple.values)"
      ]
    },
    {
      "cell_type": "code",
      "execution_count": null,
      "id": "2584de71-b7fb-4936-8418-6d04df86ff18",
      "metadata": {},
      "outputs": [],
      "source": [
        "apple.size"
      ]
    },
    {
      "cell_type": "code",
      "execution_count": null,
      "id": "53efe69a-cf48-4d98-ba2c-b5eb610566b4",
      "metadata": {},
      "outputs": [],
      "source": [
        "len(apple)"
      ]
    },
    {
      "cell_type": "code",
      "execution_count": null,
      "id": "dedc1868-c4f4-4bf7-b8bb-e41948a2c79d",
      "metadata": {},
      "outputs": [],
      "source": [
        "apple.values[162]"
      ]
    },
    {
      "cell_type": "code",
      "execution_count": null,
      "id": "d6f285f2-f1fa-43b2-8eaf-51b1940b5581",
      "metadata": {},
      "outputs": [],
      "source": [
        "apple_2=pd.Series(apple.values,range(0,apple.size))\n",
        "apple_2"
      ]
    },
    {
      "cell_type": "code",
      "execution_count": null,
      "id": "1685cbf7-e20b-4f5f-a419-f6bf0ccc8433",
      "metadata": {},
      "outputs": [],
      "source": [
        "apple_2=pd.Series(apple.values,range(0,162))\n",
        "apple_2"
      ]
    },
    {
      "cell_type": "code",
      "execution_count": null,
      "id": "cf95a754-b27f-4a08-a8be-020c7ef4c461",
      "metadata": {},
      "outputs": [],
      "source": [
        "apple_2=pd.Series(apple.values,range(0,164))\n",
        "apple_2"
      ]
    },
    {
      "cell_type": "code",
      "execution_count": null,
      "id": "0848f002-3942-436d-96d3-7db76f982cbc",
      "metadata": {},
      "outputs": [],
      "source": [
        "apple_2=pd.Series(apple.values,range(0,apple.size))\n",
        "apple_2"
      ]
    },
    {
      "cell_type": "code",
      "execution_count": null,
      "id": "0abbd6f2-858e-4c40-918c-3406371721ec",
      "metadata": {},
      "outputs": [],
      "source": [
        "apple_2.idxmax()"
      ]
    },
    {
      "cell_type": "code",
      "execution_count": null,
      "id": "8217d862-3bfe-4cf1-a397-21429863e2d4",
      "metadata": {},
      "outputs": [],
      "source": [
        "apple_2.max()"
      ]
    },
    {
      "cell_type": "code",
      "execution_count": null,
      "id": "b9fd60dd-4b63-4af7-aa8f-a095e5ce72dd",
      "metadata": {},
      "outputs": [],
      "source": [
        "apple_2.iloc[34]"
      ]
    },
    {
      "cell_type": "code",
      "execution_count": null,
      "id": "28e32463-59cc-4750-a02e-08e26b3f1cea",
      "metadata": {},
      "outputs": [],
      "source": [
        "apple_2.iloc[apple_2.idxmax()]"
      ]
    },
    {
      "cell_type": "code",
      "execution_count": null,
      "id": "62e4bbb8-1352-48a0-9aee-f1d817e389d7",
      "metadata": {},
      "outputs": [],
      "source": [
        "apple_2.min()"
      ]
    },
    {
      "cell_type": "code",
      "execution_count": null,
      "id": "be227e56-eba0-41b4-a936-5979e92ad871",
      "metadata": {},
      "outputs": [],
      "source": [
        "apple_2.idxmin()"
      ]
    },
    {
      "cell_type": "code",
      "execution_count": null,
      "id": "2210463a-b749-4402-aa89-14e1eae60313",
      "metadata": {},
      "outputs": [],
      "source": [
        "apple_2.iloc[65]"
      ]
    },
    {
      "cell_type": "code",
      "execution_count": null,
      "id": "0caac8ad-2d3f-4028-b8af-3ae96c0de52b",
      "metadata": {},
      "outputs": [],
      "source": [
        "apple_2.iloc[apple_2.idxmin()]"
      ]
    },
    {
      "cell_type": "code",
      "execution_count": null,
      "id": "60e34076-b060-4ade-88a5-7a5295fbd740",
      "metadata": {},
      "outputs": [],
      "source": [
        "apple_2.describe() #estadiísticos descriptivos."
      ]
    },
    {
      "cell_type": "code",
      "execution_count": null,
      "id": "0844cdbd-2668-41e7-8967-6a179cc0cb0e",
      "metadata": {},
      "outputs": [],
      "source": [
        "iris=pd.read_csv(\"iris.csv\")\n",
        "iris.head()"
      ]
    },
    {
      "cell_type": "code",
      "execution_count": null,
      "id": "af99b383-b978-48f0-917c-a667d0ac0136",
      "metadata": {},
      "outputs": [],
      "source": [
        "iris.describe()"
      ]
    },
    {
      "cell_type": "markdown",
      "id": "c42855f8-7f8b-4b21-a092-32e511f05901",
      "metadata": {},
      "source": [
        "# Método `apply()`"
      ]
    },
    {
      "cell_type": "code",
      "execution_count": null,
      "id": "1c577cf4-0571-415f-9d6b-577cec60b67a",
      "metadata": {},
      "outputs": [],
      "source": [
        "pd.read_csv('boston_house_prices.csv')"
      ]
    },
    {
      "cell_type": "markdown",
      "id": "9be6bfb2-631f-4dca-bfad-576ffb1d951b",
      "metadata": {},
      "source": [
        "Diccionario de variables\n",
        "id\n",
        "Identificador único de la observación\n",
        "\n",
        "CRIM\n",
        "Tasa de criminalidad per cápita por ciudad.\n",
        "\n",
        "ZN\n",
        "Proporción de terreno residencial zonificado para lotes mayores de 25,000 pies².\n",
        "\n",
        "INDUS\n",
        "Proporción de acres de negocios no minoristas por ciudad.\n",
        "\n",
        "CHAS\n",
        "Variable ficticia (dummy) de río Charles:\n",
        "1 = tracto limita con el río.\n",
        "0 = en caso contrario.\n",
        "\n",
        "NOX\n",
        "Concentración de óxidos de nitrógeno (partes por 10 millones).\n",
        "\n",
        "RM\n",
        "Promedio de número de habitaciones por vivienda.\n",
        "\n",
        "AGE\n",
        "Proporción de unidades ocupadas construidas antes de 1940.\n",
        "\n",
        "DIS\n",
        "Distancia ponderada a cinco centros de empleo en Boston.\n",
        "\n",
        "RAD\n",
        "Índice de accesibilidad a autopistas radiales.\n",
        "\n",
        "TAX\n",
        "Tasa de impuestos sobre propiedad (valor total por $10,000).\n",
        "\n",
        "PTRATIO\n",
        "Ratio alumno-profesor por ciudad.\n",
        "\n",
        "B\n",
        "Proporción de población afroamericana definida como:\n",
        "\n",
        "LSTAT\n",
        "Porcentaje de población de estatus socioeconómico bajo.\n",
        "\n",
        "MEDV\n",
        "Valor medio de viviendas ocupadas por propietarios (en decenas de miles de dólares)."
      ]
    },
    {
      "cell_type": "code",
      "execution_count": null,
      "id": "16391392-48ce-43e8-9c8b-572b898c44a0",
      "metadata": {},
      "outputs": [],
      "source": [
        "house=pd.read_csv('boston_house_prices.csv',usecols=['id','MEDV'],index_col='id').squeeze()\n",
        "house.head()"
      ]
    },
    {
      "cell_type": "code",
      "execution_count": null,
      "id": "24c1ecb5-464f-4e76-830a-e2603f46f0a5",
      "metadata": {},
      "outputs": [],
      "source": [
        "pd.read_csv('boston_house_prices.csv',usecols=['id','MEDV'])"
      ]
    },
    {
      "cell_type": "code",
      "execution_count": null,
      "id": "64c3e0b9-5b63-4a8f-bc45-968f0d328abf",
      "metadata": {},
      "outputs": [],
      "source": [
        "pd.read_csv('boston_house_prices.csv',usecols=['id','MEDV'],index_col='id')"
      ]
    },
    {
      "cell_type": "code",
      "execution_count": null,
      "id": "567518de-9260-455b-8f11-41acd3d1f6e1",
      "metadata": {},
      "outputs": [],
      "source": [
        "house.head()"
      ]
    },
    {
      "cell_type": "code",
      "execution_count": null,
      "id": "9e583957-05a2-4bc6-8295-7e24ee4c6c2b",
      "metadata": {},
      "outputs": [],
      "source": [
        "house.describe() #decenas miles de dólares."
      ]
    },
    {
      "cell_type": "code",
      "execution_count": null,
      "id": "18529b2a-57a6-4418-90fc-38fdf4675447",
      "metadata": {},
      "outputs": [],
      "source": [
        "house.describe()[1:]*10_000*20 "
      ]
    },
    {
      "cell_type": "code",
      "execution_count": null,
      "id": "cdf91d80-88bd-4bc2-8816-e9fad4b21001",
      "metadata": {},
      "outputs": [],
      "source": [
        "import matplotlib.pyplot as plt\n",
        "plt.hist(house,bins=20)"
      ]
    },
    {
      "cell_type": "code",
      "execution_count": null,
      "id": "c25b077f-696c-4531-b9b1-9051a4309181",
      "metadata": {},
      "outputs": [],
      "source": [
        "house.skew() #asimetria, valor positivo, sesgo a la derecha (cola larga a la derecha)"
      ]
    },
    {
      "cell_type": "code",
      "execution_count": null,
      "id": "4e9ecc83-6815-4fa5-acdd-e640042f18e1",
      "metadata": {},
      "outputs": [],
      "source": [
        "Q1=house.quantile(0.25) #el 25% de las observaciones están por debajo de $170,025\n",
        "Q1"
      ]
    },
    {
      "cell_type": "code",
      "execution_count": null,
      "id": "e4f70627-5449-426c-a458-6790f8880adf",
      "metadata": {},
      "outputs": [],
      "source": [
        "Q3=house.quantile(0.75) #el 75% de las observaciones están por debajo de $250,000\n",
        "Q3"
      ]
    },
    {
      "cell_type": "code",
      "execution_count": null,
      "id": "2e0ad1c4-cd45-4b44-b3a0-537ef2bf7ad5",
      "metadata": {},
      "outputs": [],
      "source": [
        "IQR=Q3-Q1"
      ]
    },
    {
      "cell_type": "code",
      "execution_count": null,
      "id": "0623761c-7f2a-4b9c-9505-1a5965844b86",
      "metadata": {},
      "outputs": [],
      "source": [
        "IQR #rango inter cuartílico con $79.7k"
      ]
    },
    {
      "cell_type": "code",
      "execution_count": null,
      "id": "d1dded8e-31c9-4885-90b0-0b7a5cd382c4",
      "metadata": {},
      "outputs": [],
      "source": [
        "#Los límites de los outliers ususalmente se definen como 1 vez por debajo de q1 y por encima de q3\n",
        "lower_bound=Q1-1*IQR\n",
        "lower_bound #90,000 USD"
      ]
    },
    {
      "cell_type": "code",
      "execution_count": null,
      "id": "6dab2f73-cd80-4452-ad50-fb7db5f448f4",
      "metadata": {},
      "outputs": [],
      "source": [
        "upper_bound=Q3+1*IQR\n",
        "upper_bound #329,750"
      ]
    },
    {
      "cell_type": "code",
      "execution_count": null,
      "id": "0507e1ce-8f5b-4cd8-9d51-55e47f104ebb",
      "metadata": {},
      "outputs": [],
      "source": [
        "#filtrar sin outliers\n",
        "filtered_df=house[(house>lower_bound) & (house<upper_bound)]\n",
        "filtered_df  #quitaamos únicamnete 83 observaciones, de 506 a 423"
      ]
    },
    {
      "cell_type": "code",
      "execution_count": null,
      "id": "801d11df-1f36-46fb-83aa-5c1b19d65df5",
      "metadata": {},
      "outputs": [],
      "source": [
        "filtered_df.describe()"
      ]
    },
    {
      "cell_type": "code",
      "execution_count": null,
      "id": "ce2dc95c-dad0-4075-aefe-a59caa4f80aa",
      "metadata": {
        "scrolled": true
      },
      "outputs": [],
      "source": [
        "plt.hist(filtered_df,bins=20)"
      ]
    },
    {
      "cell_type": "code",
      "execution_count": null,
      "id": "f7ca4b27-bc0f-457b-919a-b3883925995d",
      "metadata": {},
      "outputs": [],
      "source": [
        "fig, axes=plt.subplots(1,2,figsize=(12,5))\n",
        "axes[0].hist(house)\n",
        "axes[1].hist(filtered_df);"
      ]
    },
    {
      "cell_type": "code",
      "execution_count": null,
      "id": "08200fb2-ce29-4482-9199-124477b72a24",
      "metadata": {},
      "outputs": [],
      "source": [
        "house.describe() #decenas miles de dólares."
      ]
    },
    {
      "cell_type": "code",
      "execution_count": null,
      "id": "5bcf231f-3496-4d9d-ab13-a387045cdc16",
      "metadata": {},
      "outputs": [],
      "source": [
        "#Definamos una función, que, según el valor de (MEDV) de la vivienda diga si el precio es: \n",
        "# 'bajo' si el precio es <17.025:\n",
        "# 'medio' se el precio está entre 17.025 y 25\n",
        "#alto si el precio>25"
      ]
    },
    {
      "cell_type": "code",
      "execution_count": null,
      "id": "4262a81a-c238-4872-b540-2f9330a9c457",
      "metadata": {},
      "outputs": [],
      "source": [
        "house.median()"
      ]
    },
    {
      "cell_type": "code",
      "execution_count": null,
      "id": "214d83bb-70d6-4ed5-85e1-92e18b149912",
      "metadata": {},
      "outputs": [],
      "source": [
        "Q1"
      ]
    },
    {
      "cell_type": "code",
      "execution_count": null,
      "id": "53369e0e-91fe-4dd6-8938-45946043a58d",
      "metadata": {},
      "outputs": [],
      "source": [
        "Q3"
      ]
    },
    {
      "cell_type": "code",
      "execution_count": null,
      "id": "c112d331-e9c4-4e13-b636-c89b464d55f1",
      "metadata": {},
      "outputs": [],
      "source": [
        "def clasifica_precio(precio):\n",
        "    if precio <17.025:\n",
        "        return 'bajo'\n",
        "    elif precio <=25:\n",
        "        return 'medio'\n",
        "    else:\n",
        "        return 'alto'"
      ]
    },
    {
      "cell_type": "code",
      "execution_count": null,
      "id": "4d0bbbd9-fcac-4985-9267-8f075f05c8ed",
      "metadata": {},
      "outputs": [],
      "source": [
        "clasifica_precio(precio=1)"
      ]
    },
    {
      "cell_type": "code",
      "execution_count": null,
      "id": "25571543-139f-477e-b6de-4fa27eaf108d",
      "metadata": {},
      "outputs": [],
      "source": [
        "#aplicar la función a nuestra serie. Sintaxis:\n",
        "#nombre_serie.apply(nombre_funcion)\n",
        "house.apply(clasifica_precio)"
      ]
    },
    {
      "cell_type": "code",
      "execution_count": null,
      "id": "69d63f4b-741a-44dd-a413-67e7e1a4a931",
      "metadata": {},
      "outputs": [],
      "source": [
        "house"
      ]
    },
    {
      "cell_type": "code",
      "execution_count": null,
      "id": "b08208ee-7d2d-4278-9880-d4d23287a687",
      "metadata": {},
      "outputs": [],
      "source": [
        "housep=pd.read_csv('boston_house_prices.csv',usecols=['id','MEDV'],index_col='id')\n",
        "housep.head()"
      ]
    },
    {
      "cell_type": "code",
      "execution_count": null,
      "id": "fd032900-e17c-45c3-a3fb-34f63e78c349",
      "metadata": {},
      "outputs": [],
      "source": [
        "type(housep)"
      ]
    },
    {
      "cell_type": "code",
      "execution_count": null,
      "id": "3dbf725c-ed49-4ac9-a222-fed9eb0effc2",
      "metadata": {
        "scrolled": true
      },
      "outputs": [],
      "source": [
        "housep['rango_precio']=housep['MEDV'].apply(clasifica_precio)\n",
        "housep"
      ]
    },
    {
      "cell_type": "code",
      "execution_count": null,
      "id": "9be783aa-e99c-4c2b-a7e4-13082210280c",
      "metadata": {},
      "outputs": [],
      "source": [
        "housep['rango_precio']"
      ]
    },
    {
      "cell_type": "code",
      "execution_count": null,
      "id": "c50b4498-4e8b-4b39-a106-c4e7d764d513",
      "metadata": {
        "scrolled": true
      },
      "outputs": [],
      "source": [
        "housep['rango_precio'].value_counts(normalize=True)"
      ]
    },
    {
      "cell_type": "code",
      "execution_count": null,
      "id": "21b7735a-78ee-4f16-82e6-f07021033def",
      "metadata": {},
      "outputs": [],
      "source": [
        "house"
      ]
    },
    {
      "cell_type": "code",
      "execution_count": null,
      "id": "23d8b89a-7f18-41a7-b03a-36cb8c332883",
      "metadata": {},
      "outputs": [],
      "source": [
        "#hay otras formas de aplicar funciones en el apply sin tener que escribir el nombre de la función. \n",
        "house.apply(lambda x:x*2) #función anónima. \n",
        "#la función no la estamos definiendo con \"def\" y la estamos escrbiendo en la misma operación."
      ]
    },
    {
      "cell_type": "code",
      "execution_count": null,
      "id": "994d5dc0-4c3e-48b9-a1a7-d732f2ed8605",
      "metadata": {},
      "outputs": [],
      "source": []
    },
    {
      "cell_type": "code",
      "execution_count": null,
      "id": "7cb839dc-ac73-4cc8-bac4-534a90004d5e",
      "metadata": {},
      "outputs": [],
      "source": [
        "house*2 #esto es similar a multiplicar el vector por dos"
      ]
    }
  ],
  "metadata": {
    "kernelspec": {
      "display_name": "Python 3 (ipykernel)",
      "language": "python",
      "name": "python3"
    },
    "language_info": {
      "codemirror_mode": {
        "name": "ipython",
        "version": 3
      },
      "file_extension": ".py",
      "mimetype": "text/x-python",
      "name": "python",
      "nbconvert_exporter": "python",
      "pygments_lexer": "ipython3",
      "version": "3.11.8"
    }
  },
  "nbformat": 4,
  "nbformat_minor": 5
}