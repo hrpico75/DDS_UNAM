{
  "cells": [
    {
      "cell_type": "code",
      "execution_count": null,
      "id": "a507475a-4c07-4906-858a-0b869271ce75",
      "metadata": {},
      "outputs": [],
      "source": [
        "import pandas as pd\n",
        "import numpy as np"
      ]
    },
    {
      "cell_type": "code",
      "execution_count": null,
      "id": "40f03442-708f-4ffa-a7e4-dfc490efea3e",
      "metadata": {},
      "outputs": [],
      "source": [
        "#sepan hay muchas opciones de visualizacón\n",
        "pd.options.display.float_format='{:.1f}'.format\n",
        "#cambia el formato de visualización de números flotantes (decimales) en pandas. \n",
        "#En este caso, le estamos diciendo, a pandas que muestre todos los números flotates\n",
        "#con una sola cifra decimal"
      ]
    },
    {
      "cell_type": "code",
      "execution_count": null,
      "id": "70e0c839-087d-488d-a4b6-be9c18d53cb8",
      "metadata": {},
      "outputs": [],
      "source": [
        "emp=pd.read_csv('empleados_2.csv')"
      ]
    },
    {
      "cell_type": "code",
      "execution_count": null,
      "id": "7b050caf-24ee-4b39-b7dc-f7474fe14f7d",
      "metadata": {},
      "outputs": [],
      "source": [
        "emp.tail(3)"
      ]
    },
    {
      "cell_type": "code",
      "execution_count": null,
      "id": "338a57e9-32dc-465f-9a91-ee530aacc18e",
      "metadata": {},
      "outputs": [],
      "source": [
        "emp.shape"
      ]
    },
    {
      "cell_type": "code",
      "execution_count": null,
      "id": "4a355c4f-1c35-4c71-b70a-39b15da6f2ce",
      "metadata": {},
      "outputs": [],
      "source": [
        "dict = {\n",
        "    'nombre':['Areli','Beto'],\n",
        "    'es_directivo':['True','False'],\n",
        "    'genero':['F','M'],\n",
        "    'fh_ant':['2015-02-21','2017-03-15'],\n",
        "    'pct bono':[6.1,10],\n",
        "    'area':['reclutamiento','staff'],\n",
        "    'salario':[180000,78000],\n",
        "}"
      ]
    },
    {
      "cell_type": "code",
      "execution_count": null,
      "id": "1904e8b9-7d53-412b-ad1b-f10993cc0fc7",
      "metadata": {},
      "outputs": [],
      "source": [
        "aux=pd.DataFrame(dict)\n",
        "emp=pd.concat([emp,aux],ignore_index=True)\n",
        "emp['fh_ant']=pd.to_datetime(emp['fh_ant'])"
      ]
    },
    {
      "cell_type": "code",
      "execution_count": null,
      "id": "213a9ecb-98b9-4a23-82df-bd06d0498850",
      "metadata": {},
      "outputs": [],
      "source": [
        "emp.shape"
      ]
    },
    {
      "cell_type": "code",
      "execution_count": null,
      "id": "418bae95-79c4-4063-ad64-cfebbd0699e8",
      "metadata": {
        "scrolled": true
      },
      "outputs": [],
      "source": [
        "#Ejercicios\n",
        "#Quiero extraer a todos menos a los de ventas\n",
        "emp[emp['area']!='ventas']"
      ]
    },
    {
      "cell_type": "code",
      "execution_count": null,
      "id": "c50464c8-5919-44ba-9e3b-9da502ee0646",
      "metadata": {},
      "outputs": [],
      "source": [
        "#2 Filtrar por más de una condición\n",
        "#no son de ventas y el salario es mayor al promedio\n",
        "salario_promedio=emp['salario'].mean()\n",
        "salario_promedio"
      ]
    },
    {
      "cell_type": "code",
      "execution_count": null,
      "id": "f54180b8-7c58-480d-a2dc-9a81be295611",
      "metadata": {},
      "outputs": [],
      "source": [
        "filtro=(emp['area']!='ventas')&(emp['salario']>=salario_promedio)\n",
        "filtro"
      ]
    },
    {
      "cell_type": "code",
      "execution_count": null,
      "id": "ec61beea-1420-46d7-8024-34a1b638c8e9",
      "metadata": {},
      "outputs": [],
      "source": [
        "emp_filtrado=emp[filtro]\n",
        "emp_filtrado.head()"
      ]
    },
    {
      "cell_type": "code",
      "execution_count": null,
      "id": "219cea88-8ab9-412a-8271-5d1c07616ba9",
      "metadata": {},
      "outputs": [],
      "source": [
        "#Una manera más sencilla de extraer valores y que haga match con varios valores es el método\n",
        "## .isin() ----> análogo al IN en SQL. \n",
        "#Sintaxis: columna.isin(lista)"
      ]
    },
    {
      "cell_type": "code",
      "execution_count": null,
      "id": "d724a759-78c0-4c89-89cf-85391517f5f8",
      "metadata": {
        "scrolled": true
      },
      "outputs": [],
      "source": [
        "#Quiero ver quienes perteneces a Sistemas o Riesgos\n",
        "emp[emp['area'].isin(['sistemas','riesgos'])].head(3)"
      ]
    },
    {
      "cell_type": "code",
      "execution_count": null,
      "id": "0932068f-ebdc-44c1-bb27-2929d443485f",
      "metadata": {
        "scrolled": true
      },
      "outputs": [],
      "source": [
        "emp['area'].isin(['sistemas','riesgos'])"
      ]
    },
    {
      "cell_type": "code",
      "execution_count": null,
      "id": "8b854ada-95ea-4167-8443-9476d79d9ffc",
      "metadata": {},
      "outputs": [],
      "source": [
        "#Método Between()\n",
        "#Filtrar valores dentro de un rango (inclusive)\n",
        "#Por ejemplo: empleados con bono entre 10% y 15%. \n",
        "emp[emp['pct bono'].between(10,15)]"
      ]
    },
    {
      "cell_type": "code",
      "execution_count": null,
      "id": "7cdbf086-b877-449a-8d9e-fad00faf9316",
      "metadata": {},
      "outputs": [],
      "source": [
        "#Método .duplicated()\n",
        "#Objetivo: Detectar duplicados. El parámetro keep que controla cual marcar. \n",
        "#keep=first (default) marca duplicados excepto la primer ocurrencia\n",
        "#keep=false (marca todas las filas duplicadas)\n",
        "\n",
        "#Ver filas duplicadas completas\n",
        "emp[emp.duplicated(keep=False)] #considera todos las columnas"
      ]
    },
    {
      "cell_type": "code",
      "execution_count": null,
      "id": "7c70a7d7-a7c9-42cc-8728-60f7592bc57b",
      "metadata": {},
      "outputs": [],
      "source": [
        "len(emp[emp.duplicated(keep=False)])"
      ]
    },
    {
      "cell_type": "code",
      "execution_count": null,
      "id": "2f2707db-59c3-4d1a-ba43-589425ec4c99",
      "metadata": {},
      "outputs": [],
      "source": [
        "emp[emp.duplicated(keep='first')] #te mantiene la primer observación y te selecciona las siguientes duplicadas"
      ]
    },
    {
      "cell_type": "code",
      "execution_count": null,
      "id": "a3a9dbb1-3d9a-48c4-9a37-8d98bed194e9",
      "metadata": {},
      "outputs": [],
      "source": [
        "#Método .drop_duplicates()\n",
        "#el objetivo es eliminar duplicados\n",
        "#Eliminar duplicados considerando todos los campos\n",
        "emp_sin_duplicados=emp.drop_duplicates()\n",
        "emp_sin_duplicados"
      ]
    },
    {
      "cell_type": "code",
      "execution_count": null,
      "id": "938e79f4-39a6-4839-bc35-f125e19ded39",
      "metadata": {},
      "outputs": [],
      "source": [
        "emp_sin_duplicados=emp.drop_duplicates(subset='nombre',keep='first')\n",
        "emp_sin_duplicados"
      ]
    },
    {
      "cell_type": "code",
      "execution_count": null,
      "id": "daadfc2c-4b87-4300-ade9-fc1b8a28b236",
      "metadata": {},
      "outputs": [],
      "source": [
        "emp_sin_duplicados=emp.drop_duplicates(subset='nombre',keep=False)\n",
        "emp_sin_duplicados"
      ]
    },
    {
      "cell_type": "code",
      "execution_count": null,
      "id": "83551030-0558-41c2-b67b-a77d07d83316",
      "metadata": {},
      "outputs": [],
      "source": [
        "dict = {\n",
        "    'nombre':['Areli199','Beto199'],\n",
        "    'es_directivo':['True','False'],\n",
        "    'genero':['F','M'],\n",
        "    'fh_ant':['2015-02-21','2017-03-15'],\n",
        "    'pct bono':[6.1,10],\n",
        "    'area':['reclutamiento','staff'],\n",
        "    'salario':[180000,78000],\n",
        "}\n",
        "aux=pd.DataFrame(dict)\n",
        "emp=pd.concat([emp,aux],ignore_index=True)"
      ]
    },
    {
      "cell_type": "code",
      "execution_count": null,
      "id": "0ba0c3a6-bad8-4af4-b3ba-bf4d1ff63031",
      "metadata": {},
      "outputs": [],
      "source": [
        "emp_sin_duplicados=emp.drop_duplicates(subset='nombre',keep=False)\n",
        "emp_sin_duplicados"
      ]
    },
    {
      "cell_type": "markdown",
      "id": "05b25b9b-6094-4c57-aad6-b26496f09511",
      "metadata": {},
      "source": [
        "# Ciclos"
      ]
    },
    {
      "cell_type": "markdown",
      "id": "632f7999-24db-46aa-8481-dfa24b31ff13",
      "metadata": {},
      "source": [
        "Se utilizan cuando tenemos un código que queremos repetir un número finito de veces. "
      ]
    },
    {
      "cell_type": "markdown",
      "id": "84c9d163-1cd3-4fd2-94d4-3c8b7c281753",
      "metadata": {},
      "source": [
        "# `For` loops"
      ]
    },
    {
      "cell_type": "markdown",
      "id": "dec90f69-2f9b-49a6-b875-c1b07cb1405e",
      "metadata": {},
      "source": [
        "Usaremos un `for` cuando conocemos a prior el número de veces que deseamos correr un bloque de código. \n",
        "\n",
        "La sintaxis para un `for loop` en python es la siguiente: \n",
        "\n",
        "```python\n",
        "    for elemento in secuencia: \n",
        "        #hacer algo con elemento\n",
        "```\n",
        "\n",
        "* `secuencia`: es un iterable: todo aquelo que contenga un índice (lista, string, diccionario, etc)\n",
        "* `elemento`: es una variable que toma como valor cada elemento dentro de `secuencia`\n",
        "* Todo bloque de código con sangría (identado) después del `for` se repite por cada `elemento` dentro de `secuancia`.\n",
        "\n",
        "Cuándo usar: Ideal para iterar cuando se conoce el número de iteraciones o para iterar directamente sobre los elementos de una secuencia.\n",
        "Ejemplos.\n",
        "* Iterar sobre una lista. \n",
        "\n"
      ]
    },
    {
      "cell_type": "code",
      "execution_count": null,
      "id": "baf19da9-6e91-4c92-a531-99392ab6e6a9",
      "metadata": {},
      "outputs": [],
      "source": [
        "frutas=['manzana','plátano','cereza']\n",
        "\n",
        "for fruta in frutas:\n",
        "    print(fruta)"
      ]
    },
    {
      "cell_type": "code",
      "execution_count": null,
      "id": "1a798ac3-a1ed-43de-b179-79a6ebfdc32f",
      "metadata": {},
      "outputs": [],
      "source": [
        "# Calcular el área de varios círculos con un 'for'"
      ]
    },
    {
      "cell_type": "code",
      "execution_count": null,
      "id": "b1f27035-7e8f-4539-9aa5-8b0fa7203771",
      "metadata": {},
      "outputs": [],
      "source": [
        "# Suongamos que tenemos estos radios\n",
        "radios=[1,2,3,4,6,8,9]"
      ]
    },
    {
      "cell_type": "code",
      "execution_count": null,
      "id": "17ae291f-17be-447f-a595-fbad5d32cd9b",
      "metadata": {},
      "outputs": [],
      "source": [
        "import math"
      ]
    },
    {
      "cell_type": "code",
      "execution_count": null,
      "id": "5cbafbfe-1212-43c2-9559-d1a8856e2566",
      "metadata": {},
      "outputs": [],
      "source": [
        "math.pi"
      ]
    },
    {
      "cell_type": "code",
      "execution_count": null,
      "id": "1e24e3ab-d311-412c-8eea-8ec6b06a601d",
      "metadata": {},
      "outputs": [],
      "source": [
        "for r in radios:\n",
        "    area=math.pi * r ** 2 \n",
        "    print(f\"Radio:{r}, Área:{area:.2f}\")"
      ]
    },
    {
      "cell_type": "code",
      "execution_count": null,
      "id": "69948ae2-d6bb-48c5-a3b9-c4fdd48b8ce8",
      "metadata": {},
      "outputs": [],
      "source": [
        "#For para sumar números del 1 al 10\n",
        "suma=0\n",
        "for i in range(1,11):\n",
        "    print(i)\n",
        "    suma += i # suma += i ---> suma=suma+i"
      ]
    },
    {
      "cell_type": "code",
      "execution_count": null,
      "id": "c5164e63-4582-4dd9-8721-3782ff55f72f",
      "metadata": {},
      "outputs": [],
      "source": [
        "print(\"La suma del 1 al 10 es : \",suma)"
      ]
    },
    {
      "cell_type": "code",
      "execution_count": null,
      "id": "0c21869c-5c64-469c-b67b-4de1f79a7c81",
      "metadata": {},
      "outputs": [],
      "source": [
        "#For para sumar números del 1 al 10\n",
        "suma=0\n",
        "for i in range(0,10):\n",
        "    print(i)\n",
        "    suma += i # suma += i ---> suma=suma+i"
      ]
    },
    {
      "cell_type": "code",
      "execution_count": null,
      "id": "db077f3e-30e5-4f70-8767-ce794339ea6c",
      "metadata": {},
      "outputs": [],
      "source": [
        "suma=0\n",
        "for i in range(10):\n",
        "    print(i)\n",
        "    suma += i # suma += i ---> suma=suma+i"
      ]
    },
    {
      "cell_type": "code",
      "execution_count": null,
      "id": "ea4b3cdc-9793-49eb-aa5f-7b74496dc176",
      "metadata": {},
      "outputs": [],
      "source": [
        "#For para sumar números del 1 al 10\n",
        "suma=0\n",
        "for i in range(5,9):\n",
        "    print(i)\n",
        "    suma += i # suma += i ---> suma=suma+i"
      ]
    },
    {
      "cell_type": "code",
      "execution_count": null,
      "id": "193a74ae-f2d7-4d19-be71-7daac5d5f45f",
      "metadata": {},
      "outputs": [],
      "source": [
        "#For para sumar números del 1 al 10\n",
        "suma=0\n",
        "for i in range(5,9,2):\n",
        "    print(i)\n",
        "    suma += i # suma += i ---> suma=suma+i"
      ]
    },
    {
      "cell_type": "code",
      "execution_count": null,
      "id": "a2ca4265-9fde-4e6d-877f-e75fd77435b9",
      "metadata": {},
      "outputs": [],
      "source": [
        "suma"
      ]
    },
    {
      "cell_type": "code",
      "execution_count": null,
      "id": "95ff624f-e5ca-4f78-bdc4-d648e646278a",
      "metadata": {},
      "outputs": [],
      "source": [
        "#For con condicional: imprimir solo pares\n",
        "for i in range(1,11):\n",
        "    if i % 2 == 0: #si dividen entre dos el residuo es cero (módulo 2)\n",
        "        print(f\"{i} es par\")\n",
        "    "
      ]
    },
    {
      "cell_type": "markdown",
      "id": "b5688092-6a03-4e6a-8c9b-b21519737519",
      "metadata": {},
      "source": [
        "# `While` loops"
      ]
    },
    {
      "cell_type": "markdown",
      "id": "64e1d7ba-31a5-4ac1-96b6-429956e7fba1",
      "metadata": {},
      "source": [
        "* ¿Qué es?: Un bucle while en Python ejecuta repetidamente la instrucción objetivo mientras la condición sea verdadera.\n",
        "* Sintaxis:\n",
        "```python\n",
        "while condicion:\n",
        "    #hace algo\n",
        "```"
      ]
    },
    {
      "cell_type": "markdown",
      "id": "7ac7b6aa-fe29-4242-a770-10367cf8d2ce",
      "metadata": {},
      "source": [
        "* ¿Cuándo usar? Mejor cuando no se conoce el número de iteraciones de antemano y se desea continuar con el bucle mientras se cumple una condición.\n",
        "* Ejemplo: Una cuenta regresiva simple"
      ]
    },
    {
      "cell_type": "code",
      "execution_count": null,
      "id": "8fed7b91-aa54-404d-bb20-f0d8524a05b8",
      "metadata": {},
      "outputs": [],
      "source": [
        "contador=5\n",
        "while contador>0:\n",
        "    print(\"Cuenta: \",contador)\n",
        "    contador -= 1  #### contador = contador - 1\n",
        "\n",
        "print(\"Despegue!\")"
      ]
    },
    {
      "cell_type": "code",
      "execution_count": null,
      "id": "08c41e6c-6459-46bc-820d-ed084d7aa536",
      "metadata": {},
      "outputs": [],
      "source": [
        "#While hasta que el usuario adivine el número\n",
        "numero_secreto=7\n",
        "intento=int(input(\"Adivina el número: \"))\n",
        "\n",
        "while intento != numero_secreto:\n",
        "    print(\"Incorrecto, intenta otra vez.\")\n",
        "    intento=int(input(\"Adivina el número: \"))\n",
        "\n",
        "print(\"Correcto!\")"
      ]
    },
    {
      "cell_type": "code",
      "execution_count": null,
      "id": "217ca862-bb92-4e83-80bc-b479a8f06fed",
      "metadata": {},
      "outputs": [],
      "source": [
        "#While para sumar hasta que supere cierto valor\n",
        "\n",
        "suma=0\n",
        "i=1\n",
        "while suma<50:\n",
        "    suma += i \n",
        "    print(f\"Sumando {i}, total:{suma}\")\n",
        "    i += 1 "
      ]
    },
    {
      "cell_type": "markdown",
      "id": "8a13cee8-079f-4376-a7a6-588f76edb2c7",
      "metadata": {},
      "source": [
        "# `Do While` loops (no hay en python)"
      ]
    },
    {
      "cell_type": "markdown",
      "id": "7f549367-1389-4eb0-975e-7afbb0abe05c",
      "metadata": {},
      "source": [
        "Python no tiene un ciclo `do while` como otros lenguajes, pero podemos emularlo usando un `while True` y un `break`"
      ]
    },
    {
      "cell_type": "markdown",
      "id": "98880e51-36f7-4ff9-95a9-7b2738da51c6",
      "metadata": {},
      "source": [
        "* Se puede emular su funcionalidad con un bucle de tipo `while``\n",
        "* La idea es ejecutar el cuerpo del ciclo una vez y luego continuar con base en una condición.\n",
        "\n",
        "1. Ejecutar el bloque una vez\n",
        "2. Luego verifica la condición para continuar\n",
        "3. Si no se cumple la condición, romple el ciclo con el `break`\n",
        "\n",
        "```python\n",
        "while True: \n",
        "    #hcer algo\n",
        "    if not condicion: \n",
        "        break\n",
        "```\n",
        "\n",
        "Ejemplo: `do while` para solicitar al usuario ingresar algo hasta condición de finalizar. \n",
        "Puntualmente, pedirle al usuario un número hasta que escriba \"salir\""
      ]
    },
    {
      "cell_type": "code",
      "execution_count": null,
      "id": "31b26b3d-1b1f-4b76-97f3-03474fbff204",
      "metadata": {},
      "outputs": [],
      "source": [
        "while True:\n",
        "    entrada=input(\"Escribe algo (escribe 'salir para terminar): \")\n",
        "    if entrada == 'salir':\n",
        "        break"
      ]
    },
    {
      "cell_type": "markdown",
      "id": "85e90964-53a5-426e-91da-870e84bae744",
      "metadata": {},
      "source": [
        "# Recordando range()\n",
        "**Rangos** La forma de crear un rango de números dentro de python es mediante la funcion `range`, la cual puede ser usada de 3 maneras: \n",
        "* `range(a)` crea un rango de valores de `0` hasta `a-1`\n",
        "* `range(a,b)` crea un rango de valores de `a`hata `b-1`\n",
        "* `range(a,b,s)` crea un rango de valores de `a` hasta `b-1` dando saltos de `s`"
      ]
    },
    {
      "cell_type": "code",
      "execution_count": null,
      "id": "1daa1d65-e238-4a0f-a85f-8c7206710f72",
      "metadata": {},
      "outputs": [],
      "source": [
        "range(-10,11)"
      ]
    },
    {
      "cell_type": "code",
      "execution_count": null,
      "id": "3a2c334f-b42b-4e51-935f-c1219e3b2ca2",
      "metadata": {},
      "outputs": [],
      "source": [
        "a=range(-10,11)\n",
        "a"
      ]
    },
    {
      "cell_type": "code",
      "execution_count": null,
      "id": "4124a34d-92f6-4d83-91d7-76a9896937bd",
      "metadata": {},
      "outputs": [],
      "source": [
        "list(a)"
      ]
    },
    {
      "cell_type": "code",
      "execution_count": null,
      "id": "c3216d2f-f40d-4469-a43d-0dd30b2ba637",
      "metadata": {},
      "outputs": [],
      "source": [
        "#Ejemplo gráfica simple usando un range\n",
        "import matplotlib.pyplot as plt\n",
        "\n",
        "x=list(range(-10,11))\n",
        "y=[i**2 for i in x]\n",
        "\n",
        "#Graficar\n",
        "plt.plot(x,y,marker='o')\n",
        "plt.title('Grafica de y=x^2')\n",
        "plt.xlabel('x')\n",
        "plt.ylabel('y')\n",
        "plt.grid(True)\n",
        "plt.show()"
      ]
    }
  ],
  "metadata": {
    "kernelspec": {
      "display_name": "Python 3 (ipykernel)",
      "language": "python",
      "name": "python3"
    },
    "language_info": {
      "codemirror_mode": {
        "name": "ipython",
        "version": 3
      },
      "file_extension": ".py",
      "mimetype": "text/x-python",
      "name": "python",
      "nbconvert_exporter": "python",
      "pygments_lexer": "ipython3",
      "version": "3.11.8"
    }
  },
  "nbformat": 4,
  "nbformat_minor": 5
}