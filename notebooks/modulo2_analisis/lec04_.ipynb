{
  "cells": [
    {
      "cell_type": "markdown",
      "id": "cf2d1bca-153a-499d-ab79-b0c06530fd8e",
      "metadata": {},
      "source": [
        "# Importar datos con `read_csv()`y otros métodos"
      ]
    },
    {
      "cell_type": "markdown",
      "id": "c11086ce-3a2c-4f57-9fb1-85e32a9feb6b",
      "metadata": {},
      "source": [
        "# Usaremos el dataset de iris"
      ]
    },
    {
      "cell_type": "markdown",
      "id": "8af8289b-0fa7-4819-b89d-9ef5fdae4967",
      "metadata": {},
      "source": [
        "<img src=\"iris_1.png\" width=\"300\">"
      ]
    },
    {
      "cell_type": "code",
      "execution_count": null,
      "id": "cb8fe957-771d-4154-a343-960a79ae1b80",
      "metadata": {},
      "outputs": [],
      "source": [
        "import os"
      ]
    },
    {
      "cell_type": "code",
      "execution_count": null,
      "id": "9fbad2cc-3e65-42e2-bd58-25c5cd9fa4e3",
      "metadata": {},
      "outputs": [],
      "source": [
        "os.getcwd()"
      ]
    },
    {
      "cell_type": "code",
      "execution_count": null,
      "id": "151437b6-5034-4fe8-8b68-0e2419eed1a0",
      "metadata": {
        "scrolled": true
      },
      "outputs": [],
      "source": [
        "pip install yfinance"
      ]
    },
    {
      "cell_type": "code",
      "execution_count": null,
      "id": "a71ae9d5-c313-42de-808f-86babce93a78",
      "metadata": {},
      "outputs": [],
      "source": [
        "import pandas as pd"
      ]
    },
    {
      "cell_type": "code",
      "execution_count": null,
      "id": "e6f9da0e-0c94-4c70-bc6a-ce9cc991a9a6",
      "metadata": {},
      "outputs": [],
      "source": [
        "import yfinance as yf"
      ]
    },
    {
      "cell_type": "code",
      "execution_count": null,
      "id": "dfd23f79-39df-4dc9-9ca7-dcf9477dd68c",
      "metadata": {},
      "outputs": [],
      "source": [
        "from sklearn import datasets"
      ]
    },
    {
      "cell_type": "code",
      "execution_count": null,
      "id": "f1065c9e-1650-4f58-99d9-ac3f846f9065",
      "metadata": {
        "scrolled": true
      },
      "outputs": [],
      "source": [
        "iris=datasets.load_iris()\n",
        "iris"
      ]
    },
    {
      "cell_type": "code",
      "execution_count": null,
      "id": "d2b5f4ca-5853-4828-a6f5-3d5aea53f73e",
      "metadata": {},
      "outputs": [],
      "source": [
        "type(iris)"
      ]
    },
    {
      "cell_type": "code",
      "execution_count": null,
      "id": "17fa0d18-205f-4602-af22-782316429660",
      "metadata": {},
      "outputs": [],
      "source": [
        "#Ustedes pueden hacer un DataFrame a partir de un Diccionario\n",
        "d={'data':[[1,2,3]],'feature_name':['Columna 1', 'Columna 2', 'Columna 3']}\n",
        "d"
      ]
    },
    {
      "cell_type": "code",
      "execution_count": null,
      "id": "0155299c-9e1f-4cc3-98ac-d5eb8dd12bd6",
      "metadata": {},
      "outputs": [],
      "source": [
        "pd.DataFrame(d['data'],columns=d['feature_name'])"
      ]
    },
    {
      "cell_type": "code",
      "execution_count": null,
      "id": "f782199d-c5be-4048-9ad3-a663f38ada8e",
      "metadata": {},
      "outputs": [],
      "source": [
        "pd.DataFrame(iris.data,columns=iris.feature_names)"
      ]
    },
    {
      "cell_type": "code",
      "execution_count": null,
      "id": "7522becf-3a7e-4c56-94ab-3413579ba22e",
      "metadata": {},
      "outputs": [],
      "source": [
        "pd.DataFrame(iris['data'],columns=iris['feature_names'])"
      ]
    },
    {
      "cell_type": "code",
      "execution_count": null,
      "id": "5fe0ba3b-ac4e-4c21-92bc-2e62e47e19b1",
      "metadata": {},
      "outputs": [],
      "source": [
        "df=pd.DataFrame(iris.data,columns=iris.feature_names)\n",
        "df"
      ]
    },
    {
      "cell_type": "code",
      "execution_count": null,
      "id": "22035571-0298-4e33-bf0a-7bf0a32a39d4",
      "metadata": {},
      "outputs": [],
      "source": [
        "#Otro metodo cargar directo de su compu csv\n",
        "#iris=pd.read_csv(\"iris.csv\")"
      ]
    },
    {
      "cell_type": "code",
      "execution_count": null,
      "id": "d7e33a95-7e53-4ac1-b67d-d448e226fe8b",
      "metadata": {},
      "outputs": [],
      "source": [
        "iris=pd.read_csv('iris.csv')\n",
        "iris"
      ]
    },
    {
      "cell_type": "markdown",
      "id": "2d874c7d-6814-42b5-92cd-d73c294b74c3",
      "metadata": {},
      "source": [
        "Si quieren pueden importar sólo una columna como una serie\n",
        "`squeeze()` fuerza a que el Df sera una Serie"
      ]
    },
    {
      "cell_type": "code",
      "execution_count": null,
      "id": "81488dc0-c2b0-4369-886e-82d2cd74495d",
      "metadata": {
        "scrolled": true
      },
      "outputs": [],
      "source": [
        "iris=pd.read_csv('iris.csv',usecols=['species']).squeeze()\n",
        "iris"
      ]
    },
    {
      "cell_type": "code",
      "execution_count": null,
      "id": "1d9e14ff-7b8a-4f23-93ea-6db99f6f796c",
      "metadata": {},
      "outputs": [],
      "source": [
        "iris=pd.read_csv('iris.csv',encoding=\"latin1\")\n",
        "iris"
      ]
    },
    {
      "cell_type": "code",
      "execution_count": null,
      "id": "ed776a72-7ede-4fbe-9035-ea20939d2a54",
      "metadata": {},
      "outputs": [],
      "source": [
        "iris=pd.read_csv('/Users/carloscarrasco/Library/Mobile Documents/com~apple~CloudDocs/Desktop/Pronósticos/Alexis/M1/Mio/iris.csv')\n",
        "iris"
      ]
    },
    {
      "cell_type": "code",
      "execution_count": null,
      "id": "c29dbcb3-9eea-438a-9760-45bf8a3ea68e",
      "metadata": {},
      "outputs": [],
      "source": [
        "type(iris)"
      ]
    },
    {
      "cell_type": "code",
      "execution_count": null,
      "id": "75cee59b-a4e8-4843-a49c-c75420bcbc1c",
      "metadata": {
        "scrolled": true
      },
      "outputs": [],
      "source": [
        "dir(iris)"
      ]
    },
    {
      "cell_type": "code",
      "execution_count": null,
      "id": "4fa2afb2-6f13-4841-928d-494e5241f18e",
      "metadata": {},
      "outputs": [],
      "source": [
        "iris.head()"
      ]
    },
    {
      "cell_type": "code",
      "execution_count": null,
      "id": "0e8196b5-f100-4b7c-a4ae-167e28eb406e",
      "metadata": {},
      "outputs": [],
      "source": [
        "iris.tail()"
      ]
    },
    {
      "cell_type": "code",
      "execution_count": null,
      "id": "429dcb84-1857-4690-b6d0-5f168f512b01",
      "metadata": {},
      "outputs": [],
      "source": [
        "iris.species #seleccionar columnas"
      ]
    },
    {
      "cell_type": "code",
      "execution_count": null,
      "id": "4e906e34-de0b-4c01-8b40-328484f48bad",
      "metadata": {
        "scrolled": true
      },
      "outputs": [],
      "source": [
        "sorted(iris.species)"
      ]
    },
    {
      "cell_type": "code",
      "execution_count": null,
      "id": "2508ccc4-e3b0-450b-8a62-234474a39d71",
      "metadata": {
        "scrolled": true
      },
      "outputs": [],
      "source": [
        "list(iris.species)"
      ]
    },
    {
      "cell_type": "code",
      "execution_count": null,
      "id": "449a4443-76ed-4e34-9310-8faa78508f9a",
      "metadata": {},
      "outputs": [],
      "source": [
        "#Descargar datos de precios de la acción de NVDA sobre un periodo determinado (usando API internet). \n",
        "nvda_s=yf.download('NVDA',start='2018-01-01',end='2025-08-27')\n",
        "nvda_s.head()"
      ]
    },
    {
      "cell_type": "code",
      "execution_count": null,
      "id": "c7a35fb0-6ddd-4b4b-b3d5-1c906289aea3",
      "metadata": {},
      "outputs": [],
      "source": [
        "nvda_s"
      ]
    },
    {
      "cell_type": "code",
      "execution_count": null,
      "id": "add35497-b4f0-4249-9e9f-102c87543001",
      "metadata": {},
      "outputs": [],
      "source": [
        "nvda_s.index"
      ]
    },
    {
      "cell_type": "code",
      "execution_count": null,
      "id": "7c047cbe-bb18-4ec1-a8d9-ea99cbaaa416",
      "metadata": {},
      "outputs": [],
      "source": [
        "nvda_s.columns"
      ]
    },
    {
      "cell_type": "code",
      "execution_count": null,
      "id": "a35e9bff-aad5-4934-b10f-e1fecd0c44ae",
      "metadata": {},
      "outputs": [],
      "source": [
        "type(nvda_s)"
      ]
    },
    {
      "cell_type": "code",
      "execution_count": null,
      "id": "258f4469-0edb-4465-ace2-bebbf5457040",
      "metadata": {},
      "outputs": [],
      "source": [
        "nvda_s.to_clipboard()"
      ]
    },
    {
      "cell_type": "code",
      "execution_count": null,
      "id": "f448e3cd-68eb-4f7c-9fef-4e4e2982b0d5",
      "metadata": {},
      "outputs": [],
      "source": [
        "nvda_s.plot()"
      ]
    },
    {
      "cell_type": "code",
      "execution_count": null,
      "id": "750e454c-f4ea-42ef-b6ab-ac96c6497f1c",
      "metadata": {},
      "outputs": [],
      "source": [
        "nvda_s.loc[:,(\"Close\",'NVDA')]"
      ]
    },
    {
      "cell_type": "code",
      "execution_count": null,
      "id": "8b154069-4a8c-49ad-9c5d-3ffc51ac3e01",
      "metadata": {},
      "outputs": [],
      "source": [
        "type(nvda_s.loc[:,(\"Close\",'NVDA')])"
      ]
    },
    {
      "cell_type": "code",
      "execution_count": null,
      "id": "e0dd5847-947f-4364-9346-c7126209a99f",
      "metadata": {},
      "outputs": [],
      "source": [
        "nvda_s.loc[:,(\"Close\",'NVDA')].plot()"
      ]
    },
    {
      "cell_type": "code",
      "execution_count": null,
      "id": "bd443e9e-3b9a-46c9-b64a-e9763d3a0ab0",
      "metadata": {},
      "outputs": [],
      "source": [
        "tech=['AAPL','NVDA','TSLA','AMZN','GOOGL','META','MSFT']"
      ]
    },
    {
      "cell_type": "code",
      "execution_count": null,
      "id": "7b1e8231-1cc9-4ffa-8762-37276040c65a",
      "metadata": {},
      "outputs": [],
      "source": [
        "tech1=yf.download(tech,start='2025-01-01',end='2025-08-27')[\"Close\"]"
      ]
    },
    {
      "cell_type": "code",
      "execution_count": null,
      "id": "78980896-e89b-40c5-8570-94f5e3b53c0d",
      "metadata": {},
      "outputs": [],
      "source": [
        "tech1"
      ]
    },
    {
      "cell_type": "code",
      "execution_count": null,
      "id": "6c0bb086-8b16-4fec-9d56-56ab3b6cb713",
      "metadata": {},
      "outputs": [],
      "source": [
        "tech1.columns"
      ]
    },
    {
      "cell_type": "code",
      "execution_count": null,
      "id": "ce816d87-09ce-4e57-b6f8-54fb43adb1dd",
      "metadata": {},
      "outputs": [],
      "source": [
        "tech1.index"
      ]
    },
    {
      "cell_type": "code",
      "execution_count": null,
      "id": "f070e711-0708-46cf-a39b-65b73cf6be8d",
      "metadata": {},
      "outputs": [],
      "source": [
        "tech1.plot()"
      ]
    },
    {
      "cell_type": "code",
      "execution_count": null,
      "id": "5d5a2fb5-d34f-4b7f-88c1-02e2e29ae84c",
      "metadata": {},
      "outputs": [],
      "source": [
        "tech1['TSLA']"
      ]
    },
    {
      "cell_type": "code",
      "execution_count": null,
      "id": "673ed5be-e4d3-4fc2-90e6-0f03ea441f98",
      "metadata": {},
      "outputs": [],
      "source": [
        "tech1.loc[:,'TSLA']"
      ]
    },
    {
      "cell_type": "code",
      "execution_count": null,
      "id": "dabddc24-83ac-48bb-ac44-70c8c4ad9ea2",
      "metadata": {},
      "outputs": [],
      "source": [
        "tech1.iloc[0]"
      ]
    },
    {
      "cell_type": "code",
      "execution_count": null,
      "id": "8d188938-63f9-4c1f-a2dd-b9e422d4e855",
      "metadata": {},
      "outputs": [],
      "source": [
        "rend_acumulado=tech1/tech1.iloc[0]-1\n",
        "rend_acumulado"
      ]
    },
    {
      "cell_type": "code",
      "execution_count": null,
      "id": "2525e692-2ac7-49ae-83b6-1e51884c60c4",
      "metadata": {},
      "outputs": [],
      "source": [
        "rend_acumulado.plot()"
      ]
    },
    {
      "cell_type": "code",
      "execution_count": null,
      "id": "1f3b37ad-8992-469a-8aef-268390ee2d7e",
      "metadata": {},
      "outputs": [],
      "source": [
        "rend_acumulado['AAPL'] #serie"
      ]
    },
    {
      "cell_type": "code",
      "execution_count": null,
      "id": "ed82dfcc-26e4-49fc-bd6c-92f924993f90",
      "metadata": {
        "scrolled": true
      },
      "outputs": [],
      "source": [
        "rend_acumulado['AAPL'].values #arreglo."
      ]
    },
    {
      "cell_type": "code",
      "execution_count": null,
      "id": "07514410-5388-462c-bf3d-3faa76926788",
      "metadata": {},
      "outputs": [],
      "source": [
        "apple=tech1['AAPL']"
      ]
    },
    {
      "cell_type": "code",
      "execution_count": null,
      "id": "c80bffeb-a7a9-4223-9142-f0efa9e9fe92",
      "metadata": {},
      "outputs": [],
      "source": [
        "apple"
      ]
    },
    {
      "cell_type": "code",
      "execution_count": null,
      "id": "d0d6197f-295f-45ea-a32f-41da1be41fab",
      "metadata": {},
      "outputs": [],
      "source": [
        "type(apple)"
      ]
    },
    {
      "cell_type": "markdown",
      "id": "2320714e-f896-4e45-9a5a-7e762dce715e",
      "metadata": {},
      "source": [
        "## Tenemos funciones como min(), max(), mean()"
      ]
    },
    {
      "cell_type": "code",
      "execution_count": null,
      "id": "1bdee430-1caf-4cfa-a7b0-39cfc11adcc5",
      "metadata": {},
      "outputs": [],
      "source": [
        "max(apple)"
      ]
    },
    {
      "cell_type": "code",
      "execution_count": null,
      "id": "d5470529-4f5f-44b7-9aea-6a5cf469f602",
      "metadata": {},
      "outputs": [],
      "source": [
        "rend_acumulado.describe()"
      ]
    },
    {
      "cell_type": "code",
      "execution_count": null,
      "id": "149be7be-bc73-42fb-9e16-f338693eaea4",
      "metadata": {},
      "outputs": [],
      "source": [
        "#Continuar la base de iris\n",
        "iris"
      ]
    },
    {
      "cell_type": "code",
      "execution_count": null,
      "id": "ea788edf-cd7c-4143-a9f1-9a4e7b27d0ac",
      "metadata": {},
      "outputs": [],
      "source": [
        "max(iris[\"species\"]) #porque está por orden alfabético (virginia), versicolar y setosa. "
      ]
    },
    {
      "cell_type": "code",
      "execution_count": null,
      "id": "9dbd225d-f221-4d11-b392-370b99537d81",
      "metadata": {},
      "outputs": [],
      "source": [
        "min(iris[\"species\"]) "
      ]
    },
    {
      "cell_type": "code",
      "execution_count": null,
      "id": "5bf9160d-a3aa-48ae-ab25-1f90afd131ba",
      "metadata": {},
      "outputs": [],
      "source": [
        "#Atributos\n",
        "apple.dtype"
      ]
    },
    {
      "cell_type": "code",
      "execution_count": null,
      "id": "3676de80-3c75-453c-823a-547266c0e07e",
      "metadata": {},
      "outputs": [],
      "source": [
        "apple.ndim"
      ]
    },
    {
      "cell_type": "code",
      "execution_count": null,
      "id": "88690cd1-9a7f-4d06-a50d-83bd23283020",
      "metadata": {},
      "outputs": [],
      "source": [
        "apple.shape"
      ]
    },
    {
      "cell_type": "code",
      "execution_count": null,
      "id": "ae076b7f-a00d-4d14-9e84-dab96b7976fe",
      "metadata": {},
      "outputs": [],
      "source": [
        "apple.size"
      ]
    },
    {
      "cell_type": "markdown",
      "id": "f61655ad-c91e-43ce-b480-0f72e9a6f3b6",
      "metadata": {},
      "source": [
        "## Método `sort_values()`"
      ]
    },
    {
      "cell_type": "code",
      "execution_count": null,
      "id": "d4443a3a-0a5e-45b1-9d0e-599893ae2725",
      "metadata": {},
      "outputs": [],
      "source": [
        "apple.sort_values() #ordena de forma ascendente #n los precios, apple su precio más alto lo tuvo en febrero."
      ]
    },
    {
      "cell_type": "code",
      "execution_count": null,
      "id": "453e3419-63b9-4fcb-8036-9214af90c2e4",
      "metadata": {},
      "outputs": [],
      "source": [
        "apple.sort_values().head() #method chaining"
      ]
    },
    {
      "cell_type": "code",
      "execution_count": null,
      "id": "22099a80-08f9-4ff3-8644-2a5310817e95",
      "metadata": {},
      "outputs": [],
      "source": [
        "apple.sort_values(ascending=False)"
      ]
    },
    {
      "cell_type": "code",
      "execution_count": null,
      "id": "5bb8551c-68de-4d0e-8f81-89d3084f550c",
      "metadata": {},
      "outputs": [],
      "source": [
        "apple"
      ]
    },
    {
      "cell_type": "code",
      "execution_count": null,
      "id": "b3e0c3cb-256b-47cd-aec4-3ebfa6f4c946",
      "metadata": {},
      "outputs": [],
      "source": [
        "apple1=apple"
      ]
    },
    {
      "cell_type": "code",
      "execution_count": null,
      "id": "5eb2c3fe-75db-4c00-9dff-c596802dd542",
      "metadata": {},
      "outputs": [],
      "source": [
        "apple2=apple"
      ]
    },
    {
      "cell_type": "code",
      "execution_count": null,
      "id": "e70b66fb-7f7a-45ad-babf-241ed82c91d6",
      "metadata": {},
      "outputs": [],
      "source": [
        "apple1"
      ]
    },
    {
      "cell_type": "code",
      "execution_count": null,
      "id": "37532de8-e413-4a94-84d6-d7006579ad80",
      "metadata": {},
      "outputs": [],
      "source": [
        "apple2"
      ]
    },
    {
      "cell_type": "code",
      "execution_count": null,
      "id": "bd45c525-0aa9-4cee-a86a-54d2b1f19cb8",
      "metadata": {},
      "outputs": [],
      "source": [
        "apple1=apple1+1\n",
        "apple1"
      ]
    },
    {
      "cell_type": "code",
      "execution_count": null,
      "id": "4821e341-dafc-47ef-89ce-cf978873c66c",
      "metadata": {},
      "outputs": [],
      "source": [
        "apple2"
      ]
    },
    {
      "cell_type": "code",
      "execution_count": null,
      "id": "88ed3853-1ab0-48a1-974d-4bc9619b33d5",
      "metadata": {},
      "outputs": [],
      "source": [
        "apple2=apple2+1 #sí les está haciendo una copia\n",
        "apple2"
      ]
    },
    {
      "cell_type": "code",
      "execution_count": null,
      "id": "b5a6b678-b151-4c23-8d43-bdb9be0bfdf3",
      "metadata": {},
      "outputs": [],
      "source": [
        "id(apple2)"
      ]
    },
    {
      "cell_type": "code",
      "execution_count": null,
      "id": "10f42dfc-faef-4a67-a55d-abe287cf8762",
      "metadata": {},
      "outputs": [],
      "source": [
        "id(apple1)"
      ]
    },
    {
      "cell_type": "code",
      "execution_count": null,
      "id": "063ea127-e96d-411d-9ade-947eedf45e95",
      "metadata": {},
      "outputs": [],
      "source": [
        "id(apple)"
      ]
    },
    {
      "cell_type": "code",
      "execution_count": null,
      "id": "6b6a676d-961f-4e3b-974d-bd128bfcd1b1",
      "metadata": {},
      "outputs": [],
      "source": [
        "apple3=apple.copy()\n",
        "apple3"
      ]
    },
    {
      "cell_type": "code",
      "execution_count": null,
      "id": "baa06ff5-f592-4cae-9a3a-bc4615db4519",
      "metadata": {},
      "outputs": [],
      "source": [
        "id(apple)"
      ]
    },
    {
      "cell_type": "code",
      "execution_count": null,
      "id": "632d4dfd-93c9-4931-9959-0a830e500644",
      "metadata": {},
      "outputs": [],
      "source": [
        "id(apple3)"
      ]
    },
    {
      "cell_type": "markdown",
      "id": "481f7c4d-4e76-4b99-ae57-079038a7d36e",
      "metadata": {},
      "source": [
        "Con el método `sort_values()` **NO MODIFICAMOS** nuestra serie original. Para hacerlo cambios el parámetros \n",
        "---> `inplace=True`"
      ]
    },
    {
      "cell_type": "code",
      "execution_count": null,
      "id": "2c010d41-5603-4f00-8b4c-3684785329a2",
      "metadata": {},
      "outputs": [],
      "source": [
        "apple3.sort_values(ascending=False,inplace=True)"
      ]
    },
    {
      "cell_type": "code",
      "execution_count": null,
      "id": "236b23d0-701f-40dd-b670-c8e836613a93",
      "metadata": {},
      "outputs": [],
      "source": [
        "apple3"
      ]
    },
    {
      "cell_type": "markdown",
      "id": "85761511-fe5d-4934-9455-3811712ea2c3",
      "metadata": {},
      "source": [
        "### Método `value_counts`"
      ]
    },
    {
      "cell_type": "code",
      "execution_count": null,
      "id": "31583127-b3b1-43df-9c08-dc14108ba42a",
      "metadata": {},
      "outputs": [],
      "source": [
        "iris['species'].value_counts()"
      ]
    },
    {
      "cell_type": "code",
      "execution_count": null,
      "id": "f5d84aaf-9f9e-4ac6-8623-6a3747f07529",
      "metadata": {},
      "outputs": [],
      "source": [
        "iris['species'].value_counts()/150*100"
      ]
    },
    {
      "cell_type": "code",
      "execution_count": null,
      "id": "ced05994-75ba-4bba-969e-d85a4a7bafe2",
      "metadata": {},
      "outputs": [],
      "source": [
        "iris['species'].value_counts(normalize=True)"
      ]
    },
    {
      "cell_type": "code",
      "execution_count": null,
      "id": "fc069403-5126-42a5-ab26-2d3dd1cff981",
      "metadata": {},
      "outputs": [],
      "source": [
        "\"setosa\" in iris['species'].values"
      ]
    },
    {
      "cell_type": "markdown",
      "id": "bb05361f-04ed-4ede-9716-1f78d2d82f5b",
      "metadata": {},
      "source": [
        "# Acceder a valores de un Pandas Series"
      ]
    },
    {
      "cell_type": "code",
      "execution_count": null,
      "id": "0da85daf-188a-4e39-8387-a3c4f589fada",
      "metadata": {},
      "outputs": [],
      "source": [
        "iris['species'][[2,8,10]]"
      ]
    },
    {
      "cell_type": "markdown",
      "id": "73b4c8c9-64f2-4f83-aa25-40d6c955507e",
      "metadata": {},
      "source": [
        "# Métodos `idxmax()` e `idxmin()` y `count()`"
      ]
    },
    {
      "cell_type": "markdown",
      "id": "c5ddbfb5-9351-43ef-8c97-28ee177afe76",
      "metadata": {},
      "source": [
        "# Ejemplo: Machine Learning y Pandas"
      ]
    },
    {
      "cell_type": "markdown",
      "id": "1e2cd05b-22be-4742-8f34-5f2ae6fa8771",
      "metadata": {},
      "source": [
        "# Extrayendo mediante las Etiquetas del índice"
      ]
    },
    {
      "cell_type": "markdown",
      "id": "554e5b01-c56a-4648-93b8-6def95fd9020",
      "metadata": {},
      "source": [
        "Usaremos el siguiente archivo `iris_id.csv`"
      ]
    },
    {
      "cell_type": "markdown",
      "id": "5ac24d61-1656-4734-8b19-596735b78f50",
      "metadata": {},
      "source": [
        "# Función `range()`"
      ]
    },
    {
      "cell_type": "markdown",
      "id": "0d8a33e4-ce26-4c18-8718-6dbcb97213f8",
      "metadata": {},
      "source": [
        "La función `range()` en Python se utiliza para generar una secuencia de números. Es comunmente usada en bucles `for` para iterar sobre una secuencia de números. `range()` puede tomar uno, dos o tres argumentos: \n",
        "\n",
        "- **Inicio**: El valor inicial de la secuencia (inclusive). Si se omite, por defecto es 0.\n",
        "- **Fin**: El valor final de la secuencia (exclusivo). Este argumento es necesario.\n",
        "- **Paso**: La diferencia entre cada número en la secuencia. Si se omite por defecto es 1.\n",
        "\n",
        "La funión `range()` devuelve una secuencia inmutable de números entre los valores de **inicio** y **fin**\n",
        "\n",
        "#### Ejemplos de `range()` \n",
        "\n",
        "- `range(5)`genera números del 0 al 4\n",
        "- `range(1,5)` genera números del 1 al 4\n",
        "- `range(1,10,2)` genera los números 1,3,5,7,9\n",
        "\n",
        "#### Uso de `range()` en Bucles `for` \n",
        "- Un `for` loop se utiliza para iterar sobre una secuencia (como una lista, tupla o string), u otros objetos iterables\n",
        "- Sintaxis:\n",
        "\n",
        "```python\n",
        "\n",
        "for elemento in secuencia: \n",
        "    #haz algo con ese elemnto\n",
        "\n",
        "\n",
        "```"
      ]
    },
    {
      "cell_type": "markdown",
      "id": "a1c409f0-c4cd-47c5-a91e-f7b7765f60b5",
      "metadata": {},
      "source": [
        "Modificar nuestra serie de 'apple' para que tenga el índice númérico estándar usando \n",
        "la función `range()` "
      ]
    },
    {
      "cell_type": "markdown",
      "id": "c42855f8-7f8b-4b21-a092-32e511f05901",
      "metadata": {},
      "source": [
        "# Método `apply()`"
      ]
    }
  ],
  "metadata": {
    "kernelspec": {
      "display_name": "Python 3 (ipykernel)",
      "language": "python",
      "name": "python3"
    },
    "language_info": {
      "codemirror_mode": {
        "name": "ipython",
        "version": 3
      },
      "file_extension": ".py",
      "mimetype": "text/x-python",
      "name": "python",
      "nbconvert_exporter": "python",
      "pygments_lexer": "ipython3",
      "version": "3.11.8"
    }
  },
  "nbformat": 4,
  "nbformat_minor": 5
}