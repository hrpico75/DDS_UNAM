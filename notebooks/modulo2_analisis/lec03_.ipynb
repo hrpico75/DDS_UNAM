{
  "cells": [
    {
      "cell_type": "markdown",
      "id": "2c037941-d29f-4f37-b1e4-4ca88a37afed",
      "metadata": {},
      "source": [
        "# Slicing"
      ]
    },
    {
      "cell_type": "markdown",
      "id": "694603a8-df26-400a-8b19-54420a701c04",
      "metadata": {},
      "source": [
        "En ocasiones, nos interesa acceder al subconjunto de una secuencia de caracteres (`str`). En Python, esto se conoce como `slicing`\n",
        "\n",
        "La sintáxis para acceder al $i$-ésimo elemento de un string es el siguiente: \n",
        "\n",
        "\n",
        "```python\n",
        "\n",
        "\"string\"[i]\n",
        "\n",
        "```\n",
        "\n",
        "**Nota**: Python cuenta desde cero, por lo tanto, el primer índice de `str`es `0` "
      ]
    },
    {
      "cell_type": "markdown",
      "id": "77b14973-46c4-4805-ab88-d452c6a6eb21",
      "metadata": {},
      "source": [
        "En Python, el índice `numérico estándar` empieza en **`cero`**"
      ]
    },
    {
      "cell_type": "code",
      "execution_count": null,
      "id": "a260896b-a39e-4a3b-bfc4-a5fbf8d357cc",
      "metadata": {},
      "outputs": [],
      "source": [
        "palabra=\"palabra\""
      ]
    },
    {
      "cell_type": "code",
      "execution_count": null,
      "id": "e7b71bcd-910c-4976-882e-69bbc0426e57",
      "metadata": {},
      "outputs": [],
      "source": [
        "len(palabra)"
      ]
    },
    {
      "cell_type": "code",
      "execution_count": null,
      "id": "54ac8fda-b14c-4731-9461-7b6817fd5fa2",
      "metadata": {},
      "outputs": [],
      "source": [
        "palabra[0] #para acceder al primer elemento ponemos un 0"
      ]
    },
    {
      "cell_type": "code",
      "execution_count": null,
      "id": "44145bb0-f568-41e7-91a4-d40c67ed1970",
      "metadata": {},
      "outputs": [],
      "source": [
        "palabra[6] #para acceder al último elemento ponemos un 6"
      ]
    },
    {
      "cell_type": "code",
      "execution_count": null,
      "id": "33ddc3ef-f7f9-4b04-9e44-dc3cbace8b38",
      "metadata": {},
      "outputs": [],
      "source": [
        "palabra[-1] #también pueden acceder al último elemento del string con un -1"
      ]
    },
    {
      "cell_type": "code",
      "execution_count": null,
      "id": "653b1d0e-5d91-4a3b-990e-9620c15c70e1",
      "metadata": {},
      "outputs": [],
      "source": [
        "palabra[7]"
      ]
    },
    {
      "cell_type": "markdown",
      "id": "230b126e-48a5-4361-afb2-4a35224c7cc0",
      "metadata": {},
      "source": [
        "Python puede contar de izquierda a derecha (empezando en `0`) y de derecha a izquierda (empezando en `-1`). \n",
        "\n",
        "\n",
        "```c\n",
        "P    Y    T    H    O    N \n",
        "0    1    2    3    4    5\n",
        "-6  -5   -4   -3   -2   -1\n",
        "```"
      ]
    },
    {
      "cell_type": "code",
      "execution_count": null,
      "id": "94c93deb-16c9-48b9-8636-8d2bb4146ba0",
      "metadata": {},
      "outputs": [],
      "source": [
        "\"Python\"[0]"
      ]
    },
    {
      "cell_type": "code",
      "execution_count": null,
      "id": "1f282fa1-f9f9-4229-9e5e-1f4287c6cc2d",
      "metadata": {},
      "outputs": [],
      "source": [
        "\"Python\"[4]"
      ]
    },
    {
      "cell_type": "code",
      "execution_count": null,
      "id": "c3df6509-7f0d-4f5b-9b58-5bc49b122f72",
      "metadata": {},
      "outputs": [],
      "source": [
        "\"Python\"[5]"
      ]
    },
    {
      "cell_type": "code",
      "execution_count": null,
      "id": "f0deecc3-e4fe-473a-afd8-e85ab846e89b",
      "metadata": {},
      "outputs": [],
      "source": [
        "\"Python\"[-1]"
      ]
    },
    {
      "cell_type": "code",
      "execution_count": null,
      "id": "3e96229b-3ae0-4d40-a8df-d19204894edb",
      "metadata": {},
      "outputs": [],
      "source": [
        "\"Python\"[-2]"
      ]
    },
    {
      "cell_type": "code",
      "execution_count": null,
      "id": "14c46ceb-5ea0-4ce3-88f9-6417f723bee3",
      "metadata": {},
      "outputs": [],
      "source": [
        "\"Python\"[-6]"
      ]
    },
    {
      "cell_type": "code",
      "execution_count": null,
      "id": "312ecec1-d8ae-402d-9533-d4d1326b1c8c",
      "metadata": {},
      "outputs": [],
      "source": [
        "\"Python\"[6]"
      ]
    },
    {
      "cell_type": "code",
      "execution_count": null,
      "id": "021a599e-1e69-46e4-a21a-125d1d225ab4",
      "metadata": {},
      "outputs": [],
      "source": [
        "\"Python\"[-7]"
      ]
    },
    {
      "cell_type": "code",
      "execution_count": null,
      "id": "78bc5c89-3e1f-4641-a477-342aab245324",
      "metadata": {},
      "outputs": [],
      "source": [
        "len(\"Python\")-1"
      ]
    },
    {
      "cell_type": "code",
      "execution_count": null,
      "id": "af03817a-129b-4b85-9593-13ef6b73521d",
      "metadata": {},
      "outputs": [],
      "source": [
        "\"Python\"[len(\"Python\")-1] #si quisiéramos el último caracter y no sabes cuántos son"
      ]
    },
    {
      "cell_type": "code",
      "execution_count": null,
      "id": "26cba655-69f9-45a8-ae4a-9d25bdd81c9b",
      "metadata": {},
      "outputs": [],
      "source": [
        "\"Python\"[-1] #último caracter. Aquí ya no te importa, sino nada más quiero el último"
      ]
    },
    {
      "cell_type": "code",
      "execution_count": null,
      "id": "ab6c47ec-16d8-40d3-a624-81a5ed8cc3a7",
      "metadata": {},
      "outputs": [],
      "source": [
        "\"Python\"[len(\"Python\")]"
      ]
    },
    {
      "cell_type": "markdown",
      "id": "71bf2d71-ca6b-43b7-8bcf-6b2865336460",
      "metadata": {},
      "source": [
        "\n",
        "```python\n",
        "\n",
        "\"slicing\"[ini:fin]\n",
        "\n",
        "ini: donde inicia\n",
        "fin: done acaba (no es incluyente)\n",
        "\n",
        "```\n",
        "\n"
      ]
    },
    {
      "cell_type": "code",
      "execution_count": null,
      "id": "12eb4121-8683-48f3-a9de-66045bbc1ff6",
      "metadata": {},
      "outputs": [],
      "source": [
        "\"Python\"[2:3] "
      ]
    },
    {
      "cell_type": "code",
      "execution_count": null,
      "id": "cf1c7d94-e4ba-442d-bc67-6eb4dc88c3ee",
      "metadata": {},
      "outputs": [],
      "source": [
        "\"Python\"[2:4] "
      ]
    },
    {
      "cell_type": "code",
      "execution_count": null,
      "id": "a1570639-17de-49e1-b522-60d27cc37663",
      "metadata": {},
      "outputs": [],
      "source": [
        "\"Python\"[-1:] "
      ]
    },
    {
      "cell_type": "markdown",
      "id": "1effb46b-65d9-42ec-9717-8818f36c8984",
      "metadata": {},
      "source": [
        "```c\n",
        "P    Y    T    H    O    N \n",
        "0    1    2    3    4    5\n",
        "-6  -5   -4   -3   -2   -1\n",
        "```"
      ]
    },
    {
      "cell_type": "code",
      "execution_count": null,
      "id": "e6ef876a-f764-41d4-822f-af766791ebfd",
      "metadata": {},
      "outputs": [],
      "source": [
        "\"Python\"[-3:-1] "
      ]
    },
    {
      "cell_type": "code",
      "execution_count": null,
      "id": "42a36284-8873-4b64-b4e5-a0285d1352a1",
      "metadata": {},
      "outputs": [],
      "source": [
        "\"Python\"[-3:] "
      ]
    },
    {
      "cell_type": "code",
      "execution_count": null,
      "id": "1d9d67c2-35d2-486d-a6aa-df81b96621b8",
      "metadata": {},
      "outputs": [],
      "source": [
        "\"Python\"[5:8]"
      ]
    },
    {
      "cell_type": "code",
      "execution_count": null,
      "id": "c8de7112-cef8-4057-bbd8-422c33e0efff",
      "metadata": {},
      "outputs": [],
      "source": [
        "\"Python\"[6:8]"
      ]
    },
    {
      "cell_type": "code",
      "execution_count": null,
      "id": "58fd7edf-2ad2-4fee-9296-a1c0c8556165",
      "metadata": {},
      "outputs": [],
      "source": [
        "\"Python\"[:]"
      ]
    },
    {
      "cell_type": "markdown",
      "id": "4d18b8ed-41b3-47ae-9898-f65f32cced53",
      "metadata": {},
      "source": [
        "```python\n",
        "\n",
        "\"slicing\"[ini:fin:k]\n",
        "\n",
        "ini: donde inicia\n",
        "fin: done acaba (no es incluyente)\n",
        "k: avance/saltos\n",
        "\n",
        "\n",
        "```\n"
      ]
    },
    {
      "cell_type": "markdown",
      "id": "8715696d-d8d9-4267-921e-fd285043daa6",
      "metadata": {},
      "source": [
        "```c\n",
        "P    Y    T    H    O    N \n",
        "0    1    2    3    4    5\n",
        "-6  -5   -4   -3   -2   -1\n",
        "```"
      ]
    },
    {
      "cell_type": "code",
      "execution_count": null,
      "id": "1ba4c72e-f840-441c-97c0-3214b5ccde31",
      "metadata": {},
      "outputs": [],
      "source": [
        "\"Python\"[5:6:1]"
      ]
    },
    {
      "cell_type": "code",
      "execution_count": null,
      "id": "10eb93eb-4bbc-4936-a4aa-9c288b4c38db",
      "metadata": {},
      "outputs": [],
      "source": [
        "\"Python\"[1:6:2]"
      ]
    },
    {
      "cell_type": "code",
      "execution_count": null,
      "id": "f3bfe689-332b-4b12-81cd-fe73e975c293",
      "metadata": {},
      "outputs": [],
      "source": [
        "\"Python\"[0:5:2]"
      ]
    },
    {
      "cell_type": "code",
      "execution_count": null,
      "id": "41dad6af-eb28-48fe-9c33-557dd67f3da2",
      "metadata": {},
      "outputs": [],
      "source": [
        "\"Python\"[-6:-1:2]"
      ]
    },
    {
      "cell_type": "code",
      "execution_count": null,
      "id": "19d6e47c-c7be-46f6-8bd0-83f764c7e321",
      "metadata": {},
      "outputs": [],
      "source": [
        "\"Python\"[1:5:-1]"
      ]
    },
    {
      "cell_type": "code",
      "execution_count": null,
      "id": "decacf37-44f2-45f7-b961-d691ed176f95",
      "metadata": {},
      "outputs": [],
      "source": [
        "\"Python\"[-1:-6:-1] #si todos son negativo se va en reversa"
      ]
    },
    {
      "cell_type": "code",
      "execution_count": null,
      "id": "ac6cb0c7-220f-40b0-9dcd-09b70def7cdf",
      "metadata": {},
      "outputs": [],
      "source": [
        "\"Python\"[-1:-7:-1] #si todos son negativo se va en reversa"
      ]
    },
    {
      "cell_type": "markdown",
      "id": "74c4c18d-0c55-40b1-96ac-a3977fa0ed33",
      "metadata": {},
      "source": [
        "Los elementos de una lista también están **indexados** y por tanto podemos acceder a ellos de la misma manera:"
      ]
    },
    {
      "cell_type": "code",
      "execution_count": null,
      "id": "9cb3e9c1-26c0-4063-80fe-375d63d11545",
      "metadata": {},
      "outputs": [],
      "source": [
        "actores=[\"Luis G. Méndez\", \"Ana C. Talancón\", \"Gael García\", \"Diego\"]\n",
        "actores"
      ]
    },
    {
      "cell_type": "code",
      "execution_count": null,
      "id": "774d4914-2e39-4da2-ba79-e8dfb7fc63d3",
      "metadata": {},
      "outputs": [],
      "source": [
        "actores[0]"
      ]
    },
    {
      "cell_type": "code",
      "execution_count": null,
      "id": "5f37b4aa-8ebd-4fa8-beb9-b5282b8904a2",
      "metadata": {},
      "outputs": [],
      "source": [
        "actores[3]"
      ]
    },
    {
      "cell_type": "code",
      "execution_count": null,
      "id": "fc87965e-4c2c-4481-8ea0-0c7e1a0f9f49",
      "metadata": {},
      "outputs": [],
      "source": [
        "#Para extraer más de un elemento a la vez\n",
        "actores[1:4]"
      ]
    },
    {
      "cell_type": "code",
      "execution_count": null,
      "id": "fd3ec919-d46b-4245-8159-bffee59c7420",
      "metadata": {},
      "outputs": [],
      "source": [
        "actores[2:4]"
      ]
    },
    {
      "cell_type": "code",
      "execution_count": null,
      "id": "fccc279f-64e4-4f02-855c-76c019fed43b",
      "metadata": {
        "scrolled": true
      },
      "outputs": [],
      "source": [
        "actores"
      ]
    },
    {
      "cell_type": "markdown",
      "id": "2c591621-4467-4855-9f1b-9681044c081f",
      "metadata": {},
      "source": [
        "```c\n",
        "P    Y    T    H    O    N \n",
        "0    1    2    3    4    5\n",
        "-6  -5   -4   -3   -2   -1\n",
        "```"
      ]
    },
    {
      "cell_type": "code",
      "execution_count": null,
      "id": "5f2e5974-d5a9-4c13-abd7-2b8dbe19e25b",
      "metadata": {},
      "outputs": [],
      "source": [
        "\"Python\"[1:-2]"
      ]
    },
    {
      "cell_type": "code",
      "execution_count": null,
      "id": "fbf09aa1-4bc9-40cd-a62d-f2368aea3743",
      "metadata": {},
      "outputs": [],
      "source": [
        "#otros métodos\n",
        "enteros=[1,2,3,4,5,6]"
      ]
    },
    {
      "cell_type": "code",
      "execution_count": null,
      "id": "96552f7b-ec69-4172-96c4-c8c1df17d3bb",
      "metadata": {},
      "outputs": [],
      "source": [
        "type(enteros)"
      ]
    },
    {
      "cell_type": "code",
      "execution_count": null,
      "id": "a6c027a2-d6dd-4fd4-95fe-060f9a1b5ddb",
      "metadata": {},
      "outputs": [],
      "source": [
        "sum(enteros)"
      ]
    },
    {
      "cell_type": "code",
      "execution_count": null,
      "id": "a16459f1-548b-4b00-98b7-69791a729b90",
      "metadata": {},
      "outputs": [],
      "source": [
        "sorted(enteros,reverse=True)"
      ]
    },
    {
      "cell_type": "code",
      "execution_count": null,
      "id": "ab52e76a-a558-45ba-9323-7e9ceade8538",
      "metadata": {},
      "outputs": [],
      "source": [
        "strings=[\"a\",\"b\"]\n",
        "sum(strings)"
      ]
    },
    {
      "cell_type": "code",
      "execution_count": null,
      "id": "85447e8b-3981-4aa6-9a2a-0d0d421113be",
      "metadata": {},
      "outputs": [],
      "source": [
        "\"a\"+\"b\""
      ]
    },
    {
      "cell_type": "code",
      "execution_count": null,
      "id": "39ecf3b7-d5dd-407a-bfdd-dc3284071f49",
      "metadata": {},
      "outputs": [],
      "source": [
        "matematicos=[\"Gauss\",\"Fermat\",\"Fourier\",\"Euler\"]\n",
        "fisicos=[\"Newton\",\"Einstein\",\"Maxwell\",\"Heisenberg\"]"
      ]
    },
    {
      "cell_type": "code",
      "execution_count": null,
      "id": "87d1c4ce-87d5-4aee-9226-2cf02899f79a",
      "metadata": {},
      "outputs": [],
      "source": [
        "matematicos + fisicos"
      ]
    },
    {
      "cell_type": "markdown",
      "id": "89929431-706a-44af-b1bf-9efc8aa64ec7",
      "metadata": {},
      "source": [
        "### Ejercicio \n",
        "Escribir una función que calcule la suma de los primeros \"n\" enteros consecutivos. \n",
        "Es decir, si n=100, entonces que calcule la suma de 1+2+3+4+5+6+ ... + 98 + 99 + 100\n",
        "\n",
        "    1    2     3   4   ...  97  98  99  100\n",
        "    100  99   98  97   ...  4    3   2   1\n",
        "   \n",
        "    ------------------------------------ \n",
        "    101  101  101 101 .....  101 101 101 101\n",
        "\n",
        "100(101)=10,100\n",
        "\n",
        "n ( n+1) sumando dos veces la secuencia\n",
        "\n",
        "n(n+1)/2 (divido entre dos). \n",
        "10,100 / 2 = 5,050\n",
        "\n"
      ]
    },
    {
      "cell_type": "code",
      "execution_count": null,
      "id": "ca40c5f6-5732-4505-b0b4-dbc9b2ef54d1",
      "metadata": {},
      "outputs": [],
      "source": [
        "def suma_primeros_consecutivos(n):\n",
        "    res=n*(n+1)/2\n",
        "    return res"
      ]
    },
    {
      "cell_type": "code",
      "execution_count": null,
      "id": "cb474692-42e3-48cf-8df5-cd6474a8f5ff",
      "metadata": {},
      "outputs": [],
      "source": [
        "suma_primeros_consecutivos(100)"
      ]
    },
    {
      "cell_type": "code",
      "execution_count": null,
      "id": "7b1d00e1-313c-4c53-a3ce-5ac46a4f7596",
      "metadata": {},
      "outputs": [],
      "source": [
        "suma_primeros_consecutivos(1000)"
      ]
    },
    {
      "cell_type": "code",
      "execution_count": null,
      "id": "7f8f7d60-14a4-428b-a55f-99fa5070bac0",
      "metadata": {},
      "outputs": [],
      "source": [
        "## Otro ejemplo. \n",
        "#Una ecuación de caida libre t=sqrt(2h/g)\n",
        "# t= tiempo que tarda en caer un objeto a distancia h\n",
        "# g es gravedad\n",
        "# h es altura\n",
        "#(1/2)g*t^2=h\n",
        "\n",
        "#Funcion para calcular la altura a la que se deja caer un objeto si tarda t segundos: \n",
        "def calcular_altura(t):\n",
        "    h=0.5*9.81*t**2\n",
        "    return h "
      ]
    },
    {
      "cell_type": "code",
      "execution_count": null,
      "id": "c669549b-d640-4e2b-bf15-d94309dfe84d",
      "metadata": {},
      "outputs": [],
      "source": [
        "calcular_altura(4)"
      ]
    },
    {
      "cell_type": "code",
      "execution_count": null,
      "id": "e8ea70ea-0608-4cf2-9cff-e0e0d92c2f0f",
      "metadata": {},
      "outputs": [],
      "source": [
        "#otras funciones \n",
        "#string a list\n",
        "\"ejemplo de string\".split() #método que de un String que lo convierte a una lista"
      ]
    },
    {
      "cell_type": "code",
      "execution_count": null,
      "id": "7a0e2f2f-6389-4cdc-8790-856fb21ccc88",
      "metadata": {},
      "outputs": [],
      "source": [
        "#proceso inverso: list---string\n",
        "lista=[\"ejemplo\",\"de\",\"lista\"]\n",
        "\" \".join(lista) #convierte una lista en un string"
      ]
    },
    {
      "cell_type": "markdown",
      "id": "4d49c27a-545e-4f47-b029-1d37ce9c10a7",
      "metadata": {},
      "source": [
        "# Tuplas \n",
        "Una tuple (tupla) es una colección de valores INMUTABLES. \n",
        "* Se puede definir mediantes listas separadasa por comas\n",
        "* están indexados por enteros\n",
        "  "
      ]
    },
    {
      "cell_type": "code",
      "execution_count": null,
      "id": "7c385093-69a0-41a5-8fc0-9daacb4ee274",
      "metadata": {},
      "outputs": [],
      "source": [
        "t=(1,2,3,4,5)\n",
        "t"
      ]
    },
    {
      "cell_type": "code",
      "execution_count": null,
      "id": "827b38a0-1c86-425d-8d1e-eee3be358400",
      "metadata": {},
      "outputs": [],
      "source": [
        "type(t)"
      ]
    },
    {
      "cell_type": "code",
      "execution_count": null,
      "id": "4aae95c7-cf9d-48d7-8c08-77bc0264129b",
      "metadata": {},
      "outputs": [],
      "source": [
        "t=1,2,3,4,5\n",
        "t"
      ]
    },
    {
      "cell_type": "code",
      "execution_count": null,
      "id": "97b10e4a-8949-4667-9fe8-14989ebe179e",
      "metadata": {},
      "outputs": [],
      "source": [
        "type(t)"
      ]
    },
    {
      "cell_type": "code",
      "execution_count": null,
      "id": "91634ab1-1caa-4985-a9b6-f63c5b43241c",
      "metadata": {},
      "outputs": [],
      "source": [
        "t[1]=3 #INMUTABLES"
      ]
    },
    {
      "cell_type": "code",
      "execution_count": null,
      "id": "b5d4b5e7-d6fc-4351-b3f4-50e12d9c6adc",
      "metadata": {},
      "outputs": [],
      "source": []
    },
    {
      "cell_type": "code",
      "execution_count": null,
      "id": "a408472e-b671-450b-bdc2-90504a9cf2a5",
      "metadata": {},
      "outputs": [],
      "source": []
    },
    {
      "cell_type": "code",
      "execution_count": null,
      "id": "e5e85f86-4268-46e1-a8b5-c39656ee1299",
      "metadata": {},
      "outputs": [],
      "source": []
    },
    {
      "cell_type": "code",
      "execution_count": null,
      "id": "63be6423-aebb-4a53-a66e-13cd84a3facd",
      "metadata": {},
      "outputs": [],
      "source": []
    },
    {
      "cell_type": "code",
      "execution_count": null,
      "id": "c5b9edaf-a6c2-4702-a1c8-835df43104e5",
      "metadata": {},
      "outputs": [],
      "source": []
    },
    {
      "cell_type": "markdown",
      "id": "5344f409-ba37-4bc3-b054-a45a9491cdf2",
      "metadata": {},
      "source": [
        "# Conjuntos"
      ]
    },
    {
      "cell_type": "markdown",
      "id": "7e0d2fe8-f34e-4106-b099-79f0473a49de",
      "metadata": {},
      "source": [
        "## Un conjunto (set) es una colección no ordenada de valores únicos. \n",
        "\n",
        "* A|B (Unión): Elementos A o en B\n",
        "* A^B (intersección): Elementos en A y B\n",
        "* A-B (Diferencia): elementos en A no presenten en B\n",
        "* Diferencia Simétrica: Elementos en cualquiera de los conjuntos A o B, más no en los dos.\n",
        "* A <= B (Subconjunto): si todos los elementos en A se encuentran en B"
      ]
    },
    {
      "cell_type": "markdown",
      "id": "0361dda1-909c-426d-9442-2395ab61a46b",
      "metadata": {},
      "source": [
        "# Diccionarios\n",
        "1. Una colección NO ORDENADA de pares: llave - valor\n",
        "2. Es mutable\n",
        "3. Las keys (llaves) DEBEN SER únicas, los valores NO. "
      ]
    },
    {
      "cell_type": "markdown",
      "id": "d1531384-57ad-44a8-812d-f134bc588c38",
      "metadata": {},
      "source": [
        "Los valores de un diccionario `dict` pueden ser de cualquier tipo. No hay restricciones pueden ser `int`, ` float`, `str`, `list`, `dict`, \n",
        "objetos persoalizados, funciones, etc. "
      ]
    },
    {
      "cell_type": "markdown",
      "id": "28b04ec8-c09c-4160-8cd6-d8bfcefc3bdf",
      "metadata": {},
      "source": [
        "Las llaves `keys` deben cumplir una condición: \n",
        "Deben ser `inmutables (hashable)` Esto significa que pueden ser: \n",
        "* `int`\n",
        "* `float`\n",
        "* `str`\n",
        "* `tuple`\n",
        "* `bool`\n",
        "\n",
        "No pueden ser usados como llaves. \n",
        "* `list`\n",
        "* `dict`\n",
        "* `set`\n",
        "* Otros objetos mutable (no hashable). "
      ]
    },
    {
      "cell_type": "markdown",
      "id": "8f3896a9-9c2d-4646-86ec-0ab9ca0a40bb",
      "metadata": {},
      "source": [
        "Puedo revisar también en los VALORES. "
      ]
    },
    {
      "cell_type": "markdown",
      "id": "8933fc49-ebcb-44a2-80a2-00ea254ea0ed",
      "metadata": {},
      "source": [
        "1. Usamos el `método values()`"
      ]
    },
    {
      "cell_type": "markdown",
      "id": "b0cd238f-c3b4-4920-8039-06d589c9ea98",
      "metadata": {},
      "source": [
        "Nota. Si no me importa el orden pero sí la asociación, un diccionario es una estructura ideal. "
      ]
    },
    {
      "cell_type": "markdown",
      "id": "b2530d8e-7d64-4aff-abeb-8fb07896122d",
      "metadata": {},
      "source": [
        "# Pandas Series\n",
        "1. Crearemos series de pandas de una lista.\n",
        "2. Crearemos series de pandas de un diccionario. "
      ]
    },
    {
      "cell_type": "markdown",
      "id": "ac20038e-0f96-4264-a04f-ce3eef4891f7",
      "metadata": {},
      "source": [
        "## Serie (Series): Arreglo etiquetado de UNA dimensión. Como una columna de datos. \n",
        "* importante: consistencia; i.e. mismo tipo de datos\n",
        "* Usamos el método Series() para...crear una serie\n",
        "* Series() es un método"
      ]
    },
    {
      "cell_type": "markdown",
      "id": "bf0847c9-aedb-4592-942b-9b030153b1c6",
      "metadata": {},
      "source": [
        "# Métodos y Atributos de Series"
      ]
    },
    {
      "cell_type": "markdown",
      "id": "f55ce9f8-b2aa-4f02-8367-88169d2dbc62",
      "metadata": {},
      "source": [
        "* En una serie los valores del ínidce NO necesitan ser únicos. \n",
        "* Atributos: Nos dan información del objeto, no la modifican. "
      ]
    }
  ],
  "metadata": {
    "kernelspec": {
      "display_name": "Python 3 (ipykernel)",
      "language": "python",
      "name": "python3"
    },
    "language_info": {
      "codemirror_mode": {
        "name": "ipython",
        "version": 3
      },
      "file_extension": ".py",
      "mimetype": "text/x-python",
      "name": "python",
      "nbconvert_exporter": "python",
      "pygments_lexer": "ipython3",
      "version": "3.11.8"
    }
  },
  "nbformat": 4,
  "nbformat_minor": 5
}