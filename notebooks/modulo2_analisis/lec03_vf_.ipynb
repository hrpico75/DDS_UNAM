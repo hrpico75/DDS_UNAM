{
  "cells": [
    {
      "cell_type": "markdown",
      "id": "2c037941-d29f-4f37-b1e4-4ca88a37afed",
      "metadata": {},
      "source": [
        "# Slicing"
      ]
    },
    {
      "cell_type": "markdown",
      "id": "694603a8-df26-400a-8b19-54420a701c04",
      "metadata": {},
      "source": [
        "En ocasiones, nos interesa acceder al subconjunto de una secuencia de caracteres (`str`). En Python, esto se conoce como `slicing`\n",
        "\n",
        "La sintáxis para acceder al $i$-ésimo elemento de un string es el siguiente: \n",
        "\n",
        "\n",
        "```python\n",
        "\n",
        "\"string\"[i]\n",
        "\n",
        "```\n",
        "\n",
        "**Nota**: Python cuenta desde cero, por lo tanto, el primer índice de `str`es `0` "
      ]
    },
    {
      "cell_type": "markdown",
      "id": "77b14973-46c4-4805-ab88-d452c6a6eb21",
      "metadata": {},
      "source": [
        "En Python, el índice `numérico estándar` empieza en **`cero`**"
      ]
    },
    {
      "cell_type": "code",
      "execution_count": null,
      "id": "a260896b-a39e-4a3b-bfc4-a5fbf8d357cc",
      "metadata": {},
      "outputs": [],
      "source": [
        "palabra=\"palabra\""
      ]
    },
    {
      "cell_type": "code",
      "execution_count": null,
      "id": "712966a4-5686-44d5-a4aa-688eab595886",
      "metadata": {},
      "outputs": [],
      "source": [
        "dir(palabra)"
      ]
    },
    {
      "cell_type": "code",
      "execution_count": null,
      "id": "e7b71bcd-910c-4976-882e-69bbc0426e57",
      "metadata": {},
      "outputs": [],
      "source": [
        "len(palabra)"
      ]
    },
    {
      "cell_type": "code",
      "execution_count": null,
      "id": "54ac8fda-b14c-4731-9461-7b6817fd5fa2",
      "metadata": {},
      "outputs": [],
      "source": [
        "palabra[0] #para acceder al primer elemento ponemos un 0"
      ]
    },
    {
      "cell_type": "code",
      "execution_count": null,
      "id": "44145bb0-f568-41e7-91a4-d40c67ed1970",
      "metadata": {},
      "outputs": [],
      "source": [
        "palabra[6] #para acceder al último elemento ponemos un 6"
      ]
    },
    {
      "cell_type": "code",
      "execution_count": null,
      "id": "33ddc3ef-f7f9-4b04-9e44-dc3cbace8b38",
      "metadata": {},
      "outputs": [],
      "source": [
        "palabra[-1] #también pueden acceder al último elemento del string con un -1"
      ]
    },
    {
      "cell_type": "code",
      "execution_count": null,
      "id": "653b1d0e-5d91-4a3b-990e-9620c15c70e1",
      "metadata": {},
      "outputs": [],
      "source": [
        "palabra[7]"
      ]
    },
    {
      "cell_type": "markdown",
      "id": "230b126e-48a5-4361-afb2-4a35224c7cc0",
      "metadata": {},
      "source": [
        "Python puede contar de izquierda a derecha (empezando en `0`) y de derecha a izquierda (empezando en `-1`). \n",
        "\n",
        "\n",
        "```c\n",
        "P    Y    T    H    O    N \n",
        "0    1    2    3    4    5\n",
        "-6  -5   -4   -3   -2   -1\n",
        "```"
      ]
    },
    {
      "cell_type": "code",
      "execution_count": null,
      "id": "94c93deb-16c9-48b9-8636-8d2bb4146ba0",
      "metadata": {},
      "outputs": [],
      "source": [
        "\"Python\"[0]"
      ]
    },
    {
      "cell_type": "code",
      "execution_count": null,
      "id": "1f282fa1-f9f9-4229-9e5e-1f4287c6cc2d",
      "metadata": {},
      "outputs": [],
      "source": [
        "\"Python\"[4]"
      ]
    },
    {
      "cell_type": "code",
      "execution_count": null,
      "id": "c3df6509-7f0d-4f5b-9b58-5bc49b122f72",
      "metadata": {},
      "outputs": [],
      "source": [
        "\"Python\"[5]"
      ]
    },
    {
      "cell_type": "code",
      "execution_count": null,
      "id": "f0deecc3-e4fe-473a-afd8-e85ab846e89b",
      "metadata": {},
      "outputs": [],
      "source": [
        "\"Python\"[-1]"
      ]
    },
    {
      "cell_type": "code",
      "execution_count": null,
      "id": "3e96229b-3ae0-4d40-a8df-d19204894edb",
      "metadata": {},
      "outputs": [],
      "source": [
        "\"Python\"[-2]"
      ]
    },
    {
      "cell_type": "code",
      "execution_count": null,
      "id": "14c46ceb-5ea0-4ce3-88f9-6417f723bee3",
      "metadata": {},
      "outputs": [],
      "source": [
        "\"Python\"[-6]"
      ]
    },
    {
      "cell_type": "code",
      "execution_count": null,
      "id": "312ecec1-d8ae-402d-9533-d4d1326b1c8c",
      "metadata": {},
      "outputs": [],
      "source": [
        "\"Python\"[6]"
      ]
    },
    {
      "cell_type": "code",
      "execution_count": null,
      "id": "021a599e-1e69-46e4-a21a-125d1d225ab4",
      "metadata": {},
      "outputs": [],
      "source": [
        "\"Python\"[-7]"
      ]
    },
    {
      "cell_type": "code",
      "execution_count": null,
      "id": "78bc5c89-3e1f-4641-a477-342aab245324",
      "metadata": {},
      "outputs": [],
      "source": [
        "len(\"Python\")-1"
      ]
    },
    {
      "cell_type": "code",
      "execution_count": null,
      "id": "af03817a-129b-4b85-9593-13ef6b73521d",
      "metadata": {},
      "outputs": [],
      "source": [
        "\"Python\"[len(\"Python\")-1] #si quisiéramos el último caracter y no sabes cuántos son"
      ]
    },
    {
      "cell_type": "code",
      "execution_count": null,
      "id": "26cba655-69f9-45a8-ae4a-9d25bdd81c9b",
      "metadata": {},
      "outputs": [],
      "source": [
        "\"Python\"[-1] #último caracter. Aquí ya no te importa, sino nada más quiero el último"
      ]
    },
    {
      "cell_type": "code",
      "execution_count": null,
      "id": "ab6c47ec-16d8-40d3-a624-81a5ed8cc3a7",
      "metadata": {},
      "outputs": [],
      "source": [
        "\"Python\"[len(\"Python\")]"
      ]
    },
    {
      "cell_type": "markdown",
      "id": "71bf2d71-ca6b-43b7-8bcf-6b2865336460",
      "metadata": {},
      "source": [
        "\n",
        "```python\n",
        "\n",
        "\"slicing\"[ini:fin]\n",
        "\n",
        "ini: donde inicia\n",
        "fin: done acaba (no es incluyente)\n",
        "\n",
        "```\n",
        "\n"
      ]
    },
    {
      "cell_type": "code",
      "execution_count": null,
      "id": "12eb4121-8683-48f3-a9de-66045bbc1ff6",
      "metadata": {},
      "outputs": [],
      "source": [
        "\"Python\"[2:3] "
      ]
    },
    {
      "cell_type": "code",
      "execution_count": null,
      "id": "cf1c7d94-e4ba-442d-bc67-6eb4dc88c3ee",
      "metadata": {},
      "outputs": [],
      "source": [
        "\"Python\"[2:4] "
      ]
    },
    {
      "cell_type": "code",
      "execution_count": null,
      "id": "a1570639-17de-49e1-b522-60d27cc37663",
      "metadata": {},
      "outputs": [],
      "source": [
        "\"Python\"[-1:] "
      ]
    },
    {
      "cell_type": "markdown",
      "id": "1effb46b-65d9-42ec-9717-8818f36c8984",
      "metadata": {},
      "source": [
        "```c\n",
        "P    Y    T    H    O    N \n",
        "0    1    2    3    4    5\n",
        "-6  -5   -4   -3   -2   -1\n",
        "```"
      ]
    },
    {
      "cell_type": "code",
      "execution_count": null,
      "id": "e6ef876a-f764-41d4-822f-af766791ebfd",
      "metadata": {},
      "outputs": [],
      "source": [
        "\"Python\"[-3:-1] "
      ]
    },
    {
      "cell_type": "code",
      "execution_count": null,
      "id": "42a36284-8873-4b64-b4e5-a0285d1352a1",
      "metadata": {},
      "outputs": [],
      "source": [
        "\"Python\"[-3:] "
      ]
    },
    {
      "cell_type": "code",
      "execution_count": null,
      "id": "1d9d67c2-35d2-486d-a6aa-df81b96621b8",
      "metadata": {},
      "outputs": [],
      "source": [
        "\"Python\"[5:8]"
      ]
    },
    {
      "cell_type": "code",
      "execution_count": null,
      "id": "c8de7112-cef8-4057-bbd8-422c33e0efff",
      "metadata": {},
      "outputs": [],
      "source": [
        "\"Python\"[6:8]"
      ]
    },
    {
      "cell_type": "code",
      "execution_count": null,
      "id": "58fd7edf-2ad2-4fee-9296-a1c0c8556165",
      "metadata": {},
      "outputs": [],
      "source": [
        "\"Python\"[:]"
      ]
    },
    {
      "cell_type": "markdown",
      "id": "4d18b8ed-41b3-47ae-9898-f65f32cced53",
      "metadata": {},
      "source": [
        "```python\n",
        "\n",
        "\"slicing\"[ini:fin:k]\n",
        "\n",
        "ini: donde inicia\n",
        "fin: done acaba (no es incluyente)\n",
        "k: avance/saltos\n",
        "\n",
        "\n",
        "```\n"
      ]
    },
    {
      "cell_type": "markdown",
      "id": "8715696d-d8d9-4267-921e-fd285043daa6",
      "metadata": {},
      "source": [
        "```c\n",
        "P    Y    T    H    O    N \n",
        "0    1    2    3    4    5\n",
        "-6  -5   -4   -3   -2   -1\n",
        "```"
      ]
    },
    {
      "cell_type": "code",
      "execution_count": null,
      "id": "1ba4c72e-f840-441c-97c0-3214b5ccde31",
      "metadata": {},
      "outputs": [],
      "source": [
        "\"Python\"[5:6:1]"
      ]
    },
    {
      "cell_type": "code",
      "execution_count": null,
      "id": "10eb93eb-4bbc-4936-a4aa-9c288b4c38db",
      "metadata": {},
      "outputs": [],
      "source": [
        "\"Python\"[1:6:2]"
      ]
    },
    {
      "cell_type": "code",
      "execution_count": null,
      "id": "f3bfe689-332b-4b12-81cd-fe73e975c293",
      "metadata": {},
      "outputs": [],
      "source": [
        "\"Python\"[0:5:2]"
      ]
    },
    {
      "cell_type": "code",
      "execution_count": null,
      "id": "41dad6af-eb28-48fe-9c33-557dd67f3da2",
      "metadata": {},
      "outputs": [],
      "source": [
        "\"Python\"[-6:-1:2]"
      ]
    },
    {
      "cell_type": "code",
      "execution_count": null,
      "id": "19d6e47c-c7be-46f6-8bd0-83f764c7e321",
      "metadata": {},
      "outputs": [],
      "source": [
        "\"Python\"[1:5:-1]"
      ]
    },
    {
      "cell_type": "code",
      "execution_count": null,
      "id": "decacf37-44f2-45f7-b961-d691ed176f95",
      "metadata": {},
      "outputs": [],
      "source": [
        "\"Python\"[-1:-6:-1] #si todos son negativo se va en reversa"
      ]
    },
    {
      "cell_type": "code",
      "execution_count": null,
      "id": "ac6cb0c7-220f-40b0-9dcd-09b70def7cdf",
      "metadata": {},
      "outputs": [],
      "source": [
        "\"Python\"[-1:-7:-1] #si todos son negativo se va en reversa"
      ]
    },
    {
      "cell_type": "markdown",
      "id": "74c4c18d-0c55-40b1-96ac-a3977fa0ed33",
      "metadata": {},
      "source": [
        "Los elementos de una lista también están **indexados** y por tanto podemos acceder a ellos de la misma manera:"
      ]
    },
    {
      "cell_type": "code",
      "execution_count": null,
      "id": "9cb3e9c1-26c0-4063-80fe-375d63d11545",
      "metadata": {},
      "outputs": [],
      "source": [
        "actores=[\"Luis G. Méndez\", \"Ana C. Talancón\", \"Gael García\", \"Diego\"]\n",
        "actores"
      ]
    },
    {
      "cell_type": "code",
      "execution_count": null,
      "id": "774d4914-2e39-4da2-ba79-e8dfb7fc63d3",
      "metadata": {},
      "outputs": [],
      "source": [
        "actores[0]"
      ]
    },
    {
      "cell_type": "code",
      "execution_count": null,
      "id": "5f37b4aa-8ebd-4fa8-beb9-b5282b8904a2",
      "metadata": {},
      "outputs": [],
      "source": [
        "actores[3]"
      ]
    },
    {
      "cell_type": "code",
      "execution_count": null,
      "id": "fc87965e-4c2c-4481-8ea0-0c7e1a0f9f49",
      "metadata": {},
      "outputs": [],
      "source": [
        "#Para extraer más de un elemento a la vez\n",
        "actores[1:4]"
      ]
    },
    {
      "cell_type": "code",
      "execution_count": null,
      "id": "fd3ec919-d46b-4245-8159-bffee59c7420",
      "metadata": {},
      "outputs": [],
      "source": [
        "actores[2:4]"
      ]
    },
    {
      "cell_type": "code",
      "execution_count": null,
      "id": "fccc279f-64e4-4f02-855c-76c019fed43b",
      "metadata": {
        "scrolled": true
      },
      "outputs": [],
      "source": [
        "actores"
      ]
    },
    {
      "cell_type": "markdown",
      "id": "2c591621-4467-4855-9f1b-9681044c081f",
      "metadata": {},
      "source": [
        "```c\n",
        "P    Y    T    H    O    N \n",
        "0    1    2    3    4    5\n",
        "-6  -5   -4   -3   -2   -1\n",
        "```"
      ]
    },
    {
      "cell_type": "code",
      "execution_count": null,
      "id": "5f2e5974-d5a9-4c13-abd7-2b8dbe19e25b",
      "metadata": {},
      "outputs": [],
      "source": [
        "\"Python\"[1:-2]"
      ]
    },
    {
      "cell_type": "code",
      "execution_count": null,
      "id": "fbf09aa1-4bc9-40cd-a62d-f2368aea3743",
      "metadata": {},
      "outputs": [],
      "source": [
        "#otros métodos\n",
        "enteros=[1,2,3,4,5,6]"
      ]
    },
    {
      "cell_type": "code",
      "execution_count": null,
      "id": "96552f7b-ec69-4172-96c4-c8c1df17d3bb",
      "metadata": {},
      "outputs": [],
      "source": [
        "type(enteros)"
      ]
    },
    {
      "cell_type": "code",
      "execution_count": null,
      "id": "a6c027a2-d6dd-4fd4-95fe-060f9a1b5ddb",
      "metadata": {},
      "outputs": [],
      "source": [
        "sum(enteros)"
      ]
    },
    {
      "cell_type": "code",
      "execution_count": null,
      "id": "a16459f1-548b-4b00-98b7-69791a729b90",
      "metadata": {},
      "outputs": [],
      "source": [
        "sorted(enteros,reverse=True)"
      ]
    },
    {
      "cell_type": "code",
      "execution_count": null,
      "id": "ab52e76a-a558-45ba-9323-7e9ceade8538",
      "metadata": {},
      "outputs": [],
      "source": [
        "strings=[\"a\",\"b\"]\n",
        "sum(strings)"
      ]
    },
    {
      "cell_type": "code",
      "execution_count": null,
      "id": "85447e8b-3981-4aa6-9a2a-0d0d421113be",
      "metadata": {},
      "outputs": [],
      "source": [
        "\"a\"+\"b\""
      ]
    },
    {
      "cell_type": "code",
      "execution_count": null,
      "id": "39ecf3b7-d5dd-407a-bfdd-dc3284071f49",
      "metadata": {},
      "outputs": [],
      "source": [
        "matematicos=[\"Gauss\",\"Fermat\",\"Fourier\",\"Euler\"]\n",
        "fisicos=[\"Newton\",\"Einstein\",\"Maxwell\",\"Heisenberg\"]"
      ]
    },
    {
      "cell_type": "code",
      "execution_count": null,
      "id": "87d1c4ce-87d5-4aee-9226-2cf02899f79a",
      "metadata": {},
      "outputs": [],
      "source": [
        "matematicos + fisicos"
      ]
    },
    {
      "cell_type": "markdown",
      "id": "89929431-706a-44af-b1bf-9efc8aa64ec7",
      "metadata": {},
      "source": [
        "### Ejercicio \n",
        "Escribir una función que calcule la suma de los primeros \"n\" enteros consecutivos. \n",
        "Es decir, si n=100, entonces que calcule la suma de 1+2+3+4+5+6+ ... + 98 + 99 + 100\n",
        "\n",
        "    1    2     3   4   ...  97  98  99  100\n",
        "    100  99   98  97   ...  4    3   2   1\n",
        "   \n",
        "    ------------------------------------ \n",
        "    101  101  101 101 .....  101 101 101 101\n",
        "\n",
        "100(101)=10,100\n",
        "\n",
        "n ( n+1) sumando dos veces la secuencia\n",
        "\n",
        "n(n+1)/2 (divido entre dos). \n",
        "10,100 / 2 = 5,050\n",
        "\n"
      ]
    },
    {
      "cell_type": "code",
      "execution_count": null,
      "id": "ca40c5f6-5732-4505-b0b4-dbc9b2ef54d1",
      "metadata": {},
      "outputs": [],
      "source": [
        "def suma_primeros_consecutivos(n):\n",
        "    res=n*(n+1)/2\n",
        "    return res"
      ]
    },
    {
      "cell_type": "code",
      "execution_count": null,
      "id": "cb474692-42e3-48cf-8df5-cd6474a8f5ff",
      "metadata": {},
      "outputs": [],
      "source": [
        "suma_primeros_consecutivos(100)"
      ]
    },
    {
      "cell_type": "code",
      "execution_count": null,
      "id": "7b1d00e1-313c-4c53-a3ce-5ac46a4f7596",
      "metadata": {},
      "outputs": [],
      "source": [
        "suma_primeros_consecutivos(1000)"
      ]
    },
    {
      "cell_type": "code",
      "execution_count": null,
      "id": "7f8f7d60-14a4-428b-a55f-99fa5070bac0",
      "metadata": {},
      "outputs": [],
      "source": [
        "## Otro ejemplo. \n",
        "#Una ecuación de caida libre t=sqrt(2h/g)\n",
        "# t= tiempo que tarda en caer un objeto a distancia h\n",
        "# g es gravedad\n",
        "# h es altura\n",
        "#(1/2)g*t^2=h\n",
        "\n",
        "#Funcion para calcular la altura a la que se deja caer un objeto si tarda t segundos: \n",
        "def calcular_altura(t):\n",
        "    h=0.5*9.81*t**2\n",
        "    return h "
      ]
    },
    {
      "cell_type": "code",
      "execution_count": null,
      "id": "c669549b-d640-4e2b-bf15-d94309dfe84d",
      "metadata": {},
      "outputs": [],
      "source": [
        "calcular_altura(4)"
      ]
    },
    {
      "cell_type": "code",
      "execution_count": null,
      "id": "e8ea70ea-0608-4cf2-9cff-e0e0d92c2f0f",
      "metadata": {},
      "outputs": [],
      "source": [
        "#otras funciones \n",
        "#string a list\n",
        "\"ejemplo de string\".split() #método que de un String que lo convierte a una lista"
      ]
    },
    {
      "cell_type": "code",
      "execution_count": null,
      "id": "7a0e2f2f-6389-4cdc-8790-856fb21ccc88",
      "metadata": {},
      "outputs": [],
      "source": [
        "#proceso inverso: list---string\n",
        "lista=[\"ejemplo\",\"de\",\"lista\"]\n",
        "\" \".join(lista) #convierte una lista en un string"
      ]
    },
    {
      "cell_type": "markdown",
      "id": "4d49c27a-545e-4f47-b029-1d37ce9c10a7",
      "metadata": {},
      "source": [
        "# Tuplas \n",
        "Una tuple (tupla) es una colección de valores INMUTABLES. \n",
        "* Se puede definir mediantes listas separadasa por comas\n",
        "* están indexados por enteros\n",
        "  "
      ]
    },
    {
      "cell_type": "code",
      "execution_count": null,
      "id": "7c385093-69a0-41a5-8fc0-9daacb4ee274",
      "metadata": {},
      "outputs": [],
      "source": [
        "t=(1,2,3,4,5)\n",
        "t"
      ]
    },
    {
      "cell_type": "code",
      "execution_count": null,
      "id": "ead6c5e8-6a82-4ae5-a73d-51b5cdbeff9b",
      "metadata": {},
      "outputs": [],
      "source": [
        "dir(t)"
      ]
    },
    {
      "cell_type": "code",
      "execution_count": null,
      "id": "827b38a0-1c86-425d-8d1e-eee3be358400",
      "metadata": {},
      "outputs": [],
      "source": [
        "type(t)"
      ]
    },
    {
      "cell_type": "code",
      "execution_count": null,
      "id": "4aae95c7-cf9d-48d7-8c08-77bc0264129b",
      "metadata": {},
      "outputs": [],
      "source": [
        "t=1,2,3,4,5\n",
        "t"
      ]
    },
    {
      "cell_type": "code",
      "execution_count": null,
      "id": "97b10e4a-8949-4667-9fe8-14989ebe179e",
      "metadata": {},
      "outputs": [],
      "source": [
        "type(t)"
      ]
    },
    {
      "cell_type": "code",
      "execution_count": null,
      "id": "91634ab1-1caa-4985-a9b6-f63c5b43241c",
      "metadata": {},
      "outputs": [],
      "source": [
        "t[1]=3 #INMUTABLES"
      ]
    },
    {
      "cell_type": "code",
      "execution_count": null,
      "id": "b5d4b5e7-d6fc-4351-b3f4-50e12d9c6adc",
      "metadata": {},
      "outputs": [],
      "source": [
        "l=[1,2,3,4] #lista\n",
        "l"
      ]
    },
    {
      "cell_type": "code",
      "execution_count": null,
      "id": "a408472e-b671-450b-bdc2-90504a9cf2a5",
      "metadata": {},
      "outputs": [],
      "source": [
        "tuple(l) #función que lo convierte en Tupla"
      ]
    },
    {
      "cell_type": "code",
      "execution_count": null,
      "id": "e5e85f86-4268-46e1-a8b5-c39656ee1299",
      "metadata": {},
      "outputs": [],
      "source": [
        "t_2=('a','b',1,2)"
      ]
    },
    {
      "cell_type": "code",
      "execution_count": null,
      "id": "99e46e94-3273-4280-b55a-57992ff611b6",
      "metadata": {},
      "outputs": [],
      "source": [
        "t_2"
      ]
    },
    {
      "cell_type": "code",
      "execution_count": null,
      "id": "c286eb3c-9d35-4ed1-b5f5-84fecfb095d2",
      "metadata": {},
      "outputs": [],
      "source": [
        "t_2[2]"
      ]
    },
    {
      "cell_type": "code",
      "execution_count": null,
      "id": "72d68fc2-c122-4df3-86b2-488722548605",
      "metadata": {},
      "outputs": [],
      "source": [
        "t='a','b','c','d'\n",
        "t[2]"
      ]
    },
    {
      "cell_type": "code",
      "execution_count": null,
      "id": "a6009eaa-afb9-48de-b5dd-26a475c9d9f3",
      "metadata": {},
      "outputs": [],
      "source": [
        "#pasar de tupla a lista\n",
        "mi_tupla=(1,2,3)\n",
        "mi_tupla"
      ]
    },
    {
      "cell_type": "code",
      "execution_count": null,
      "id": "34ba952f-4781-4611-8ebb-133dc9b8a94f",
      "metadata": {},
      "outputs": [],
      "source": [
        "list(mi_tupla)"
      ]
    },
    {
      "cell_type": "code",
      "execution_count": null,
      "id": "f2900ce0-d12a-43f8-b895-e9f23bd10887",
      "metadata": {},
      "outputs": [],
      "source": [
        "#En Python las tuplas son inmutables, así que no podmeos modificar una ya existetne. Pero sí spidemos\n",
        "#crear una nueva tupla a partir de otra, agregándole elementos"
      ]
    },
    {
      "cell_type": "code",
      "execution_count": null,
      "id": "9f32aea3-9c08-4db2-a581-3b9bbed3eef1",
      "metadata": {},
      "outputs": [],
      "source": [
        "t1=(1,2,3)\n",
        "t2=t1+(4,)\n",
        "print(t2)"
      ]
    },
    {
      "cell_type": "code",
      "execution_count": null,
      "id": "eb575efd-fdef-426d-bbfd-99176e821da5",
      "metadata": {},
      "outputs": [],
      "source": [
        "#El elemento extra siempre debe estar escrito como (elemento,) para que python\n",
        "#lo entienda como tupla, no sólo como parentesis. \n",
        "#Puedes agregar más de un elemento"
      ]
    },
    {
      "cell_type": "code",
      "execution_count": null,
      "id": "63be6423-aebb-4a53-a66e-13cd84a3facd",
      "metadata": {},
      "outputs": [],
      "source": [
        "t3=t1+(4,5,6)\n",
        "print(t3)"
      ]
    },
    {
      "cell_type": "markdown",
      "id": "5344f409-ba37-4bc3-b054-a45a9491cdf2",
      "metadata": {},
      "source": [
        "# Conjuntos"
      ]
    },
    {
      "cell_type": "markdown",
      "id": "7e0d2fe8-f34e-4106-b099-79f0473a49de",
      "metadata": {},
      "source": [
        "## Un conjunto (set) es una colección no ordenada de valores únicos. \n",
        "\n",
        "* A|B (Unión): Elementos A o en B\n",
        "* A^B (intersección): Elementos en A y B\n",
        "* A-B (Diferencia): elementos en A no presenten en B\n",
        "* Diferencia Simétrica: Elementos en cualquiera de los conjuntos A o B, más no en los dos.\n",
        "* A <= B (Subconjunto): si todos los elementos en A se encuentran en B"
      ]
    },
    {
      "cell_type": "code",
      "execution_count": null,
      "id": "8af52f2d-5728-49ce-90ed-afad49eb6567",
      "metadata": {},
      "outputs": [],
      "source": [
        "vocales={'a','e','i','o','u'}\n",
        "p={'c','a','r','o'}"
      ]
    },
    {
      "cell_type": "code",
      "execution_count": null,
      "id": "6b342762-ccc2-4386-9f1c-5d32f03255c1",
      "metadata": {},
      "outputs": [],
      "source": [
        "type(vocales)"
      ]
    },
    {
      "cell_type": "code",
      "execution_count": null,
      "id": "e47450a9-a7dc-4f94-86e5-34420a8aca7d",
      "metadata": {},
      "outputs": [],
      "source": [
        "p & vocales #intersección"
      ]
    },
    {
      "cell_type": "code",
      "execution_count": null,
      "id": "8b49c2a4-ad43-47c3-83f2-98bffc08c122",
      "metadata": {},
      "outputs": [],
      "source": [
        "p|vocales #unión"
      ]
    },
    {
      "cell_type": "code",
      "execution_count": null,
      "id": "46cc77da-4f7a-4e14-b3b5-f07324eb0362",
      "metadata": {},
      "outputs": [],
      "source": [
        "vocales-p"
      ]
    },
    {
      "cell_type": "code",
      "execution_count": null,
      "id": "93dc19f5-1495-4b1a-a7eb-228d2f402843",
      "metadata": {},
      "outputs": [],
      "source": [
        "p-vocales"
      ]
    },
    {
      "cell_type": "code",
      "execution_count": null,
      "id": "829c20ab-a0fc-4228-8ee2-eda3c5287f93",
      "metadata": {
        "scrolled": true
      },
      "outputs": [],
      "source": [
        "#En python convertir entre sets(set), tuplas(tuple) y listas(lista) usamos constructores (función de origen). \n",
        "#De set a tupla\n",
        "mi_set={1,2,3}\n",
        "mi_tupla=tuple(mi_set)\n",
        "mi_tupla"
      ]
    },
    {
      "cell_type": "code",
      "execution_count": null,
      "id": "e2f1ee97-1613-4801-a3cc-1b36e70d921d",
      "metadata": {},
      "outputs": [],
      "source": [
        "#De set a lista\n",
        "mi_set={1,2,3}\n",
        "mi_lista=list(mi_set)\n",
        "mi_lista"
      ]
    },
    {
      "cell_type": "code",
      "execution_count": null,
      "id": "fe719ba0-b31a-4f81-9056-9fe9482553cd",
      "metadata": {},
      "outputs": [],
      "source": [
        "#lista a set\n",
        "mi_lista=[1,2,3]\n",
        "mi_set=set(mi_set)\n",
        "mi_set"
      ]
    },
    {
      "cell_type": "code",
      "execution_count": null,
      "id": "d5ca0a70-8eb1-422b-8e20-26d6cb9676f9",
      "metadata": {},
      "outputs": [],
      "source": [
        "#tupla a set\n",
        "mi_tupla=(1,2,3)\n",
        "mi_set=set(mi_tupla)\n",
        "mi_set"
      ]
    },
    {
      "cell_type": "code",
      "execution_count": null,
      "id": "2772ad00-6d88-419d-9cdf-dd3bcffb79fd",
      "metadata": {},
      "outputs": [],
      "source": [
        "#Los conjuntos no tienen índices como las lista o tuplas, porque son colecciones ordenadas. \n",
        "#Sin embargo si podemos acceder a sus elementos de diferentes manteras. \n",
        "#Convertir el conjunto a lista o tupla\n",
        "s={10,20,30,40}\n",
        "lista=list(s)\n",
        "lista[0]"
      ]
    },
    {
      "cell_type": "code",
      "execution_count": null,
      "id": "fc31aa5a-16c6-426a-a6f9-e34ffbb1f166",
      "metadata": {},
      "outputs": [],
      "source": [
        "#Recorrer con un for\n",
        "s={\"manzana\",\"pera\",\"uva\"}\n",
        "for fruta in s: \n",
        "    print(fruta)"
      ]
    },
    {
      "cell_type": "code",
      "execution_count": null,
      "id": "4faf7c98-a3d1-477b-babe-9539c21e4c1b",
      "metadata": {},
      "outputs": [],
      "source": [
        "s"
      ]
    },
    {
      "cell_type": "code",
      "execution_count": null,
      "id": "beb0d358-945b-4017-a320-7a624a9a97d5",
      "metadata": {},
      "outputs": [],
      "source": [
        "#Los criterios que sigue Python, en los conjunto, usan una tabla hash para guardar los elementos\n",
        "#El orden que estamos viendo al imprimir no depende de cómo lo escribimo, sino de cómo Python \n",
        "#los organizó en esa tabla dash. "
      ]
    },
    {
      "cell_type": "code",
      "execution_count": null,
      "id": "a34055a6-daf0-47f7-bbb8-aed60b30959d",
      "metadata": {},
      "outputs": [],
      "source": [
        "s"
      ]
    },
    {
      "cell_type": "code",
      "execution_count": null,
      "id": "749ec3c8-8357-47f2-990f-869242190b38",
      "metadata": {},
      "outputs": [],
      "source": [
        "#Usar pop() para extraer un elemento aleaotior\n",
        "s={1,2,3,4}\n",
        "x=s.pop()\n",
        "x"
      ]
    },
    {
      "cell_type": "code",
      "execution_count": null,
      "id": "0f8faf8d-71a1-470b-a052-ca45c15ec2c8",
      "metadata": {},
      "outputs": [],
      "source": [
        "s"
      ]
    },
    {
      "cell_type": "markdown",
      "id": "0361dda1-909c-426d-9442-2395ab61a46b",
      "metadata": {},
      "source": [
        "# Diccionarios\n",
        "1. Una colección NO ORDENADA de pares: llave - valor\n",
        "2. Es mutable\n",
        "3. Las keys (llaves) DEBEN SER únicas, los valores NO. "
      ]
    },
    {
      "cell_type": "code",
      "execution_count": null,
      "id": "34b0f6ce-2847-4e4a-809b-c31bf4156983",
      "metadata": {},
      "outputs": [],
      "source": [
        "#Ejemplo: artículos de vestir: \n",
        "arts={\n",
        "    \"jeans\":899,\n",
        "    \"playera\":700,\n",
        "    \"shorts\":499,\n",
        "    \"zapatos\":1200\n",
        "\n",
        "}\n",
        "#la longitud de un diccionario es equivalente al número de llaves del mismo"
      ]
    },
    {
      "cell_type": "code",
      "execution_count": null,
      "id": "2e21da7c-62fb-47d5-9af5-c7995b57399d",
      "metadata": {},
      "outputs": [],
      "source": [
        "type(arts)"
      ]
    },
    {
      "cell_type": "code",
      "execution_count": null,
      "id": "23e273c7-af88-41b3-aa01-1f42e4e81ce6",
      "metadata": {},
      "outputs": [],
      "source": [
        "len(arts)"
      ]
    },
    {
      "cell_type": "code",
      "execution_count": null,
      "id": "6c25ac0e-7c72-4157-aded-1f6d9c3e4e13",
      "metadata": {},
      "outputs": [],
      "source": [
        "arts[\"jeans\"] #'jeans\" es la llave y \"899\" es su valor"
      ]
    },
    {
      "cell_type": "code",
      "execution_count": null,
      "id": "4a46ce4c-6d89-4317-ae21-9ff5f65f6657",
      "metadata": {},
      "outputs": [],
      "source": [
        "arts[\"blusa\"] #error: porque queremos acceder a una llave que no existe. "
      ]
    },
    {
      "cell_type": "code",
      "execution_count": null,
      "id": "ce51ff49-4b64-4ea3-abdf-257bd9d21009",
      "metadata": {},
      "outputs": [],
      "source": [
        "arts[1]"
      ]
    },
    {
      "cell_type": "code",
      "execution_count": null,
      "id": "160840d3-a40e-4d38-becb-5583f587ff28",
      "metadata": {},
      "outputs": [],
      "source": [
        "arts"
      ]
    },
    {
      "cell_type": "code",
      "execution_count": null,
      "id": "bcdcddee-3a9c-417e-8491-7c692599e698",
      "metadata": {},
      "outputs": [],
      "source": [
        "#ejemplo"
      ]
    },
    {
      "cell_type": "code",
      "execution_count": null,
      "id": "7c3c7d82-28b3-4a25-8ec9-1da94c0dd195",
      "metadata": {},
      "outputs": [],
      "source": [
        "d={1.5:3.14,2.0:6.2}\n",
        "d"
      ]
    },
    {
      "cell_type": "code",
      "execution_count": null,
      "id": "72c53549-8800-4596-b343-f880f82b8581",
      "metadata": {},
      "outputs": [],
      "source": [
        "type(d)"
      ]
    },
    {
      "cell_type": "code",
      "execution_count": null,
      "id": "a6032ef5-2285-4ace-a22b-d86d20ee1827",
      "metadata": {},
      "outputs": [],
      "source": [
        "d[1.5]"
      ]
    },
    {
      "cell_type": "markdown",
      "id": "d1531384-57ad-44a8-812d-f134bc588c38",
      "metadata": {},
      "source": [
        "Los valores de un diccionario `dict` pueden ser de cualquier tipo. No hay restricciones pueden ser `int`, ` float`, `str`, `list`, `dict`, \n",
        "objetos persoalizados, funciones, etc. "
      ]
    },
    {
      "cell_type": "markdown",
      "id": "28b04ec8-c09c-4160-8cd6-d8bfcefc3bdf",
      "metadata": {},
      "source": [
        "Las llaves `keys` deben cumplir una condición: \n",
        "Deben ser `inmutables (hashable)` Esto significa que pueden ser: \n",
        "* `int`\n",
        "* `float`\n",
        "* `str`\n",
        "* `tuple`\n",
        "* `bool`\n",
        "\n",
        "No pueden ser usados como llaves. \n",
        "* `list`\n",
        "* `dict`\n",
        "* `set`\n",
        "* Otros objetos mutable (no hashable). "
      ]
    },
    {
      "cell_type": "code",
      "execution_count": null,
      "id": "ca25a107-f315-4c49-969d-0aa2c6000321",
      "metadata": {},
      "outputs": [],
      "source": [
        "arts"
      ]
    },
    {
      "cell_type": "code",
      "execution_count": null,
      "id": "dc062728-309b-46e7-a875-39dec3162d40",
      "metadata": {},
      "outputs": [],
      "source": [
        "type(arts)"
      ]
    },
    {
      "cell_type": "code",
      "execution_count": null,
      "id": "0af00fa6-45b8-4b3c-aee6-f0a4fc3e8d6f",
      "metadata": {},
      "outputs": [],
      "source": [
        "\"bufanda\" in arts #aquí me pregunto si \"bufanda\" está en las llaves del diccionario. "
      ]
    },
    {
      "cell_type": "code",
      "execution_count": null,
      "id": "fa1cc929-225d-4b7b-a5d2-e05309fcb6f5",
      "metadata": {},
      "outputs": [],
      "source": [
        "\"jeans\" in arts"
      ]
    },
    {
      "cell_type": "code",
      "execution_count": null,
      "id": "98455847-9967-4fa3-af38-f05af7281b60",
      "metadata": {},
      "outputs": [],
      "source": [
        "700 in arts #¿Por qué sale False? Porque busca en las llaves del diccionario, no en sus valores"
      ]
    },
    {
      "cell_type": "code",
      "execution_count": null,
      "id": "f0e321ac-a55d-4de0-8df4-132be4e83ae3",
      "metadata": {},
      "outputs": [],
      "source": [
        "arts"
      ]
    },
    {
      "cell_type": "code",
      "execution_count": null,
      "id": "4c73a152-97bd-4714-afc2-a1fa881c8724",
      "metadata": {},
      "outputs": [],
      "source": [
        "#Si quiero agregar un elemento debo hacer llave <-> valor\n",
        "arts['chanclas']=300\n",
        "arts"
      ]
    },
    {
      "cell_type": "code",
      "execution_count": null,
      "id": "1720ff94-9e63-4e29-b343-191ba8436735",
      "metadata": {},
      "outputs": [],
      "source": [
        "arts['chanclas']=500 #si intentan asignar un valor a una llave/clae que ya existe, el valor anterior se reemplaza\n",
        "arts"
      ]
    },
    {
      "cell_type": "code",
      "execution_count": null,
      "id": "f432ea0a-43c7-4734-a45c-7923d00217a7",
      "metadata": {},
      "outputs": [],
      "source": [
        "#para quitar un valor, al igual que con las listas, usamos el método pop()\n",
        "arts.pop('chanclas')"
      ]
    },
    {
      "cell_type": "code",
      "execution_count": null,
      "id": "69b19b5d-adf3-4aa5-8ed7-a739c539a3a7",
      "metadata": {},
      "outputs": [],
      "source": [
        "arts"
      ]
    },
    {
      "cell_type": "code",
      "execution_count": null,
      "id": "6ff716db-bd36-43fa-9ef7-dfbbdd68d59b",
      "metadata": {},
      "outputs": [],
      "source": [
        "arts.keys()"
      ]
    },
    {
      "cell_type": "code",
      "execution_count": null,
      "id": "89752081-7c82-4efc-9c68-6f06be6f7924",
      "metadata": {},
      "outputs": [],
      "source": [
        "arts.values()"
      ]
    },
    {
      "cell_type": "markdown",
      "id": "8f3896a9-9c2d-4646-86ec-0ab9ca0a40bb",
      "metadata": {},
      "source": [
        "Puedo revisar también en los VALORES. "
      ]
    },
    {
      "cell_type": "markdown",
      "id": "8933fc49-ebcb-44a2-80a2-00ea254ea0ed",
      "metadata": {},
      "source": [
        "1. Usamos el `método values()`"
      ]
    },
    {
      "cell_type": "code",
      "execution_count": null,
      "id": "9e5ddbba-291c-43f7-a9c3-0317392aead2",
      "metadata": {},
      "outputs": [],
      "source": [
        "arts"
      ]
    },
    {
      "cell_type": "code",
      "execution_count": null,
      "id": "21d60d55-2880-45a7-a8a0-8bbedc50e896",
      "metadata": {},
      "outputs": [],
      "source": [
        "700 in arts.values()"
      ]
    },
    {
      "cell_type": "code",
      "execution_count": null,
      "id": "727ccc2d-2bd3-4368-90e7-4223ca4f1153",
      "metadata": {},
      "outputs": [],
      "source": [
        "140 in arts.values()"
      ]
    },
    {
      "cell_type": "code",
      "execution_count": null,
      "id": "51f8fb1d-5cf0-4fbe-b149-9d6d8a477d73",
      "metadata": {},
      "outputs": [],
      "source": [
        "arts.items()"
      ]
    },
    {
      "cell_type": "markdown",
      "id": "b0cd238f-c3b4-4920-8039-06d589c9ea98",
      "metadata": {},
      "source": [
        "Nota. Si no me importa el orden pero sí la asociación, un diccionario es una estructura ideal. "
      ]
    },
    {
      "cell_type": "code",
      "execution_count": null,
      "id": "16819b08-19a0-4b30-b47c-6011777f4b8c",
      "metadata": {},
      "outputs": [],
      "source": [
        "#Los valores de un diccionario pueden ser cualquier objeto, incluso una lista. \n",
        "#Y como las listas sí son mutables, puedes modificar sólo un elemento dentro de esa lista sin tener\n",
        "#que reemplazar toda la lista. \n",
        "\n",
        "d={\n",
        "\"frutas\":[\"manzana\",\"pera\"],\n",
        "    \"verduras\":[\"zanahoria\",\"apio\"]\n",
        "\n",
        "}"
      ]
    },
    {
      "cell_type": "code",
      "execution_count": null,
      "id": "29e5578e-f1b0-479d-9199-b457be9d5132",
      "metadata": {},
      "outputs": [],
      "source": [
        "dir(d)"
      ]
    },
    {
      "cell_type": "code",
      "execution_count": null,
      "id": "f91f3703-6c84-4c3c-a30f-5725a0e104a3",
      "metadata": {},
      "outputs": [],
      "source": [
        "d"
      ]
    },
    {
      "cell_type": "code",
      "execution_count": null,
      "id": "9505f986-c9e9-404b-8389-80c495b5d0a5",
      "metadata": {},
      "outputs": [],
      "source": [
        "d['frutas'][1]='plátano'"
      ]
    },
    {
      "cell_type": "code",
      "execution_count": null,
      "id": "d801926e-477d-4bad-97de-d1f15e9f9988",
      "metadata": {},
      "outputs": [],
      "source": [
        "d"
      ]
    },
    {
      "cell_type": "code",
      "execution_count": null,
      "id": "54734d7e-a68b-4184-abeb-411d53cc40e5",
      "metadata": {},
      "outputs": [],
      "source": [
        "#Subsets de Diccionarios\n",
        "d={'a':1,'b':2,'c':3,'d':4}\n",
        "claves=['a','c']\n",
        "sub={k:d[k] for k in claves}\n",
        "sub"
      ]
    },
    {
      "cell_type": "code",
      "execution_count": null,
      "id": "76d7c12a-0a36-4e36-9e84-754713a0ddc4",
      "metadata": {},
      "outputs": [],
      "source": [
        "#Subsets de Diccionarios\n",
        "d={'a':1,'b':2,'c':3,'d':4}\n",
        "claves=['a','c']\n",
        "sub={carlos:d[carlos] for carlos in claves}\n",
        "sub"
      ]
    },
    {
      "cell_type": "markdown",
      "id": "b2530d8e-7d64-4aff-abeb-8fb07896122d",
      "metadata": {},
      "source": [
        "# Pandas Series\n",
        "1. Crearemos series de pandas de una lista.\n",
        "2. Crearemos series de pandas de un diccionario. "
      ]
    },
    {
      "cell_type": "code",
      "execution_count": null,
      "id": "1771536f-e8bd-41fe-ad80-39d30a47cbe2",
      "metadata": {},
      "outputs": [],
      "source": [
        "import pandas as pd "
      ]
    },
    {
      "cell_type": "code",
      "execution_count": null,
      "id": "2b786e27-8f05-4a97-b3ef-5f2d1f6cbdb8",
      "metadata": {},
      "outputs": [],
      "source": [
        "pip install pandas"
      ]
    },
    {
      "cell_type": "markdown",
      "id": "ac20038e-0f96-4264-a04f-ce3eef4891f7",
      "metadata": {},
      "source": [
        "## Serie (Series): Arreglo etiquetado de UNA dimensión. Como una columna de datos. \n",
        "* importante: consistencia; i.e. mismo tipo de datos\n",
        "* Usamos el método Series() para...crear una serie\n",
        "* Series() es un método"
      ]
    },
    {
      "cell_type": "code",
      "execution_count": null,
      "id": "df85da98-cd63-4b86-b2a2-617619ba01de",
      "metadata": {},
      "outputs": [],
      "source": [
        "paises=[\"Mex\",\"EUA\",\"Francia\",\"UK\",\"Portugal\"] #una lista\n",
        "s=pd.Series(paises)\n",
        "s"
      ]
    },
    {
      "cell_type": "code",
      "execution_count": null,
      "id": "1496dc27-a396-4c62-835c-8c740c40fe4d",
      "metadata": {},
      "outputs": [],
      "source": [
        "type(s)"
      ]
    },
    {
      "cell_type": "code",
      "execution_count": null,
      "id": "8c2ec642-0bbd-402d-8cf1-4bb17e67f6c5",
      "metadata": {},
      "outputs": [],
      "source": [
        "#Vemos en la segunda columna vemos nuestros valores. \n",
        "#dtype=object, en pandas significa principalmente un string. \n",
        "#tenemos un índice. Este pude ser de cualquier tipo. No sólo numérico. \n",
        "#Por default, nos da un índice que empieza en cero (el índice numérico estándar)"
      ]
    },
    {
      "cell_type": "code",
      "execution_count": null,
      "id": "da9912b4-4437-4e98-874d-e1995ee0c8cf",
      "metadata": {},
      "outputs": [],
      "source": [
        "s.index"
      ]
    },
    {
      "cell_type": "code",
      "execution_count": null,
      "id": "fa3f57fe-a86a-4e4b-aeeb-b06a2fafdac3",
      "metadata": {},
      "outputs": [],
      "source": [
        "dic={'película':\"RF9\",'genero':'Acción','año':2021}\n",
        "s1=pd.Series(dic)\n",
        "s1"
      ]
    },
    {
      "cell_type": "code",
      "execution_count": null,
      "id": "a2aabcb3-4d33-460e-9691-7d2abbd95567",
      "metadata": {},
      "outputs": [],
      "source": [
        "type(s1)"
      ]
    },
    {
      "cell_type": "code",
      "execution_count": null,
      "id": "e1c332e5-978c-46ca-8018-96fcafff21ab",
      "metadata": {},
      "outputs": [],
      "source": [
        "#las llaes del diccionario conforman el índice de nuestra serie."
      ]
    },
    {
      "cell_type": "code",
      "execution_count": null,
      "id": "7af5a67a-81d9-40de-9159-8f34e153bfc2",
      "metadata": {},
      "outputs": [],
      "source": [
        "s1.index"
      ]
    },
    {
      "cell_type": "code",
      "execution_count": null,
      "id": "b02da989-06c6-40ad-864b-55072a65411b",
      "metadata": {},
      "outputs": [],
      "source": [
        "pares=[2,4,6,8,10]\n",
        "p=pd.Series(pares)\n",
        "p"
      ]
    },
    {
      "cell_type": "code",
      "execution_count": null,
      "id": "5a66a86e-8bd9-44e9-bce0-74052c77c3a6",
      "metadata": {},
      "outputs": [],
      "source": [
        "l_2=[True,True,False,True]\n",
        "b=pd.Series(l_2)\n",
        "b"
      ]
    },
    {
      "cell_type": "markdown",
      "id": "bf0847c9-aedb-4592-942b-9b030153b1c6",
      "metadata": {},
      "source": [
        "# Métodos y Atributos de Series"
      ]
    },
    {
      "cell_type": "markdown",
      "id": "f55ce9f8-b2aa-4f02-8367-88169d2dbc62",
      "metadata": {},
      "source": [
        "* En una serie los valores del ínidce NO necesitan ser únicos. \n",
        "* Atributos: Nos dan información del objeto, no la modifican. "
      ]
    },
    {
      "cell_type": "code",
      "execution_count": null,
      "id": "e4a730f0-0056-4d73-8783-c0c953e134e7",
      "metadata": {},
      "outputs": [],
      "source": [
        "ciudades=[\"CDMX\",\"GDL\",\"Milan\",\"Londres\"]\n",
        "cds=pd.Series(ciudades)\n",
        "cds"
      ]
    },
    {
      "cell_type": "code",
      "execution_count": null,
      "id": "04f5f489-bc68-4127-9a2b-f640b3008655",
      "metadata": {},
      "outputs": [],
      "source": [
        "dir(ciudades)"
      ]
    },
    {
      "cell_type": "code",
      "execution_count": null,
      "id": "51dc232f-b69b-4c0d-ab2f-997a72306e50",
      "metadata": {},
      "outputs": [],
      "source": [
        "type(cds)"
      ]
    },
    {
      "cell_type": "code",
      "execution_count": null,
      "id": "3df65f81-54cd-4fc1-82bd-378bb3fd3218",
      "metadata": {},
      "outputs": [],
      "source": [
        "cds.values #los atributos no requieren paréntesis"
      ]
    },
    {
      "cell_type": "code",
      "execution_count": null,
      "id": "98052786-c624-492e-b680-681347ccc5ba",
      "metadata": {},
      "outputs": [],
      "source": [
        "cds.index"
      ]
    },
    {
      "cell_type": "code",
      "execution_count": null,
      "id": "47bde5e3-f31e-4c21-ab56-856166094be3",
      "metadata": {},
      "outputs": [],
      "source": [
        "saldos=[-35,20.9,40,550]\n",
        "s=pd.Series(saldos)\n",
        "s"
      ]
    },
    {
      "cell_type": "code",
      "execution_count": null,
      "id": "58095c33-95ca-4607-a783-4bf638cfeb31",
      "metadata": {},
      "outputs": [],
      "source": [
        "#método suma\n",
        "s.sum()"
      ]
    },
    {
      "cell_type": "code",
      "execution_count": null,
      "id": "0a55b5e5-06fe-4611-a35c-6a40375549b8",
      "metadata": {},
      "outputs": [],
      "source": [
        "type(s.sum())"
      ]
    },
    {
      "cell_type": "code",
      "execution_count": null,
      "id": "217d1f2b-3906-41a9-b112-f63c01caa625",
      "metadata": {},
      "outputs": [],
      "source": [
        "s.abs()"
      ]
    },
    {
      "cell_type": "code",
      "execution_count": null,
      "id": "c47564a1-19ec-41e9-a3d4-05f54a66149d",
      "metadata": {},
      "outputs": [],
      "source": [
        "s.sum #referie al objeto método, sin llamarlo, estamos apuntando a la funcion sin ejecutral, es una referencia l metodo, se llama con los \n",
        "#los paréntesis."
      ]
    },
    {
      "cell_type": "code",
      "execution_count": null,
      "id": "f840be7c-ee8d-4584-a980-0b7915861cb1",
      "metadata": {},
      "outputs": [],
      "source": [
        "#Series no son exactamente una matriz ni un un dataframe, pero están relacionados con ambos. \n",
        "#Series: Es un arreglo unidimensional (similar a un vector) sólo que valores y un únice. \n",
        "#Relación con Matriz: Internamente, la Serie guarda sus datos en un numpy.ndarry, por eso se comparta parecido a una mtriz/array de "
      ]
    },
    {
      "cell_type": "code",
      "execution_count": null,
      "id": "d5158b09-18c4-4812-9de7-c5da6cc8d046",
      "metadata": {},
      "outputs": [],
      "source": [
        "s.mean()"
      ]
    },
    {
      "cell_type": "code",
      "execution_count": null,
      "id": "bd417967-be71-4c41-857f-0db6f21415cc",
      "metadata": {},
      "outputs": [],
      "source": [
        "s"
      ]
    },
    {
      "cell_type": "code",
      "execution_count": null,
      "id": "438d8e34-1cf3-4974-9e11-33aefaf33816",
      "metadata": {},
      "outputs": [],
      "source": [
        "s.std()"
      ]
    },
    {
      "cell_type": "code",
      "execution_count": null,
      "id": "f2178966-7920-4bd7-b770-cd44b3752201",
      "metadata": {},
      "outputs": [],
      "source": [
        "s.size"
      ]
    },
    {
      "cell_type": "code",
      "execution_count": null,
      "id": "100ee65f-50e0-404d-9598-69a4d7506a2d",
      "metadata": {},
      "outputs": [],
      "source": [
        "s.shape"
      ]
    },
    {
      "cell_type": "code",
      "execution_count": null,
      "id": "46c079fa-1c90-462c-b3d6-963ab4600ed4",
      "metadata": {},
      "outputs": [],
      "source": [
        "dir(s) #la función dir() sirva para ver todos los atributos y métodos asociados a un objeto\n",
        "#incluyendo los que vienen por defecto en Python)"
      ]
    },
    {
      "cell_type": "code",
      "execution_count": null,
      "id": "3e0f9f38-9f95-42b3-bce8-de3f643e9b16",
      "metadata": {},
      "outputs": [],
      "source": [
        "alimento=[\"pescado\",\"res\",\"pavo\"]\n",
        "dias=[\"lu\",\"ma\",\"mie\"]\n",
        "pd.Series(alimento,dias)"
      ]
    },
    {
      "cell_type": "code",
      "execution_count": null,
      "id": "e5a5613e-8468-4ab9-93e1-355811218234",
      "metadata": {
        "scrolled": true
      },
      "outputs": [],
      "source": [
        "alimento=[\"pescado\",\"res\",\"pavo\",\"pollo\"]\n",
        "dias=[\"lu\",\"ma\",\"mie\"]\n",
        "pd.Series(alimento,dias)"
      ]
    },
    {
      "cell_type": "code",
      "execution_count": null,
      "id": "6f24ce0f-39e3-4db3-b618-fcdccc03855b",
      "metadata": {},
      "outputs": [],
      "source": [
        "alimento=[\"pescado\",\"res\",\"pavo\"]\n",
        "dias=[\"lu\",\"ma\",\"mie\"]\n",
        "\n",
        "pd.Series(index=dias,data=alimento)"
      ]
    },
    {
      "cell_type": "code",
      "execution_count": null,
      "id": "44cf316c-c4a3-4ee7-bd7d-2c2a419b78b4",
      "metadata": {},
      "outputs": [],
      "source": [
        "#Se pueden hacer tablar relacionadas. "
      ]
    },
    {
      "cell_type": "code",
      "execution_count": null,
      "id": "0460bf06-d6bb-4a90-9648-098935694271",
      "metadata": {},
      "outputs": [],
      "source": [
        "#Ejemplo Básico con Series. \n",
        "edades=pd.Series([23,34,29],index=[1,2,3],name=\"edad\")\n",
        "nombres=pd.Series([\"Ana\",\"Luis\",\"María\"],index=[1,2,3],name=\"nombre\")\n",
        "\n",
        "print(edades)\n",
        "print(nombres)"
      ]
    },
    {
      "cell_type": "code",
      "execution_count": null,
      "id": "7087ae90-14d3-482a-bcc3-1c6c0e7e26c4",
      "metadata": {},
      "outputs": [],
      "source": [
        "#Hay una función que se llama pd.concat() puedes unir Series en un solo dataframe"
      ]
    },
    {
      "cell_type": "code",
      "execution_count": null,
      "id": "a617536c-0865-4aad-a0eb-20c1fd711d39",
      "metadata": {},
      "outputs": [],
      "source": [
        "df=pd.concat([nombres,edades],axis=1)\n",
        "print(df)"
      ]
    },
    {
      "cell_type": "code",
      "execution_count": null,
      "id": "76e9c354-8349-4039-86cc-51c26dd3f1b5",
      "metadata": {},
      "outputs": [],
      "source": [
        "type(df)"
      ]
    },
    {
      "cell_type": "code",
      "execution_count": null,
      "id": "ff900bfc-c809-459f-ae62-20b48d35e487",
      "metadata": {},
      "outputs": [],
      "source": [
        "dir(df)"
      ]
    }
  ],
  "metadata": {
    "kernelspec": {
      "display_name": "Python 3 (ipykernel)",
      "language": "python",
      "name": "python3"
    },
    "language_info": {
      "codemirror_mode": {
        "name": "ipython",
        "version": 3
      },
      "file_extension": ".py",
      "mimetype": "text/x-python",
      "name": "python",
      "nbconvert_exporter": "python",
      "pygments_lexer": "ipython3",
      "version": "3.11.8"
    }
  },
  "nbformat": 4,
  "nbformat_minor": 5
}