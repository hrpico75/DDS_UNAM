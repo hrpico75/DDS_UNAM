{
  "cells": [
    {
      "cell_type": "code",
      "execution_count": null,
      "id": "26e07199-51c0-4419-8086-df5f22609cf7",
      "metadata": {},
      "outputs": [],
      "source": [
        "import pandas as pd, numpy as np\n",
        "import yfinance as yf\n",
        "import os"
      ]
    },
    {
      "cell_type": "code",
      "execution_count": null,
      "id": "b9c5834b-4b6f-4e05-94b4-86d4b7fd5aaa",
      "metadata": {},
      "outputs": [],
      "source": [
        "#sepan hay muchas opciones de visualizacón\n",
        "pd.options.display.float_format='{:.1f}'.format\n",
        "#cambia el formato de visualización de números flotantes (decimales) en pandas. \n",
        "#En este caso, le estamos diciendo, a pandas que muestre todos los números flotates\n",
        "#con una sola cifra decimal"
      ]
    },
    {
      "cell_type": "markdown",
      "id": "2dba79b8-b857-4722-adb9-abaae3a0b0d2",
      "metadata": {},
      "source": [
        "# DataFrames"
      ]
    },
    {
      "cell_type": "code",
      "execution_count": null,
      "id": "248f0146-c708-402d-93f2-e527d983a97f",
      "metadata": {},
      "outputs": [],
      "source": [
        "nba=pd.read_csv('ct_nba.csv')\n",
        "type(nba)"
      ]
    },
    {
      "cell_type": "code",
      "execution_count": null,
      "id": "0345f166-4d57-4594-a4ae-be2280e44db0",
      "metadata": {},
      "outputs": [],
      "source": [
        "nba.head()"
      ]
    },
    {
      "cell_type": "code",
      "execution_count": null,
      "id": "2b67497f-3d65-4d41-a6c4-e8d179fac60d",
      "metadata": {},
      "outputs": [],
      "source": [
        "nba"
      ]
    },
    {
      "cell_type": "code",
      "execution_count": null,
      "id": "b07ffa3e-6f2c-4264-bebe-27936d7f9382",
      "metadata": {},
      "outputs": [],
      "source": [
        "nba.columns"
      ]
    },
    {
      "cell_type": "code",
      "execution_count": null,
      "id": "1794811f-549d-421b-b6b4-734d31917a62",
      "metadata": {},
      "outputs": [],
      "source": [
        "len(nba)"
      ]
    },
    {
      "cell_type": "code",
      "execution_count": null,
      "id": "06f9914a-28a4-45ab-8c20-7c897658206c",
      "metadata": {},
      "outputs": [],
      "source": [
        "nba.shape #424 filas y 9 columnas"
      ]
    },
    {
      "cell_type": "code",
      "execution_count": null,
      "id": "b6bd9807-65a0-4406-9903-9da2126e4c3b",
      "metadata": {},
      "outputs": [],
      "source": [
        "nba.index"
      ]
    },
    {
      "cell_type": "code",
      "execution_count": null,
      "id": "a8e6a98b-7338-4272-9a07-2c72bd7d95af",
      "metadata": {},
      "outputs": [],
      "source": [
        "nba.values"
      ]
    },
    {
      "cell_type": "code",
      "execution_count": null,
      "id": "f283e98a-b9ef-4b39-ae21-1cc9231a512f",
      "metadata": {},
      "outputs": [],
      "source": [
        "nba.dtypes #qué tipo de información tiene el dataframe --->atributo dtype"
      ]
    },
    {
      "cell_type": "code",
      "execution_count": null,
      "id": "634b74e1-0b9d-4a7c-b142-98850b187d39",
      "metadata": {},
      "outputs": [],
      "source": [
        "nba.info()"
      ]
    },
    {
      "cell_type": "code",
      "execution_count": null,
      "id": "78eabed0-f0d4-4102-bcac-10deac0f29bb",
      "metadata": {},
      "outputs": [],
      "source": [
        "nba.axes #los índices de renglones y columna"
      ]
    },
    {
      "cell_type": "code",
      "execution_count": null,
      "id": "7d09cdab-a8b6-4a84-9b75-4b5233792a83",
      "metadata": {},
      "outputs": [],
      "source": [
        "#extraer una columna de un df\n",
        "nba.Name"
      ]
    },
    {
      "cell_type": "code",
      "execution_count": null,
      "id": "af3b5392-d55b-4b6f-9f32-583e67713a8e",
      "metadata": {},
      "outputs": [],
      "source": [
        "#equivalente a lo anterior\n",
        "nba['Name']"
      ]
    },
    {
      "cell_type": "code",
      "execution_count": null,
      "id": "098c1700-dfff-4853-bab8-b6741094e26c",
      "metadata": {},
      "outputs": [],
      "source": [
        "nba.head(3)"
      ]
    },
    {
      "cell_type": "code",
      "execution_count": null,
      "id": "bbb696bd-e2c5-4b1b-87a3-5090d59626da",
      "metadata": {},
      "outputs": [],
      "source": [
        "nba['Salary'].sum()"
      ]
    },
    {
      "cell_type": "code",
      "execution_count": null,
      "id": "fb12b2b3-7985-4b33-a0ba-d89ddb12f9a6",
      "metadata": {},
      "outputs": [],
      "source": [
        "nba['Salary'].mean() #promedi"
      ]
    },
    {
      "cell_type": "code",
      "execution_count": null,
      "id": "6eb89a0a-209f-498d-8198-2c636072da1e",
      "metadata": {},
      "outputs": [],
      "source": [
        "nba['Salary'].describe()"
      ]
    },
    {
      "cell_type": "code",
      "execution_count": null,
      "id": "3fdd7961-db56-4201-963c-18b48f32831a",
      "metadata": {},
      "outputs": [],
      "source": [
        "nba.loc[nba['Salary'].idxmax()]"
      ]
    },
    {
      "cell_type": "code",
      "execution_count": null,
      "id": "9536edd4-b534-4267-a53c-53a15079b490",
      "metadata": {},
      "outputs": [],
      "source": [
        "nba.groupby('Team')['Age'].mean()"
      ]
    },
    {
      "cell_type": "code",
      "execution_count": null,
      "id": "e576d677-8a28-4008-bd98-a3b855dba3ec",
      "metadata": {},
      "outputs": [],
      "source": [
        "nba.groupby('Team')['Age'].max()"
      ]
    },
    {
      "cell_type": "code",
      "execution_count": null,
      "id": "2e370db1-522c-4fc6-828c-4f37786bed05",
      "metadata": {},
      "outputs": [],
      "source": [
        "nba.Age.mean()"
      ]
    },
    {
      "cell_type": "code",
      "execution_count": null,
      "id": "755c1e28-32e6-4838-a74f-8e23913cc4f9",
      "metadata": {},
      "outputs": [],
      "source": [
        "nba.groupby('Team')['Age'].mean().mean()"
      ]
    },
    {
      "cell_type": "code",
      "execution_count": null,
      "id": "f994c0ef-12d2-492d-a19c-6bcec78a2bbd",
      "metadata": {},
      "outputs": [],
      "source": [
        "#extraer 2 o más columnas --> pasamos a una lista\n",
        "\n",
        "nba[['Weight','Age']]"
      ]
    },
    {
      "cell_type": "code",
      "execution_count": null,
      "id": "1c11baaa-5914-4ee0-9801-24d07ae138ef",
      "metadata": {},
      "outputs": [],
      "source": [
        "nba['Weight','Age'] #error porque piensa que es una Tupla"
      ]
    },
    {
      "cell_type": "code",
      "execution_count": null,
      "id": "29c98b7a-7ef4-4c10-81bb-41f7b906c16b",
      "metadata": {},
      "outputs": [],
      "source": [
        "nba[['Weight','Team','Age']]"
      ]
    },
    {
      "cell_type": "code",
      "execution_count": null,
      "id": "adad33ff-bff0-45f4-99f0-6a3680dd8d6e",
      "metadata": {},
      "outputs": [],
      "source": [
        "cols=['Weight','Team','Age']\n",
        "nba[cols]"
      ]
    },
    {
      "cell_type": "code",
      "execution_count": null,
      "id": "356c6997-3124-4ac4-8fd5-a35ae18b314c",
      "metadata": {},
      "outputs": [],
      "source": [
        "#Definir una nueva columna llamada Deporte ('Sport') con el valor de 'basketball' en cada\n",
        "#renglón\n",
        "nba['Sport']='basketball'\n",
        "nba.head()"
      ]
    },
    {
      "cell_type": "markdown",
      "id": "9bb1ce01-4266-404e-9587-a646526b33d2",
      "metadata": {},
      "source": [
        "### método `insert()`"
      ]
    },
    {
      "cell_type": "code",
      "execution_count": null,
      "id": "8b254ea8-889c-4e91-8d84-88fc3356a5c8",
      "metadata": {},
      "outputs": [],
      "source": [
        "nba.insert(3,'País','USA')\n",
        "nba.head()"
      ]
    },
    {
      "cell_type": "code",
      "execution_count": null,
      "id": "2a0e48f4-0f9c-43a4-b016-a3fdd8199737",
      "metadata": {},
      "outputs": [],
      "source": [
        "#Breadcasting\n",
        "nba['Age'].add(3) #suma 3 a cada elemento"
      ]
    },
    {
      "cell_type": "code",
      "execution_count": null,
      "id": "46ebac0f-c702-48ad-a48e-3f1e1a42bdea",
      "metadata": {},
      "outputs": [],
      "source": [
        "nba['Age']+3"
      ]
    },
    {
      "cell_type": "code",
      "execution_count": null,
      "id": "0b7ae170-4ae0-4929-bd89-a9d545352cef",
      "metadata": {},
      "outputs": [],
      "source": [
        "nba['Salary'].sub(1_000_000) #resta un millon"
      ]
    },
    {
      "cell_type": "code",
      "execution_count": null,
      "id": "9ad81440-4ef1-4868-b8e2-a2fbb38e05b1",
      "metadata": {},
      "outputs": [],
      "source": [
        "nba['Salary']-1_000_000 #resta un millon"
      ]
    },
    {
      "cell_type": "code",
      "execution_count": null,
      "id": "7547a6cb-84f0-4784-aafd-8e7382411c64",
      "metadata": {},
      "outputs": [],
      "source": [
        "#Definir una nueva columna con el peso expresado en kgs (pasamos de libras a kg)\n",
        "nba['Weight_kgs']=nba['Weight'].mul(0.454)\n",
        "nba.head()"
      ]
    },
    {
      "cell_type": "code",
      "execution_count": null,
      "id": "82d657bb-134b-44aa-84cc-3c3cad20b79a",
      "metadata": {},
      "outputs": [],
      "source": [
        "nba['Weight_kgs'].describe()"
      ]
    },
    {
      "cell_type": "code",
      "execution_count": null,
      "id": "093361f4-4d2f-4a39-b274-43620420d84b",
      "metadata": {},
      "outputs": [],
      "source": [
        "nba[['Weight','Age']]*2"
      ]
    },
    {
      "cell_type": "code",
      "execution_count": null,
      "id": "97ef1388-6e35-4cd7-b661-f211abe91589",
      "metadata": {},
      "outputs": [],
      "source": [
        "nba[['Weight','Age']].apply(lambda x:x*2)"
      ]
    },
    {
      "cell_type": "markdown",
      "id": "3ba7d509-b7b6-4b96-8882-df329a43468a",
      "metadata": {},
      "source": [
        "# Máscaras Booleanas"
      ]
    },
    {
      "cell_type": "code",
      "execution_count": null,
      "id": "a7cc97b0-9a8a-4352-bcbe-71790d23eff9",
      "metadata": {},
      "outputs": [],
      "source": [
        "nba.head(4)"
      ]
    },
    {
      "cell_type": "code",
      "execution_count": null,
      "id": "312c8841-788a-4b9d-b32c-4097631bacda",
      "metadata": {},
      "outputs": [],
      "source": [
        "len(nba)"
      ]
    },
    {
      "cell_type": "code",
      "execution_count": null,
      "id": "ae60018f-9f9a-44a3-b312-08179d68b690",
      "metadata": {},
      "outputs": [],
      "source": [
        "nba['Position']=='PG'"
      ]
    },
    {
      "cell_type": "code",
      "execution_count": null,
      "id": "095fb766-916a-4f76-9d90-6d09e6a1e77a",
      "metadata": {},
      "outputs": [],
      "source": [
        "#Extraer o filtrar a los jugadores cuya posicion es 'PG' (Boolean Mask)\n",
        "is_PG=nba['Position']=='PG' #point guard"
      ]
    },
    {
      "cell_type": "code",
      "execution_count": null,
      "id": "3ed3bb6e-8c74-4c2a-aa8f-e8a3ac2a890c",
      "metadata": {},
      "outputs": [],
      "source": [
        "nba[is_PG] #sólo muestra aquellos registros donde is_PG es Trueb"
      ]
    },
    {
      "cell_type": "code",
      "execution_count": null,
      "id": "e5d6b8b0-56a8-4c86-85b7-ecb32fb08642",
      "metadata": {},
      "outputs": [],
      "source": [
        "nba[nba['Position']=='PG']"
      ]
    },
    {
      "cell_type": "code",
      "execution_count": null,
      "id": "0f882c00-5b74-426c-8d0b-954a9e5efd53",
      "metadata": {},
      "outputs": [],
      "source": [
        "nba[nba['Position']=='PG'].groupby('Team').size()"
      ]
    },
    {
      "cell_type": "code",
      "execution_count": null,
      "id": "bbe32970-6fef-4bc4-a7bf-741ab60309cf",
      "metadata": {},
      "outputs": [],
      "source": [
        "nba[is_PG]['Position'].unique()"
      ]
    },
    {
      "cell_type": "code",
      "execution_count": null,
      "id": "a86025f5-c552-4279-a8d7-9bf628abe96e",
      "metadata": {},
      "outputs": [],
      "source": [
        "nba[is_PG]['Position'].nunique()"
      ]
    },
    {
      "cell_type": "code",
      "execution_count": null,
      "id": "fd92c9b4-1f0a-44ed-b6d8-8aeb8781563b",
      "metadata": {},
      "outputs": [],
      "source": [
        "is_PG.sum()"
      ]
    },
    {
      "cell_type": "code",
      "execution_count": null,
      "id": "1a0f6754-87ab-4e65-946b-e51f260adcf8",
      "metadata": {
        "scrolled": true
      },
      "outputs": [],
      "source": [
        "#Queremos filtrar a todos los PG, y con edad mayor a 25 ños\n",
        "cond1=nba['Position']=='PG'\n",
        "cond2=nba['Age']>25\n",
        "nba[cond1&cond2]"
      ]
    },
    {
      "cell_type": "code",
      "execution_count": null,
      "id": "379f835a-3aaf-4f92-ae75-90b6c7f48afd",
      "metadata": {},
      "outputs": [],
      "source": []
    },
    {
      "cell_type": "code",
      "execution_count": null,
      "id": "63bd5c22-6244-43b5-9c0e-d136d0cc55a5",
      "metadata": {},
      "outputs": [],
      "source": [
        "len(nba[cond1&cond2])"
      ]
    },
    {
      "cell_type": "code",
      "execution_count": null,
      "id": "8a44c88f-d34e-4a4a-ba3a-e84451b5a3d9",
      "metadata": {},
      "outputs": [],
      "source": [
        "cond1"
      ]
    },
    {
      "cell_type": "code",
      "execution_count": null,
      "id": "3dab468e-b2e6-4aad-986f-1347c37dc9fd",
      "metadata": {},
      "outputs": [],
      "source": [
        "cond2"
      ]
    },
    {
      "cell_type": "code",
      "execution_count": null,
      "id": "b24dc0d5-beed-4398-b486-536f0cec3c18",
      "metadata": {},
      "outputs": [],
      "source": [
        "cond1&cond2"
      ]
    },
    {
      "cell_type": "code",
      "execution_count": null,
      "id": "fe211a33-cbdb-4f06-b936-5f9608574865",
      "metadata": {},
      "outputs": [],
      "source": [
        "cond1|cond2"
      ]
    },
    {
      "cell_type": "code",
      "execution_count": null,
      "id": "cfbf9602-b9ca-41d8-8f02-6e8385bcdb73",
      "metadata": {},
      "outputs": [],
      "source": []
    },
    {
      "cell_type": "markdown",
      "id": "31c9fe24-b03b-41c3-9b8c-dfaa179987d9",
      "metadata": {},
      "source": [
        "# Manejo de Valores Nulos"
      ]
    },
    {
      "cell_type": "markdown",
      "id": "86f90296-4f97-481c-83e1-617a27fd6354",
      "metadata": {},
      "source": [
        "Identificando valores nulos --> `isna()` method"
      ]
    },
    {
      "cell_type": "markdown",
      "id": "e9def15c-be24-4807-bbb7-0a19e2bd783e",
      "metadata": {},
      "source": [
        "* Sintaxis: df.isna()"
      ]
    },
    {
      "cell_type": "markdown",
      "id": "b89b9863-89b2-4190-b175-2feea86832d4",
      "metadata": {},
      "source": [
        "`dropna()`: para elimnar renglones que tienen algun nulo"
      ]
    }
  ],
  "metadata": {
    "kernelspec": {
      "display_name": "Python 3 (ipykernel)",
      "language": "python",
      "name": "python3"
    },
    "language_info": {
      "codemirror_mode": {
        "name": "ipython",
        "version": 3
      },
      "file_extension": ".py",
      "mimetype": "text/x-python",
      "name": "python",
      "nbconvert_exporter": "python",
      "pygments_lexer": "ipython3",
      "version": "3.11.8"
    }
  },
  "nbformat": 4,
  "nbformat_minor": 5
}