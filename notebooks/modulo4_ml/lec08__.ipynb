{
  "cells": [
    {
      "cell_type": "markdown",
      "id": "44aaa394-7122-4c22-9c88-65b9855ef851",
      "metadata": {},
      "source": [
        "# Ejercicios Ciclos (ejemplos)"
      ]
    },
    {
      "cell_type": "code",
      "execution_count": null,
      "id": "9b0b1bb4-199f-41fe-99da-a6393b515c13",
      "metadata": {},
      "outputs": [],
      "source": [
        "import pandas as pd, numpy as np"
      ]
    },
    {
      "cell_type": "code",
      "execution_count": null,
      "id": "9f994f63-5373-441e-8a79-ced63c713ee8",
      "metadata": {},
      "outputs": [],
      "source": [
        "#1.- Dada una lista de enteros, obtener el máximo de estos\n",
        "\n",
        "lista=[-10,2,7,2,6,11,-31]\n",
        "\n",
        "def maximo(lista):\n",
        "    maxn=lista[0]\n",
        "    for e in lista:\n",
        "        print(e)\n",
        "        if maxn<e:\n",
        "            maxn=e\n",
        "            print(maxn)\n",
        "    return maxn"
      ]
    },
    {
      "cell_type": "code",
      "execution_count": null,
      "id": "b5b7f95d-ea4c-4ef4-addf-f9702e478455",
      "metadata": {},
      "outputs": [],
      "source": [
        "maximo(lista)"
      ]
    },
    {
      "cell_type": "code",
      "execution_count": null,
      "id": "b53b4ed9-495c-4e0d-8bd3-4ba7a64b46f1",
      "metadata": {},
      "outputs": [],
      "source": [
        "#2 Dada una lista, imprimir la suma de los valores de la lista. \n",
        "def suma_elementos(lista):\n",
        "    suma=0\n",
        "    for e in lista:\n",
        "        suma=suma+e\n",
        "    return suma\n",
        "\n",
        "suma_elementos(lista)"
      ]
    },
    {
      "cell_type": "code",
      "execution_count": null,
      "id": "c245533f-2b9d-47c6-b9bc-beb379e4a1d9",
      "metadata": {},
      "outputs": [],
      "source": [
        "def suma_elementos(lista):\n",
        "    suma=0\n",
        "    for e in lista:\n",
        "        suma+=e\n",
        "    return suma\n",
        "\n",
        "suma_elementos(lista)"
      ]
    },
    {
      "cell_type": "code",
      "execution_count": null,
      "id": "c6520114-b7e0-4fc1-a52f-97fbf1effd86",
      "metadata": {},
      "outputs": [],
      "source": [
        "#otra solución: usando Serie\n",
        "pd.Series(lista).sum()"
      ]
    },
    {
      "cell_type": "code",
      "execution_count": null,
      "id": "507c34b8-e18d-45d4-beb3-6b500e5487db",
      "metadata": {},
      "outputs": [],
      "source": [
        "#3. Pedir al usuario un número entero positivo y calcular la suma de los números entre 1 y \n",
        "#y el # que ingresa el usuario. \n",
        "\n",
        "suma=0\n",
        "n=int(input(\"ingresa un número entero positivo: \"))\n",
        "for i in range(1,n+1):\n",
        "    suma+=i #suma=suma+i\n",
        "print('\\n')\n",
        "print('la suma entre 1 y el número',n,'es: ',suma)"
      ]
    },
    {
      "cell_type": "code",
      "execution_count": null,
      "id": "6025f14a-10e3-44f5-81e2-c0edb6c173a8",
      "metadata": {},
      "outputs": [],
      "source": [
        "#n(n+1)/2\n",
        "1000*(1001)/2"
      ]
    },
    {
      "cell_type": "markdown",
      "id": "3a862d54-f61b-42e9-bd13-61e42a18a028",
      "metadata": {},
      "source": [
        "Algunas veces queremos agrupas dos listas entrada por entrada. Para solucionar este problema en Python podemos usar la función `zip`. Ejemplo: "
      ]
    },
    {
      "cell_type": "code",
      "execution_count": null,
      "id": "fcfefda2-c3ce-4c19-8bf3-efe5cefbffe2",
      "metadata": {},
      "outputs": [],
      "source": [
        "#4.-Llenar un diccionario con un for:\n",
        "tick=['AAPL','AMZN','FB','GOOG']\n",
        "companies=['Apple','Amazon','Meta','Alphabet','Microsoft']\n",
        "comp_ticker={} #diccionario apra guardar valores\n",
        "for ticker, company in zip(tick,companies):\n",
        "    comp_ticker[company]=ticker\n",
        "\n",
        "print(comp_ticker)"
      ]
    },
    {
      "cell_type": "code",
      "execution_count": null,
      "id": "973da1c1-ac53-42d4-99ad-f7c97d2464af",
      "metadata": {},
      "outputs": [],
      "source": [
        "type(comp_ticker)"
      ]
    },
    {
      "cell_type": "code",
      "execution_count": null,
      "id": "0f221112-e9c0-47cf-bf92-db8329809241",
      "metadata": {},
      "outputs": [],
      "source": [
        "for ticker,company in zip(tick,companies):\n",
        "    print(ticker,company)"
      ]
    },
    {
      "cell_type": "markdown",
      "id": "eefcc1e6-bbd9-4484-87e9-6bf650d742b8",
      "metadata": {},
      "source": [
        "# Funciones `lambda` \n",
        "Una función `lambda` es una función anónima que nos permite definir y tratar funciones como si fuesen elementos. \n",
        "\n",
        "Podemos pensar una función lambda como una función compuesta\n",
        "$$\n",
        "    \\lambda (f(p_1,p_2, \\dots, p_n))\n",
        "$$\n",
        "\n",
        "Las funciones `lambda` pueden ser tratadas como cualquier otro elemento. i.e. no es necesario declararlas para poder usarlas."
      ]
    },
    {
      "cell_type": "markdown",
      "id": "556eb48f-56eb-49b7-b5ef-21e4e021c682",
      "metadata": {},
      "source": [
        "Las función `lambda` son solo una forma corta y anónima de definir funcion. En la práctica tiene\n",
        "algunas ventas y desventajas frente `def`. \n",
        "* Ventajas:\n",
        "  1. Sintaxis Compacta\n",
        "  2. Funciones anónimas (no necestian nombres)\n",
        "  3. Integración con funciones de orden superior (map, filter, sorted, reduce)\n",
        "  4. Legible para expresiones cortas\n",
        "\n",
        "* Desventjas:\n",
        "    1. Limitadas a una sola expresión. No pueden contener varías lineas, ni `for`, `while`, etc\n",
        "    2. Menos legible en caos complejos. Cuando la fución es extensa conviene el `def`\n",
        "    3. No sustityen a `def`. Es un atajo sintético.\n",
        "\n",
        "¿Cuándo usarlo?\n",
        "* Usa `lambda` si es muy corta y de un solo uso\n",
        "* Usar `def` cuando es más compleja"
      ]
    },
    {
      "cell_type": "code",
      "execution_count": null,
      "id": "d44c72b2-5712-4689-a870-649f20b7c8ff",
      "metadata": {},
      "outputs": [],
      "source": [
        "#Tomemos un ejemplo sencillo\n",
        "(lambda x,y: x**y)(2,3)\n",
        "#Los parámetros x,y se declaran después de la palabra reservada 'lambda'. \n",
        "#Después de los dos puntos indicamos qué operación realizará la funcón\n",
        "#Por último le pasamos lo valores de x y de y "
      ]
    },
    {
      "cell_type": "code",
      "execution_count": null,
      "id": "f94c254e-873d-4b3f-b26c-2e91c32b21ce",
      "metadata": {},
      "outputs": [],
      "source": [
        "#sería lo mismo que\n",
        "def potencia(x,y):\n",
        "    return(x**y)"
      ]
    },
    {
      "cell_type": "code",
      "execution_count": null,
      "id": "0804018f-35ec-4e79-bcdc-152c272d39df",
      "metadata": {},
      "outputs": [],
      "source": [
        "potencia(2,3)"
      ]
    },
    {
      "cell_type": "code",
      "execution_count": null,
      "id": "7d3b7124-29c2-44da-8311-6671fa8a766c",
      "metadata": {},
      "outputs": [],
      "source": [
        "#Las funciones lambda nos permiten también pasar funciones como parámetros SIN haberlos definido previamente\n",
        "#Composición de funciones fog(x)=f(g(x))\n",
        "\n",
        "#Definimos la función f con dos argumentos: g (funcion) y x\n",
        "\n",
        "def f(g,x):\n",
        "    return 2*g(x)"
      ]
    },
    {
      "cell_type": "code",
      "execution_count": null,
      "id": "a8029dd2-160c-480d-9e16-789966d98c56",
      "metadata": {},
      "outputs": [],
      "source": [
        "f(lambda y:y**(1/2),3)\n",
        "#En la función f, mandamos fn lambda como g, i.e: x**(1/2) y valor x=3\n",
        "#Encontes si x=3, g(x)=sqrt(3)\n",
        "#f(lambda y:y**(1/2),3)\n",
        "#2*sqrt(3)\n"
      ]
    },
    {
      "cell_type": "code",
      "execution_count": null,
      "id": "66457799-c6a9-4b27-843d-54902b6575f2",
      "metadata": {},
      "outputs": [],
      "source": [
        "2*np.sqrt(3)"
      ]
    },
    {
      "cell_type": "markdown",
      "id": "cba07778-928f-4bc0-b126-e10cdb47885f",
      "metadata": {},
      "source": [
        "# `filter()`"
      ]
    },
    {
      "cell_type": "markdown",
      "id": "5ff7d640-7345-4f97-ba41-53c2cda4a933",
      "metadata": {},
      "source": [
        "* Se utiliza para crear un iterador de elementos de un iterable para los cuales una función devuelve un `True`\n",
        "* Sintaxis: `filter ( f(), secuencia)` --> devuelve los elementos de la secuencia que son `TRUE` bajo las condiciones impuestas por la función `f()`\n",
        "* ideal para extraer elementos de una lista (o cualquier iterable) que cumplan ciertas condiciones. "
      ]
    },
    {
      "cell_type": "code",
      "execution_count": null,
      "id": "004c0062-ad75-4c6b-96ea-c57a5bd72e61",
      "metadata": {},
      "outputs": [],
      "source": [
        "emp=pd.read_csv('empleados_3.csv',parse_dates=['fh_ant'])\n",
        "emp.head(3)"
      ]
    },
    {
      "cell_type": "code",
      "execution_count": null,
      "id": "bfadf741-5e9c-4977-b7f9-066e04cab233",
      "metadata": {},
      "outputs": [],
      "source": [
        "emp.shape"
      ]
    },
    {
      "cell_type": "code",
      "execution_count": null,
      "id": "22e7970f-875b-4165-b750-fe63829b3df1",
      "metadata": {},
      "outputs": [],
      "source": [
        "emp.dtypes"
      ]
    },
    {
      "cell_type": "code",
      "execution_count": null,
      "id": "c577eb78-efdb-4c06-ac67-c8afc897ed57",
      "metadata": {},
      "outputs": [],
      "source": [
        "def is_masc(g):\n",
        "    if g=='M':\n",
        "        return True\n",
        "    else:\n",
        "        return False"
      ]
    },
    {
      "cell_type": "code",
      "execution_count": null,
      "id": "be9a8f71-15ad-42d9-840d-a7dea7a31470",
      "metadata": {},
      "outputs": [],
      "source": [
        "filter(is_masc,emp.genero) #regresa los elementos de la col 'genero' que son True bajo \n",
        "#lo que indica la función is_masc"
      ]
    },
    {
      "cell_type": "code",
      "execution_count": null,
      "id": "f1852519-17c6-4cc5-80ee-bd1b8acb8aeb",
      "metadata": {},
      "outputs": [],
      "source": [
        "pd.Series(list(filter(is_masc,emp.genero)))"
      ]
    },
    {
      "cell_type": "code",
      "execution_count": null,
      "id": "5c5e7a1b-9f3f-4136-b2f7-c229266ddae9",
      "metadata": {
        "scrolled": true
      },
      "outputs": [],
      "source": [
        "#filtrar a empleados con salarios a myores a 1,000,000\n",
        "salarios_altos=list(filter(lambda x:x>1_000_000,emp.salario))\n",
        "salarios_altos"
      ]
    },
    {
      "cell_type": "code",
      "execution_count": null,
      "id": "b2b7e72d-67e2-48fa-af21-c14359c555d2",
      "metadata": {
        "scrolled": true
      },
      "outputs": [],
      "source": [
        "#filtrar a empleados del área de sistemas.\n",
        "sistemas=list(filter(lambda x:x==\"sistemas\",emp.area))\n",
        "sistemas"
      ]
    },
    {
      "cell_type": "code",
      "execution_count": null,
      "id": "474d861a-8bdd-47fd-9660-8fc85726d745",
      "metadata": {
        "scrolled": true
      },
      "outputs": [],
      "source": [
        "emp[emp[\"area\"]==\"sistemas\"]"
      ]
    },
    {
      "cell_type": "code",
      "execution_count": null,
      "id": "eb50a536-e0f9-440b-b079-1606a9bfcab7",
      "metadata": {},
      "outputs": [],
      "source": [
        "#forzando a usar filter + lambda (opcon menos conocida)\n",
        "sistemas= list(filter(lambda row: row['area']=='sistemas', emp.to_dict('records')))"
      ]
    },
    {
      "cell_type": "code",
      "execution_count": null,
      "id": "cdbb9454-b7ae-4f1e-9817-eb2939371c10",
      "metadata": {
        "scrolled": true
      },
      "outputs": [],
      "source": [
        "pd.DataFrame(sistemas)"
      ]
    },
    {
      "cell_type": "code",
      "execution_count": null,
      "id": "daf50c23-d04d-4553-8303-838edd55e850",
      "metadata": {},
      "outputs": [],
      "source": [
        "#En resumen, si quieres usar un DataFrame filtrado y con todas las columnas, lo más limio es \n",
        "#usar emp[condicion]\n",
        "#filter + lambda es más un estilo python puro, pero padnas ya trae su forma vectorizada. \n",
        "#filter + lambda: flexiblidad para listas u otros iterables. Funciona no sólo con dataframes, sino con listas\n",
        "#tuplas, series, set, etc. "
      ]
    },
    {
      "cell_type": "code",
      "execution_count": null,
      "id": "e70ea275-3687-4962-a70f-08f4a487cc88",
      "metadata": {
        "scrolled": true
      },
      "outputs": [],
      "source": [
        "#filtrar sólo empleados con genero \"M\"\n",
        "generos=list(filter(lambda x:x==\"M\",emp.genero))\n",
        "generos"
      ]
    },
    {
      "cell_type": "code",
      "execution_count": null,
      "id": "e84389c4-c09d-4d67-8f2d-90a7bdaacc79",
      "metadata": {
        "scrolled": true
      },
      "outputs": [],
      "source": [
        "#Aplicar Filter() para cruzar listas con nombres\n",
        "#Ejemplo. obtener empleados cuyo nombre está en una lista de interés\n",
        "nombres_interes=['Ana','Mónica']\n",
        "nombres_filtrados=list(filter(lambda x:x in nombres_interes,emp.nombre))\n",
        "nombres_filtrados"
      ]
    },
    {
      "cell_type": "code",
      "execution_count": null,
      "id": "11815de9-7a75-48a2-a4c7-4df85c6ad7c7",
      "metadata": {},
      "outputs": [],
      "source": [
        "#Filtrar nombres que empiezan con voal\n",
        "vocales=[\"A\",\"E\",\"I\",\"O\",\"U\"]\n",
        "nombres_vocal=list(filter(lambda nombre: nombre[0] in vocales, emp.nombre))\n",
        "print(nombres_vocal)"
      ]
    },
    {
      "cell_type": "code",
      "execution_count": null,
      "id": "4eb12a2c-1b47-479f-ab8d-d05a712edd2c",
      "metadata": {
        "scrolled": true
      },
      "outputs": [],
      "source": [
        "#Filtrar todo el dataframe por nombres que contiene una vocal específica (por ejemplo)\n",
        "def contiene_vocal(nombre):\n",
        "    return 'e' in nombre.lower()\n",
        "\n",
        "filtrados=emp[emp['nombre'].apply(contiene_vocal)]\n",
        "filtrados"
      ]
    },
    {
      "cell_type": "code",
      "execution_count": null,
      "id": "00b35b98-4c1d-49aa-b4f2-4f24e0418774",
      "metadata": {},
      "outputs": [],
      "source": [
        "#Número de vocales por nombre (usando apply y sum)\n",
        "def contar_vocales(nombre):\n",
        "    vocales=\"aeiouAEIOUoáéíóú\"\n",
        "    return sum(1 for letra in nombre if letra in vocales)\n",
        "\n",
        "emp['vocales_en_nombre']=emp['nombre'].apply(contar_vocales)\n",
        "emp"
      ]
    },
    {
      "cell_type": "markdown",
      "id": "43110235-6b4f-4e75-9fea-5fe073703824",
      "metadata": {},
      "source": [
        "# `map()`"
      ]
    },
    {
      "cell_type": "markdown",
      "id": "269d1837-8e85-4a02-b3d7-5cf2378047f4",
      "metadata": {},
      "source": [
        "La función `map` aplica una función f a un iterable X de n elementos entrada por entrada\n",
        "\n",
        "```python\n",
        "map(f,X)=[f(x1),f(x2), ..., f(xn)]\n",
        "```\n",
        "donde X= (x1, x2, ..., xn)\n",
        "\n",
        "Es decir: `map()` aplica una función a **cada** elemento de un iterable y nos regresa un objeto de tipo map, el cual es un **iterador**. Para ver sus valores los sacamos convirtiéndolos a una lista. \n",
        "* Se usa normalmente para transofrmar elementos de una coleeción; e.g., aplicar fórmula a cada elemento\n",
        "* Beneficio de map(). eficiencia en memoria y cómputo."
      ]
    },
    {
      "cell_type": "markdown",
      "id": "cea84b56-1bf1-45d5-8633-06eedf0d5cb5",
      "metadata": {},
      "source": [
        "## Ejemplos de `map()`"
      ]
    },
    {
      "cell_type": "code",
      "execution_count": null,
      "id": "8667a8d6-61dd-4dd2-b667-c550115a323c",
      "metadata": {},
      "outputs": [],
      "source": [
        "#Ejemplo: queremos elevar al cuadrado cada elemento de un conjunto de valores\n",
        "#recordar que range (a,b,s)...\n",
        "cuadrados=list(map(lambda x:x**2, range(1,11)))\n",
        "cuadrados"
      ]
    },
    {
      "cell_type": "code",
      "execution_count": null,
      "id": "5dcaceea-02b5-4366-bf7a-3fa522dfa95e",
      "metadata": {},
      "outputs": [],
      "source": [
        "#recordar\n",
        "rango=range(1,11)\n",
        "rango.apply(lambda x:x**2) #nos da un error porque range no tiene un método apply"
      ]
    },
    {
      "cell_type": "code",
      "execution_count": null,
      "id": "6dce9bc3-1ea9-454b-8016-215c568c1c02",
      "metadata": {},
      "outputs": [],
      "source": [
        "pd.Series(rango).apply(lambda x:x**2)\n",
        "#apply es un método de pandas."
      ]
    },
    {
      "cell_type": "code",
      "execution_count": null,
      "id": "9b2f5360-3de3-4c0f-8e72-70c88323ac0d",
      "metadata": {},
      "outputs": [],
      "source": [
        "#Si queremos aplicar una función donde los argumentos provienen de diferentes rangos\n",
        "#i.e. sup x pertenece a range(a1,b1) y \"y\" pertence a range (a2,b2)\n",
        "res=list(map(lambda x,y:x+y, range(1,11), range(10,100)))\n",
        "res"
      ]
    },
    {
      "cell_type": "code",
      "execution_count": null,
      "id": "faee986d-e5d8-486e-b6e6-8a7326c5fb21",
      "metadata": {},
      "outputs": [],
      "source": [
        "#Sumar elementos de dos listas\n",
        "lista_1=[1,2,3]\n",
        "lista_2=[4,5,6]\n",
        "list(map(lambda x,y:x+y, lista_1, lista_2))"
      ]
    },
    {
      "cell_type": "code",
      "execution_count": null,
      "id": "f7db56cd-04c8-472d-948c-1b470a75d989",
      "metadata": {},
      "outputs": [],
      "source": [
        "#unión de las 2 listas\n",
        "lista_1+lista_2"
      ]
    },
    {
      "cell_type": "code",
      "execution_count": null,
      "id": "3319ea04-613d-49f6-a193-b592a55d781c",
      "metadata": {},
      "outputs": [],
      "source": [
        "#Sumar elementos de dos listas\n",
        "lista_1=[1,2,3]\n",
        "lista_2=[4,5,6]\n",
        "lista_3=[7,8,9]\n",
        "\n",
        "list(map(lambda x,y,z:x+y+z, lista_1, lista_2,lista_3))"
      ]
    },
    {
      "cell_type": "code",
      "execution_count": null,
      "id": "cc438c27-203f-4798-8562-6f622b21f4b2",
      "metadata": {},
      "outputs": [],
      "source": [
        "list('miercoles')"
      ]
    },
    {
      "cell_type": "code",
      "execution_count": null,
      "id": "06174f3b-3e5a-4750-96ba-990e39aec968",
      "metadata": {},
      "outputs": [],
      "source": [
        "lista=['lu','ma','mie','jue','vie']\n",
        "res=map(list,lista)\n",
        "list(res)"
      ]
    },
    {
      "cell_type": "code",
      "execution_count": null,
      "id": "1136e2f2-9feb-406b-80e5-a971c7864402",
      "metadata": {},
      "outputs": [],
      "source": [
        "#El ejemplo de fahrenheit a celcius usando map():\n",
        "temp_f=[100,80,78,62,90,32]\n",
        "list(map(lambda x: round((x-32)*5/9,2),temp_f))"
      ]
    },
    {
      "cell_type": "code",
      "execution_count": null,
      "id": "ef7864bf-d1c7-4b8b-9fce-2ee49359ffc8",
      "metadata": {},
      "outputs": [],
      "source": [
        "int(\"1\")"
      ]
    },
    {
      "cell_type": "code",
      "execution_count": null,
      "id": "62747b45-da57-41f6-8652-42754afa5402",
      "metadata": {},
      "outputs": [],
      "source": [
        "strings=['1','2','3','4','5']\n",
        "enteros=list(map(int,strings))\n",
        "enteros"
      ]
    },
    {
      "cell_type": "code",
      "execution_count": null,
      "id": "6ea6c1a7-14b4-492e-a1db-97ad99b84d8d",
      "metadata": {},
      "outputs": [],
      "source": [
        "#Encuentre la longitud de cda palabra en una lista de palabras\n",
        "palabras=['manzana','piña','cereza','frambuesa']\n",
        "list(map(len,palabras))"
      ]
    },
    {
      "cell_type": "code",
      "execution_count": null,
      "id": "989565c8-86d3-42e3-b7a9-e6ffafe1c8c3",
      "metadata": {},
      "outputs": [],
      "source": [
        "#Crea una lista de booleanos dependiendo de si un número es mayor a 2\n",
        "numeros=[1,2,3,4,5,6,7,8]\n",
        "list(map(lambda x: x>2, numeros))"
      ]
    },
    {
      "cell_type": "markdown",
      "id": "c895ddb3-c8df-4348-b695-7850e23a3daf",
      "metadata": {},
      "source": [
        "# `reduce()`"
      ]
    },
    {
      "cell_type": "markdown",
      "id": "f37dfc17-e5d6-48fa-868d-a9a08c9a7c44",
      "metadata": {},
      "source": [
        "* Aplica un **rolling computation** o cálculo acumulativo a pares secuenciales de valores en una lista (o iterable) y los reduce a un sólo número.\n",
        "* Sintáxis\n",
        "\n",
        "```python\n",
        "\n",
        "reduce(function, iterable[,initializer])\n",
        "\n",
        "```\n",
        "\n",
        "* Aplica la función de forma acumulativa a los elementos del iterable, de izquiera a derecha. "
      ]
    },
    {
      "cell_type": "code",
      "execution_count": null,
      "id": "ae79ef73-e73c-459d-85a4-88121f42641d",
      "metadata": {},
      "outputs": [],
      "source": [
        "from functools import reduce"
      ]
    },
    {
      "cell_type": "code",
      "execution_count": null,
      "id": "c5620ce0-7e94-46f9-90bd-ff56a2a82486",
      "metadata": {},
      "outputs": [],
      "source": [
        "#Define una función que suma dos cantidades\n",
        "\n",
        "def sumar(x,y):\n",
        "    return x+y\n",
        "\n",
        "lista=[1,2,3,4,5]\n",
        "\n",
        "#usar reduce para sumar los números\n",
        "\n",
        "res=reduce(sumar,lista)\n",
        "res"
      ]
    },
    {
      "cell_type": "code",
      "execution_count": null,
      "id": "2fc14a9e-958e-4791-bdce-89c639bece00",
      "metadata": {},
      "outputs": [],
      "source": [
        "#Define una función que encuentre el máximo\n",
        "def max_func(a,b):\n",
        "    return a if a>b else b\n",
        "\n",
        "lista=[47,11,42,102,13]\n",
        "\n",
        "#Usar reduce para comparar los números\n",
        "maximo=reduce(max_func,lista)\n",
        "maximo"
      ]
    },
    {
      "cell_type": "markdown",
      "id": "65671d18-69e7-4d6d-9145-2f5346a4dbce",
      "metadata": {},
      "source": [
        "#Ejempo del ejercicio anterior\n",
        "\n",
        "1. Se llama a `max_func(47,11)` regresa 47.\n",
        "2. Se llama a `max_func(47,42)` regresa 47.\n",
        "3. Se llama a `max_func(47,102)` regresa 102.\n",
        "4. Se llama a `max_func(102,13)` regresa 102\n"
      ]
    },
    {
      "cell_type": "code",
      "execution_count": null,
      "id": "afb7cdc2-152e-4d46-91f1-d078a6a0782a",
      "metadata": {},
      "outputs": [],
      "source": [
        "#Ejemplo: concatenar strings\n",
        "\n",
        "strings=['Hola',' ', 'a', ' ', 'todos', ' ', 'Bienvenidos']\n",
        "\n",
        "#Función para concatener sólo dos strings\n",
        "\n",
        "def concat(a,b):\n",
        "    return a+b\n",
        "\n",
        "reduce(concat,strings)"
      ]
    },
    {
      "cell_type": "code",
      "execution_count": null,
      "id": "102ee60d-8260-48c2-8879-5baec4ab0b54",
      "metadata": {},
      "outputs": [],
      "source": [
        "#otro ejemplos\n",
        "#quiero filtrar los valores mayores a 5 de una secuencia: \n",
        "list(filter(lambda x: (x>5), (3,4,5,6,7)))"
      ]
    },
    {
      "cell_type": "code",
      "execution_count": null,
      "id": "3dbb717a-7621-4f52-90cd-bd45b24d48fe",
      "metadata": {},
      "outputs": [],
      "source": [
        "#Calcular el factorial de un número n (n=6) n!=1x2x3x..xn\n",
        "reduce(lambda x,y:x*y, [1,2,3,4,5,6])"
      ]
    },
    {
      "cell_type": "code",
      "execution_count": null,
      "id": "01ef66d9-d0cb-4268-b54a-5ada0270a53b",
      "metadata": {},
      "outputs": [],
      "source": [
        "1*2"
      ]
    },
    {
      "cell_type": "code",
      "execution_count": null,
      "id": "6ed6f142-b10d-406f-84f9-51a66659b67f",
      "metadata": {},
      "outputs": [],
      "source": [
        "(1*2)*3"
      ]
    },
    {
      "cell_type": "code",
      "execution_count": null,
      "id": "ce6153cc-0a46-495f-896c-d8ca918f4996",
      "metadata": {},
      "outputs": [],
      "source": [
        "((1*2)*3)*4"
      ]
    },
    {
      "cell_type": "code",
      "execution_count": null,
      "id": "1caadabe-cd4a-4d55-a4f4-2d9c59cdfa3d",
      "metadata": {},
      "outputs": [],
      "source": [
        "(((1*2)*3)*4)*5"
      ]
    },
    {
      "cell_type": "code",
      "execution_count": null,
      "id": "85cf74c3-f292-48b3-ac1e-a74071a765ed",
      "metadata": {},
      "outputs": [],
      "source": [
        "((((1*2)*3)*4)*5)*6"
      ]
    },
    {
      "cell_type": "markdown",
      "id": "ddea2338-2889-46b5-ae6d-4f86173162c0",
      "metadata": {},
      "source": [
        "#### Ejemplos con DataFrame"
      ]
    },
    {
      "cell_type": "code",
      "execution_count": null,
      "id": "7c80a978-4d75-4566-9422-7ddf2289d125",
      "metadata": {},
      "outputs": [],
      "source": [
        "df=pd.read_csv('empleados_3.csv',index_col='nombre')\n",
        "df.head(3)"
      ]
    },
    {
      "cell_type": "code",
      "execution_count": null,
      "id": "679e77d2-158e-4499-8d12-5141e9aa10b6",
      "metadata": {},
      "outputs": [],
      "source": [
        "df=pd.read_csv('empleados_3.csv')\n",
        "df.head(3)"
      ]
    },
    {
      "cell_type": "markdown",
      "id": "f2cbc4fc-fedd-416e-9206-11690231305d",
      "metadata": {},
      "source": [
        "# `set_index`"
      ]
    },
    {
      "cell_type": "code",
      "execution_count": null,
      "id": "89dd122d-eecc-464b-a077-7595643f1e42",
      "metadata": {},
      "outputs": [],
      "source": [
        "#keys= Es la columna que quieres como índice\n",
        "df.set_index(keys='nombre',inplace=True)\n",
        "df.head()"
      ]
    },
    {
      "cell_type": "code",
      "execution_count": null,
      "id": "4acb6ab8-faf1-4b15-a728-9ad78ccfe615",
      "metadata": {},
      "outputs": [],
      "source": [
        "df.reset_index(inplace=True)\n",
        "df.head()"
      ]
    },
    {
      "cell_type": "code",
      "execution_count": null,
      "id": "8a05bd4a-3b12-4219-b9f0-3ee9a1ee9c7b",
      "metadata": {},
      "outputs": [],
      "source": [
        "df.set_index(keys='nombre',inplace=True,drop=False)\n",
        "#drop false deja la columna en el dataframe adicional al indice"
      ]
    },
    {
      "cell_type": "code",
      "execution_count": null,
      "id": "e068767f-b128-45d3-9891-38376c12549e",
      "metadata": {
        "scrolled": true
      },
      "outputs": [],
      "source": [
        "df"
      ]
    },
    {
      "cell_type": "code",
      "execution_count": null,
      "id": "e05b3758-7f9d-4905-95a5-77ec3cb62248",
      "metadata": {},
      "outputs": [],
      "source": [
        "df.drop('nombre',axis=1,inplace=True)\n",
        "df.head(3)"
      ]
    },
    {
      "cell_type": "code",
      "execution_count": null,
      "id": "680f9339-a0cc-46ae-be18-da72817bc19c",
      "metadata": {},
      "outputs": [],
      "source": [
        "df.reset_index(inplace=True)\n",
        "df.head()"
      ]
    },
    {
      "cell_type": "code",
      "execution_count": null,
      "id": "7c221008-19c5-4444-8ee6-c4c2ed918223",
      "metadata": {},
      "outputs": [],
      "source": [
        "df.set_index('fh_ant',inplace=True)\n",
        "df.head()"
      ]
    },
    {
      "cell_type": "code",
      "execution_count": null,
      "id": "8cc425fc-7964-4800-aa14-238b8fb582fc",
      "metadata": {},
      "outputs": [],
      "source": [
        "df.reset_index(inplace=True)\n",
        "df.head()"
      ]
    },
    {
      "cell_type": "code",
      "execution_count": null,
      "id": "51237746-f923-4cc3-8af2-a33e11a976b8",
      "metadata": {},
      "outputs": [],
      "source": [
        "df['fh_ant']=pd.to_datetime(df['fh_ant'])"
      ]
    },
    {
      "cell_type": "code",
      "execution_count": null,
      "id": "46e47b32-9463-4d10-af4c-798869cf3033",
      "metadata": {},
      "outputs": [],
      "source": [
        "df.info()"
      ]
    },
    {
      "cell_type": "code",
      "execution_count": null,
      "id": "f2d16129-c15d-46fc-a50d-0b996b7eca40",
      "metadata": {},
      "outputs": [],
      "source": [
        "df.set_index('fh_ant',inplace=True)"
      ]
    },
    {
      "cell_type": "code",
      "execution_count": null,
      "id": "f2ba7e45-2a8e-4218-a6eb-5908b61a92a2",
      "metadata": {
        "scrolled": true
      },
      "outputs": [],
      "source": [
        "df[[\"salario\"]].plot() #puedes graficar muy sencillo y te idenitifca el eje x como fecha si lo dejas en el índice"
      ]
    },
    {
      "cell_type": "markdown",
      "id": "7a83728b-f0bf-42b1-b3f6-7c9ebc6ef036",
      "metadata": {},
      "source": [
        "# Acceder a registros usando `.loc[]` (acceder)"
      ]
    }
  ],
  "metadata": {
    "kernelspec": {
      "display_name": "Python 3 (ipykernel)",
      "language": "python",
      "name": "python3"
    },
    "language_info": {
      "codemirror_mode": {
        "name": "ipython",
        "version": 3
      },
      "file_extension": ".py",
      "mimetype": "text/x-python",
      "name": "python",
      "nbconvert_exporter": "python",
      "pygments_lexer": "ipython3",
      "version": "3.11.8"
    }
  },
  "nbformat": 4,
  "nbformat_minor": 5
}