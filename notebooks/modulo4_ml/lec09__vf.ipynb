{
  "cells": [
    {
      "cell_type": "markdown",
      "metadata": {},
      "source": [
        "## Acceder a registros usando `.loc[]` (accesor)"
      ]
    },
    {
      "cell_type": "code",
      "execution_count": null,
      "metadata": {},
      "outputs": [],
      "source": [
        "import pandas as pd, numpy as np"
      ]
    },
    {
      "cell_type": "markdown",
      "metadata": {},
      "source": [
        "###  `.loc[ ]` es para acceder a registros mediante ETIQUETAS DE ÍNDICES"
      ]
    },
    {
      "cell_type": "markdown",
      "metadata": {},
      "source": [
        "En pandas, `.loc[]` es otro método fundamental de selección de datos utilizado con objetos DataFrame y Series. Representa el índice \"basado en etiquetas\", lo que significa que accedes a los datos utilizando las etiquetas de filas o columnas.\n",
        "\n",
        "### Características Clave de `.loc[]`\n",
        "1. **Indexación Basada en Etiquetas**: Te permite seleccionar filas y columnas basadas en sus etiquetas. Las etiquetas pueden ser números, cadenas de texto u otros objetos de Python.\n",
        "\n",
        "2. **Segmentación con Etiquetas**: `loc[]` usa segmentación basada en etiquetas. Esto significa que la etiqueta final en la segmentación es inclusiva.\n",
        "\n",
        "3. **Indexación Booleana**: También puedes usar condiciones booleanas para la selección con `loc[]`.\n",
        "\n",
        "4. **Acceso a Filas y Columnas**: `loc[]` se utiliza para acceder tanto a filas como a columnas por etiquetas.\n",
        "\n",
        "### Cómo Utilizar `.loc[]`\n",
        "#### Seleccionando Filas y Columnas\n",
        "1. **Fila o Columna Única**:\n",
        "   * Selecciona la fila con la etiqueta de índice 'a': `df.loc['a']`\n",
        "   * Selecciona la columna con la etiqueta 'A': `df.loc[:, 'A']`\n",
        "\n",
        "2. **Múltiples Filas o Columnas**:\n",
        "   * Selecciona filas con etiquetas de índice de 'a' a 'c': `df.loc['a':'c']` (Tanto 'a' como 'c' están incluidos.)\n",
        "   * Selecciona columnas de 'A' a 'C': `df.loc[:, 'A':'C']`\n",
        "\n",
        "3. **Filas y Columnas Específicas**:\n",
        "   * Selecciona filas 'a', 'c' y 'e' y columnas 'A' y 'B': `df.loc[['a', 'c', 'e'], ['A', 'B']]`\n",
        "\n",
        "4. **Indexación Booleana**:\n",
        "   * Selecciona filas donde la columna 'A' es mayor que 1: `df.loc[df['A'] > 1]`\n"
      ]
    },
    {
      "cell_type": "code",
      "execution_count": null,
      "metadata": {},
      "outputs": [],
      "source": [
        "#ejemplo:\n",
        "\n",
        "# Creando DataFrame con etiquetas\n",
        "data={'A':[1,2,3], 'B':[4,5,6], 'C':[7,8,9]}\n",
        "\n",
        "df=pd.DataFrame(data,index=['a','b','c'])\n",
        "df"
      ]
    },
    {
      "cell_type": "code",
      "execution_count": null,
      "metadata": {},
      "outputs": [],
      "source": [
        "pd.DataFrame(data)"
      ]
    },
    {
      "cell_type": "code",
      "execution_count": null,
      "metadata": {
        "scrolled": true
      },
      "outputs": [],
      "source": [
        "pd.DataFrame(data).loc[0]"
      ]
    },
    {
      "cell_type": "code",
      "execution_count": null,
      "metadata": {},
      "outputs": [],
      "source": [
        "#Usar loc para seleccionar fila con índice 'a'\n",
        "row_a=df.loc['a']\n",
        "row_a"
      ]
    },
    {
      "cell_type": "code",
      "execution_count": null,
      "metadata": {},
      "outputs": [],
      "source": [
        "#Usar loc para la columna A\n",
        "column_A=df.loc[:,'A']\n",
        "column_A"
      ]
    },
    {
      "cell_type": "code",
      "execution_count": null,
      "metadata": {},
      "outputs": [],
      "source": [
        "df.loc[:,'A':'C']"
      ]
    },
    {
      "cell_type": "code",
      "execution_count": null,
      "metadata": {},
      "outputs": [],
      "source": [
        "#Seleccionando un subconjunto específico\n",
        "subset=df.loc['a':'b','B':'C'] #subset=subconjunto, una parte del todo. \n",
        "subset"
      ]
    },
    {
      "cell_type": "markdown",
      "metadata": {},
      "source": [
        "# Utilizando nuestro dataset de empleados"
      ]
    },
    {
      "cell_type": "code",
      "execution_count": null,
      "metadata": {},
      "outputs": [],
      "source": [
        "df=pd.read_csv('empleados_3.csv',parse_dates=['fh_ant'])\n",
        "df.head()"
      ]
    },
    {
      "cell_type": "code",
      "execution_count": null,
      "metadata": {},
      "outputs": [],
      "source": [
        "df.set_index('fh_ant',inplace=True)\n",
        "df.sort_index(inplace=True)#ordenando el índice\n",
        "df.head(7)"
      ]
    },
    {
      "cell_type": "code",
      "execution_count": null,
      "metadata": {},
      "outputs": [],
      "source": [
        "df[['salario']].plot()"
      ]
    },
    {
      "cell_type": "code",
      "execution_count": null,
      "metadata": {},
      "outputs": [],
      "source": [
        "#Ejemplos: Si queremos acceder al registo con fh_ant '2023-04-23':\n",
        "df.loc['2023-04-23']"
      ]
    },
    {
      "cell_type": "code",
      "execution_count": null,
      "metadata": {},
      "outputs": [],
      "source": [
        "df.loc['2023/04/23']"
      ]
    },
    {
      "cell_type": "code",
      "execution_count": null,
      "metadata": {},
      "outputs": [],
      "source": [
        "df.loc['2023.04.23']"
      ]
    },
    {
      "cell_type": "code",
      "execution_count": null,
      "metadata": {},
      "outputs": [],
      "source": [
        "df.loc['23-Apr-2023']"
      ]
    },
    {
      "cell_type": "code",
      "execution_count": null,
      "metadata": {},
      "outputs": [],
      "source": [
        "df.loc['April 23, 2023']"
      ]
    },
    {
      "cell_type": "code",
      "execution_count": null,
      "metadata": {},
      "outputs": [],
      "source": [
        "df.loc['Apr 23, 2023']"
      ]
    },
    {
      "cell_type": "code",
      "execution_count": null,
      "metadata": {},
      "outputs": [],
      "source": [
        "df.reset_index(inplace=True)\n",
        "df.set_index('nombre',inplace=True)\n",
        "df.head(3)"
      ]
    },
    {
      "cell_type": "code",
      "execution_count": null,
      "metadata": {},
      "outputs": [],
      "source": [
        "df.loc['Fernando']"
      ]
    },
    {
      "cell_type": "code",
      "execution_count": null,
      "metadata": {},
      "outputs": [],
      "source": [
        "df.loc['Paola']"
      ]
    },
    {
      "cell_type": "code",
      "execution_count": null,
      "metadata": {
        "scrolled": true
      },
      "outputs": [],
      "source": [
        "df.loc['Carlos']"
      ]
    },
    {
      "cell_type": "code",
      "execution_count": null,
      "metadata": {},
      "outputs": [],
      "source": [
        "df.sort_index(inplace=True)\n",
        "df.head()"
      ]
    },
    {
      "cell_type": "code",
      "execution_count": null,
      "metadata": {},
      "outputs": [],
      "source": [
        "#Slicing\n",
        "df.loc['Alejandro':'Natasha'] #aquí el segundo valor sí es inclusivo"
      ]
    },
    {
      "cell_type": "code",
      "execution_count": null,
      "metadata": {},
      "outputs": [],
      "source": [
        "df.loc['Alejandro':'Natasha':2] #aquí el segundo valor sí es inclusivo"
      ]
    },
    {
      "cell_type": "code",
      "execution_count": null,
      "metadata": {},
      "outputs": [],
      "source": [
        "df.loc['Paola':] #aquí el segundo valor sí es inclusivo"
      ]
    },
    {
      "cell_type": "code",
      "execution_count": null,
      "metadata": {},
      "outputs": [],
      "source": [
        "df.loc[:'Dario'] #aquí el segundo valor sí es inclusivo"
      ]
    },
    {
      "cell_type": "code",
      "execution_count": null,
      "metadata": {
        "scrolled": true
      },
      "outputs": [],
      "source": [
        "df.loc[['Ana','Constanza','Natasha']]"
      ]
    },
    {
      "cell_type": "code",
      "execution_count": null,
      "metadata": {
        "scrolled": true
      },
      "outputs": [],
      "source": [
        "df.loc[['Ana','Constanza','Natasha','Carlos']]"
      ]
    },
    {
      "cell_type": "code",
      "execution_count": null,
      "metadata": {},
      "outputs": [],
      "source": [
        "'Carlos' in df.index"
      ]
    },
    {
      "cell_type": "code",
      "execution_count": null,
      "metadata": {},
      "outputs": [],
      "source": [
        "'Ana' in df.index"
      ]
    },
    {
      "cell_type": "markdown",
      "metadata": {},
      "source": [
        "## Extraer registros mediante su posición en el índice --> `iloc[ ]`\n"
      ]
    },
    {
      "cell_type": "markdown",
      "metadata": {},
      "source": [
        "En pandas, `iloc[]` es un método fundamental para la selección de datos utilizado principalmente en objetos DataFrame y Series. Representa el índice basado en la posición entera, lo que te permite acceder a los datos por su índice entero.\n",
        "\n",
        "### Características Clave de `iloc[]`\n",
        "1. **Indexación Entera**: Utiliza la indexación basada en enteros, similar a las listas de Python. Se utiliza para seleccionar filas y columnas por sus posiciones de índice enteras.\n",
        "\n",
        "2. **Segmentación**: Al igual que con las listas de Python, puedes usar la segmentación con `iloc[]` para seleccionar múltiples filas o columnas.\n",
        "\n",
        "3. **Basado en Índice**: La indexación se basa estrictamente en la posición entera de la fila/columna, comenzando desde `0`.\n",
        "\n",
        "### Cómo Usar `iloc[]`\n",
        "\n",
        "#### Seleccionando Filas y Columnas\n",
        "\n",
        "1. **Fila o Columna Única**:\n",
        "   - Selecciona la primera fila: `df.iloc[0]`\n",
        "   - Selecciona la primera columna: `df.iloc[:, 0]` (El dos puntos `:` indica todas las filas y `0` es el índice de la columna.)\n",
        "\n",
        "2. **Múltiples Filas o Columnas**:\n",
        "   - Selecciona las primeras tres filas: `df.iloc[0:3]`\n",
        "   - Selecciona las primeras tres columnas: `df.iloc[:, 0:3]`\n",
        "   - Selecciona filas de 1 a 3 y columnas de 2 a 4: `df.iloc[1:4, 2:5]`\n",
        "\n",
        "3. **Filas y Columnas Específicas**:\n",
        "   - Selecciona filas 1, 3 y 5 y las primeras dos columnas: `df.iloc[[1, 3, 5], [0, 1]]`\n",
        "\n",
        "4. **Indexación Negativa**:\n",
        "   - Selecciona la última fila: `df.iloc[-1]`\n",
        "   - Selecciona las últimas tres filas: `df.iloc[-3:]`\n"
      ]
    },
    {
      "cell_type": "code",
      "execution_count": null,
      "metadata": {},
      "outputs": [],
      "source": [
        "#ejemplo:\n",
        "\n",
        "# Creando DataFrame con etiquetas\n",
        "data={'A':[1,2,3], 'B':[4,5,6], 'C':[7,8,9]}\n",
        "\n",
        "df=pd.DataFrame(data,index=['a','b','c'])\n",
        "df"
      ]
    },
    {
      "cell_type": "code",
      "execution_count": null,
      "metadata": {},
      "outputs": [],
      "source": [
        "#usando iloc para seleccionar primera fila\n",
        "primera_fila=df.iloc[0]\n",
        "primera_fila"
      ]
    },
    {
      "cell_type": "code",
      "execution_count": null,
      "metadata": {},
      "outputs": [],
      "source": [
        "#usando iloc para seleccionar segunda columna\n",
        "segunda_col=df.iloc[:,1]\n",
        "segunda_col"
      ]
    },
    {
      "cell_type": "code",
      "execution_count": null,
      "metadata": {},
      "outputs": [],
      "source": [
        "#subset\n",
        "subset=df.iloc[0:2,1:3]\n",
        "subset"
      ]
    },
    {
      "cell_type": "code",
      "execution_count": null,
      "metadata": {},
      "outputs": [],
      "source": [
        "df"
      ]
    },
    {
      "cell_type": "code",
      "execution_count": null,
      "metadata": {},
      "outputs": [],
      "source": [
        "df=pd.read_csv('empleados_3.csv',parse_dates=['fh_ant'])\n",
        "df.set_index('fh_ant',inplace=True)\n",
        "df.sort_index(inplace=True)#ordenando el índice\n",
        "df.reset_index(inplace=True)\n",
        "df.set_index('nombre',inplace=True)\n",
        "df.head(3)\n",
        "df.sort_index(inplace=True)\n",
        "df.head()"
      ]
    },
    {
      "cell_type": "code",
      "execution_count": null,
      "metadata": {},
      "outputs": [],
      "source": [
        "df.iloc[0] #primera fila"
      ]
    },
    {
      "cell_type": "code",
      "execution_count": null,
      "metadata": {},
      "outputs": [],
      "source": [
        "type(df.iloc[0])"
      ]
    },
    {
      "cell_type": "code",
      "execution_count": null,
      "metadata": {},
      "outputs": [],
      "source": [
        "df.iloc[[14,17]]"
      ]
    },
    {
      "cell_type": "code",
      "execution_count": null,
      "metadata": {},
      "outputs": [],
      "source": [
        "df.iloc[[14,17],[2,4]]"
      ]
    },
    {
      "cell_type": "code",
      "execution_count": null,
      "metadata": {},
      "outputs": [],
      "source": [
        "df.iloc[14:17,2:4]"
      ]
    },
    {
      "cell_type": "code",
      "execution_count": null,
      "metadata": {},
      "outputs": [],
      "source": [
        "df.iloc[4:8]"
      ]
    },
    {
      "cell_type": "code",
      "execution_count": null,
      "metadata": {},
      "outputs": [],
      "source": [
        "#Con iloc[] el segundo valor NO es inclusivo. "
      ]
    },
    {
      "cell_type": "code",
      "execution_count": null,
      "metadata": {},
      "outputs": [],
      "source": [
        "df.reset_index(inplace=True)\n",
        "df.head()"
      ]
    },
    {
      "cell_type": "code",
      "execution_count": null,
      "metadata": {},
      "outputs": [],
      "source": [
        "df.iloc[:4] #primeros 4 registros"
      ]
    },
    {
      "cell_type": "code",
      "execution_count": null,
      "metadata": {},
      "outputs": [],
      "source": [
        "#Sí puede por .loc(por etiqueta) e .iloc(por posicion) sí pueden modificar/transformar valores de un DataFrame. "
      ]
    },
    {
      "cell_type": "code",
      "execution_count": null,
      "metadata": {},
      "outputs": [],
      "source": [
        "df.iloc[0,0]='Carlos'"
      ]
    },
    {
      "cell_type": "code",
      "execution_count": null,
      "metadata": {
        "scrolled": true
      },
      "outputs": [],
      "source": [
        "df.iloc[:4]"
      ]
    },
    {
      "cell_type": "code",
      "execution_count": null,
      "metadata": {},
      "outputs": [],
      "source": [
        "df.iloc[0,0]=1"
      ]
    },
    {
      "cell_type": "code",
      "execution_count": null,
      "metadata": {},
      "outputs": [],
      "source": [
        "df.iloc[:4]"
      ]
    },
    {
      "cell_type": "code",
      "execution_count": null,
      "metadata": {},
      "outputs": [],
      "source": [
        "df.iloc[[2,4,5,6,8,50]]"
      ]
    },
    {
      "cell_type": "code",
      "execution_count": null,
      "metadata": {},
      "outputs": [],
      "source": [
        "df.iloc[15:] #del 15 al final"
      ]
    },
    {
      "cell_type": "code",
      "execution_count": null,
      "metadata": {},
      "outputs": [],
      "source": [
        "#si un valor no existe, nos manda error\n",
        "df.iloc[650]"
      ]
    },
    {
      "cell_type": "code",
      "execution_count": null,
      "metadata": {},
      "outputs": [],
      "source": [
        "#manejo de erroes\n",
        "try:\n",
        "    #códiogo que puede fallar \n",
        "    x=int(input(\"n: \"))\n",
        "except ValueError as e:\n",
        "    print(\"Entrada invalida:\",e)\n",
        "else:\n",
        "    print(\"Todo ok, x=\",x) #sólo si NO hubo excepción\n",
        "finally:\n",
        "    print(\"Siempre se ejecuta, limpieza, cerrar\")"
      ]
    },
    {
      "cell_type": "code",
      "execution_count": null,
      "metadata": {},
      "outputs": [],
      "source": [
        "df.set_index('fh_ant',inplace=True)\n",
        "df.head(9)"
      ]
    },
    {
      "cell_type": "markdown",
      "metadata": {},
      "source": [
        "# Extraer combinaciones de renglón-columna"
      ]
    },
    {
      "cell_type": "code",
      "execution_count": null,
      "metadata": {},
      "outputs": [],
      "source": [
        "df.loc['2013-04-04']"
      ]
    },
    {
      "cell_type": "code",
      "execution_count": null,
      "metadata": {},
      "outputs": [],
      "source": [
        "#df.loc[renglon,columna]\n",
        "df.loc['2013-04-04','nombre']"
      ]
    },
    {
      "cell_type": "code",
      "execution_count": null,
      "metadata": {},
      "outputs": [],
      "source": [
        "df.loc['2013-04-04',['nombre','salario']]"
      ]
    },
    {
      "cell_type": "code",
      "execution_count": null,
      "metadata": {},
      "outputs": [],
      "source": [
        "df.loc[['2013-04-04','1991-03-22'],['nombre','salario']]"
      ]
    },
    {
      "cell_type": "code",
      "execution_count": null,
      "metadata": {},
      "outputs": [],
      "source": [
        "df.head(3)"
      ]
    },
    {
      "cell_type": "code",
      "execution_count": null,
      "metadata": {},
      "outputs": [],
      "source": [
        "df.loc['2013-04-04','nombre':'pct bono']"
      ]
    },
    {
      "cell_type": "code",
      "execution_count": null,
      "metadata": {},
      "outputs": [],
      "source": [
        "df.loc[['2013-04-04'],'nombre':'pct bono']"
      ]
    },
    {
      "cell_type": "code",
      "execution_count": null,
      "metadata": {},
      "outputs": [],
      "source": [
        "df.sort_index(inplace=True)\n",
        "df.head()"
      ]
    },
    {
      "cell_type": "code",
      "execution_count": null,
      "metadata": {},
      "outputs": [],
      "source": [
        "df.loc['1980-02-18':'1980-07-04','nombre':'es_directivo']"
      ]
    },
    {
      "cell_type": "code",
      "execution_count": null,
      "metadata": {},
      "outputs": [],
      "source": [
        "df.loc[:'2020-04-28',:'es_directivo']"
      ]
    },
    {
      "cell_type": "code",
      "execution_count": null,
      "metadata": {},
      "outputs": [],
      "source": [
        "df.iloc[10:12,0:5]"
      ]
    },
    {
      "cell_type": "code",
      "execution_count": null,
      "metadata": {},
      "outputs": [],
      "source": [
        "df.iloc[10:12,[0,2,3]]"
      ]
    },
    {
      "cell_type": "code",
      "execution_count": null,
      "metadata": {},
      "outputs": [],
      "source": [
        "df.reset_index(inplace=True)\n",
        "df.head()"
      ]
    },
    {
      "cell_type": "code",
      "execution_count": null,
      "metadata": {},
      "outputs": [],
      "source": [
        "#Supongan que quieren cambiar una celda. intersección fila-columna\n",
        "#df.loc[renglon,columna]"
      ]
    },
    {
      "cell_type": "code",
      "execution_count": null,
      "metadata": {},
      "outputs": [],
      "source": [
        "df.loc[1,'area']='marketing'\n",
        "df.head()"
      ]
    },
    {
      "cell_type": "code",
      "execution_count": null,
      "metadata": {},
      "outputs": [],
      "source": [
        "#quiero cambiar múltiples valores:\n",
        "#Sup quiero cambiar, para Paola, los valores del bono y de equipo\n",
        "df.loc[1,['pct bono','area']]=[13,'finanzas']\n",
        "df.head()"
      ]
    },
    {
      "cell_type": "code",
      "execution_count": null,
      "metadata": {},
      "outputs": [],
      "source": [
        "df.set_index('area',inplace=True)\n",
        "df.head(3)"
      ]
    },
    {
      "cell_type": "code",
      "execution_count": null,
      "metadata": {
        "scrolled": true
      },
      "outputs": [],
      "source": [
        "df.index.isna()"
      ]
    },
    {
      "cell_type": "code",
      "execution_count": null,
      "metadata": {
        "scrolled": true
      },
      "outputs": [],
      "source": [
        "#Si quieren ver las variables 'género' y fh_ant para los registros que tienen nulo \n",
        "#en el índice\n",
        "df[df.index.isna()].loc[:,['fh_ant','genero']]"
      ]
    },
    {
      "cell_type": "code",
      "execution_count": null,
      "metadata": {},
      "outputs": [],
      "source": [
        "df.reset_index(inplace=True)\n",
        "df.head()"
      ]
    },
    {
      "cell_type": "code",
      "execution_count": null,
      "metadata": {},
      "outputs": [],
      "source": [
        "df.nombre.value_counts()"
      ]
    },
    {
      "cell_type": "code",
      "execution_count": null,
      "metadata": {},
      "outputs": [],
      "source": [
        "#supongamos que queremos cambiar el nombre: siempre que diga Alejandro, ahora que diga Alex"
      ]
    },
    {
      "cell_type": "code",
      "execution_count": null,
      "metadata": {},
      "outputs": [],
      "source": [
        "is_Alejandro = df['nombre']=='Alejandro'\n",
        "is_Alejandro"
      ]
    },
    {
      "cell_type": "code",
      "execution_count": null,
      "metadata": {},
      "outputs": [],
      "source": [
        "df.loc[is_Alejandro,:]"
      ]
    },
    {
      "cell_type": "code",
      "execution_count": null,
      "metadata": {},
      "outputs": [],
      "source": [
        "df.loc[is_Alejandro,'nombre']"
      ]
    },
    {
      "cell_type": "code",
      "execution_count": null,
      "metadata": {},
      "outputs": [],
      "source": [
        "df.loc[is_Alejandro,'nombre']='Alex'"
      ]
    },
    {
      "cell_type": "code",
      "execution_count": null,
      "metadata": {},
      "outputs": [],
      "source": [
        "df.loc[is_Alejandro,'nombre']"
      ]
    },
    {
      "cell_type": "code",
      "execution_count": null,
      "metadata": {},
      "outputs": [],
      "source": [
        "df.loc[is_Alejandro,:]"
      ]
    },
    {
      "cell_type": "code",
      "execution_count": null,
      "metadata": {},
      "outputs": [],
      "source": [
        "is_Alejandro.sum()"
      ]
    },
    {
      "cell_type": "code",
      "execution_count": null,
      "metadata": {},
      "outputs": [],
      "source": [
        "any(is_Alejandro) #hay al menos uno"
      ]
    },
    {
      "cell_type": "code",
      "execution_count": null,
      "metadata": {},
      "outputs": [],
      "source": [
        "is_Alejandro.idxmax() #posicion donde ocurre el primer True"
      ]
    },
    {
      "cell_type": "code",
      "execution_count": null,
      "metadata": {},
      "outputs": [],
      "source": [
        "is_Alejandro"
      ]
    },
    {
      "cell_type": "code",
      "execution_count": null,
      "metadata": {
        "scrolled": true
      },
      "outputs": [],
      "source": [
        "for renglon in is_Alejandro.index:\n",
        "    print (renglon)"
      ]
    },
    {
      "cell_type": "code",
      "execution_count": null,
      "metadata": {},
      "outputs": [],
      "source": [
        "is_Alejandro"
      ]
    },
    {
      "cell_type": "code",
      "execution_count": null,
      "metadata": {},
      "outputs": [],
      "source": [
        "[i for i in is_Alejandro.index if is_Alejandro[i]]"
      ]
    },
    {
      "cell_type": "code",
      "execution_count": null,
      "metadata": {},
      "outputs": [],
      "source": [
        "#Si quisiéramos saber todas las posiciones con Valor igual a True de is_Alejandro:\n",
        "#list_comprehension\n"
      ]
    },
    {
      "cell_type": "code",
      "execution_count": null,
      "metadata": {},
      "outputs": [],
      "source": [
        "is_Alejandro[12]"
      ]
    },
    {
      "cell_type": "code",
      "execution_count": null,
      "metadata": {
        "scrolled": true
      },
      "outputs": [],
      "source": [
        "df.iloc[[i for i in is_Alejandro.index if is_Alejandro[i]]]"
      ]
    },
    {
      "cell_type": "markdown",
      "metadata": {},
      "source": [
        "# List Comprehension"
      ]
    },
    {
      "cell_type": "markdown",
      "metadata": {},
      "source": [
        "La comprensión de listas en Python es una forma concisa de crear listas. Ofrece una sintaxis más corta cuando quieres crear una nueva lista basada en los valores de una lista existente.\n",
        "\n",
        "### Características Clave de las Comprensiones de Lista\n",
        "1. **Concisa**: Permite escribir menos líneas de código para realizar operaciones comunes de listas, como filtrar elementos o aplicar una función a cada elemento.\n",
        "2. **Expresiva**: Hace que el código sea más legible y expresivo.\n",
        "3. **Eficiente**: En muchos casos, las comprensiones de lista son más eficientes en términos de tiempo de ejecución y uso de memoria que los bucles for tradicionales.\n",
        "\n",
        "### Cómo Usar las Comprensiones de Lista\n",
        "\n",
        "#### Sintaxis Básica\n",
        "La sintaxis básica de una comprensión de lista es:\n",
        "```python\n",
        "[new_item for item in iterable if condition]\n",
        "```\n",
        "\n",
        "* new_item: La expresión que define cómo modificar los elementos del iterable.\n",
        "* iterable: La colección de elementos que queremos iterar.\n",
        "* condicion: Un filtro opcional para incluir solo aquellos elementos que cumplan con la condición.\n"
      ]
    },
    {
      "cell_type": "code",
      "execution_count": null,
      "metadata": {},
      "outputs": [],
      "source": [
        "#Ejemplo 1\n",
        "cuadrados=[x**2 for x in range(10)]\n",
        "cuadrados"
      ]
    },
    {
      "cell_type": "code",
      "execution_count": null,
      "metadata": {},
      "outputs": [],
      "source": [
        "#Ejemplo 2\n",
        "lista=[1,2,3,4,5]\n",
        "pares=[x for x in lista if x%2==0]\n",
        "pares"
      ]
    },
    {
      "cell_type": "code",
      "execution_count": null,
      "metadata": {},
      "outputs": [],
      "source": [
        "df.head()"
      ]
    },
    {
      "cell_type": "code",
      "execution_count": null,
      "metadata": {},
      "outputs": [],
      "source": [
        "#formas de borrar columnas de un df com método pop\n",
        "df.pop('genero')"
      ]
    },
    {
      "cell_type": "code",
      "execution_count": null,
      "metadata": {},
      "outputs": [],
      "source": [
        "df"
      ]
    },
    {
      "cell_type": "code",
      "execution_count": null,
      "metadata": {},
      "outputs": [],
      "source": [
        "df.pop('fh_ant')"
      ]
    },
    {
      "cell_type": "code",
      "execution_count": null,
      "metadata": {},
      "outputs": [],
      "source": [
        "df"
      ]
    },
    {
      "cell_type": "code",
      "execution_count": null,
      "metadata": {},
      "outputs": [],
      "source": [
        "#otro metodo para quitar mas usado es el drop\n",
        "df.drop(1) #quitando el renglon con índice igual a 1\n",
        "#drop no es permenante, a menos que inplce=True"
      ]
    },
    {
      "cell_type": "code",
      "execution_count": null,
      "metadata": {},
      "outputs": [],
      "source": [
        "#también pueden quitar columnas con drop\n",
        "df.drop(\"area\",axis=1)"
      ]
    },
    {
      "cell_type": "code",
      "execution_count": null,
      "metadata": {},
      "outputs": [],
      "source": []
    },
    {
      "cell_type": "code",
      "execution_count": null,
      "metadata": {},
      "outputs": [],
      "source": []
    },
    {
      "cell_type": "code",
      "execution_count": null,
      "metadata": {},
      "outputs": [],
      "source": []
    },
    {
      "cell_type": "code",
      "execution_count": null,
      "metadata": {},
      "outputs": [],
      "source": []
    },
    {
      "cell_type": "code",
      "execution_count": null,
      "metadata": {},
      "outputs": [],
      "source": []
    },
    {
      "cell_type": "code",
      "execution_count": null,
      "metadata": {},
      "outputs": [],
      "source": []
    },
    {
      "cell_type": "code",
      "execution_count": null,
      "metadata": {},
      "outputs": [],
      "source": []
    },
    {
      "cell_type": "markdown",
      "metadata": {},
      "source": [
        "###  Utilizando nuestro dataset de empleados"
      ]
    },
    {
      "cell_type": "markdown",
      "metadata": {},
      "source": [
        "## Extraer registros mediante su posición en el índice --> `iloc[ ]`"
      ]
    },
    {
      "cell_type": "markdown",
      "metadata": {},
      "source": [
        "En pandas, `iloc[]` es un método fundamental para la selección de datos utilizado principalmente en objetos DataFrame y Series. Representa el índice basado en la posición entera, lo que te permite acceder a los datos por su índice entero.\n",
        "\n",
        "### Características Clave de `iloc[]`\n",
        "1. **Indexación Entera**: Utiliza la indexación basada en enteros, similar a las listas de Python. Se utiliza para seleccionar filas y columnas por sus posiciones de índice enteras.\n",
        "\n",
        "2. **Segmentación**: Al igual que con las listas de Python, puedes usar la segmentación con `iloc[]` para seleccionar múltiples filas o columnas.\n",
        "\n",
        "3. **Basado en Índice**: La indexación se basa estrictamente en la posición entera de la fila/columna, comenzando desde `0`.\n",
        "\n",
        "### Cómo Usar `iloc[]`\n",
        "\n",
        "#### Seleccionando Filas y Columnas\n",
        "\n",
        "1. **Fila o Columna Única**:\n",
        "   - Selecciona la primera fila: `df.iloc[0]`\n",
        "   - Selecciona la primera columna: `df.iloc[:, 0]` (El dos puntos `:` indica todas las filas y `0` es el índice de la columna.)\n",
        "\n",
        "2. **Múltiples Filas o Columnas**:\n",
        "   - Selecciona las primeras tres filas: `df.iloc[0:3]`\n",
        "   - Selecciona las primeras tres columnas: `df.iloc[:, 0:3]`\n",
        "   - Selecciona filas de 1 a 3 y columnas de 2 a 4: `df.iloc[1:4, 2:5]`\n",
        "\n",
        "3. **Filas y Columnas Específicas**:\n",
        "   - Selecciona filas 1, 3 y 5 y las primeras dos columnas: `df.iloc[[1, 3, 5], [0, 1]]`\n",
        "\n",
        "4. **Indexación Negativa**:\n",
        "   - Selecciona la última fila: `df.iloc[-1]`\n",
        "   - Selecciona las últimas tres filas: `df.iloc[-3:]`\n"
      ]
    },
    {
      "cell_type": "markdown",
      "metadata": {},
      "source": [
        "## Extraer combinaciones de renglon -columna"
      ]
    },
    {
      "cell_type": "markdown",
      "metadata": {},
      "source": [
        "If variable is True <-> if variable (cuando variable es de tipo booleana)"
      ]
    },
    {
      "cell_type": "markdown",
      "metadata": {},
      "source": [
        "## List Comprehension"
      ]
    },
    {
      "cell_type": "markdown",
      "metadata": {},
      "source": [
        "La comprensión de listas en Python es una forma concisa de crear listas. Ofrece una sintaxis más corta cuando quieres crear una nueva lista basada en los valores de una lista existente.\n",
        "\n",
        "### Características Clave de las Comprensiones de Lista\n",
        "1. **Concisa**: Permite escribir menos líneas de código para realizar operaciones comunes de listas, como filtrar elementos o aplicar una función a cada elemento.\n",
        "2. **Expresiva**: Hace que el código sea más legible y expresivo.\n",
        "3. **Eficiente**: En muchos casos, las comprensiones de lista son más eficientes en términos de tiempo de ejecución y uso de memoria que los bucles for tradicionales.\n",
        "\n",
        "### Cómo Usar las Comprensiones de Lista\n",
        "\n",
        "#### Sintaxis Básica\n",
        "La sintaxis básica de una comprensión de lista es:\n",
        "```python\n",
        "[new_item for item in iterable if condition]\n",
        "```\n",
        "\n",
        "* new_item: La expresión que define cómo modificar los elementos del iterable.\n",
        "* iterable: La colección de elementos que queremos iterar.\n",
        "* condicion: Un filtro opcional para incluir solo aquellos elementos que cumplan con la condición.\n"
      ]
    }
  ],
  "metadata": {
    "kernelspec": {
      "display_name": "Python 3 (ipykernel)",
      "language": "python",
      "name": "python3"
    },
    "language_info": {
      "codemirror_mode": {
        "name": "ipython",
        "version": 3
      },
      "file_extension": ".py",
      "mimetype": "text/x-python",
      "name": "python",
      "nbconvert_exporter": "python",
      "pygments_lexer": "ipython3",
      "version": "3.11.8"
    }
  },
  "nbformat": 4,
  "nbformat_minor": 4
}